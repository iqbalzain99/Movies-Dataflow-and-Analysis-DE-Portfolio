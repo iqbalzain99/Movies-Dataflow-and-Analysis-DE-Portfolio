{
 "cells": [
  {
   "cell_type": "code",
   "execution_count": 1,
   "metadata": {},
   "outputs": [
    {
     "name": "stderr",
     "output_type": "stream",
     "text": [
      "c:\\Users\\iqbal\\AppData\\Local\\Programs\\Python\\Python310\\lib\\site-packages\\snowflake\\connector\\options.py:108: UserWarning: You have an incompatible version of 'pyarrow' installed (19.0.1), please install a version that adheres to: 'pyarrow<19.0.0; extra == \"pandas\"'\n",
      "  warn_incompatible_dep(\n"
     ]
    }
   ],
   "source": [
    "from plugins.utils import movie_dataset_etl"
   ]
  },
  {
   "cell_type": "code",
   "execution_count": 2,
   "metadata": {},
   "outputs": [],
   "source": [
    "my_movie = movie_dataset_etl()"
   ]
  },
  {
   "cell_type": "code",
   "execution_count": null,
   "metadata": {},
   "outputs": [
    {
     "name": "stdout",
     "output_type": "stream",
     "text": [
      "Folder './plugins/assets/data/the-movies-dataset' has been filled.\n"
     ]
    },
    {
     "name": "stderr",
     "output_type": "stream",
     "text": [
      "c:\\Users\\iqbal\\Downloads\\Data\\Data Engineer\\Portfolio\\plugins\\utils\\movie_dataset_etl.py:32: DtypeWarning: Columns (10) have mixed types. Specify dtype option on import or set low_memory=False.\n",
      "  self.movies_metadata = pd.read_csv(f\"{file_dictionary}/movies_metadata.csv\")\n"
     ]
    },
    {
     "data": {
      "text/plain": [
       "(                                                    cast  \\\n",
       " 0      [{'cast_id': 14, 'character': 'Woody (voice)',...   \n",
       " 1      [{'cast_id': 1, 'character': 'Alan Parrish', '...   \n",
       " 2      [{'cast_id': 2, 'character': 'Max Goldman', 'c...   \n",
       " 3      [{'cast_id': 1, 'character': \"Savannah 'Vannah...   \n",
       " 4      [{'cast_id': 1, 'character': 'George Banks', '...   \n",
       " ...                                                  ...   \n",
       " 45471  [{'cast_id': 0, 'character': '', 'credit_id': ...   \n",
       " 45472  [{'cast_id': 1002, 'character': 'Sister Angela...   \n",
       " 45473  [{'cast_id': 6, 'character': 'Emily Shaw', 'cr...   \n",
       " 45474  [{'cast_id': 2, 'character': '', 'credit_id': ...   \n",
       " 45475                                                 []   \n",
       " \n",
       "                                                     crew      id  \n",
       " 0      [{'credit_id': '52fe4284c3a36847f8024f49', 'de...     862  \n",
       " 1      [{'credit_id': '52fe44bfc3a36847f80a7cd1', 'de...    8844  \n",
       " 2      [{'credit_id': '52fe466a9251416c75077a89', 'de...   15602  \n",
       " 3      [{'credit_id': '52fe44779251416c91011acb', 'de...   31357  \n",
       " 4      [{'credit_id': '52fe44959251416c75039ed7', 'de...   11862  \n",
       " ...                                                  ...     ...  \n",
       " 45471  [{'credit_id': '5894a97d925141426c00818c', 'de...  439050  \n",
       " 45472  [{'credit_id': '52fe4af1c3a36847f81e9b15', 'de...  111109  \n",
       " 45473  [{'credit_id': '52fe4776c3a368484e0c8387', 'de...   67758  \n",
       " 45474  [{'credit_id': '533bccebc3a36844cf0011a7', 'de...  227506  \n",
       " 45475  [{'credit_id': '593e676c92514105b702e68e', 'de...  461257  \n",
       " \n",
       " [45476 rows x 3 columns],\n",
       "            id                                           keywords\n",
       " 0         862  [{'id': 931, 'name': 'jealousy'}, {'id': 4290,...\n",
       " 1        8844  [{'id': 10090, 'name': 'board game'}, {'id': 1...\n",
       " 2       15602  [{'id': 1495, 'name': 'fishing'}, {'id': 12392...\n",
       " 3       31357  [{'id': 818, 'name': 'based on novel'}, {'id':...\n",
       " 4       11862  [{'id': 1009, 'name': 'baby'}, {'id': 1599, 'n...\n",
       " ...       ...                                                ...\n",
       " 46414  439050             [{'id': 10703, 'name': 'tragic love'}]\n",
       " 46415  111109  [{'id': 2679, 'name': 'artist'}, {'id': 14531,...\n",
       " 46416   67758                                                 []\n",
       " 46417  227506                                                 []\n",
       " 46418  461257                                                 []\n",
       " \n",
       " [46419 rows x 2 columns],\n",
       "        movieId   imdbId    tmdbId\n",
       " 0            1   114709     862.0\n",
       " 1            2   113497    8844.0\n",
       " 2            3   113228   15602.0\n",
       " 3            4   114885   31357.0\n",
       " 4            5   113041   11862.0\n",
       " ...        ...      ...       ...\n",
       " 45838   176269  6209470  439050.0\n",
       " 45839   176271  2028550  111109.0\n",
       " 45840   176273   303758   67758.0\n",
       " 45841   176275     8536  227506.0\n",
       " 45842   176279  6980792  461257.0\n",
       " \n",
       " [45843 rows x 3 columns],\n",
       "        adult                              belongs_to_collection    budget  \\\n",
       " 0      False  {'id': 10194, 'name': 'Toy Story Collection', ...  30000000   \n",
       " 1      False                                                NaN  65000000   \n",
       " 2      False  {'id': 119050, 'name': 'Grumpy Old Men Collect...         0   \n",
       " 3      False                                                NaN  16000000   \n",
       " 4      False  {'id': 96871, 'name': 'Father of the Bride Col...         0   \n",
       " ...      ...                                                ...       ...   \n",
       " 45461  False                                                NaN         0   \n",
       " 45462  False                                                NaN         0   \n",
       " 45463  False                                                NaN         0   \n",
       " 45464  False                                                NaN         0   \n",
       " 45465  False                                                NaN         0   \n",
       " \n",
       "                                                   genres  \\\n",
       " 0      [{'id': 16, 'name': 'Animation'}, {'id': 35, '...   \n",
       " 1      [{'id': 12, 'name': 'Adventure'}, {'id': 14, '...   \n",
       " 2      [{'id': 10749, 'name': 'Romance'}, {'id': 35, ...   \n",
       " 3      [{'id': 35, 'name': 'Comedy'}, {'id': 18, 'nam...   \n",
       " 4                         [{'id': 35, 'name': 'Comedy'}]   \n",
       " ...                                                  ...   \n",
       " 45461  [{'id': 18, 'name': 'Drama'}, {'id': 10751, 'n...   \n",
       " 45462                      [{'id': 18, 'name': 'Drama'}]   \n",
       " 45463  [{'id': 28, 'name': 'Action'}, {'id': 18, 'nam...   \n",
       " 45464                                                 []   \n",
       " 45465                                                 []   \n",
       " \n",
       "                                    homepage      id    imdb_id  \\\n",
       " 0      http://toystory.disney.com/toy-story     862  tt0114709   \n",
       " 1                                       NaN    8844  tt0113497   \n",
       " 2                                       NaN   15602  tt0113228   \n",
       " 3                                       NaN   31357  tt0114885   \n",
       " 4                                       NaN   11862  tt0113041   \n",
       " ...                                     ...     ...        ...   \n",
       " 45461  http://www.imdb.com/title/tt6209470/  439050  tt6209470   \n",
       " 45462                                   NaN  111109  tt2028550   \n",
       " 45463                                   NaN   67758  tt0303758   \n",
       " 45464                                   NaN  227506  tt0008536   \n",
       " 45465                                   NaN  461257  tt6980792   \n",
       " \n",
       "       original_language               original_title  \\\n",
       " 0                    en                    Toy Story   \n",
       " 1                    en                      Jumanji   \n",
       " 2                    en             Grumpier Old Men   \n",
       " 3                    en            Waiting to Exhale   \n",
       " 4                    en  Father of the Bride Part II   \n",
       " ...                 ...                          ...   \n",
       " 45461                fa                      رگ خواب   \n",
       " 45462                tl          Siglo ng Pagluluwal   \n",
       " 45463                en                     Betrayal   \n",
       " 45464                en          Satana likuyushchiy   \n",
       " 45465                en                     Queerama   \n",
       " \n",
       "                                                 overview  ... release_date  \\\n",
       " 0      Led by Woody, Andy's toys live happily in his ...  ...   1995-10-30   \n",
       " 1      When siblings Judy and Peter discover an encha...  ...   1995-12-15   \n",
       " 2      A family wedding reignites the ancient feud be...  ...   1995-12-22   \n",
       " 3      Cheated on, mistreated and stepped on, the wom...  ...   1995-12-22   \n",
       " 4      Just when George Banks has recovered from his ...  ...   1995-02-10   \n",
       " ...                                                  ...  ...          ...   \n",
       " 45461        Rising and falling between a man and woman.  ...          NaN   \n",
       " 45462  An artist struggles to finish his work while a...  ...   2011-11-17   \n",
       " 45463  When one of her hits goes wrong, a professiona...  ...   2003-08-01   \n",
       " 45464  In a small town live two brothers, one a minis...  ...   1917-10-21   \n",
       " 45465  50 years after decriminalisation of homosexual...  ...   2017-06-09   \n",
       " \n",
       "            revenue runtime                                   spoken_languages  \\\n",
       " 0      373554033.0    81.0           [{'iso_639_1': 'en', 'name': 'English'}]   \n",
       " 1      262797249.0   104.0  [{'iso_639_1': 'en', 'name': 'English'}, {'iso...   \n",
       " 2              0.0   101.0           [{'iso_639_1': 'en', 'name': 'English'}]   \n",
       " 3       81452156.0   127.0           [{'iso_639_1': 'en', 'name': 'English'}]   \n",
       " 4       76578911.0   106.0           [{'iso_639_1': 'en', 'name': 'English'}]   \n",
       " ...            ...     ...                                                ...   \n",
       " 45461          0.0    90.0             [{'iso_639_1': 'fa', 'name': 'فارسی'}]   \n",
       " 45462          0.0   360.0                  [{'iso_639_1': 'tl', 'name': ''}]   \n",
       " 45463          0.0    90.0           [{'iso_639_1': 'en', 'name': 'English'}]   \n",
       " 45464          0.0    87.0                                                 []   \n",
       " 45465          0.0    75.0           [{'iso_639_1': 'en', 'name': 'English'}]   \n",
       " \n",
       "          status                                            tagline  \\\n",
       " 0      Released                                                NaN   \n",
       " 1      Released          Roll the dice and unleash the excitement!   \n",
       " 2      Released  Still Yelling. Still Fighting. Still Ready for...   \n",
       " 3      Released  Friends are the people who let you be yourself...   \n",
       " 4      Released  Just When His World Is Back To Normal... He's ...   \n",
       " ...         ...                                                ...   \n",
       " 45461  Released         Rising and falling between a man and woman   \n",
       " 45462  Released                                                NaN   \n",
       " 45463  Released                             A deadly game of wits.   \n",
       " 45464  Released                                                NaN   \n",
       " 45465  Released                                                NaN   \n",
       " \n",
       "                              title  video vote_average vote_count  \n",
       " 0                        Toy Story  False          7.7     5415.0  \n",
       " 1                          Jumanji  False          6.9     2413.0  \n",
       " 2                 Grumpier Old Men  False          6.5       92.0  \n",
       " 3                Waiting to Exhale  False          6.1       34.0  \n",
       " 4      Father of the Bride Part II  False          5.7      173.0  \n",
       " ...                            ...    ...          ...        ...  \n",
       " 45461                       Subdue  False          4.0        1.0  \n",
       " 45462          Century of Birthing  False          9.0        3.0  \n",
       " 45463                     Betrayal  False          3.8        6.0  \n",
       " 45464             Satan Triumphant  False          0.0        0.0  \n",
       " 45465                     Queerama  False          0.0        0.0  \n",
       " \n",
       " [45466 rows x 24 columns],\n",
       "           userId  movieId  rating   timestamp\n",
       " 0              1      110     1.0  1425941529\n",
       " 1              1      147     4.5  1425942435\n",
       " 2              1      858     5.0  1425941523\n",
       " 3              1     1221     5.0  1425941546\n",
       " 4              1     1246     5.0  1425941556\n",
       " ...          ...      ...     ...         ...\n",
       " 26024284  270896    58559     5.0  1257031564\n",
       " 26024285  270896    60069     5.0  1257032032\n",
       " 26024286  270896    63082     4.5  1257031764\n",
       " 26024287  270896    64957     4.5  1257033990\n",
       " 26024288  270896    71878     2.0  1257031858\n",
       " \n",
       " [26024289 rows x 4 columns])"
      ]
     },
     "execution_count": 3,
     "metadata": {},
     "output_type": "execute_result"
    }
   ],
   "source": [
    "extract = my_movie.extract(\"./plugins/assets/data/the-movies-dataset\")"
   ]
  },
  {
   "cell_type": "code",
   "execution_count": 4,
   "metadata": {},
   "outputs": [],
   "source": [
    "result = my_movie.transform()"
   ]
  },
  {
   "cell_type": "code",
   "execution_count": 5,
   "metadata": {},
   "outputs": [
    {
     "name": "stdout",
     "output_type": "stream",
     "text": [
      "Data successfully written to s3://project-etl-iqbal/etl/cast.parquet\n",
      "Data successfully written to s3://project-etl-iqbal/etl/crew.parquet\n",
      "Data successfully written to s3://project-etl-iqbal/etl/keywords.parquet\n",
      "Data successfully written to s3://project-etl-iqbal/etl/links.parquet\n",
      "Data successfully written to s3://project-etl-iqbal/etl/movies_metadata.parquet\n",
      "Data successfully written to s3://project-etl-iqbal/etl/belongs_to_collection.parquet\n",
      "Data successfully written to s3://project-etl-iqbal/etl/genres.parquet\n",
      "Data successfully written to s3://project-etl-iqbal/etl/production_companies.parquet\n",
      "Data successfully written to s3://project-etl-iqbal/etl/production_countries.parquet\n",
      "Data successfully written to s3://project-etl-iqbal/etl/spoken_languages.parquet\n",
      "Data successfully written to s3://project-etl-iqbal/etl/ratings.parquet\n",
      "All of the data loaded successfully\n"
     ]
    },
    {
     "data": {
      "text/plain": [
       "True"
      ]
     },
     "execution_count": 5,
     "metadata": {},
     "output_type": "execute_result"
    }
   ],
   "source": [
    "my_movie.load(result)"
   ]
  }
 ],
 "metadata": {
  "kernelspec": {
   "display_name": "Python 3",
   "language": "python",
   "name": "python3"
  },
  "language_info": {
   "codemirror_mode": {
    "name": "ipython",
    "version": 3
   },
   "file_extension": ".py",
   "mimetype": "text/x-python",
   "name": "python",
   "nbconvert_exporter": "python",
   "pygments_lexer": "ipython3",
   "version": "3.10.4"
  }
 },
 "nbformat": 4,
 "nbformat_minor": 2
}
