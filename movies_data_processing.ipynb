{
 "cells": [
  {
   "cell_type": "markdown",
   "metadata": {},
   "source": [
    "# Movies Dataset Processing & Analysis\n",
    "\n",
    "![Movies Image](lib/assets/movies_image.png)\n",
    "\n",
    "### Objective:\n",
    "The aim of this project is to fetch historical data about movies metadata from open APIs. The gathered data will be processed, cleaned, then will be stored in the data lake using AWS S3, loaded into Snowflake, and Visualize through dashboard. \n",
    "\n",
    "The [Kaggle Movies Dataset](https://www.kaggle.com/datasets/rounakbanik/the-movies-dataset/data) that used contains metadata for all 45,000 movies listed in the Full MovieLens Dataset. The dataset consists of movies released on or before July 2017. Data points include cast, crew, plot keywords, budget, revenue, posters, release dates, languages, production companies, countries, TMDB vote counts and vote averages.\n",
    "\n",
    "This dataset also has files containing 26 million ratings from 270,000 users for all 45,000 movies. Ratings are on a scale of 1-5 and have been obtained from the official GroupLens website.\n",
    "\n",
    "## Key Features of the Project:\n",
    "\n",
    "### Data Collection:\n",
    "Identify reliable open sources for movies dataset.\n",
    "Use Python to fetch data using libraries such as requests, pandas, or openpyxl.\n",
    "\n",
    "\n",
    "### Data Processing:\n",
    "Clean and preprocess the data to ensure it's in a usable format.\n",
    "Handle missing data, duplicates, and irrelevant columns.\n",
    "Perform any necessary transformations (e.g., from json to dataset).\n",
    "\n",
    "### Data Storage:\n",
    "Store the data into the data lake (e.g., AWS S3) then load the data from data lake into data warehouse(e.g., Google BigQuery, AWS Redshift) for later use.\n",
    "\n",
    "\n",
    "### Dashboard Development:\n",
    "Use a Python visualization library (e.g., Plotly, Dash, Matplotlib) to build an interactive dashboard.\n",
    "The dashboard will allow users to interact with data, filter by transport type, and visualize transport routes, schedules, or other metrics.\n",
    "\n",
    "\n",
    "### Experimentation & Analysis:\n",
    "Experiment with data fetching, transformation, and the integration of APIs.\n",
    "Explore possible analyses such as peak-hour transport usage, performance (on-time arrivals), and comparison across routes."
   ]
  },
  {
   "cell_type": "markdown",
   "metadata": {},
   "source": [
    "### Load Libraries:"
   ]
  },
  {
   "cell_type": "code",
   "execution_count": 1,
   "metadata": {},
   "outputs": [],
   "source": [
    "# Import all necessary packages\n",
    "import pandas as pd\n",
    "import numpy as np\n",
    "import lib.utils.kaggle_util as kaggle_util\n",
    "from lib.utils.config.creds_config import snow_creds, aws_creds\n",
    "from typing import Optional\n",
    "import ast"
   ]
  },
  {
   "cell_type": "markdown",
   "metadata": {},
   "source": [
    "## Data Collection:"
   ]
  },
  {
   "cell_type": "code",
   "execution_count": 2,
   "metadata": {},
   "outputs": [
    {
     "name": "stdout",
     "output_type": "stream",
     "text": [
      "Dataset URL: https://www.kaggle.com/datasets/rounakbanik/the-movies-dataset\n",
      "Dataset 'rounakbanik/the-movies-dataset' downloaded successfully to './lib/assets/data/the-movies-dataset'.\n"
     ]
    }
   ],
   "source": [
    "# Download the dataset from Kaggle\n",
    "dataset_name = \"rounakbanik/the-movies-dataset\" \n",
    "download_folder = \"./lib/assets/data/the-movies-dataset\"\n",
    "kaggle_util.download_kaggle_dataset(dataset_name, download_folder)"
   ]
  },
  {
   "cell_type": "code",
   "execution_count": 3,
   "metadata": {},
   "outputs": [
    {
     "name": "stderr",
     "output_type": "stream",
     "text": [
      "C:\\Users\\iqbal\\AppData\\Local\\Temp\\ipykernel_20312\\3864945918.py:6: DtypeWarning: Columns (10) have mixed types. Specify dtype option on import or set low_memory=False.\n",
      "  movies_metadata = pd.read_csv(\"./lib/assets/data/the-movies-dataset/movies_metadata.csv\")\n"
     ]
    }
   ],
   "source": [
    "# Load all of the data into DataFrames\n",
    "# The column ID -> identifier will be distinguished by using m_id which stands for movie_id (Most likely to be tmdbId in links df)\n",
    "credits = pd.read_csv(\"./lib/assets/data/the-movies-dataset/credits.csv\")\n",
    "keywords = pd.read_csv(\"./lib/assets/data/the-movies-dataset/keywords.csv\")\n",
    "links = pd.read_csv(\"./lib/assets/data/the-movies-dataset/links.csv\")\n",
    "movies_metadata = pd.read_csv(\"./lib/assets/data/the-movies-dataset/movies_metadata.csv\")\n",
    "ratings = pd.read_csv(\"./lib/assets/data/the-movies-dataset/ratings.csv\")"
   ]
  },
  {
   "cell_type": "markdown",
   "metadata": {},
   "source": [
    "## Data Processing:"
   ]
  },
  {
   "cell_type": "code",
   "execution_count": 4,
   "metadata": {},
   "outputs": [],
   "source": [
    "def safe_parse_collection(x: pd.Series):\n",
    "    if pd.isna(x):\n",
    "        return np.nan\n",
    "    \n",
    "    if isinstance(x, dict):\n",
    "        return x  # Already a dictionary, return as is\n",
    "    \n",
    "    try:\n",
    "        return ast.literal_eval(x)\n",
    "    except (ValueError, SyntaxError, TypeError):\n",
    "        return np.nan\n",
    "    \n",
    "# AI Generated Code\n",
    "def normalize_data(\n",
    "    df: pd.DataFrame, \n",
    "    subset_column: str, \n",
    "    id_column: str,\n",
    "    id_prefix: Optional[str] = None\n",
    ") -> pd.DataFrame:\n",
    "    \"\"\"Normalization of nested data using vectorized operations.\"\"\"\n",
    "    # Create working copy with only necessary columns\n",
    "    working_df = df[[id_column, subset_column]].copy()\n",
    "    \n",
    "    # Vectorized parsing of nested data\n",
    "    working_df[subset_column] = working_df[subset_column].apply(safe_parse_collection)\n",
    "    \n",
    "    # Filter valid entries and explode lists\n",
    "    valid_mask = working_df[subset_column].apply(\n",
    "        lambda x: isinstance(x, list) and len(x) > 0 and all(isinstance(i, dict) for i in x)\n",
    "    )\n",
    "    exploded_df = working_df[valid_mask].explode(subset_column)\n",
    "    \n",
    "    if exploded_df.empty:\n",
    "        return pd.DataFrame()\n",
    "    \n",
    "    # Normalize nested dicts in vectorized manner\n",
    "    normalized = pd.json_normalize(exploded_df[subset_column])\n",
    "    \n",
    "    # Add reference ID with type conversion for memory efficiency\n",
    "    if id_prefix:\n",
    "        id_col_name = f\"{id_prefix}_{id_column}\"\n",
    "    else:\n",
    "        id_col_name = id_column\n",
    "    \n",
    "    normalized[id_col_name] = exploded_df[id_column].astype(\n",
    "        exploded_df[id_column].dtype\n",
    "    ).values\n",
    "    \n",
    "    return normalized.reset_index(drop=True)\n",
    "\n",
    "def extract_dict_values(\n",
    "    df: pd.DataFrame, \n",
    "    column_name: str, \n",
    "    new_column_prefix: Optional[str] = None\n",
    ") -> pd.DataFrame:\n",
    "    \"\"\"Optimized dictionary expansion using vectorized operations.\"\"\"\n",
    "    new_df = df.copy()\n",
    "    \n",
    "    # Remove column that has no value\n",
    "    mask = new_df[[column_name]].isna().all(axis=1)\n",
    "    new_df = new_df[~mask].reset_index()\n",
    "    \n",
    "    # Try to parse value\n",
    "    parsed = new_df[column_name].apply(safe_parse_collection)\n",
    "    normalized = pd.json_normalize(parsed)\n",
    "    \n",
    "    # Apply prefix if specified\n",
    "    if new_column_prefix:\n",
    "        normalized = normalized.add_prefix(f\"{new_column_prefix}_\")\n",
    "    \n",
    "    # Join results using pandas\" efficient merge instead of row-wise operations\n",
    "    return pd.concat([new_df, normalized], axis=1).drop(column_name, axis=1)"
   ]
  },
  {
   "cell_type": "markdown",
   "metadata": {},
   "source": [
    "#### Credits Dataframe Processing:"
   ]
  },
  {
   "cell_type": "code",
   "execution_count": 5,
   "metadata": {},
   "outputs": [
    {
     "data": {
      "application/vnd.microsoft.datawrangler.viewer.v0+json": {
       "columns": [
        {
         "name": "index",
         "rawType": "int64",
         "type": "integer"
        },
        {
         "name": "cast",
         "rawType": "object",
         "type": "string"
        },
        {
         "name": "crew",
         "rawType": "object",
         "type": "string"
        },
        {
         "name": "id",
         "rawType": "int64",
         "type": "integer"
        }
       ],
       "conversionMethod": "pd.DataFrame",
       "ref": "08c3b59e-bdfc-4eb1-b9a6-7fc7e7956a81",
       "rows": [
        [
         "36088",
         "[{'cast_id': 1, 'character': 'Eyal Goldman', 'credit_id': '52fe4bb1c3a36847f820fba3', 'gender': 0, 'id': 52688, 'name': 'Liron Levo', 'order': 0, 'profile_path': '/45nrlrfe8FZb08fNEyzJaOQwsX6.jpg'}, {'cast_id': 2, 'character': 'Rana Sweid', 'credit_id': '52fe4bb1c3a36847f820fba7', 'gender': 1, 'id': 77498, 'name': 'Lubna Azabal', 'order': 1, 'profile_path': '/lGvB2xP7sotwSslSTovL5nxnzBC.jpg'}, {'cast_id': 3, 'character': 'Simone', 'credit_id': '52fe4bb1c3a36847f820fbab', 'gender': 0, 'id': 73741, 'name': 'Mila Dekker', 'order': 2, 'profile_path': None}, {'cast_id': 4, 'character': 'Semi Jan', 'credit_id': '52fe4bb1c3a36847f820fbaf', 'gender': 0, 'id': 180968, 'name': 'Patrick Albenque', 'order': 3, 'profile_path': None}]",
         "[{'credit_id': '52fe4bb1c3a36847f820fbb5', 'department': 'Directing', 'gender': 2, 'id': 1119247, 'job': 'Director', 'name': 'Guy Nattiv', 'profile_path': None}, {'credit_id': '52fe4bb1c3a36847f820fbbb', 'department': 'Writing', 'gender': 2, 'id': 1119247, 'job': 'Writer', 'name': 'Guy Nattiv', 'profile_path': None}, {'credit_id': '52fe4bb1c3a36847f820fbc1', 'department': 'Directing', 'gender': 2, 'id': 235136, 'job': 'Director', 'name': 'Erez Tadmor', 'profile_path': None}, {'credit_id': '52fe4bb1c3a36847f820fbc7', 'department': 'Writing', 'gender': 2, 'id': 235136, 'job': 'Writer', 'name': 'Erez Tadmor', 'profile_path': None}]",
         "117316"
        ],
        [
         "39927",
         "[{'cast_id': 0, 'character': 'Ali Chah Benkadour', 'credit_id': '5475ad6b925141407a0016c5', 'gender': 0, 'id': 583919, 'name': 'Said Bey', 'order': 0, 'profile_path': None}, {'cast_id': 1, 'character': 'Ali', 'credit_id': '5475ad7cc3a3683012000607', 'gender': 0, 'id': 1389576, 'name': 'Younes Bouab', 'order': 1, 'profile_path': None}, {'cast_id': 2, 'character': 'Hmida', 'credit_id': '5475ad8992514166ba0002ea', 'gender': 0, 'id': 592849, 'name': 'Rafik Boubker', 'order': 2, 'profile_path': None}, {'cast_id': 4, 'character': 'Ouchen', 'credit_id': '5475adb1c3a3687fd9000f9d', 'gender': 0, 'id': 1389578, 'name': 'Aziz Dadas', 'order': 3, 'profile_path': None}, {'cast_id': 5, 'character': 'Masoud', 'credit_id': '5475add2c3a368764e0008c6', 'gender': 0, 'id': 1389579, 'name': 'Rabie Kati', 'order': 4, 'profile_path': None}, {'cast_id': 6, 'character': 'Mbarek', 'credit_id': '5475ade49251415273002282', 'gender': 0, 'id': 1389580, 'name': 'Amine Naji', 'order': 5, 'profile_path': None}, {'cast_id': 3, 'character': 'Fattouma', 'credit_id': '5475ada192514144d500297b', 'gender': 0, 'id': 1389577, 'name': 'Fatima Bouchain', 'order': 6, 'profile_path': None}, {'cast_id': 7, 'character': 'US Officer', 'credit_id': '5475adf5c3a3686ba1002141', 'gender': 0, 'id': 27287, 'name': 'Colin Goodwin', 'order': 7, 'profile_path': None}, {'cast_id': 8, 'character': 'Kurk', 'credit_id': '5475ae0692514160e30034a5', 'gender': 0, 'id': 1389581, 'name': 'Alexandre Ottoveggio', 'order': 8, 'profile_path': None}]",
         "[{'credit_id': '5475ae3292514144d5002995', 'department': 'Directing', 'gender': 0, 'id': 1389582, 'job': 'Director', 'name': 'Brahim Chkiri', 'profile_path': None}, {'credit_id': '5475ae3d9251415273002299', 'department': 'Writing', 'gender': 0, 'id': 1389582, 'job': 'Writer', 'name': 'Brahim Chkiri', 'profile_path': None}, {'credit_id': '5475ae7392514152730022a5', 'department': 'Writing', 'gender': 0, 'id': 1389583, 'job': 'Writer', 'name': 'James Sidney', 'profile_path': None}]",
         "300402"
        ],
        [
         "2512",
         "[{'cast_id': 1, 'character': 'Eric Hunter', 'credit_id': '52fe43e3c3a36847f807660f', 'gender': 0, 'id': 40059, 'name': 'Chris Stafford', 'order': 0, 'profile_path': '/2i53p2pic7QxhktwO4e6hgvXjWT.jpg'}, {'cast_id': 2, 'character': 'Maggie', 'credit_id': '52fe43e3c3a36847f8076613', 'gender': 1, 'id': 40060, 'name': 'Tina Holmes', 'order': 1, 'profile_path': '/nCBIgbWELfQL3Y8UlE9WQppXzfX.jpg'}, {'cast_id': 3, 'character': 'Rod', 'credit_id': '52fe43e3c3a36847f8076617', 'gender': 2, 'id': 40061, 'name': 'Andersen Gabrych', 'order': 2, 'profile_path': None}, {'cast_id': 4, 'character': 'Bonnie Hunter', 'credit_id': '52fe43e3c3a36847f807661b', 'gender': 0, 'id': 40062, 'name': 'Stephanie McVay', 'order': 3, 'profile_path': None}, {'cast_id': 5, 'character': 'Angie', 'credit_id': '52fe43e3c3a36847f807661f', 'gender': 1, 'id': 40063, 'name': 'Lea DeLaria', 'order': 4, 'profile_path': '/478i0znkMw2dFgd5WOTgMegUhC3.jpg'}, {'cast_id': 6, 'character': 'Dad', 'credit_id': '52fe43e3c3a36847f8076623', 'gender': 0, 'id': 40064, 'name': 'John Eby', 'order': 5, 'profile_path': None}, {'cast_id': 7, 'character': 'Andy', 'credit_id': '52fe43e3c3a36847f8076627', 'gender': 0, 'id': 40065, 'name': 'Antonio Carriero', 'order': 6, 'profile_path': None}, {'cast_id': 8, 'character': 'Steve', 'credit_id': '52fe43e3c3a36847f807662b', 'gender': 0, 'id': 40066, 'name': 'Jason Lockhart', 'order': 7, 'profile_path': '/7h4H5q5xytalWh8BPig6vbmjfQJ.jpg'}, {'cast_id': 9, 'character': 'Gregg', 'credit_id': '52fe43e3c3a36847f807662f', 'gender': 0, 'id': 40067, 'name': 'Tony Maietta', 'order': 8, 'profile_path': None}, {'cast_id': 10, 'character': 'Jonathon', 'credit_id': '52fe43e3c3a36847f8076633', 'gender': 0, 'id': 40068, 'name': 'Jeff Fryer', 'order': 9, 'profile_path': None}, {'cast_id': 11, 'character': 'Chuckie', 'credit_id': '52fe43e3c3a36847f8076637', 'gender': 0, 'id': 40069, 'name': 'Kevin Joseph Kelly', 'order': 10, 'profile_path': None}, {'cast_id': 12, 'character': 'Foodtown', 'credit_id': '52fe43e3c3a36847f807663b', 'gender': 0, 'id': 40070, 'name': 'Mark Gates', 'order': 11, 'profile_path': None}, {'cast_id': 13, 'character': 'Ruby Rogers', 'credit_id': '52fe43e3c3a36847f807663f', 'gender': 0, 'id': 40071, 'name': 'Stevie Reese Desmond', 'order': 12, 'profile_path': None}, {'cast_id': 14, 'character': 'Frieda', 'credit_id': '52fe43e3c3a36847f8076643', 'gender': 0, 'id': 40072, 'name': 'Barbie Marie', 'order': 13, 'profile_path': None}, {'cast_id': 15, 'character': 'Irate Customer', 'credit_id': '52fe43e3c3a36847f8076647', 'gender': 0, 'id': 40073, 'name': 'Craig H. Shepherd', 'order': 14, 'profile_path': None}, {'cast_id': 16, 'character': 'Security Guard', 'credit_id': '52fe43e3c3a36847f807664b', 'gender': 0, 'id': 40076, 'name': 'Doug Million', 'order': 15, 'profile_path': None}, {'cast_id': 17, 'character': 'High School Party Friend #1', 'credit_id': '52fe43e3c3a36847f807664f', 'gender': 0, 'id': 40077, 'name': 'Clay Van Sickle', 'order': 16, 'profile_path': None}, {'cast_id': 19, 'character': 'Bartender', 'credit_id': '52fe43e3c3a36847f8076653', 'gender': 0, 'id': 40079, 'name': 'Jimmy Mack', 'order': 17, 'profile_path': None}, {'cast_id': 20, 'character': 'Party Hunk', 'credit_id': '52fe43e3c3a36847f8076657', 'gender': 0, 'id': 40080, 'name': 'Justin Leach', 'order': 18, 'profile_path': None}, {'cast_id': 21, 'character': 'Dan McAllistair', 'credit_id': '52fe43e3c3a36847f807665b', 'gender': 2, 'id': 40081, 'name': 'Jeffrey Abramson', 'order': 19, 'profile_path': None}, {'cast_id': 22, 'character': 'Teacher', 'credit_id': '52fe43e3c3a36847f807665f', 'gender': 0, 'id': 40082, 'name': 'Don Mitri', 'order': 20, 'profile_path': None}, {'cast_id': 23, 'character': 'Wrestling Jock', 'credit_id': '52fe43e3c3a36847f8076663', 'gender': 0, 'id': 40083, 'name': 'Mike Roth', 'order': 21, 'profile_path': None}, {'cast_id': 24, 'character': 'Joe Plonsky, Jr', 'credit_id': '52fe43e3c3a36847f8076667', 'gender': 0, 'id': 40084, 'name': 'Adam Penton', 'order': 22, 'profile_path': None}, {'cast_id': 25, 'character': 'Waitress', 'credit_id': '52fe43e3c3a36847f807666b', 'gender': 0, 'id': 40085, 'name': 'Tal Ben-David', 'order': 23, 'profile_path': None}, {'cast_id': 26, 'character': 'Bitchy Girl #1', 'credit_id': '52fe43e3c3a36847f807666f', 'gender': 0, 'id': 40086, 'name': 'Dina Ansden', 'order': 24, 'profile_path': None}, {'cast_id': 27, 'character': 'Bitchy Girl #2', 'credit_id': '52fe43e3c3a36847f8076673', 'gender': 0, 'id': 40087, 'name': 'Karen Brooks', 'order': 25, 'profile_path': None}, {'cast_id': 28, 'character': 'Bitchy Girl #3', 'credit_id': '52fe43e3c3a36847f8076677', 'gender': 0, 'id': 40088, 'name': 'Shannon Constantine', 'order': 26, 'profile_path': None}, {'cast_id': 29, 'character': 'Drag Queen', 'credit_id': '52fe43e3c3a36847f807667b', 'gender': 0, 'id': 40089, 'name': 'Edd Martin', 'order': 27, 'profile_path': None}, {'cast_id': 30, 'character': 'Sugar Daddy', 'credit_id': '52fe43e3c3a36847f807667f', 'gender': 0, 'id': 40090, 'name': 'Gregg Long', 'order': 28, 'profile_path': None}, {'cast_id': 31, 'character': 'Boy Toy', 'credit_id': '52fe43e3c3a36847f8076683', 'gender': 0, 'id': 40091, 'name': 'Ryan Florio', 'order': 29, 'profile_path': None}, {'cast_id': 32, 'character': 'Marlene Dichtrich', 'credit_id': '52fe43e3c3a36847f8076687', 'gender': 1, 'id': 40092, 'name': 'Twiggy', 'order': 30, 'profile_path': '/9OO3hY5xjk6qOzKtYIEGxmPludq.jpg'}, {'cast_id': 33, 'character': 'Beer Guy', 'credit_id': '52fe43e3c3a36847f807668b', 'gender': 0, 'id': 40093, 'name': 'Frank Klingshin', 'order': 31, 'profile_path': None}, {'cast_id': 34, 'character': 'Miss Anita Mann', 'credit_id': '52fe43e3c3a36847f807668f', 'gender': 0, 'id': 40094, 'name': 'Dominic Carrion', 'order': 32, 'profile_path': None}, {'cast_id': 35, 'character': 'Grubber #1', 'credit_id': '52fe43e3c3a36847f8076693', 'gender': 0, 'id': 40095, 'name': 'Khalid Abdelrasoul', 'order': 33, 'profile_path': None}, {'cast_id': 36, 'character': 'Grubber #2', 'credit_id': '52fe43e3c3a36847f8076697', 'gender': 0, 'id': 40096, 'name': 'Sally Law', 'order': 34, 'profile_path': None}, {'cast_id': 37, 'character': 'Grubber #3', 'credit_id': '52fe43e3c3a36847f807669b', 'gender': 0, 'id': 40097, 'name': 'Jarred J. Nichols', 'order': 35, 'profile_path': None}, {'cast_id': 38, 'character': 'Grubber #4', 'credit_id': '52fe43e3c3a36847f807669f', 'gender': 0, 'id': 40098, 'name': 'Jay Warshak', 'order': 36, 'profile_path': None}, {'cast_id': 39, 'character': 'Diva', 'credit_id': '52fe43e3c3a36847f80766a3', 'gender': 0, 'id': 40099, 'name': 'Diva Delaria-Foley', 'order': 37, 'profile_path': None}, {'cast_id': 100, 'character': 'High School Party Friend #2', 'credit_id': '52fe43e4c3a36847f8076809', 'gender': 2, 'id': 178871, 'name': 'Jason Griffith', 'order': 38, 'profile_path': '/e3IS4xzp7bDj0AEneQDKbArQq9.jpg'}]",
         "[{'credit_id': '56a4b4d8c3a368389b006a3d', 'department': 'Production', 'gender': 1, 'id': 39979, 'job': 'Associate Producer', 'name': 'Karen Jaroneski', 'profile_path': None}, {'credit_id': '52fe43e4c3a36847f8076805', 'department': 'Production', 'gender': 0, 'id': 40073, 'job': 'Line Producer', 'name': 'Craig H. Shepherd', 'profile_path': None}, {'credit_id': '52fe43e3c3a36847f80766c1', 'department': 'Production', 'gender': 2, 'id': 40081, 'job': 'Location Manager', 'name': 'Jeffrey Abramson', 'profile_path': None}, {'credit_id': '52fe43e4c3a36847f80767ed', 'department': 'Editing', 'gender': 0, 'id': 40085, 'job': 'Editor', 'name': 'Tal Ben-David', 'profile_path': None}, {'credit_id': '56a4b426c3a36838a3005d92', 'department': 'Production', 'gender': 0, 'id': 40100, 'job': 'Unit Production Manager', 'name': 'Joseph Plonsky', 'profile_path': None}, {'credit_id': '52fe43e3c3a36847f80766b5', 'department': 'Art', 'gender': 0, 'id': 40101, 'job': 'Art Direction', 'name': 'Sarah Leonard-Mayer', 'profile_path': None}, {'credit_id': '52fe43e3c3a36847f80766bb', 'department': 'Costume & Make-Up', 'gender': 0, 'id': 40102, 'job': 'Set Dressing Artist', 'name': 'Gilbert Beronneau', 'profile_path': None}, {'credit_id': '52fe43e3c3a36847f80766c7', 'department': 'Crew', 'gender': 2, 'id': 40103, 'job': 'Property Master', 'name': 'Joshua Elrod', 'profile_path': '/lDtRYHmfh23PejUAAZAZmKsr6VX.jpg'}, {'credit_id': '52fe43e3c3a36847f80766cd', 'department': 'Costume & Make-Up', 'gender': 0, 'id': 40104, 'job': 'Makeup Artist', 'name': 'Trish Seeney', 'profile_path': None}, {'credit_id': '52fe43e3c3a36847f80766d3', 'department': 'Costume & Make-Up', 'gender': 0, 'id': 40105, 'job': 'Makeup Artist', 'name': 'Shoukoufeh Azari', 'profile_path': None}, {'credit_id': '52fe43e3c3a36847f80766d9', 'department': 'Costume & Make-Up', 'gender': 0, 'id': 40106, 'job': 'Hair Setup', 'name': 'Bobby Collins', 'profile_path': None}, {'credit_id': '56a4b47ac3a368388b006d6f', 'department': 'Directing', 'gender': 0, 'id': 40107, 'job': 'Script Supervisor', 'name': 'Stephanie A. Marquardt', 'profile_path': None}, {'credit_id': '52fe43e3c3a36847f80766e5', 'department': 'Crew', 'gender': 0, 'id': 40108, 'job': 'Sound Recordist', 'name': 'Jim Emswiller', 'profile_path': None}, {'credit_id': '52fe43e3c3a36847f80766eb', 'department': 'Sound', 'gender': 0, 'id': 40109, 'job': 'Sound Editor', 'name': \"Tim O'Shea\", 'profile_path': None}, {'credit_id': '56a4b3cf9251415216001b1e', 'department': 'Camera', 'gender': 0, 'id': 40112, 'job': 'First Assistant Camera', 'name': 'Mary F. Stankiewicz', 'profile_path': None}, {'credit_id': '52fe43e3c3a36847f8076709', 'department': 'Production', 'gender': 0, 'id': 40114, 'job': 'Location Manager', 'name': 'Mitchell Rosen', 'profile_path': None}, {'credit_id': '52fe43e3c3a36847f807670f', 'department': 'Art', 'gender': 0, 'id': 40115, 'job': 'Location Scout', 'name': 'Jesse Thompson-Adams', 'profile_path': None}, {'credit_id': '52fe43e3c3a36847f8076715', 'department': 'Art', 'gender': 0, 'id': 40116, 'job': 'Location Scout', 'name': 'Chris Cozzi', 'profile_path': None}, {'credit_id': '52fe43e3c3a36847f807671b', 'department': 'Lighting', 'gender': 0, 'id': 40117, 'job': 'Gaffer', 'name': 'Richard Lowther', 'profile_path': None}, {'credit_id': '52fe43e3c3a36847f8076727', 'department': 'Camera', 'gender': 0, 'id': 40119, 'job': 'Grip', 'name': 'Keith Seymour', 'profile_path': None}, {'credit_id': '52fe43e3c3a36847f807672d', 'department': 'Camera', 'gender': 0, 'id': 40120, 'job': 'Grip', 'name': \"Brian 'Buzz' Buzzelli\", 'profile_path': None}, {'credit_id': '52fe43e3c3a36847f8076733', 'department': 'Camera', 'gender': 0, 'id': 40121, 'job': 'Grip', 'name': 'John Laska', 'profile_path': None}, {'credit_id': '52fe43e3c3a36847f8076739', 'department': 'Sound', 'gender': 2, 'id': 40122, 'job': 'Boom Operator', 'name': 'John Evans', 'profile_path': None}, {'credit_id': '52fe43e3c3a36847f807673f', 'department': 'Crew', 'gender': 0, 'id': 40123, 'job': 'Property Master', 'name': 'Chris Stephens', 'profile_path': None}, {'credit_id': '52fe43e3c3a36847f8076745', 'department': 'Production', 'gender': 0, 'id': 40124, 'job': 'Production Office Coordinator', 'name': 'Jim Mullany', 'profile_path': None}, {'credit_id': '52fe43e3c3a36847f807674b', 'department': 'Camera', 'gender': 0, 'id': 40125, 'job': 'Still Photographer', 'name': 'Angela Bizzari', 'profile_path': None}, {'credit_id': '52fe43e3c3a36847f8076751', 'department': 'Art', 'gender': 0, 'id': 40126, 'job': 'Lead Painter', 'name': 'Frank Jaroneski', 'profile_path': None}, {'credit_id': '56a4b450c3a368389e0065f5', 'department': 'Editing', 'gender': 0, 'id': 40135, 'job': 'Assistant Editor', 'name': 'Youna Kwak', 'profile_path': None}, {'credit_id': '56a4b465c3a368389b006a26', 'department': 'Editing', 'gender': 0, 'id': 40136, 'job': 'Assistant Editor', 'name': 'Greg Boas', 'profile_path': None}, {'credit_id': '56a4b45bc3a368389b006a21', 'department': 'Editing', 'gender': 0, 'id': 40137, 'job': 'Assistant Editor', 'name': 'Benjamin Rosen-Koncius', 'profile_path': None}, {'credit_id': '52fe43e3c3a36847f80767a5', 'department': 'Sound', 'gender': 1, 'id': 40140, 'job': 'Music Editor', 'name': 'Margaret Crimmins', 'profile_path': None}, {'credit_id': '52fe43e3c3a36847f80767ab', 'department': 'Sound', 'gender': 2, 'id': 40141, 'job': 'Music Editor', 'name': 'Paul Hsu', 'profile_path': None}, {'credit_id': '52fe43e3c3a36847f80767b1', 'department': 'Sound', 'gender': 2, 'id': 40142, 'job': 'Sound mixer', 'name': 'Robert Fernandez', 'profile_path': None}, {'credit_id': '52fe43e3c3a36847f80767b7', 'department': 'Sound', 'gender': 0, 'id': 40143, 'job': 'Foley', 'name': 'Elizabeth Henderson', 'profile_path': None}, {'credit_id': '52fe43e3c3a36847f80767bd', 'department': 'Sound', 'gender': 0, 'id': 40144, 'job': 'Dolby Consultant', 'name': 'Eric A. Christoffersen', 'profile_path': None}, {'credit_id': '52fe43e3c3a36847f80767c3', 'department': 'Crew', 'gender': 0, 'id': 40145, 'job': 'Second Unit', 'name': 'Zak Othmer', 'profile_path': None}, {'credit_id': '52fe43e3c3a36847f80767c9', 'department': 'Crew', 'gender': 0, 'id': 40146, 'job': 'Second Unit', 'name': 'Brian Lerch', 'profile_path': None}, {'credit_id': '52fe43e3c3a36847f80767cf', 'department': 'Directing', 'gender': 0, 'id': 40439, 'job': 'Director', 'name': 'David Moreton', 'profile_path': None}, {'credit_id': '52fe43e3c3a36847f80767db', 'department': 'Production', 'gender': 0, 'id': 40439, 'job': 'Producer', 'name': 'David Moreton', 'profile_path': None}, {'credit_id': '52fe43e3c3a36847f80767d5', 'department': 'Writing', 'gender': 2, 'id': 40440, 'job': 'Screenplay', 'name': 'Todd Stephens', 'profile_path': None}, {'credit_id': '52fe43e3c3a36847f80767e1', 'department': 'Production', 'gender': 2, 'id': 40440, 'job': 'Producer', 'name': 'Todd Stephens', 'profile_path': None}, {'credit_id': '52fe43e4c3a36847f80767e7', 'department': 'Camera', 'gender': 0, 'id': 40442, 'job': 'Director of Photography', 'name': 'Gina Degirolamo', 'profile_path': None}, {'credit_id': '52fe43e4c3a36847f80767f3', 'department': 'Art', 'gender': 0, 'id': 40443, 'job': 'Production Design', 'name': 'Ivor Stilin', 'profile_path': None}, {'credit_id': '52fe43e4c3a36847f80767ff', 'department': 'Costume & Make-Up', 'gender': 0, 'id': 40444, 'job': 'Costume Design', 'name': 'Ane Crabtree', 'profile_path': '/2WAzQjuaryIBgy49H8jfmB5SoQn.jpg'}, {'credit_id': '56a4b595c3a36838960067b8', 'department': 'Production', 'gender': 0, 'id': 1188797, 'job': 'Co-Producer', 'name': 'Michael Wolfson', 'profile_path': None}, {'credit_id': '54c8ac1ac3a3687a65000f13', 'department': 'Lighting', 'gender': 0, 'id': 1419606, 'job': 'Best Boy Electric', 'name': 'Adrian Brown', 'profile_path': None}]",
         "4927"
        ],
        [
         "31705",
         "[{'cast_id': 7, 'character': 'Vurlla Kowsky', 'credit_id': '58ad8374c3a3682fce005514', 'gender': 1, 'id': 8893, 'name': 'Stockard Channing', 'order': 1, 'profile_path': '/5UFMOfbzod42UiPUna59Ch1e37a.jpg'}, {'cast_id': 16, 'character': 'Le Clerq', 'credit_id': '58fa169dc3a3687c8600aada', 'gender': 2, 'id': 8975, 'name': 'Sam Waterston', 'order': 2, 'profile_path': '/fKmtS6OdDWPiAdxZflbJGz1eWml.jpg'}, {'cast_id': 17, 'character': 'Edmund', 'credit_id': '58fa16a6c3a3687c3100b8ba', 'gender': 0, 'id': 44796, 'name': 'Franklyn Ajaye', 'order': 3, 'profile_path': '/9TWfwYV72JlBAwkVk91k1lrTGGg.jpg'}, {'cast_id': 18, 'character': 'Andy', 'credit_id': '58fa16ae925141588d00bfee', 'gender': 0, 'id': 1800710, 'name': 'Richard Daughty', 'order': 4, 'profile_path': None}, {'cast_id': 19, 'character': 'John', 'credit_id': '590e9c6d9251414eca0174aa', 'gender': 0, 'id': 84684, 'name': 'Norman Matlock', 'order': 5, 'profile_path': '/3XI2Zu0OwPgwYNw7j1NSwecCPEt.jpg'}, {'cast_id': 20, 'character': 'Policeman', 'credit_id': '590e9c7e9251414e80018595', 'gender': 0, 'id': 1811960, 'name': 'Marvin Rosand', 'order': 6, 'profile_path': None}, {'cast_id': 21, 'character': 'Policeman #2', 'credit_id': '590e9c8bc3a36864fc017f81', 'gender': 0, 'id': 1811961, 'name': 'Robert Lewis-Ferguson', 'order': 7, 'profile_path': None}, {'cast_id': 22, 'character': 'Woman Guard', 'credit_id': '590e9c97c3a36864d4018c8d', 'gender': 0, 'id': 1811962, 'name': 'Betta St. George', 'order': 8, 'profile_path': None}, {'cast_id': 23, 'character': 'Bailiff', 'credit_id': '590e9ca5c3a36864a7017957', 'gender': 2, 'id': 57925, 'name': 'Evan A. Lottman', 'order': 9, 'profile_path': None}, {'cast_id': 24, 'character': 'D.A.', 'credit_id': '590e9cb29251414e8d017903', 'gender': 0, 'id': 155933, 'name': 'Adrian Sparks', 'order': 10, 'profile_path': '/hTc7DSqwUcRhmcq5pH5jhfhsQDg.jpg'}, {'cast_id': 25, 'character': 'Linda', 'credit_id': '590e9ce09251414eca0174fc', 'gender': 1, 'id': 46901, 'name': \"Jan D'Arcy\", 'order': 11, 'profile_path': '/2H9ITLU258yejyX1R01JhloU0Uw.jpg'}, {'cast_id': 26, 'character': 'Wife', 'credit_id': '590e9cf89251414ead017358', 'gender': 0, 'id': 197607, 'name': 'Maureen Shannon', 'order': 12, 'profile_path': None}]",
         "[{'credit_id': '52fe4d7f9251416c911182f5', 'department': 'Directing', 'gender': 2, 'id': 98199, 'job': 'Director', 'name': 'Jerry Schatzberg', 'profile_path': None}, {'credit_id': '568be93fc3a3684bcc0309e1', 'department': 'Writing', 'gender': 0, 'id': 2159, 'job': 'Writer', 'name': 'Marilyn Goldin', 'profile_path': None}, {'credit_id': '568be98292514169d00195eb', 'department': 'Writing', 'gender': 0, 'id': 1558552, 'job': 'Story', 'name': 'B.J. Perla', 'profile_path': None}, {'credit_id': '568be98e9251411334024ca7', 'department': 'Writing', 'gender': 0, 'id': 1558552, 'job': 'Screenplay', 'name': 'B.J. Perla', 'profile_path': None}, {'credit_id': '568be9adc3a368607502ecf7', 'department': 'Writing', 'gender': 0, 'id': 63457, 'job': 'Writer', 'name': 'Jor Van Kline', 'profile_path': None}, {'credit_id': '5765e93bc3a36874d10003fe', 'department': 'Camera', 'gender': 2, 'id': 12235, 'job': 'Director of Photography', 'name': 'Vilmos Zsigmond', 'profile_path': '/zItpdF2B0mohQSFs40E7eUg3nkL.jpg'}, {'credit_id': '58fa1653c3a3687c4d00c17d', 'department': 'Production', 'gender': 0, 'id': 1558552, 'job': 'Associate Producer', 'name': 'B.J. Perla', 'profile_path': None}, {'credit_id': '58fa165d925141587300c0ee', 'department': 'Sound', 'gender': 0, 'id': 124008, 'job': 'Original Music Composer', 'name': 'Paul Chihara', 'profile_path': None}, {'credit_id': '58fa1668c3a3687c7300be78', 'department': 'Editing', 'gender': 0, 'id': 1800708, 'job': 'Editor', 'name': 'Richard Fetterman', 'profile_path': None}, {'credit_id': '58fa1671c3a3687be600b9b9', 'department': 'Editing', 'gender': 2, 'id': 57925, 'job': 'Editor', 'name': 'Evan A. Lottman', 'profile_path': None}, {'credit_id': '58fa167a925141589200c664', 'department': 'Production', 'gender': 2, 'id': 14538, 'job': 'Casting', 'name': 'Don Phillips', 'profile_path': None}, {'credit_id': '58fa1681925141588100b7e4', 'department': 'Art', 'gender': 2, 'id': 10187, 'job': 'Art Direction', 'name': 'Bill Kenney', 'profile_path': None}, {'credit_id': '58fa1687c3a3687c4d00c1b3', 'department': 'Art', 'gender': 0, 'id': 958460, 'job': 'Set Decoration', 'name': 'Rick Gentz', 'profile_path': None}, {'credit_id': '58fa168fc3a3687c5a00bd47', 'department': 'Costume & Make-Up', 'gender': 0, 'id': 1800709, 'job': 'Costume Design', 'name': 'Jo Ynocencio', 'profile_path': None}]",
         "198521"
        ],
        [
         "34035",
         "[{'cast_id': 3, 'character': 'Mallory Rutledge', 'credit_id': '559b0e719251413cc30004f1', 'gender': 1, 'id': 143240, 'name': 'Julianne Hough', 'order': 1, 'profile_path': '/p5eDtAnFsUGeSbuSoZ8R8x4XLf8.jpg'}, {'cast_id': 4, 'character': 'Christian Laughton', 'credit_id': '559b0e7ec3a36871790004a5', 'gender': 2, 'id': 63540, 'name': 'Teddy Sears', 'order': 2, 'profile_path': '/qTapKlNPcOFujJDzFHkmPwyMy2T.jpg'}, {'cast_id': 5, 'character': 'Katie Goldman', 'credit_id': '559b0e9b9251413cc90004fb', 'gender': 1, 'id': 1485114, 'name': 'Madalyn Horcher', 'order': 3, 'profile_path': '/fIQAJzrVNNMqzD355cB39bzGKVa.jpg'}, {'cast_id': 6, 'character': 'Deputy', 'credit_id': '5628c06f9251414ccd0016ff', 'gender': 2, 'id': 989607, 'name': 'Drew Rausch', 'order': 4, 'profile_path': '/cCf1197mdCcUu2Q9EbrmYYTLBxO.jpg'}, {'cast_id': 42, 'character': 'Ella Rutledge', 'credit_id': '56aa95c69251417e2000038b', 'gender': 1, 'id': 1146114, 'name': 'Penelope Mitchell', 'order': 5, 'profile_path': '/ne4PItBW8KnkQBuzvgf6KyI4tJH.jpg'}, {'cast_id': 43, 'character': \"Katie's Father\", 'credit_id': '56fb91c79251411506000a53', 'gender': 2, 'id': 180830, 'name': 'Kurt Bryant', 'order': 6, 'profile_path': '/iV5cWqC72njCHOPCwMhStuXQBWY.jpg'}]",
         "[{'credit_id': '559b08bfc3a368717900043e', 'department': 'Directing', 'gender': 2, 'id': 1978, 'job': 'Director', 'name': 'Iain Softley', 'profile_path': '/citetzG3VlJ402NcaWicUHffxfl.jpg'}, {'credit_id': '559b09039251413cc9000494', 'department': 'Writing', 'gender': 0, 'id': 1485105, 'job': 'Writer', 'name': 'Kimberly Lofstrom Johnson', 'profile_path': None}, {'credit_id': '559b0922c3a368719500041e', 'department': 'Writing', 'gender': 0, 'id': 1485106, 'job': 'Writer', 'name': 'Lee Patterson', 'profile_path': None}, {'credit_id': '566c44e5c3a368535a008c46', 'department': 'Production', 'gender': 2, 'id': 84348, 'job': 'Producer', 'name': 'Jason Blum', 'profile_path': None}, {'credit_id': '566c44fe92514169e2008a13', 'department': 'Production', 'gender': 2, 'id': 59521, 'job': 'Producer', 'name': 'Jaume Collet-Serra', 'profile_path': '/z7jv5RF9RVZnv32QuMn8YxFgdIg.jpg'}, {'credit_id': '566c452092514173ff00cac5', 'department': 'Production', 'gender': 0, 'id': 1320499, 'job': 'Producer', 'name': 'Juan Sola', 'profile_path': None}, {'credit_id': '566c45499251412dbc003721', 'department': 'Production', 'gender': 1, 'id': 63989, 'job': 'Producer', 'name': 'Julie Yorn', 'profile_path': None}, {'credit_id': '566c4570c3a3682e9800811a', 'department': 'Camera', 'gender': 2, 'id': 979175, 'job': 'Director of Photography', 'name': 'Brad Shield', 'profile_path': None}, {'credit_id': '566c458cc3a3682647008401', 'department': 'Editing', 'gender': 2, 'id': 8219, 'job': 'Editor', 'name': 'Tariq Anwar', 'profile_path': None}, {'credit_id': '566c45a39251415ec5008ae6', 'department': 'Production', 'gender': 1, 'id': 494, 'job': 'Casting', 'name': 'Terri Taylor', 'profile_path': None}, {'credit_id': '566c45b5c3a368535a008c73', 'department': 'Art', 'gender': 2, 'id': 1127245, 'job': 'Art Direction', 'name': 'Jeremy Woolsey', 'profile_path': None}, {'credit_id': '566c45c692514150010030ef', 'department': 'Art', 'gender': 0, 'id': 1548106, 'job': 'Set Decoration', 'name': 'Sandra Skora', 'profile_path': None}, {'credit_id': '566c45d7c3a36836b400be41', 'department': 'Costume & Make-Up', 'gender': 0, 'id': 1401855, 'job': 'Costume Design', 'name': 'Lisa Norcia', 'profile_path': None}, {'credit_id': '566c45f3c3a3682e98008134', 'department': 'Crew', 'gender': 0, 'id': 1548088, 'job': 'Carpenter', 'name': 'Francis J. Roix', 'profile_path': None}, {'credit_id': '566c46099251417383008038', 'department': 'Crew', 'gender': 0, 'id': 1184221, 'job': 'Property Master', 'name': 'Derrick Hinman', 'profile_path': None}, {'credit_id': '566c4620c3a36836b400be4d', 'department': 'Editing', 'gender': 0, 'id': 1338151, 'job': 'Dialogue Editor', 'name': 'Aleksandr Gruzdev', 'profile_path': None}, {'credit_id': '566c4650925141664f008728', 'department': 'Visual Effects', 'gender': 0, 'id': 1318915, 'job': 'Special Effects Supervisor', 'name': 'James Lorimer', 'profile_path': None}, {'credit_id': '566c4668c3a36836b400be59', 'department': 'Visual Effects', 'gender': 0, 'id': 1437196, 'job': 'Visual Effects Producer', 'name': 'Mark Maccora', 'profile_path': None}, {'credit_id': '566c467dc3a368535a008c93', 'department': 'Visual Effects', 'gender': 0, 'id': 1358021, 'job': 'Visual Effects Supervisor', 'name': 'Jamison Scott Goei', 'profile_path': None}, {'credit_id': '566c46a19251415001003114', 'department': 'Lighting', 'gender': 0, 'id': 1548107, 'job': 'Gaffer', 'name': 'Malcolm Bryce', 'profile_path': None}, {'credit_id': '566c46b39251415ec5008b1e', 'department': 'Camera', 'gender': 0, 'id': 1548108, 'job': 'Camera Operator', 'name': 'Jason Goebel', 'profile_path': None}, {'credit_id': '566c46cb9251415ec5008b26', 'department': 'Camera', 'gender': 0, 'id': 1548109, 'job': 'Still Photographer', 'name': 'Justina Mintz', 'profile_path': None}, {'credit_id': '566c46df9251417383008058', 'department': 'Production', 'gender': 0, 'id': 1533529, 'job': 'Casting Associate', 'name': 'Sarah Domeier', 'profile_path': None}, {'credit_id': '566c46f5c3a36833b60086e4', 'department': 'Costume & Make-Up', 'gender': 1, 'id': 1451555, 'job': 'Set Costumer', 'name': 'Cassandra Parigian', 'profile_path': None}, {'credit_id': '566c4711925141664f00874e', 'department': 'Sound', 'gender': 0, 'id': 1403735, 'job': 'Music Editor', 'name': 'Vanesa Lorena Tate', 'profile_path': None}, {'credit_id': '566c4724c3a368535a008cae', 'department': 'Sound', 'gender': 0, 'id': 1547763, 'job': 'Music Supervisor', 'name': 'Julie Sessing', 'profile_path': None}, {'credit_id': '566c4748c3a368535a008cb3', 'department': 'Directing', 'gender': 1, 'id': 1534675, 'job': 'Script Supervisor', 'name': 'Andrea Manners', 'profile_path': None}, {'credit_id': '566c475d9251415001003141', 'department': 'Crew', 'gender': 0, 'id': 1548115, 'job': 'Craft Service', 'name': 'David Danberg', 'profile_path': None}, {'credit_id': '566c479dc3a3682647008460', 'department': 'Sound', 'gender': 0, 'id': 1548100, 'job': 'Foley', 'name': 'Miguel Barbosa', 'profile_path': None}, {'credit_id': '566c47bac3a36834c1008999', 'department': 'Sound', 'gender': 0, 'id': 1437193, 'job': 'Sound Editor', 'name': 'Lauren Hadaway', 'profile_path': None}, {'credit_id': '566c47f4c3a368535a008cc5', 'department': 'Sound', 'gender': 0, 'id': 1403735, 'job': 'Sound Editor', 'name': 'Vanesa Lorena Tate', 'profile_path': None}, {'credit_id': '566c480c92514173830080b4', 'department': 'Sound', 'gender': 0, 'id': 1548120, 'job': 'Sound Effects Editor', 'name': 'Sean Heissinger', 'profile_path': None}, {'credit_id': '566c4822c3a3682e9800819c', 'department': 'Sound', 'gender': 0, 'id': 1399631, 'job': 'Supervising Sound Editor', 'name': 'Paul Hackner', 'profile_path': None}, {'credit_id': '566c483dc3a36833b600870e', 'department': 'Costume & Make-Up', 'gender': 0, 'id': 1548121, 'job': 'Key Hair Stylist', 'name': 'Samantha Rosenberg', 'profile_path': None}, {'credit_id': '566c4857c3a368535a008ce3', 'department': 'Costume & Make-Up', 'gender': 1, 'id': 957202, 'job': 'Makeup Department Head', 'name': 'Nena Smarz', 'profile_path': None}, {'credit_id': '566c48689251412dbc003799', 'department': 'Costume & Make-Up', 'gender': 0, 'id': 1548122, 'job': 'Makeup Artist', 'name': 'Jackie Dobbie', 'profile_path': None}, {'credit_id': '57064f8c9251411f3c0020df', 'department': 'Sound', 'gender': 2, 'id': 1999, 'job': 'Original Music Composer', 'name': 'Ed Shearmur', 'profile_path': None}]",
         "347754"
        ]
       ],
       "shape": {
        "columns": 3,
        "rows": 5
       }
      },
      "text/html": [
       "<div>\n",
       "<style scoped>\n",
       "    .dataframe tbody tr th:only-of-type {\n",
       "        vertical-align: middle;\n",
       "    }\n",
       "\n",
       "    .dataframe tbody tr th {\n",
       "        vertical-align: top;\n",
       "    }\n",
       "\n",
       "    .dataframe thead th {\n",
       "        text-align: right;\n",
       "    }\n",
       "</style>\n",
       "<table border=\"1\" class=\"dataframe\">\n",
       "  <thead>\n",
       "    <tr style=\"text-align: right;\">\n",
       "      <th></th>\n",
       "      <th>cast</th>\n",
       "      <th>crew</th>\n",
       "      <th>id</th>\n",
       "    </tr>\n",
       "  </thead>\n",
       "  <tbody>\n",
       "    <tr>\n",
       "      <th>36088</th>\n",
       "      <td>[{'cast_id': 1, 'character': 'Eyal Goldman', '...</td>\n",
       "      <td>[{'credit_id': '52fe4bb1c3a36847f820fbb5', 'de...</td>\n",
       "      <td>117316</td>\n",
       "    </tr>\n",
       "    <tr>\n",
       "      <th>39927</th>\n",
       "      <td>[{'cast_id': 0, 'character': 'Ali Chah Benkado...</td>\n",
       "      <td>[{'credit_id': '5475ae3292514144d5002995', 'de...</td>\n",
       "      <td>300402</td>\n",
       "    </tr>\n",
       "    <tr>\n",
       "      <th>2512</th>\n",
       "      <td>[{'cast_id': 1, 'character': 'Eric Hunter', 'c...</td>\n",
       "      <td>[{'credit_id': '56a4b4d8c3a368389b006a3d', 'de...</td>\n",
       "      <td>4927</td>\n",
       "    </tr>\n",
       "    <tr>\n",
       "      <th>31705</th>\n",
       "      <td>[{'cast_id': 7, 'character': 'Vurlla Kowsky', ...</td>\n",
       "      <td>[{'credit_id': '52fe4d7f9251416c911182f5', 'de...</td>\n",
       "      <td>198521</td>\n",
       "    </tr>\n",
       "    <tr>\n",
       "      <th>34035</th>\n",
       "      <td>[{'cast_id': 3, 'character': 'Mallory Rutledge...</td>\n",
       "      <td>[{'credit_id': '559b08bfc3a368717900043e', 'de...</td>\n",
       "      <td>347754</td>\n",
       "    </tr>\n",
       "  </tbody>\n",
       "</table>\n",
       "</div>"
      ],
      "text/plain": [
       "                                                    cast  \\\n",
       "36088  [{'cast_id': 1, 'character': 'Eyal Goldman', '...   \n",
       "39927  [{'cast_id': 0, 'character': 'Ali Chah Benkado...   \n",
       "2512   [{'cast_id': 1, 'character': 'Eric Hunter', 'c...   \n",
       "31705  [{'cast_id': 7, 'character': 'Vurlla Kowsky', ...   \n",
       "34035  [{'cast_id': 3, 'character': 'Mallory Rutledge...   \n",
       "\n",
       "                                                    crew      id  \n",
       "36088  [{'credit_id': '52fe4bb1c3a36847f820fbb5', 'de...  117316  \n",
       "39927  [{'credit_id': '5475ae3292514144d5002995', 'de...  300402  \n",
       "2512   [{'credit_id': '56a4b4d8c3a368389b006a3d', 'de...    4927  \n",
       "31705  [{'credit_id': '52fe4d7f9251416c911182f5', 'de...  198521  \n",
       "34035  [{'credit_id': '559b08bfc3a368717900043e', 'de...  347754  "
      ]
     },
     "execution_count": 5,
     "metadata": {},
     "output_type": "execute_result"
    }
   ],
   "source": [
    "# Take a peek of current credits data\n",
    "credits.sample(5)"
   ]
  },
  {
   "cell_type": "code",
   "execution_count": 6,
   "metadata": {},
   "outputs": [],
   "source": [
    "credits.rename(columns={\"id\": \"tmdb_id\"}, inplace=True)"
   ]
  },
  {
   "cell_type": "code",
   "execution_count": 7,
   "metadata": {},
   "outputs": [],
   "source": [
    "cast = normalize_data(credits, \"cast\", \"tmdb_id\")\n",
    "crew = normalize_data(credits, \"crew\", \"tmdb_id\")"
   ]
  },
  {
   "cell_type": "markdown",
   "metadata": {},
   "source": [
    "Process cast dataframe"
   ]
  },
  {
   "cell_type": "code",
   "execution_count": 8,
   "metadata": {},
   "outputs": [
    {
     "data": {
      "application/vnd.microsoft.datawrangler.viewer.v0+json": {
       "columns": [
        {
         "name": "index",
         "rawType": "int64",
         "type": "integer"
        },
        {
         "name": "cast_id",
         "rawType": "int64",
         "type": "integer"
        },
        {
         "name": "character",
         "rawType": "object",
         "type": "string"
        },
        {
         "name": "credit_id",
         "rawType": "object",
         "type": "string"
        },
        {
         "name": "gender",
         "rawType": "int64",
         "type": "integer"
        },
        {
         "name": "id",
         "rawType": "int64",
         "type": "integer"
        },
        {
         "name": "name",
         "rawType": "object",
         "type": "string"
        },
        {
         "name": "order",
         "rawType": "int64",
         "type": "integer"
        },
        {
         "name": "profile_path",
         "rawType": "object",
         "type": "unknown"
        },
        {
         "name": "tmdb_id",
         "rawType": "int64",
         "type": "integer"
        }
       ],
       "conversionMethod": "pd.DataFrame",
       "ref": "e2f27ba9-baff-44cd-96de-452677c78022",
       "rows": [
        [
         "242656",
         "8",
         "Mona Zoppo",
         "52fe468dc3a36847f810524b",
         "1",
         "54905",
         "Katina Paxinou",
         "4",
         "/mWGOU4DKve9mgC2s84YZlKG6Go9.jpg",
         "44533"
        ],
        [
         "13385",
         "7",
         "Malky Johnson",
         "52fe4617c3a36847f80ec483",
         "2",
         "9013",
         "Kevin McKidd",
         "6",
         "/5MahWq6XoSuThdSLvVXUDa2LlkP.jpg",
         "42758"
        ],
        [
         "437106",
         "10",
         "Sexy Society Girl",
         "54305be30e0a2646460012ad",
         "0",
         "1244469",
         "Louise Brealey",
         "5",
         "/sv6elvv4GFiymVjHgyUpsnDOmF4.jpg",
         "228066"
        ],
        [
         "371409",
         "1034",
         "Tim's Driver",
         "59658f1cc3a3680d590f51bb",
         "0",
         "1765705",
         "Erik Braa",
         "14",
         null,
         "56529"
        ],
        [
         "284296",
         "1020",
         "Louis",
         "588c7417925141370e00559b",
         "2",
         "1132749",
         "Thomas Arnold",
         "10",
         "/5sRg7Cl4keWD8ol08i0jOrT4k8w.jpg",
         "86467"
        ]
       ],
       "shape": {
        "columns": 9,
        "rows": 5
       }
      },
      "text/html": [
       "<div>\n",
       "<style scoped>\n",
       "    .dataframe tbody tr th:only-of-type {\n",
       "        vertical-align: middle;\n",
       "    }\n",
       "\n",
       "    .dataframe tbody tr th {\n",
       "        vertical-align: top;\n",
       "    }\n",
       "\n",
       "    .dataframe thead th {\n",
       "        text-align: right;\n",
       "    }\n",
       "</style>\n",
       "<table border=\"1\" class=\"dataframe\">\n",
       "  <thead>\n",
       "    <tr style=\"text-align: right;\">\n",
       "      <th></th>\n",
       "      <th>cast_id</th>\n",
       "      <th>character</th>\n",
       "      <th>credit_id</th>\n",
       "      <th>gender</th>\n",
       "      <th>id</th>\n",
       "      <th>name</th>\n",
       "      <th>order</th>\n",
       "      <th>profile_path</th>\n",
       "      <th>tmdb_id</th>\n",
       "    </tr>\n",
       "  </thead>\n",
       "  <tbody>\n",
       "    <tr>\n",
       "      <th>242656</th>\n",
       "      <td>8</td>\n",
       "      <td>Mona Zoppo</td>\n",
       "      <td>52fe468dc3a36847f810524b</td>\n",
       "      <td>1</td>\n",
       "      <td>54905</td>\n",
       "      <td>Katina Paxinou</td>\n",
       "      <td>4</td>\n",
       "      <td>/mWGOU4DKve9mgC2s84YZlKG6Go9.jpg</td>\n",
       "      <td>44533</td>\n",
       "    </tr>\n",
       "    <tr>\n",
       "      <th>13385</th>\n",
       "      <td>7</td>\n",
       "      <td>Malky Johnson</td>\n",
       "      <td>52fe4617c3a36847f80ec483</td>\n",
       "      <td>2</td>\n",
       "      <td>9013</td>\n",
       "      <td>Kevin McKidd</td>\n",
       "      <td>6</td>\n",
       "      <td>/5MahWq6XoSuThdSLvVXUDa2LlkP.jpg</td>\n",
       "      <td>42758</td>\n",
       "    </tr>\n",
       "    <tr>\n",
       "      <th>437106</th>\n",
       "      <td>10</td>\n",
       "      <td>Sexy Society Girl</td>\n",
       "      <td>54305be30e0a2646460012ad</td>\n",
       "      <td>0</td>\n",
       "      <td>1244469</td>\n",
       "      <td>Louise Brealey</td>\n",
       "      <td>5</td>\n",
       "      <td>/sv6elvv4GFiymVjHgyUpsnDOmF4.jpg</td>\n",
       "      <td>228066</td>\n",
       "    </tr>\n",
       "    <tr>\n",
       "      <th>371409</th>\n",
       "      <td>1034</td>\n",
       "      <td>Tim's Driver</td>\n",
       "      <td>59658f1cc3a3680d590f51bb</td>\n",
       "      <td>0</td>\n",
       "      <td>1765705</td>\n",
       "      <td>Erik Braa</td>\n",
       "      <td>14</td>\n",
       "      <td>None</td>\n",
       "      <td>56529</td>\n",
       "    </tr>\n",
       "    <tr>\n",
       "      <th>284296</th>\n",
       "      <td>1020</td>\n",
       "      <td>Louis</td>\n",
       "      <td>588c7417925141370e00559b</td>\n",
       "      <td>2</td>\n",
       "      <td>1132749</td>\n",
       "      <td>Thomas Arnold</td>\n",
       "      <td>10</td>\n",
       "      <td>/5sRg7Cl4keWD8ol08i0jOrT4k8w.jpg</td>\n",
       "      <td>86467</td>\n",
       "    </tr>\n",
       "  </tbody>\n",
       "</table>\n",
       "</div>"
      ],
      "text/plain": [
       "        cast_id          character                 credit_id  gender       id  \\\n",
       "242656        8         Mona Zoppo  52fe468dc3a36847f810524b       1    54905   \n",
       "13385         7      Malky Johnson  52fe4617c3a36847f80ec483       2     9013   \n",
       "437106       10  Sexy Society Girl  54305be30e0a2646460012ad       0  1244469   \n",
       "371409     1034       Tim's Driver  59658f1cc3a3680d590f51bb       0  1765705   \n",
       "284296     1020              Louis  588c7417925141370e00559b       2  1132749   \n",
       "\n",
       "                  name  order                      profile_path  tmdb_id  \n",
       "242656  Katina Paxinou      4  /mWGOU4DKve9mgC2s84YZlKG6Go9.jpg    44533  \n",
       "13385     Kevin McKidd      6  /5MahWq6XoSuThdSLvVXUDa2LlkP.jpg    42758  \n",
       "437106  Louise Brealey      5  /sv6elvv4GFiymVjHgyUpsnDOmF4.jpg   228066  \n",
       "371409       Erik Braa     14                              None    56529  \n",
       "284296   Thomas Arnold     10  /5sRg7Cl4keWD8ol08i0jOrT4k8w.jpg    86467  "
      ]
     },
     "execution_count": 8,
     "metadata": {},
     "output_type": "execute_result"
    }
   ],
   "source": [
    "cast.sample(5)"
   ]
  },
  {
   "cell_type": "code",
   "execution_count": 9,
   "metadata": {},
   "outputs": [
    {
     "data": {
      "text/plain": [
       "gender\n",
       "2    226713\n",
       "0    223964\n",
       "1    111797\n",
       "Name: count, dtype: int64"
      ]
     },
     "execution_count": 9,
     "metadata": {},
     "output_type": "execute_result"
    }
   ],
   "source": [
    "cast.gender.value_counts()"
   ]
  },
  {
   "cell_type": "code",
   "execution_count": 10,
   "metadata": {},
   "outputs": [
    {
     "name": "stdout",
     "output_type": "stream",
     "text": [
      "<class 'pandas.core.frame.DataFrame'>\n",
      "RangeIndex: 562474 entries, 0 to 562473\n",
      "Data columns (total 9 columns):\n",
      " #   Column        Non-Null Count   Dtype \n",
      "---  ------        --------------   ----- \n",
      " 0   cast_id       562474 non-null  int64 \n",
      " 1   character     562474 non-null  object\n",
      " 2   credit_id     562474 non-null  object\n",
      " 3   gender        562474 non-null  int64 \n",
      " 4   id            562474 non-null  int64 \n",
      " 5   name          562474 non-null  object\n",
      " 6   order         562474 non-null  int64 \n",
      " 7   profile_path  388618 non-null  object\n",
      " 8   tmdb_id       562474 non-null  int64 \n",
      "dtypes: int64(5), object(4)\n",
      "memory usage: 38.6+ MB\n"
     ]
    }
   ],
   "source": [
    "# cast preview\n",
    "cast.info()"
   ]
  },
  {
   "cell_type": "markdown",
   "metadata": {},
   "source": [
    "Data cleaning process for cast"
   ]
  },
  {
   "cell_type": "code",
   "execution_count": 11,
   "metadata": {},
   "outputs": [
    {
     "data": {
      "application/vnd.microsoft.datawrangler.viewer.v0+json": {
       "columns": [
        {
         "name": "index",
         "rawType": "int64",
         "type": "integer"
        },
        {
         "name": "cast_id",
         "rawType": "int64",
         "type": "integer"
        },
        {
         "name": "character",
         "rawType": "object",
         "type": "string"
        },
        {
         "name": "credit_id",
         "rawType": "object",
         "type": "string"
        },
        {
         "name": "gender",
         "rawType": "int64",
         "type": "integer"
        },
        {
         "name": "id",
         "rawType": "int64",
         "type": "integer"
        },
        {
         "name": "name",
         "rawType": "object",
         "type": "string"
        },
        {
         "name": "order",
         "rawType": "int64",
         "type": "integer"
        },
        {
         "name": "profile_path",
         "rawType": "object",
         "type": "unknown"
        },
        {
         "name": "tmdb_id",
         "rawType": "int64",
         "type": "integer"
        }
       ],
       "conversionMethod": "pd.DataFrame",
       "ref": "108c04da-d223-419f-924c-bcf561d925fd",
       "rows": [
        [
         "71117",
         "1",
         "Ash Ketchum",
         "52fe43de9251416c750213f1",
         "1",
         "67830",
         "Veronica Taylor",
         "0",
         "/28EFUb3bPWJaWYzZIxurGCrDpHk.jpg",
         "10991"
        ],
        [
         "557033",
         "1",
         "Ash Ketchum",
         "52fe43de9251416c750213f1",
         "1",
         "67830",
         "Veronica Taylor",
         "0",
         "/28EFUb3bPWJaWYzZIxurGCrDpHk.jpg",
         "10991"
        ],
        [
         "16653",
         "1",
         "Catherine Barkley",
         "52fe444ac3a368484e01aad5",
         "0",
         "47439",
         "Helen Hayes",
         "0",
         "/6QJDTvIT0v5E9pR1rgPtq59Ej8.jpg",
         "22649"
        ],
        [
         "235036",
         "1",
         "Catherine Barkley",
         "52fe444ac3a368484e01aad5",
         "0",
         "47439",
         "Helen Hayes",
         "0",
         "/6QJDTvIT0v5E9pR1rgPtq59Ej8.jpg",
         "22649"
        ],
        [
         "132474",
         "1",
         "Lafcadia - Warrior",
         "52fe4465c3a368484e020913",
         "2",
         "76793",
         "Irrfan Khan",
         "0",
         "/9O71WSILj1af9smwuN44nGd198Q.jpg",
         "23305"
        ],
        [
         "151034",
         "1",
         "Lafcadia - Warrior",
         "52fe4465c3a368484e020913",
         "2",
         "76793",
         "Irrfan Khan",
         "0",
         "/9O71WSILj1af9smwuN44nGd198Q.jpg",
         "23305"
        ],
        [
         "366133",
         "1",
         "Johan Falk",
         "52fe447dc3a368484e026045",
         "0",
         "92403",
         "Jakob Eklund",
         "0",
         "/r5DTiqVW8rkaQ3biVu75sfVeCBU.jpg",
         "24023"
        ],
        [
         "366877",
         "1",
         "Johan Falk",
         "52fe447dc3a368484e026045",
         "0",
         "92403",
         "Jakob Eklund",
         "0",
         "/r5DTiqVW8rkaQ3biVu75sfVeCBU.jpg",
         "24023"
        ],
        [
         "366146",
         "1",
         "Johan Falk",
         "52fe447dc3a368484e0260eb",
         "0",
         "92403",
         "Jakob Eklund",
         "0",
         "/r5DTiqVW8rkaQ3biVu75sfVeCBU.jpg",
         "24026"
        ],
        [
         "366890",
         "1",
         "Johan Falk",
         "52fe447dc3a368484e0260eb",
         "0",
         "92403",
         "Jakob Eklund",
         "0",
         "/r5DTiqVW8rkaQ3biVu75sfVeCBU.jpg",
         "24026"
        ],
        [
         "366214",
         "1",
         "Jane Gardner",
         "52fe44b8c3a36847f80a6367",
         "1",
         "21462",
         "Raquel Welch",
         "1",
         "/dEr7QkkgOqCwH1uc5VXzTxDveAv.jpg",
         "8767"
        ],
        [
         "367059",
         "1",
         "Jane Gardner",
         "52fe44b8c3a36847f80a6367",
         "1",
         "21462",
         "Raquel Welch",
         "1",
         "/dEr7QkkgOqCwH1uc5VXzTxDveAv.jpg",
         "8767"
        ],
        [
         "93435",
         "1",
         "Ash Ketchum (voice)",
         "52fe45049251416c75048de1",
         "1",
         "67830",
         "Veronica Taylor",
         "0",
         "/28EFUb3bPWJaWYzZIxurGCrDpHk.jpg",
         "12600"
        ],
        [
         "557090",
         "1",
         "Ash Ketchum (voice)",
         "52fe45049251416c75048de1",
         "1",
         "67830",
         "Veronica Taylor",
         "0",
         "/28EFUb3bPWJaWYzZIxurGCrDpHk.jpg",
         "12600"
        ],
        [
         "366191",
         "1",
         "Churchill",
         "52fe4527c3a36847f80bf5ab",
         "2",
         "18704",
         "Joe Lando",
         "0",
         "/6QiYKS5eNpLsVW71M0ZGaTMZJm7.jpg",
         "9755"
        ],
        [
         "367036",
         "1",
         "Churchill",
         "52fe4527c3a36847f80bf5ab",
         "2",
         "18704",
         "Joe Lando",
         "0",
         "/6QiYKS5eNpLsVW71M0ZGaTMZJm7.jpg",
         "9755"
        ],
        [
         "220824",
         "1",
         "Lin",
         "52fe477c9251416c7509b273",
         "1",
         "133386",
         "Sabrina Gennarino",
         "0",
         "/j2BOZDTXKIq49txsx92vCF5sCxg.jpg",
         "18440"
        ],
        [
         "321561",
         "1",
         "Lin",
         "52fe477c9251416c7509b273",
         "1",
         "133386",
         "Sabrina Gennarino",
         "0",
         "/j2BOZDTXKIq49txsx92vCF5sCxg.jpg",
         "18440"
        ],
        [
         "154534",
         "1",
         "Gerard Carriere",
         "52fe47bfc3a368484e0d77ad",
         "2",
         "13784",
         "Burt Lancaster",
         "0",
         "/bpAkekuIvKhh9L9Rean3fBznSy5.jpg",
         "69234"
        ],
        [
         "375553",
         "1",
         "Gerard Carriere",
         "52fe47bfc3a368484e0d77ad",
         "2",
         "13784",
         "Burt Lancaster",
         "0",
         "/bpAkekuIvKhh9L9Rean3fBznSy5.jpg",
         "69234"
        ],
        [
         "366116",
         "1",
         "Orry Main",
         "52fe4ac6c3a368484e1664bb",
         "2",
         "723",
         "Patrick Swayze",
         "0",
         "/3mpjuYiGfglDeaGjwFmSBBzwbc1.jpg",
         "125458"
        ],
        [
         "366860",
         "1",
         "Orry Main",
         "52fe4ac6c3a368484e1664bb",
         "2",
         "723",
         "Patrick Swayze",
         "0",
         "/3mpjuYiGfglDeaGjwFmSBBzwbc1.jpg",
         "125458"
        ],
        [
         "210646",
         "1",
         "Pekka",
         "52fe4ac79251416c750edd1d",
         "2",
         "108471",
         "Petteri Summanen",
         "0",
         "/l8qfdQLmxGqetZcOXsnP3Ojs32B.jpg",
         "141971"
        ],
        [
         "212094",
         "1",
         "Pekka",
         "52fe4ac79251416c750edd1d",
         "2",
         "108471",
         "Petteri Summanen",
         "0",
         "/l8qfdQLmxGqetZcOXsnP3Ojs32B.jpg",
         "141971"
        ],
        [
         "256397",
         "1",
         "Pekka",
         "52fe4ac79251416c750edd1d",
         "2",
         "108471",
         "Petteri Summanen",
         "0",
         "/l8qfdQLmxGqetZcOXsnP3Ojs32B.jpg",
         "141971"
        ],
        [
         "95656",
         "1",
         "Liz Hamilton",
         "52fe4ac8c3a36847f81e1423",
         "1",
         "14061",
         "Jacqueline Bisset",
         "0",
         "/ys2YfG4d26jUiGvok0jplWgUhzP.jpg",
         "109962"
        ],
        [
         "306436",
         "1",
         "Liz Hamilton",
         "52fe4ac8c3a36847f81e1423",
         "1",
         "14061",
         "Jacqueline Bisset",
         "0",
         "/ys2YfG4d26jUiGvok0jplWgUhzP.jpg",
         "109962"
        ],
        [
         "444789",
         "1",
         "Jenjira",
         "54bd2c6b9251416e60004329",
         "0",
         "120258",
         "Jenjira Pongpas",
         "1",
         "/znx7ubfK1chXU8d1cP7zJM67vvA.jpg",
         "298721"
        ],
        [
         "510735",
         "1",
         "Jenjira",
         "54bd2c6b9251416e60004329",
         "0",
         "120258",
         "Jenjira Pongpas",
         "1",
         "/znx7ubfK1chXU8d1cP7zJM67vvA.jpg",
         "298721"
        ],
        [
         "16654",
         "2",
         "Lieutenant Frederic Henry",
         "52fe444ac3a368484e01aad9",
         "2",
         "4068",
         "Gary Cooper",
         "1",
         "/zVUK71x5IoBaJ5H9dTgE2CRmLKy.jpg",
         "22649"
        ],
        [
         "235037",
         "2",
         "Lieutenant Frederic Henry",
         "52fe444ac3a368484e01aad9",
         "2",
         "4068",
         "Gary Cooper",
         "1",
         "/zVUK71x5IoBaJ5H9dTgE2CRmLKy.jpg",
         "22649"
        ],
        [
         "132475",
         "2",
         "Katiba, Warrior's Son",
         "52fe4465c3a368484e020917",
         "0",
         "141755",
         "Puru Chibber",
         "1",
         null,
         "23305"
        ],
        [
         "151035",
         "2",
         "Katiba, Warrior's Son",
         "52fe4465c3a368484e020917",
         "0",
         "141755",
         "Puru Chibber",
         "1",
         null,
         "23305"
        ],
        [
         "366147",
         "2",
         "Frank Wagner",
         "52fe447dc3a368484e0260ef",
         "2",
         "92404",
         "Joel Kinnaman",
         "1",
         "/aylKCZLLFuuT9OB5RyaTtNBr0kn.jpg",
         "24026"
        ],
        [
         "366891",
         "2",
         "Frank Wagner",
         "52fe447dc3a368484e0260ef",
         "2",
         "92404",
         "Joel Kinnaman",
         "1",
         "/aylKCZLLFuuT9OB5RyaTtNBr0kn.jpg",
         "24026"
        ],
        [
         "366215",
         "2",
         "Doris",
         "52fe44b8c3a36847f80a636b",
         "1",
         "39887",
         "Dany Saval",
         "2",
         "/yDPcqoedlh5JOb6l7NEKi7Ot7zs.jpg",
         "8767"
        ],
        [
         "367060",
         "2",
         "Doris",
         "52fe44b8c3a36847f80a636b",
         "1",
         "39887",
         "Dany Saval",
         "2",
         "/yDPcqoedlh5JOb6l7NEKi7Ot7zs.jpg",
         "8767"
        ],
        [
         "93436",
         "2",
         "Misty (voice)",
         "52fe45049251416c75048de5",
         "1",
         "67832",
         "Rachael Lillis",
         "1",
         null,
         "12600"
        ],
        [
         "557091",
         "2",
         "Misty (voice)",
         "52fe45049251416c75048de5",
         "1",
         "67832",
         "Rachael Lillis",
         "1",
         null,
         "12600"
        ],
        [
         "366192",
         "2",
         "Damian",
         "52fe4527c3a36847f80bf5af",
         "2",
         "58905",
         "Dominic Zamprogna",
         "1",
         "/8iC5CVTtE2hJteoZswP0Lldd6L3.jpg",
         "9755"
        ],
        [
         "367037",
         "2",
         "Damian",
         "52fe4527c3a36847f80bf5af",
         "2",
         "58905",
         "Dominic Zamprogna",
         "1",
         "/8iC5CVTtE2hJteoZswP0Lldd6L3.jpg",
         "9755"
        ],
        [
         "366223",
         "2",
         "The Man",
         "52fe4655c3a36847f80f96c3",
         "2",
         "70230",
         "Jeremy Theobald",
         "0",
         "/ij6jFUCMnd2WTicjq4fu9ELPdWS.jpg",
         "43629"
        ],
        [
         "367099",
         "2",
         "The Man",
         "52fe4655c3a36847f80f96c3",
         "2",
         "70230",
         "Jeremy Theobald",
         "0",
         "/ij6jFUCMnd2WTicjq4fu9ELPdWS.jpg",
         "43629"
        ],
        [
         "220825",
         "2",
         "Chad",
         "52fe477c9251416c7509b277",
         "2",
         "133387",
         "Tom Eplin",
         "1",
         null,
         "18440"
        ],
        [
         "321562",
         "2",
         "Chad",
         "52fe477c9251416c7509b277",
         "2",
         "133387",
         "Tom Eplin",
         "1",
         null,
         "18440"
        ],
        [
         "154535",
         "2",
         "Count Philippe de Chagny",
         "52fe47bfc3a368484e0d77b1",
         "2",
         "68528",
         "Adam Storke",
         "1",
         "/nOuKZKMkLQya8B9HYSxgGKsj7MM.jpg",
         "69234"
        ],
        [
         "375554",
         "2",
         "Count Philippe de Chagny",
         "52fe47bfc3a368484e0d77b1",
         "2",
         "68528",
         "Adam Storke",
         "1",
         "/nOuKZKMkLQya8B9HYSxgGKsj7MM.jpg",
         "69234"
        ],
        [
         "178324",
         "2",
         "Sultan Amar",
         "52fe4962c3a368484e1289e3",
         "2",
         "2983",
         "Mark Strong",
         "0",
         "/tr8nXYhY1ZWGmsXuHFHk6MBeL9Q.jpg",
         "77221"
        ],
        [
         "305886",
         "2",
         "Sultan Amar",
         "52fe4962c3a368484e1289e3",
         "2",
         "2983",
         "Mark Strong",
         "0",
         "/tr8nXYhY1ZWGmsXuHFHk6MBeL9Q.jpg",
         "77221"
        ],
        [
         "366117",
         "2",
         "Elkanah Bent",
         "52fe4ac6c3a368484e1664bf",
         "0",
         "198886",
         "Philip Casnoff",
         "1",
         "/oGTYVKlW7RbW6nMuX5ErMmXZjei.jpg",
         "125458"
        ]
       ],
       "shape": {
        "columns": 9,
        "rows": 850
       }
      },
      "text/html": [
       "<div>\n",
       "<style scoped>\n",
       "    .dataframe tbody tr th:only-of-type {\n",
       "        vertical-align: middle;\n",
       "    }\n",
       "\n",
       "    .dataframe tbody tr th {\n",
       "        vertical-align: top;\n",
       "    }\n",
       "\n",
       "    .dataframe thead th {\n",
       "        text-align: right;\n",
       "    }\n",
       "</style>\n",
       "<table border=\"1\" class=\"dataframe\">\n",
       "  <thead>\n",
       "    <tr style=\"text-align: right;\">\n",
       "      <th></th>\n",
       "      <th>cast_id</th>\n",
       "      <th>character</th>\n",
       "      <th>credit_id</th>\n",
       "      <th>gender</th>\n",
       "      <th>id</th>\n",
       "      <th>name</th>\n",
       "      <th>order</th>\n",
       "      <th>profile_path</th>\n",
       "      <th>tmdb_id</th>\n",
       "    </tr>\n",
       "  </thead>\n",
       "  <tbody>\n",
       "    <tr>\n",
       "      <th>71117</th>\n",
       "      <td>1</td>\n",
       "      <td>Ash Ketchum</td>\n",
       "      <td>52fe43de9251416c750213f1</td>\n",
       "      <td>1</td>\n",
       "      <td>67830</td>\n",
       "      <td>Veronica Taylor</td>\n",
       "      <td>0</td>\n",
       "      <td>/28EFUb3bPWJaWYzZIxurGCrDpHk.jpg</td>\n",
       "      <td>10991</td>\n",
       "    </tr>\n",
       "    <tr>\n",
       "      <th>557033</th>\n",
       "      <td>1</td>\n",
       "      <td>Ash Ketchum</td>\n",
       "      <td>52fe43de9251416c750213f1</td>\n",
       "      <td>1</td>\n",
       "      <td>67830</td>\n",
       "      <td>Veronica Taylor</td>\n",
       "      <td>0</td>\n",
       "      <td>/28EFUb3bPWJaWYzZIxurGCrDpHk.jpg</td>\n",
       "      <td>10991</td>\n",
       "    </tr>\n",
       "    <tr>\n",
       "      <th>16653</th>\n",
       "      <td>1</td>\n",
       "      <td>Catherine Barkley</td>\n",
       "      <td>52fe444ac3a368484e01aad5</td>\n",
       "      <td>0</td>\n",
       "      <td>47439</td>\n",
       "      <td>Helen Hayes</td>\n",
       "      <td>0</td>\n",
       "      <td>/6QJDTvIT0v5E9pR1rgPtq59Ej8.jpg</td>\n",
       "      <td>22649</td>\n",
       "    </tr>\n",
       "    <tr>\n",
       "      <th>235036</th>\n",
       "      <td>1</td>\n",
       "      <td>Catherine Barkley</td>\n",
       "      <td>52fe444ac3a368484e01aad5</td>\n",
       "      <td>0</td>\n",
       "      <td>47439</td>\n",
       "      <td>Helen Hayes</td>\n",
       "      <td>0</td>\n",
       "      <td>/6QJDTvIT0v5E9pR1rgPtq59Ej8.jpg</td>\n",
       "      <td>22649</td>\n",
       "    </tr>\n",
       "    <tr>\n",
       "      <th>132474</th>\n",
       "      <td>1</td>\n",
       "      <td>Lafcadia - Warrior</td>\n",
       "      <td>52fe4465c3a368484e020913</td>\n",
       "      <td>2</td>\n",
       "      <td>76793</td>\n",
       "      <td>Irrfan Khan</td>\n",
       "      <td>0</td>\n",
       "      <td>/9O71WSILj1af9smwuN44nGd198Q.jpg</td>\n",
       "      <td>23305</td>\n",
       "    </tr>\n",
       "    <tr>\n",
       "      <th>...</th>\n",
       "      <td>...</td>\n",
       "      <td>...</td>\n",
       "      <td>...</td>\n",
       "      <td>...</td>\n",
       "      <td>...</td>\n",
       "      <td>...</td>\n",
       "      <td>...</td>\n",
       "      <td>...</td>\n",
       "      <td>...</td>\n",
       "    </tr>\n",
       "    <tr>\n",
       "      <th>512939</th>\n",
       "      <td>1011</td>\n",
       "      <td>Betty's Hawaiian Maid</td>\n",
       "      <td>52fe49fb9251416c750d9d99</td>\n",
       "      <td>0</td>\n",
       "      <td>1109654</td>\n",
       "      <td>Lola Gonzales</td>\n",
       "      <td>10</td>\n",
       "      <td>None</td>\n",
       "      <td>97995</td>\n",
       "    </tr>\n",
       "    <tr>\n",
       "      <th>219993</th>\n",
       "      <td>1012</td>\n",
       "      <td>Max's Chef - in Mirror Gag</td>\n",
       "      <td>52fe49fc9251416c750d9d9d</td>\n",
       "      <td>0</td>\n",
       "      <td>1109655</td>\n",
       "      <td>Harry Mann</td>\n",
       "      <td>11</td>\n",
       "      <td>None</td>\n",
       "      <td>97995</td>\n",
       "    </tr>\n",
       "    <tr>\n",
       "      <th>512940</th>\n",
       "      <td>1012</td>\n",
       "      <td>Max's Chef - in Mirror Gag</td>\n",
       "      <td>52fe49fc9251416c750d9d9d</td>\n",
       "      <td>0</td>\n",
       "      <td>1109655</td>\n",
       "      <td>Harry Mann</td>\n",
       "      <td>11</td>\n",
       "      <td>None</td>\n",
       "      <td>97995</td>\n",
       "    </tr>\n",
       "    <tr>\n",
       "      <th>219994</th>\n",
       "      <td>1013</td>\n",
       "      <td>The Chimpanzee</td>\n",
       "      <td>52fe49fc9251416c750d9da1</td>\n",
       "      <td>0</td>\n",
       "      <td>1109656</td>\n",
       "      <td>Joe Martin</td>\n",
       "      <td>12</td>\n",
       "      <td>None</td>\n",
       "      <td>97995</td>\n",
       "    </tr>\n",
       "    <tr>\n",
       "      <th>512941</th>\n",
       "      <td>1013</td>\n",
       "      <td>The Chimpanzee</td>\n",
       "      <td>52fe49fc9251416c750d9da1</td>\n",
       "      <td>0</td>\n",
       "      <td>1109656</td>\n",
       "      <td>Joe Martin</td>\n",
       "      <td>12</td>\n",
       "      <td>None</td>\n",
       "      <td>97995</td>\n",
       "    </tr>\n",
       "  </tbody>\n",
       "</table>\n",
       "<p>850 rows × 9 columns</p>\n",
       "</div>"
      ],
      "text/plain": [
       "        cast_id                   character                 credit_id  gender  \\\n",
       "71117         1                 Ash Ketchum  52fe43de9251416c750213f1       1   \n",
       "557033        1                 Ash Ketchum  52fe43de9251416c750213f1       1   \n",
       "16653         1           Catherine Barkley  52fe444ac3a368484e01aad5       0   \n",
       "235036        1           Catherine Barkley  52fe444ac3a368484e01aad5       0   \n",
       "132474        1          Lafcadia - Warrior  52fe4465c3a368484e020913       2   \n",
       "...         ...                         ...                       ...     ...   \n",
       "512939     1011       Betty's Hawaiian Maid  52fe49fb9251416c750d9d99       0   \n",
       "219993     1012  Max's Chef - in Mirror Gag  52fe49fc9251416c750d9d9d       0   \n",
       "512940     1012  Max's Chef - in Mirror Gag  52fe49fc9251416c750d9d9d       0   \n",
       "219994     1013              The Chimpanzee  52fe49fc9251416c750d9da1       0   \n",
       "512941     1013              The Chimpanzee  52fe49fc9251416c750d9da1       0   \n",
       "\n",
       "             id             name  order                      profile_path  \\\n",
       "71117     67830  Veronica Taylor      0  /28EFUb3bPWJaWYzZIxurGCrDpHk.jpg   \n",
       "557033    67830  Veronica Taylor      0  /28EFUb3bPWJaWYzZIxurGCrDpHk.jpg   \n",
       "16653     47439      Helen Hayes      0   /6QJDTvIT0v5E9pR1rgPtq59Ej8.jpg   \n",
       "235036    47439      Helen Hayes      0   /6QJDTvIT0v5E9pR1rgPtq59Ej8.jpg   \n",
       "132474    76793      Irrfan Khan      0  /9O71WSILj1af9smwuN44nGd198Q.jpg   \n",
       "...         ...              ...    ...                               ...   \n",
       "512939  1109654    Lola Gonzales     10                              None   \n",
       "219993  1109655       Harry Mann     11                              None   \n",
       "512940  1109655       Harry Mann     11                              None   \n",
       "219994  1109656       Joe Martin     12                              None   \n",
       "512941  1109656       Joe Martin     12                              None   \n",
       "\n",
       "        tmdb_id  \n",
       "71117     10991  \n",
       "557033    10991  \n",
       "16653     22649  \n",
       "235036    22649  \n",
       "132474    23305  \n",
       "...         ...  \n",
       "512939    97995  \n",
       "219993    97995  \n",
       "512940    97995  \n",
       "219994    97995  \n",
       "512941    97995  \n",
       "\n",
       "[850 rows x 9 columns]"
      ]
     },
     "execution_count": 11,
     "metadata": {},
     "output_type": "execute_result"
    }
   ],
   "source": [
    "# Check for duplicated columns\n",
    "cast[cast.duplicated(subset=[\"cast_id\", \"credit_id\", \"tmdb_id\", \"name\"], keep=False)].sort_values(by=[\"cast_id\", \"credit_id\"])"
   ]
  },
  {
   "cell_type": "code",
   "execution_count": 12,
   "metadata": {},
   "outputs": [],
   "source": [
    "cast.drop_duplicates(subset=[\"cast_id\", \"credit_id\", \"tmdb_id\", \"name\"], keep=\"first\", inplace=True)"
   ]
  },
  {
   "cell_type": "markdown",
   "metadata": {},
   "source": [
    "Validate cleaning"
   ]
  },
  {
   "cell_type": "code",
   "execution_count": 13,
   "metadata": {},
   "outputs": [
    {
     "data": {
      "text/plain": [
       "cast_id         0\n",
       "character       0\n",
       "credit_id       0\n",
       "gender          0\n",
       "id              0\n",
       "name            0\n",
       "order           0\n",
       "profile_path    0\n",
       "tmdb_id         0\n",
       "dtype: int64"
      ]
     },
     "execution_count": 13,
     "metadata": {},
     "output_type": "execute_result"
    }
   ],
   "source": [
    "# Validate cleaning process\n",
    "cast[cast.duplicated(subset=[\"cast_id\", \"credit_id\", \"tmdb_id\", \"name\"], keep=False)].count()"
   ]
  },
  {
   "cell_type": "code",
   "execution_count": 14,
   "metadata": {},
   "outputs": [
    {
     "data": {
      "text/plain": [
       "profile_path\n",
       "jpg    388366\n",
       "Name: count, dtype: int64"
      ]
     },
     "execution_count": 14,
     "metadata": {},
     "output_type": "execute_result"
    }
   ],
   "source": [
    "cast.profile_path.str.split(\".\").str[-1].value_counts()"
   ]
  },
  {
   "cell_type": "code",
   "execution_count": 15,
   "metadata": {},
   "outputs": [
    {
     "data": {
      "text/plain": [
       "cast_id              0\n",
       "character            0\n",
       "credit_id            0\n",
       "gender               0\n",
       "id                   0\n",
       "name                 0\n",
       "order                0\n",
       "profile_path    173678\n",
       "tmdb_id              0\n",
       "dtype: int64"
      ]
     },
     "execution_count": 15,
     "metadata": {},
     "output_type": "execute_result"
    }
   ],
   "source": [
    "cast.isnull().sum()"
   ]
  },
  {
   "cell_type": "markdown",
   "metadata": {},
   "source": [
    "Process crew dataset"
   ]
  },
  {
   "cell_type": "code",
   "execution_count": 16,
   "metadata": {},
   "outputs": [
    {
     "data": {
      "application/vnd.microsoft.datawrangler.viewer.v0+json": {
       "columns": [
        {
         "name": "index",
         "rawType": "int64",
         "type": "integer"
        },
        {
         "name": "credit_id",
         "rawType": "object",
         "type": "string"
        },
        {
         "name": "department",
         "rawType": "object",
         "type": "string"
        },
        {
         "name": "gender",
         "rawType": "int64",
         "type": "integer"
        },
        {
         "name": "id",
         "rawType": "int64",
         "type": "integer"
        },
        {
         "name": "job",
         "rawType": "object",
         "type": "string"
        },
        {
         "name": "name",
         "rawType": "object",
         "type": "string"
        },
        {
         "name": "profile_path",
         "rawType": "object",
         "type": "unknown"
        },
        {
         "name": "tmdb_id",
         "rawType": "int64",
         "type": "integer"
        }
       ],
       "conversionMethod": "pd.DataFrame",
       "ref": "5636b01d-d5b0-4d8c-995d-029f00f8d8db",
       "rows": [
        [
         "384576",
         "59bfbb73925141472a015610",
         "Production",
         "2",
         "69986",
         "Executive Producer",
         "Robert Halmi Jr.",
         null,
         "40635"
        ],
        [
         "436565",
         "52fe4cb1c3a36847f823aa9b",
         "Writing",
         "0",
         "1136396",
         "Writer",
         "Jojo Hui Yuet-Chun",
         null,
         "167449"
        ],
        [
         "111395",
         "58138cf392514152d50267b1",
         "Editing",
         "0",
         "1429549",
         "Color Timer",
         "Dale E. Grahn",
         null,
         "11081"
        ],
        [
         "323694",
         "56e55143c3a3685a9e006b9b",
         "Editing",
         "0",
         "1590402",
         "Dialogue Editor",
         "Ryan J. Frias",
         null,
         "271110"
        ],
        [
         "328129",
         "52fe4418c3a368484e00f255",
         "Writing",
         "0",
         "87510",
         "Writer",
         "Carlos Sorin",
         null,
         "21409"
        ]
       ],
       "shape": {
        "columns": 8,
        "rows": 5
       }
      },
      "text/html": [
       "<div>\n",
       "<style scoped>\n",
       "    .dataframe tbody tr th:only-of-type {\n",
       "        vertical-align: middle;\n",
       "    }\n",
       "\n",
       "    .dataframe tbody tr th {\n",
       "        vertical-align: top;\n",
       "    }\n",
       "\n",
       "    .dataframe thead th {\n",
       "        text-align: right;\n",
       "    }\n",
       "</style>\n",
       "<table border=\"1\" class=\"dataframe\">\n",
       "  <thead>\n",
       "    <tr style=\"text-align: right;\">\n",
       "      <th></th>\n",
       "      <th>credit_id</th>\n",
       "      <th>department</th>\n",
       "      <th>gender</th>\n",
       "      <th>id</th>\n",
       "      <th>job</th>\n",
       "      <th>name</th>\n",
       "      <th>profile_path</th>\n",
       "      <th>tmdb_id</th>\n",
       "    </tr>\n",
       "  </thead>\n",
       "  <tbody>\n",
       "    <tr>\n",
       "      <th>384576</th>\n",
       "      <td>59bfbb73925141472a015610</td>\n",
       "      <td>Production</td>\n",
       "      <td>2</td>\n",
       "      <td>69986</td>\n",
       "      <td>Executive Producer</td>\n",
       "      <td>Robert Halmi Jr.</td>\n",
       "      <td>None</td>\n",
       "      <td>40635</td>\n",
       "    </tr>\n",
       "    <tr>\n",
       "      <th>436565</th>\n",
       "      <td>52fe4cb1c3a36847f823aa9b</td>\n",
       "      <td>Writing</td>\n",
       "      <td>0</td>\n",
       "      <td>1136396</td>\n",
       "      <td>Writer</td>\n",
       "      <td>Jojo Hui Yuet-Chun</td>\n",
       "      <td>None</td>\n",
       "      <td>167449</td>\n",
       "    </tr>\n",
       "    <tr>\n",
       "      <th>111395</th>\n",
       "      <td>58138cf392514152d50267b1</td>\n",
       "      <td>Editing</td>\n",
       "      <td>0</td>\n",
       "      <td>1429549</td>\n",
       "      <td>Color Timer</td>\n",
       "      <td>Dale E. Grahn</td>\n",
       "      <td>None</td>\n",
       "      <td>11081</td>\n",
       "    </tr>\n",
       "    <tr>\n",
       "      <th>323694</th>\n",
       "      <td>56e55143c3a3685a9e006b9b</td>\n",
       "      <td>Editing</td>\n",
       "      <td>0</td>\n",
       "      <td>1590402</td>\n",
       "      <td>Dialogue Editor</td>\n",
       "      <td>Ryan J. Frias</td>\n",
       "      <td>None</td>\n",
       "      <td>271110</td>\n",
       "    </tr>\n",
       "    <tr>\n",
       "      <th>328129</th>\n",
       "      <td>52fe4418c3a368484e00f255</td>\n",
       "      <td>Writing</td>\n",
       "      <td>0</td>\n",
       "      <td>87510</td>\n",
       "      <td>Writer</td>\n",
       "      <td>Carlos Sorin</td>\n",
       "      <td>None</td>\n",
       "      <td>21409</td>\n",
       "    </tr>\n",
       "  </tbody>\n",
       "</table>\n",
       "</div>"
      ],
      "text/plain": [
       "                       credit_id  department  gender       id  \\\n",
       "384576  59bfbb73925141472a015610  Production       2    69986   \n",
       "436565  52fe4cb1c3a36847f823aa9b     Writing       0  1136396   \n",
       "111395  58138cf392514152d50267b1     Editing       0  1429549   \n",
       "323694  56e55143c3a3685a9e006b9b     Editing       0  1590402   \n",
       "328129  52fe4418c3a368484e00f255     Writing       0    87510   \n",
       "\n",
       "                       job                name profile_path  tmdb_id  \n",
       "384576  Executive Producer    Robert Halmi Jr.         None    40635  \n",
       "436565              Writer  Jojo Hui Yuet-Chun         None   167449  \n",
       "111395         Color Timer       Dale E. Grahn         None    11081  \n",
       "323694     Dialogue Editor       Ryan J. Frias         None   271110  \n",
       "328129              Writer        Carlos Sorin         None    21409  "
      ]
     },
     "execution_count": 16,
     "metadata": {},
     "output_type": "execute_result"
    }
   ],
   "source": [
    "crew.sample(5)"
   ]
  },
  {
   "cell_type": "code",
   "execution_count": 17,
   "metadata": {},
   "outputs": [
    {
     "name": "stdout",
     "output_type": "stream",
     "text": [
      "<class 'pandas.core.frame.DataFrame'>\n",
      "RangeIndex: 464314 entries, 0 to 464313\n",
      "Data columns (total 8 columns):\n",
      " #   Column        Non-Null Count   Dtype \n",
      "---  ------        --------------   ----- \n",
      " 0   credit_id     464314 non-null  object\n",
      " 1   department    464314 non-null  object\n",
      " 2   gender        464314 non-null  int64 \n",
      " 3   id            464314 non-null  int64 \n",
      " 4   job           464314 non-null  object\n",
      " 5   name          464314 non-null  object\n",
      " 6   profile_path  95098 non-null   object\n",
      " 7   tmdb_id       464314 non-null  int64 \n",
      "dtypes: int64(3), object(5)\n",
      "memory usage: 28.3+ MB\n"
     ]
    }
   ],
   "source": [
    "# crew preview\n",
    "crew.info()"
   ]
  },
  {
   "cell_type": "markdown",
   "metadata": {},
   "source": [
    "Data cleaning process for crew"
   ]
  },
  {
   "cell_type": "code",
   "execution_count": 18,
   "metadata": {},
   "outputs": [
    {
     "data": {
      "application/vnd.microsoft.datawrangler.viewer.v0+json": {
       "columns": [
        {
         "name": "index",
         "rawType": "int64",
         "type": "integer"
        },
        {
         "name": "credit_id",
         "rawType": "object",
         "type": "string"
        },
        {
         "name": "department",
         "rawType": "object",
         "type": "string"
        },
        {
         "name": "gender",
         "rawType": "int64",
         "type": "integer"
        },
        {
         "name": "id",
         "rawType": "int64",
         "type": "integer"
        },
        {
         "name": "job",
         "rawType": "object",
         "type": "string"
        },
        {
         "name": "name",
         "rawType": "object",
         "type": "string"
        },
        {
         "name": "profile_path",
         "rawType": "object",
         "type": "unknown"
        },
        {
         "name": "tmdb_id",
         "rawType": "int64",
         "type": "integer"
        }
       ],
       "conversionMethod": "pd.DataFrame",
       "ref": "a945a0cb-6f52-4405-8ede-89449df482cf",
       "rows": [
        [
         "259782",
         "55c0d60e9251410f19001cec",
         "Production",
         "1",
         "32",
         "Producer",
         "Robin Wright",
         "/tXfQTgcIEPP7gtVdJ44ZxZPhacn.jpg",
         "152795"
        ],
        [
         "278138",
         "55c0d60e9251410f19001cec",
         "Production",
         "1",
         "32",
         "Producer",
         "Robin Wright",
         "/tXfQTgcIEPP7gtVdJ44ZxZPhacn.jpg",
         "152795"
        ],
        [
         "90620",
         "52fe43e2c3a36847f80760b5",
         "Writing",
         "2",
         "202",
         "Screenplay",
         "Charlie Kaufman",
         "/v5Zc2aplTL0y38Oe91zGnVBUtYi.jpg",
         "4912"
        ],
        [
         "379605",
         "52fe43e2c3a36847f80760b5",
         "Writing",
         "2",
         "202",
         "Screenplay",
         "Charlie Kaufman",
         "/v5Zc2aplTL0y38Oe91zGnVBUtYi.jpg",
         "4912"
        ],
        [
         "317389",
         "52fe4655c3a36847f80f96bf",
         "Directing",
         "2",
         "525",
         "Director",
         "Christopher Nolan",
         "/7OGmfDF4VHLLgbjxuEwTj3ga0uQ.jpg",
         "43629"
        ],
        [
         "317861",
         "52fe4655c3a36847f80f96bf",
         "Directing",
         "2",
         "525",
         "Director",
         "Christopher Nolan",
         "/7OGmfDF4VHLLgbjxuEwTj3ga0uQ.jpg",
         "43629"
        ],
        [
         "317390",
         "52fe4655c3a36847f80f96c9",
         "Writing",
         "2",
         "525",
         "Writer",
         "Christopher Nolan",
         "/7OGmfDF4VHLLgbjxuEwTj3ga0uQ.jpg",
         "43629"
        ],
        [
         "317862",
         "52fe4655c3a36847f80f96c9",
         "Writing",
         "2",
         "525",
         "Writer",
         "Christopher Nolan",
         "/7OGmfDF4VHLLgbjxuEwTj3ga0uQ.jpg",
         "43629"
        ],
        [
         "317391",
         "52fe4655c3a36847f80f96cf",
         "Editing",
         "2",
         "525",
         "Editor",
         "Christopher Nolan",
         "/7OGmfDF4VHLLgbjxuEwTj3ga0uQ.jpg",
         "43629"
        ],
        [
         "317863",
         "52fe4655c3a36847f80f96cf",
         "Editing",
         "2",
         "525",
         "Editor",
         "Christopher Nolan",
         "/7OGmfDF4VHLLgbjxuEwTj3ga0uQ.jpg",
         "43629"
        ],
        [
         "317392",
         "52fe4655c3a36847f80f96d5",
         "Crew",
         "2",
         "525",
         "Cinematography",
         "Christopher Nolan",
         "/7OGmfDF4VHLLgbjxuEwTj3ga0uQ.jpg",
         "43629"
        ],
        [
         "317864",
         "52fe4655c3a36847f80f96d5",
         "Crew",
         "2",
         "525",
         "Cinematography",
         "Christopher Nolan",
         "/7OGmfDF4VHLLgbjxuEwTj3ga0uQ.jpg",
         "43629"
        ],
        [
         "317397",
         "595e4934c3a368265d085a8f",
         "Art",
         "2",
         "525",
         "Set Designer",
         "Christopher Nolan",
         "/7OGmfDF4VHLLgbjxuEwTj3ga0uQ.jpg",
         "43629"
        ],
        [
         "317869",
         "595e4934c3a368265d085a8f",
         "Art",
         "2",
         "525",
         "Set Designer",
         "Christopher Nolan",
         "/7OGmfDF4VHLLgbjxuEwTj3ga0uQ.jpg",
         "43629"
        ],
        [
         "317400",
         "595e49a6c3a368265d085b11",
         "Camera",
         "2",
         "527",
         "Grip",
         "Jonathan Nolan",
         "/rYBQ8M3hDDY0eThVIvWHmrf4i0Y.jpg",
         "43629"
        ],
        [
         "317872",
         "595e49a6c3a368265d085b11",
         "Camera",
         "2",
         "527",
         "Grip",
         "Jonathan Nolan",
         "/rYBQ8M3hDDY0eThVIvWHmrf4i0Y.jpg",
         "43629"
        ],
        [
         "317393",
         "52fe4655c3a36847f80f96db",
         "Production",
         "1",
         "556",
         "Producer",
         "Emma Thomas",
         "/f12TsNlAEomPdwxueS7ImMoJtsP.jpg",
         "43629"
        ],
        [
         "317865",
         "52fe4655c3a36847f80f96db",
         "Production",
         "1",
         "556",
         "Producer",
         "Emma Thomas",
         "/f12TsNlAEomPdwxueS7ImMoJtsP.jpg",
         "43629"
        ],
        [
         "317394",
         "52fe4656c3a36847f80f96e1",
         "Sound",
         "2",
         "558",
         "Original Music Composer",
         "David Julyan",
         null,
         "43629"
        ],
        [
         "317866",
         "52fe4656c3a36847f80f96e1",
         "Sound",
         "2",
         "558",
         "Original Music Composer",
         "David Julyan",
         null,
         "43629"
        ],
        [
         "162403",
         "52fe4962c3a368484e1289fd",
         "Writing",
         "2",
         "736",
         "Screenplay",
         "Menno Meyjes",
         null,
         "77221"
        ],
        [
         "268441",
         "52fe4962c3a368484e1289fd",
         "Writing",
         "2",
         "736",
         "Screenplay",
         "Menno Meyjes",
         null,
         "77221"
        ],
        [
         "80063",
         "52fe46319251416c75070529",
         "Production",
         "1",
         "869",
         "Producer",
         "Gale Anne Hurd",
         "/oRWGpXdIm2lu870aaKpgO3wy19n.jpg",
         "15028"
        ],
        [
         "379114",
         "52fe46319251416c75070529",
         "Production",
         "1",
         "869",
         "Producer",
         "Gale Anne Hurd",
         "/oRWGpXdIm2lu870aaKpgO3wy19n.jpg",
         "15028"
        ],
        [
         "90621",
         "52fe43e2c3a36847f80760c1",
         "Production",
         "2",
         "1307",
         "Executive Producer",
         "Bob Weinstein",
         "/hheuMcH8MnFGmatPvhdLUNnSOwm.jpg",
         "4912"
        ],
        [
         "379607",
         "52fe43e2c3a36847f80760c1",
         "Production",
         "2",
         "1307",
         "Executive Producer",
         "Bob Weinstein",
         "/hheuMcH8MnFGmatPvhdLUNnSOwm.jpg",
         "4912"
        ],
        [
         "90623",
         "52fe43e2c3a36847f80760a9",
         "Directing",
         "2",
         "1461",
         "Director",
         "George Clooney",
         "/esyiULfB7kSrhgzBkLamjsTTKEg.jpg",
         "4912"
        ],
        [
         "379603",
         "52fe43e2c3a36847f80760a9",
         "Directing",
         "2",
         "1461",
         "Director",
         "George Clooney",
         "/esyiULfB7kSrhgzBkLamjsTTKEg.jpg",
         "4912"
        ],
        [
         "90624",
         "52fe43e2c3a36847f80760eb",
         "Production",
         "1",
         "1484",
         "Casting",
         "Ellen Chenoweth",
         null,
         "4912"
        ],
        [
         "379614",
         "52fe43e2c3a36847f80760eb",
         "Production",
         "1",
         "1484",
         "Casting",
         "Ellen Chenoweth",
         null,
         "4912"
        ],
        [
         "199288",
         "52fe43fb9251416c75024ff5",
         "Editing",
         "2",
         "1592",
         "Editor",
         "Eric Strand",
         null,
         "11115"
        ],
        [
         "307378",
         "52fe43fb9251416c75024ff5",
         "Editing",
         "2",
         "1592",
         "Editor",
         "Eric Strand",
         null,
         "11115"
        ],
        [
         "114173",
         "52fe440ac3a36847f807ee01",
         "Camera",
         "2",
         "1657",
         "Director of Photography",
         "Henri Decaë",
         null,
         "5511"
        ],
        [
         "136637",
         "52fe440ac3a36847f807ee01",
         "Camera",
         "2",
         "1657",
         "Director of Photography",
         "Henri Decaë",
         null,
         "5511"
        ],
        [
         "162404",
         "571c2337925141715d005fd9",
         "Sound",
         "2",
         "1729",
         "Original Music Composer",
         "James Horner",
         "/oLOtXxXsYk8X4qq0ud4xVypXudi.jpg",
         "77221"
        ],
        [
         "268442",
         "571c2337925141715d005fd9",
         "Sound",
         "2",
         "1729",
         "Original Music Composer",
         "James Horner",
         "/oLOtXxXsYk8X4qq0ud4xVypXudi.jpg",
         "77221"
        ],
        [
         "90625",
         "52fe43e2c3a36847f8076129",
         "Production",
         "2",
         "1884",
         "Executive Producer",
         "Steven Soderbergh",
         "/dxdMRsAosaGlMRd7EMmm9lrXXsW.jpg",
         "4912"
        ],
        [
         "379617",
         "52fe43e2c3a36847f8076129",
         "Production",
         "2",
         "1884",
         "Executive Producer",
         "Steven Soderbergh",
         "/dxdMRsAosaGlMRd7EMmm9lrXXsW.jpg",
         "4912"
        ],
        [
         "153014",
         "52fe46199251416c7506d0ff",
         "Directing",
         "2",
         "1884",
         "Director",
         "Steven Soderbergh",
         "/dxdMRsAosaGlMRd7EMmm9lrXXsW.jpg",
         "14788"
        ],
        [
         "175524",
         "52fe46199251416c7506d0ff",
         "Directing",
         "2",
         "1884",
         "Director",
         "Steven Soderbergh",
         "/dxdMRsAosaGlMRd7EMmm9lrXXsW.jpg",
         "14788"
        ],
        [
         "153015",
         "52fe46199251416c7506d10b",
         "Camera",
         "2",
         "1884",
         "Director of Photography",
         "Steven Soderbergh",
         "/dxdMRsAosaGlMRd7EMmm9lrXXsW.jpg",
         "14788"
        ],
        [
         "175525",
         "52fe46199251416c7506d10b",
         "Camera",
         "2",
         "1884",
         "Director of Photography",
         "Steven Soderbergh",
         "/dxdMRsAosaGlMRd7EMmm9lrXXsW.jpg",
         "14788"
        ],
        [
         "153016",
         "52fe46199251416c7506d111",
         "Editing",
         "2",
         "1884",
         "Editor",
         "Steven Soderbergh",
         "/dxdMRsAosaGlMRd7EMmm9lrXXsW.jpg",
         "14788"
        ],
        [
         "175526",
         "52fe46199251416c7506d111",
         "Editing",
         "2",
         "1884",
         "Editor",
         "Steven Soderbergh",
         "/dxdMRsAosaGlMRd7EMmm9lrXXsW.jpg",
         "14788"
        ],
        [
         "90626",
         "52fe43e2c3a36847f80760e5",
         "Editing",
         "2",
         "1891",
         "Editor",
         "Stephen Mirrione",
         null,
         "4912"
        ],
        [
         "379613",
         "52fe43e2c3a36847f80760e5",
         "Editing",
         "2",
         "1891",
         "Editor",
         "Stephen Mirrione",
         null,
         "4912"
        ],
        [
         "317387",
         "52fe44b8c3a36847f80a63a5",
         "Sound",
         "2",
         "1965",
         "Original Music Composer",
         "Vladimir Cosma",
         "/ikwjkuMpSWcIwZPUt7u0lsVyUuA.jpg",
         "8767"
        ],
        [
         "317842",
         "52fe44b8c3a36847f80a63a5",
         "Sound",
         "2",
         "1965",
         "Original Music Composer",
         "Vladimir Cosma",
         "/ikwjkuMpSWcIwZPUt7u0lsVyUuA.jpg",
         "8767"
        ],
        [
         "141609",
         "5468ac9522136e68d8000a77",
         "Art",
         "2",
         "1966",
         "Art Direction",
         "Jacques Bufnoir",
         null,
         "69234"
        ],
        [
         "324382",
         "5468ac9522136e68d8000a77",
         "Art",
         "2",
         "1966",
         "Art Direction",
         "Jacques Bufnoir",
         null,
         "69234"
        ]
       ],
       "shape": {
        "columns": 8,
        "rows": 954
       }
      },
      "text/html": [
       "<div>\n",
       "<style scoped>\n",
       "    .dataframe tbody tr th:only-of-type {\n",
       "        vertical-align: middle;\n",
       "    }\n",
       "\n",
       "    .dataframe tbody tr th {\n",
       "        vertical-align: top;\n",
       "    }\n",
       "\n",
       "    .dataframe thead th {\n",
       "        text-align: right;\n",
       "    }\n",
       "</style>\n",
       "<table border=\"1\" class=\"dataframe\">\n",
       "  <thead>\n",
       "    <tr style=\"text-align: right;\">\n",
       "      <th></th>\n",
       "      <th>credit_id</th>\n",
       "      <th>department</th>\n",
       "      <th>gender</th>\n",
       "      <th>id</th>\n",
       "      <th>job</th>\n",
       "      <th>name</th>\n",
       "      <th>profile_path</th>\n",
       "      <th>tmdb_id</th>\n",
       "    </tr>\n",
       "  </thead>\n",
       "  <tbody>\n",
       "    <tr>\n",
       "      <th>259782</th>\n",
       "      <td>55c0d60e9251410f19001cec</td>\n",
       "      <td>Production</td>\n",
       "      <td>1</td>\n",
       "      <td>32</td>\n",
       "      <td>Producer</td>\n",
       "      <td>Robin Wright</td>\n",
       "      <td>/tXfQTgcIEPP7gtVdJ44ZxZPhacn.jpg</td>\n",
       "      <td>152795</td>\n",
       "    </tr>\n",
       "    <tr>\n",
       "      <th>278138</th>\n",
       "      <td>55c0d60e9251410f19001cec</td>\n",
       "      <td>Production</td>\n",
       "      <td>1</td>\n",
       "      <td>32</td>\n",
       "      <td>Producer</td>\n",
       "      <td>Robin Wright</td>\n",
       "      <td>/tXfQTgcIEPP7gtVdJ44ZxZPhacn.jpg</td>\n",
       "      <td>152795</td>\n",
       "    </tr>\n",
       "    <tr>\n",
       "      <th>90620</th>\n",
       "      <td>52fe43e2c3a36847f80760b5</td>\n",
       "      <td>Writing</td>\n",
       "      <td>2</td>\n",
       "      <td>202</td>\n",
       "      <td>Screenplay</td>\n",
       "      <td>Charlie Kaufman</td>\n",
       "      <td>/v5Zc2aplTL0y38Oe91zGnVBUtYi.jpg</td>\n",
       "      <td>4912</td>\n",
       "    </tr>\n",
       "    <tr>\n",
       "      <th>379605</th>\n",
       "      <td>52fe43e2c3a36847f80760b5</td>\n",
       "      <td>Writing</td>\n",
       "      <td>2</td>\n",
       "      <td>202</td>\n",
       "      <td>Screenplay</td>\n",
       "      <td>Charlie Kaufman</td>\n",
       "      <td>/v5Zc2aplTL0y38Oe91zGnVBUtYi.jpg</td>\n",
       "      <td>4912</td>\n",
       "    </tr>\n",
       "    <tr>\n",
       "      <th>317389</th>\n",
       "      <td>52fe4655c3a36847f80f96bf</td>\n",
       "      <td>Directing</td>\n",
       "      <td>2</td>\n",
       "      <td>525</td>\n",
       "      <td>Director</td>\n",
       "      <td>Christopher Nolan</td>\n",
       "      <td>/7OGmfDF4VHLLgbjxuEwTj3ga0uQ.jpg</td>\n",
       "      <td>43629</td>\n",
       "    </tr>\n",
       "    <tr>\n",
       "      <th>...</th>\n",
       "      <td>...</td>\n",
       "      <td>...</td>\n",
       "      <td>...</td>\n",
       "      <td>...</td>\n",
       "      <td>...</td>\n",
       "      <td>...</td>\n",
       "      <td>...</td>\n",
       "      <td>...</td>\n",
       "    </tr>\n",
       "    <tr>\n",
       "      <th>317743</th>\n",
       "      <td>596bdc83c3a3684c0200548b</td>\n",
       "      <td>Editing</td>\n",
       "      <td>0</td>\n",
       "      <td>1852798</td>\n",
       "      <td>Dialogue Editor</td>\n",
       "      <td>Matt Gorzkowski</td>\n",
       "      <td>None</td>\n",
       "      <td>199591</td>\n",
       "    </tr>\n",
       "    <tr>\n",
       "      <th>317345</th>\n",
       "      <td>596bdcd9c3a3684bcb004d02</td>\n",
       "      <td>Sound</td>\n",
       "      <td>0</td>\n",
       "      <td>1852799</td>\n",
       "      <td>Sound Effects Editor</td>\n",
       "      <td>Michael Hanlan</td>\n",
       "      <td>None</td>\n",
       "      <td>199591</td>\n",
       "    </tr>\n",
       "    <tr>\n",
       "      <th>317744</th>\n",
       "      <td>596bdcd9c3a3684bcb004d02</td>\n",
       "      <td>Sound</td>\n",
       "      <td>0</td>\n",
       "      <td>1852799</td>\n",
       "      <td>Sound Effects Editor</td>\n",
       "      <td>Michael Hanlan</td>\n",
       "      <td>None</td>\n",
       "      <td>199591</td>\n",
       "    </tr>\n",
       "    <tr>\n",
       "      <th>317346</th>\n",
       "      <td>596bdfcac3a3684c02005741</td>\n",
       "      <td>Costume &amp; Make-Up</td>\n",
       "      <td>0</td>\n",
       "      <td>1852802</td>\n",
       "      <td>Wardrobe Supervisor</td>\n",
       "      <td>Jasmine Murray-Bergquist</td>\n",
       "      <td>None</td>\n",
       "      <td>199591</td>\n",
       "    </tr>\n",
       "    <tr>\n",
       "      <th>317745</th>\n",
       "      <td>596bdfcac3a3684c02005741</td>\n",
       "      <td>Costume &amp; Make-Up</td>\n",
       "      <td>0</td>\n",
       "      <td>1852802</td>\n",
       "      <td>Wardrobe Supervisor</td>\n",
       "      <td>Jasmine Murray-Bergquist</td>\n",
       "      <td>None</td>\n",
       "      <td>199591</td>\n",
       "    </tr>\n",
       "  </tbody>\n",
       "</table>\n",
       "<p>954 rows × 8 columns</p>\n",
       "</div>"
      ],
      "text/plain": [
       "                       credit_id         department  gender       id  \\\n",
       "259782  55c0d60e9251410f19001cec         Production       1       32   \n",
       "278138  55c0d60e9251410f19001cec         Production       1       32   \n",
       "90620   52fe43e2c3a36847f80760b5            Writing       2      202   \n",
       "379605  52fe43e2c3a36847f80760b5            Writing       2      202   \n",
       "317389  52fe4655c3a36847f80f96bf          Directing       2      525   \n",
       "...                          ...                ...     ...      ...   \n",
       "317743  596bdc83c3a3684c0200548b            Editing       0  1852798   \n",
       "317345  596bdcd9c3a3684bcb004d02              Sound       0  1852799   \n",
       "317744  596bdcd9c3a3684bcb004d02              Sound       0  1852799   \n",
       "317346  596bdfcac3a3684c02005741  Costume & Make-Up       0  1852802   \n",
       "317745  596bdfcac3a3684c02005741  Costume & Make-Up       0  1852802   \n",
       "\n",
       "                         job                      name  \\\n",
       "259782              Producer              Robin Wright   \n",
       "278138              Producer              Robin Wright   \n",
       "90620             Screenplay           Charlie Kaufman   \n",
       "379605            Screenplay           Charlie Kaufman   \n",
       "317389              Director         Christopher Nolan   \n",
       "...                      ...                       ...   \n",
       "317743       Dialogue Editor           Matt Gorzkowski   \n",
       "317345  Sound Effects Editor            Michael Hanlan   \n",
       "317744  Sound Effects Editor            Michael Hanlan   \n",
       "317346   Wardrobe Supervisor  Jasmine Murray-Bergquist   \n",
       "317745   Wardrobe Supervisor  Jasmine Murray-Bergquist   \n",
       "\n",
       "                            profile_path  tmdb_id  \n",
       "259782  /tXfQTgcIEPP7gtVdJ44ZxZPhacn.jpg   152795  \n",
       "278138  /tXfQTgcIEPP7gtVdJ44ZxZPhacn.jpg   152795  \n",
       "90620   /v5Zc2aplTL0y38Oe91zGnVBUtYi.jpg     4912  \n",
       "379605  /v5Zc2aplTL0y38Oe91zGnVBUtYi.jpg     4912  \n",
       "317389  /7OGmfDF4VHLLgbjxuEwTj3ga0uQ.jpg    43629  \n",
       "...                                  ...      ...  \n",
       "317743                              None   199591  \n",
       "317345                              None   199591  \n",
       "317744                              None   199591  \n",
       "317346                              None   199591  \n",
       "317745                              None   199591  \n",
       "\n",
       "[954 rows x 8 columns]"
      ]
     },
     "execution_count": 18,
     "metadata": {},
     "output_type": "execute_result"
    }
   ],
   "source": [
    "# Check for duplicated columns\n",
    "crew[crew.duplicated(subset=[\"id\", \"credit_id\", \"tmdb_id\", \"name\"], keep=False)].sort_values(by=[\"id\", \"credit_id\"])"
   ]
  },
  {
   "cell_type": "code",
   "execution_count": 19,
   "metadata": {},
   "outputs": [],
   "source": [
    "crew.drop_duplicates(subset=[\"id\", \"credit_id\", \"tmdb_id\", \"name\"], keep=\"first\", inplace=True)"
   ]
  },
  {
   "cell_type": "markdown",
   "metadata": {},
   "source": [
    "Validate cleaning"
   ]
  },
  {
   "cell_type": "code",
   "execution_count": 20,
   "metadata": {},
   "outputs": [
    {
     "data": {
      "text/plain": [
       "credit_id       0\n",
       "department      0\n",
       "gender          0\n",
       "id              0\n",
       "job             0\n",
       "name            0\n",
       "profile_path    0\n",
       "tmdb_id         0\n",
       "dtype: int64"
      ]
     },
     "execution_count": 20,
     "metadata": {},
     "output_type": "execute_result"
    }
   ],
   "source": [
    "crew[crew.duplicated(subset=[\"id\", \"credit_id\", \"tmdb_id\", \"name\"], keep=False)].count()"
   ]
  },
  {
   "cell_type": "code",
   "execution_count": 21,
   "metadata": {},
   "outputs": [
    {
     "data": {
      "text/plain": [
       "profile_path\n",
       "jpg    95001\n",
       "Name: count, dtype: int64"
      ]
     },
     "execution_count": 21,
     "metadata": {},
     "output_type": "execute_result"
    }
   ],
   "source": [
    "crew.profile_path.str.split(\".\").str[-1].value_counts()"
   ]
  },
  {
   "cell_type": "code",
   "execution_count": 22,
   "metadata": {},
   "outputs": [
    {
     "data": {
      "text/plain": [
       "credit_id            0\n",
       "department           0\n",
       "gender               0\n",
       "id                   0\n",
       "job                  0\n",
       "name                 0\n",
       "profile_path    368835\n",
       "tmdb_id              0\n",
       "dtype: int64"
      ]
     },
     "execution_count": 22,
     "metadata": {},
     "output_type": "execute_result"
    }
   ],
   "source": [
    "crew.isnull().sum()"
   ]
  },
  {
   "cell_type": "markdown",
   "metadata": {},
   "source": [
    "#### Keywords Dataframe Processing:"
   ]
  },
  {
   "cell_type": "code",
   "execution_count": 23,
   "metadata": {},
   "outputs": [
    {
     "data": {
      "application/vnd.microsoft.datawrangler.viewer.v0+json": {
       "columns": [
        {
         "name": "index",
         "rawType": "int64",
         "type": "integer"
        },
        {
         "name": "id",
         "rawType": "int64",
         "type": "integer"
        },
        {
         "name": "keywords",
         "rawType": "object",
         "type": "string"
        }
       ],
       "conversionMethod": "pd.DataFrame",
       "ref": "43d30785-8bc4-4811-9007-a535c44b072f",
       "rows": [
        [
         "0",
         "862",
         "[{'id': 931, 'name': 'jealousy'}, {'id': 4290, 'name': 'toy'}, {'id': 5202, 'name': 'boy'}, {'id': 6054, 'name': 'friendship'}, {'id': 9713, 'name': 'friends'}, {'id': 9823, 'name': 'rivalry'}, {'id': 165503, 'name': 'boy next door'}, {'id': 170722, 'name': 'new toy'}, {'id': 187065, 'name': 'toy comes to life'}]"
        ],
        [
         "1",
         "8844",
         "[{'id': 10090, 'name': 'board game'}, {'id': 10941, 'name': 'disappearance'}, {'id': 15101, 'name': \"based on children's book\"}, {'id': 33467, 'name': 'new home'}, {'id': 158086, 'name': 'recluse'}, {'id': 158091, 'name': 'giant insect'}]"
        ],
        [
         "2",
         "15602",
         "[{'id': 1495, 'name': 'fishing'}, {'id': 12392, 'name': 'best friend'}, {'id': 179431, 'name': 'duringcreditsstinger'}, {'id': 208510, 'name': 'old men'}]"
        ],
        [
         "3",
         "31357",
         "[{'id': 818, 'name': 'based on novel'}, {'id': 10131, 'name': 'interracial relationship'}, {'id': 14768, 'name': 'single mother'}, {'id': 15160, 'name': 'divorce'}, {'id': 33455, 'name': 'chick flick'}]"
        ],
        [
         "4",
         "11862",
         "[{'id': 1009, 'name': 'baby'}, {'id': 1599, 'name': 'midlife crisis'}, {'id': 2246, 'name': 'confidence'}, {'id': 4995, 'name': 'aging'}, {'id': 5600, 'name': 'daughter'}, {'id': 10707, 'name': 'mother daughter relationship'}, {'id': 13149, 'name': 'pregnancy'}, {'id': 33358, 'name': 'contraception'}, {'id': 170521, 'name': 'gynecologist'}]"
        ]
       ],
       "shape": {
        "columns": 2,
        "rows": 5
       }
      },
      "text/html": [
       "<div>\n",
       "<style scoped>\n",
       "    .dataframe tbody tr th:only-of-type {\n",
       "        vertical-align: middle;\n",
       "    }\n",
       "\n",
       "    .dataframe tbody tr th {\n",
       "        vertical-align: top;\n",
       "    }\n",
       "\n",
       "    .dataframe thead th {\n",
       "        text-align: right;\n",
       "    }\n",
       "</style>\n",
       "<table border=\"1\" class=\"dataframe\">\n",
       "  <thead>\n",
       "    <tr style=\"text-align: right;\">\n",
       "      <th></th>\n",
       "      <th>id</th>\n",
       "      <th>keywords</th>\n",
       "    </tr>\n",
       "  </thead>\n",
       "  <tbody>\n",
       "    <tr>\n",
       "      <th>0</th>\n",
       "      <td>862</td>\n",
       "      <td>[{'id': 931, 'name': 'jealousy'}, {'id': 4290,...</td>\n",
       "    </tr>\n",
       "    <tr>\n",
       "      <th>1</th>\n",
       "      <td>8844</td>\n",
       "      <td>[{'id': 10090, 'name': 'board game'}, {'id': 1...</td>\n",
       "    </tr>\n",
       "    <tr>\n",
       "      <th>2</th>\n",
       "      <td>15602</td>\n",
       "      <td>[{'id': 1495, 'name': 'fishing'}, {'id': 12392...</td>\n",
       "    </tr>\n",
       "    <tr>\n",
       "      <th>3</th>\n",
       "      <td>31357</td>\n",
       "      <td>[{'id': 818, 'name': 'based on novel'}, {'id':...</td>\n",
       "    </tr>\n",
       "    <tr>\n",
       "      <th>4</th>\n",
       "      <td>11862</td>\n",
       "      <td>[{'id': 1009, 'name': 'baby'}, {'id': 1599, 'n...</td>\n",
       "    </tr>\n",
       "  </tbody>\n",
       "</table>\n",
       "</div>"
      ],
      "text/plain": [
       "      id                                           keywords\n",
       "0    862  [{'id': 931, 'name': 'jealousy'}, {'id': 4290,...\n",
       "1   8844  [{'id': 10090, 'name': 'board game'}, {'id': 1...\n",
       "2  15602  [{'id': 1495, 'name': 'fishing'}, {'id': 12392...\n",
       "3  31357  [{'id': 818, 'name': 'based on novel'}, {'id':...\n",
       "4  11862  [{'id': 1009, 'name': 'baby'}, {'id': 1599, 'n..."
      ]
     },
     "execution_count": 23,
     "metadata": {},
     "output_type": "execute_result"
    }
   ],
   "source": [
    "keywords.head()"
   ]
  },
  {
   "cell_type": "code",
   "execution_count": 24,
   "metadata": {},
   "outputs": [],
   "source": [
    "keywords.rename(columns={\"id\": \"tmdb_id\"}, inplace=True)"
   ]
  },
  {
   "cell_type": "code",
   "execution_count": 25,
   "metadata": {},
   "outputs": [],
   "source": [
    "keywords = normalize_data(keywords, \"keywords\", \"tmdb_id\")"
   ]
  },
  {
   "cell_type": "code",
   "execution_count": 26,
   "metadata": {},
   "outputs": [
    {
     "data": {
      "application/vnd.microsoft.datawrangler.viewer.v0+json": {
       "columns": [
        {
         "name": "index",
         "rawType": "int64",
         "type": "integer"
        },
        {
         "name": "id",
         "rawType": "int64",
         "type": "integer"
        },
        {
         "name": "name",
         "rawType": "object",
         "type": "string"
        },
        {
         "name": "tmdb_id",
         "rawType": "int64",
         "type": "integer"
        }
       ],
       "conversionMethod": "pd.DataFrame",
       "ref": "190738b5-f452-4f19-83ae-e46497e6d235",
       "rows": [
        [
         "0",
         "931",
         "jealousy",
         "862"
        ],
        [
         "1",
         "4290",
         "toy",
         "862"
        ],
        [
         "2",
         "5202",
         "boy",
         "862"
        ],
        [
         "3",
         "6054",
         "friendship",
         "862"
        ],
        [
         "4",
         "9713",
         "friends",
         "862"
        ]
       ],
       "shape": {
        "columns": 3,
        "rows": 5
       }
      },
      "text/html": [
       "<div>\n",
       "<style scoped>\n",
       "    .dataframe tbody tr th:only-of-type {\n",
       "        vertical-align: middle;\n",
       "    }\n",
       "\n",
       "    .dataframe tbody tr th {\n",
       "        vertical-align: top;\n",
       "    }\n",
       "\n",
       "    .dataframe thead th {\n",
       "        text-align: right;\n",
       "    }\n",
       "</style>\n",
       "<table border=\"1\" class=\"dataframe\">\n",
       "  <thead>\n",
       "    <tr style=\"text-align: right;\">\n",
       "      <th></th>\n",
       "      <th>id</th>\n",
       "      <th>name</th>\n",
       "      <th>tmdb_id</th>\n",
       "    </tr>\n",
       "  </thead>\n",
       "  <tbody>\n",
       "    <tr>\n",
       "      <th>0</th>\n",
       "      <td>931</td>\n",
       "      <td>jealousy</td>\n",
       "      <td>862</td>\n",
       "    </tr>\n",
       "    <tr>\n",
       "      <th>1</th>\n",
       "      <td>4290</td>\n",
       "      <td>toy</td>\n",
       "      <td>862</td>\n",
       "    </tr>\n",
       "    <tr>\n",
       "      <th>2</th>\n",
       "      <td>5202</td>\n",
       "      <td>boy</td>\n",
       "      <td>862</td>\n",
       "    </tr>\n",
       "    <tr>\n",
       "      <th>3</th>\n",
       "      <td>6054</td>\n",
       "      <td>friendship</td>\n",
       "      <td>862</td>\n",
       "    </tr>\n",
       "    <tr>\n",
       "      <th>4</th>\n",
       "      <td>9713</td>\n",
       "      <td>friends</td>\n",
       "      <td>862</td>\n",
       "    </tr>\n",
       "  </tbody>\n",
       "</table>\n",
       "</div>"
      ],
      "text/plain": [
       "     id        name  tmdb_id\n",
       "0   931    jealousy      862\n",
       "1  4290         toy      862\n",
       "2  5202         boy      862\n",
       "3  6054  friendship      862\n",
       "4  9713     friends      862"
      ]
     },
     "execution_count": 26,
     "metadata": {},
     "output_type": "execute_result"
    }
   ],
   "source": [
    "keywords.head(5)"
   ]
  },
  {
   "cell_type": "markdown",
   "metadata": {},
   "source": [
    "Data Cleaning process"
   ]
  },
  {
   "cell_type": "code",
   "execution_count": 27,
   "metadata": {},
   "outputs": [
    {
     "data": {
      "application/vnd.microsoft.datawrangler.viewer.v0+json": {
       "columns": [
        {
         "name": "name",
         "rawType": "object",
         "type": "string"
        },
        {
         "name": "count",
         "rawType": "int64",
         "type": "integer"
        }
       ],
       "conversionMethod": "pd.DataFrame",
       "ref": "d86fe3c1-2815-44b7-bcf3-647e15b86902",
       "rows": [
        [
         "woman director",
         "3115"
        ],
        [
         "independent film",
         "1930"
        ],
        [
         "murder",
         "1308"
        ],
        [
         "based on novel",
         "835"
        ],
        [
         "musical",
         "734"
        ],
        [
         "sex",
         "685"
        ],
        [
         "violence",
         "651"
        ],
        [
         "nudity",
         "636"
        ],
        [
         "biography",
         "629"
        ],
        [
         "revenge",
         "626"
        ],
        [
         "suspense",
         "590"
        ],
        [
         "love",
         "574"
        ],
        [
         "female nudity",
         "563"
        ],
        [
         "sport",
         "544"
        ],
        [
         "police",
         "454"
        ],
        [
         "teenager",
         "441"
        ],
        [
         "duringcreditsstinger",
         "440"
        ],
        [
         "sequel",
         "439"
        ],
        [
         "friendship",
         "411"
        ],
        [
         "world war ii",
         "394"
        ],
        [
         "drug",
         "360"
        ],
        [
         "stand-up comedy",
         "351"
        ],
        [
         "prison",
         "351"
        ],
        [
         "high school",
         "319"
        ],
        [
         "martial arts",
         "314"
        ],
        [
         "suicide",
         "312"
        ],
        [
         "rape",
         "306"
        ],
        [
         "kidnapping",
         "306"
        ],
        [
         "silent film",
         "306"
        ],
        [
         "film noir",
         "305"
        ],
        [
         "family",
         "295"
        ],
        [
         "serial killer",
         "293"
        ],
        [
         "monster",
         "285"
        ],
        [
         "alien",
         "283"
        ],
        [
         "dystopia",
         "273"
        ],
        [
         "paris",
         "268"
        ],
        [
         "new york",
         "267"
        ],
        [
         "blood",
         "266"
        ],
        [
         "gay",
         "261"
        ],
        [
         "short",
         "261"
        ],
        [
         "marriage",
         "258"
        ],
        [
         "christmas",
         "257"
        ],
        [
         "gore",
         "246"
        ],
        [
         "death",
         "245"
        ],
        [
         "zombie",
         "245"
        ],
        [
         "gangster",
         "243"
        ],
        [
         "small town",
         "239"
        ],
        [
         "london england",
         "238"
        ],
        [
         "romance",
         "237"
        ],
        [
         "prostitute",
         "234"
        ]
       ],
       "shape": {
        "columns": 1,
        "rows": 19956
       }
      },
      "text/html": [
       "<div>\n",
       "<style scoped>\n",
       "    .dataframe tbody tr th:only-of-type {\n",
       "        vertical-align: middle;\n",
       "    }\n",
       "\n",
       "    .dataframe tbody tr th {\n",
       "        vertical-align: top;\n",
       "    }\n",
       "\n",
       "    .dataframe thead th {\n",
       "        text-align: right;\n",
       "    }\n",
       "</style>\n",
       "<table border=\"1\" class=\"dataframe\">\n",
       "  <thead>\n",
       "    <tr style=\"text-align: right;\">\n",
       "      <th></th>\n",
       "      <th>count</th>\n",
       "    </tr>\n",
       "    <tr>\n",
       "      <th>name</th>\n",
       "      <th></th>\n",
       "    </tr>\n",
       "  </thead>\n",
       "  <tbody>\n",
       "    <tr>\n",
       "      <th>woman director</th>\n",
       "      <td>3115</td>\n",
       "    </tr>\n",
       "    <tr>\n",
       "      <th>independent film</th>\n",
       "      <td>1930</td>\n",
       "    </tr>\n",
       "    <tr>\n",
       "      <th>murder</th>\n",
       "      <td>1308</td>\n",
       "    </tr>\n",
       "    <tr>\n",
       "      <th>based on novel</th>\n",
       "      <td>835</td>\n",
       "    </tr>\n",
       "    <tr>\n",
       "      <th>musical</th>\n",
       "      <td>734</td>\n",
       "    </tr>\n",
       "    <tr>\n",
       "      <th>...</th>\n",
       "      <td>...</td>\n",
       "    </tr>\n",
       "    <tr>\n",
       "      <th>helping animals</th>\n",
       "      <td>1</td>\n",
       "    </tr>\n",
       "    <tr>\n",
       "      <th>animal agriculture</th>\n",
       "      <td>1</td>\n",
       "    </tr>\n",
       "    <tr>\n",
       "      <th>brother sister</th>\n",
       "      <td>1</td>\n",
       "    </tr>\n",
       "    <tr>\n",
       "      <th>bad boy</th>\n",
       "      <td>1</td>\n",
       "    </tr>\n",
       "    <tr>\n",
       "      <th>biloxi mississippi</th>\n",
       "      <td>1</td>\n",
       "    </tr>\n",
       "  </tbody>\n",
       "</table>\n",
       "<p>19956 rows × 1 columns</p>\n",
       "</div>"
      ],
      "text/plain": [
       "                    count\n",
       "name                     \n",
       "woman director       3115\n",
       "independent film     1930\n",
       "murder               1308\n",
       "based on novel        835\n",
       "musical               734\n",
       "...                   ...\n",
       "helping animals         1\n",
       "animal agriculture      1\n",
       "brother sister          1\n",
       "bad boy                 1\n",
       "biloxi mississippi      1\n",
       "\n",
       "[19956 rows x 1 columns]"
      ]
     },
     "execution_count": 27,
     "metadata": {},
     "output_type": "execute_result"
    }
   ],
   "source": [
    "pd.DataFrame(keywords.name.value_counts())"
   ]
  },
  {
   "cell_type": "code",
   "execution_count": 28,
   "metadata": {},
   "outputs": [
    {
     "data": {
      "application/vnd.microsoft.datawrangler.viewer.v0+json": {
       "columns": [
        {
         "name": "index",
         "rawType": "int64",
         "type": "integer"
        },
        {
         "name": "id",
         "rawType": "int64",
         "type": "integer"
        },
        {
         "name": "name",
         "rawType": "object",
         "type": "string"
        },
        {
         "name": "tmdb_id",
         "rawType": "int64",
         "type": "integer"
        }
       ],
       "conversionMethod": "pd.DataFrame",
       "ref": "587cabe5-7697-4e22-80fa-d0314c69d234",
       "rows": [
        [
         "137369",
         "65",
         "holiday",
         "19252"
        ],
        [
         "139324",
         "65",
         "holiday",
         "19252"
        ],
        [
         "135581",
         "65",
         "holiday",
         "26381"
        ],
        [
         "137536",
         "65",
         "holiday",
         "26381"
        ],
        [
         "135628",
         "65",
         "holiday",
         "26537"
        ],
        [
         "137583",
         "65",
         "holiday",
         "26537"
        ],
        [
         "135655",
         "65",
         "holiday",
         "40246"
        ],
        [
         "137610",
         "65",
         "holiday",
         "40246"
        ],
        [
         "135620",
         "65",
         "holiday",
         "311093"
        ],
        [
         "137575",
         "65",
         "holiday",
         "311093"
        ],
        [
         "44336",
         "90",
         "paris",
         "5511"
        ],
        [
         "52948",
         "90",
         "paris",
         "5511"
        ],
        [
         "137484",
         "90",
         "paris",
         "341392"
        ],
        [
         "139439",
         "90",
         "paris",
         "341392"
        ],
        [
         "135787",
         "90",
         "paris",
         "366566"
        ],
        [
         "137742",
         "90",
         "paris",
         "366566"
        ],
        [
         "136134",
         "128",
         "love triangle",
         "37460"
        ],
        [
         "138089",
         "128",
         "love triangle",
         "37460"
        ],
        [
         "137112",
         "128",
         "love triangle",
         "64880"
        ],
        [
         "139067",
         "128",
         "love triangle",
         "64880"
        ],
        [
         "135776",
         "128",
         "love triangle",
         "114018"
        ],
        [
         "137731",
         "128",
         "love triangle",
         "114018"
        ],
        [
         "135592",
         "128",
         "love triangle",
         "232420"
        ],
        [
         "137547",
         "128",
         "love triangle",
         "232420"
        ],
        [
         "137497",
         "128",
         "love triangle",
         "299824"
        ],
        [
         "139452",
         "128",
         "love triangle",
         "299824"
        ],
        [
         "135663",
         "128",
         "love triangle",
         "350849"
        ],
        [
         "137618",
         "128",
         "love triangle",
         "350849"
        ],
        [
         "6022",
         "131",
         "italy",
         "22649"
        ],
        [
         "80977",
         "131",
         "italy",
         "22649"
        ],
        [
         "136882",
         "186",
         "christianity",
         "335778"
        ],
        [
         "138837",
         "186",
         "christianity",
         "335778"
        ],
        [
         "136894",
         "187",
         "islam",
         "15391"
        ],
        [
         "138849",
         "187",
         "islam",
         "15391"
        ],
        [
         "136450",
         "212",
         "london england",
         "3025"
        ],
        [
         "138405",
         "212",
         "london england",
         "3025"
        ],
        [
         "136497",
         "212",
         "london england",
         "93862"
        ],
        [
         "138452",
         "212",
         "london england",
         "93862"
        ],
        [
         "136442",
         "212",
         "london england",
         "124527"
        ],
        [
         "138397",
         "212",
         "london england",
         "124527"
        ],
        [
         "137273",
         "212",
         "london england",
         "267860"
        ],
        [
         "139228",
         "212",
         "london england",
         "267860"
        ],
        [
         "136165",
         "212",
         "london england",
         "283589"
        ],
        [
         "138120",
         "212",
         "london england",
         "283589"
        ],
        [
         "136338",
         "212",
         "london england",
         "288463"
        ],
        [
         "138293",
         "212",
         "london england",
         "288463"
        ],
        [
         "136968",
         "213",
         "upper class",
         "333377"
        ],
        [
         "138923",
         "213",
         "upper class",
         "333377"
        ],
        [
         "137039",
         "220",
         "berlin",
         "10626"
        ],
        [
         "138994",
         "220",
         "berlin",
         "10626"
        ]
       ],
       "shape": {
        "columns": 3,
        "rows": 4156
       }
      },
      "text/html": [
       "<div>\n",
       "<style scoped>\n",
       "    .dataframe tbody tr th:only-of-type {\n",
       "        vertical-align: middle;\n",
       "    }\n",
       "\n",
       "    .dataframe tbody tr th {\n",
       "        vertical-align: top;\n",
       "    }\n",
       "\n",
       "    .dataframe thead th {\n",
       "        text-align: right;\n",
       "    }\n",
       "</style>\n",
       "<table border=\"1\" class=\"dataframe\">\n",
       "  <thead>\n",
       "    <tr style=\"text-align: right;\">\n",
       "      <th></th>\n",
       "      <th>id</th>\n",
       "      <th>name</th>\n",
       "      <th>tmdb_id</th>\n",
       "    </tr>\n",
       "  </thead>\n",
       "  <tbody>\n",
       "    <tr>\n",
       "      <th>137369</th>\n",
       "      <td>65</td>\n",
       "      <td>holiday</td>\n",
       "      <td>19252</td>\n",
       "    </tr>\n",
       "    <tr>\n",
       "      <th>139324</th>\n",
       "      <td>65</td>\n",
       "      <td>holiday</td>\n",
       "      <td>19252</td>\n",
       "    </tr>\n",
       "    <tr>\n",
       "      <th>135581</th>\n",
       "      <td>65</td>\n",
       "      <td>holiday</td>\n",
       "      <td>26381</td>\n",
       "    </tr>\n",
       "    <tr>\n",
       "      <th>137536</th>\n",
       "      <td>65</td>\n",
       "      <td>holiday</td>\n",
       "      <td>26381</td>\n",
       "    </tr>\n",
       "    <tr>\n",
       "      <th>135628</th>\n",
       "      <td>65</td>\n",
       "      <td>holiday</td>\n",
       "      <td>26537</td>\n",
       "    </tr>\n",
       "    <tr>\n",
       "      <th>...</th>\n",
       "      <td>...</td>\n",
       "      <td>...</td>\n",
       "      <td>...</td>\n",
       "    </tr>\n",
       "    <tr>\n",
       "      <th>138012</th>\n",
       "      <td>237651</td>\n",
       "      <td>dreamland</td>\n",
       "      <td>325712</td>\n",
       "    </tr>\n",
       "    <tr>\n",
       "      <th>136432</th>\n",
       "      <td>238208</td>\n",
       "      <td>dead end road</td>\n",
       "      <td>23382</td>\n",
       "    </tr>\n",
       "    <tr>\n",
       "      <th>138387</th>\n",
       "      <td>238208</td>\n",
       "      <td>dead end road</td>\n",
       "      <td>23382</td>\n",
       "    </tr>\n",
       "    <tr>\n",
       "      <th>136265</th>\n",
       "      <td>238539</td>\n",
       "      <td>corrupt sheriff</td>\n",
       "      <td>325173</td>\n",
       "    </tr>\n",
       "    <tr>\n",
       "      <th>138220</th>\n",
       "      <td>238539</td>\n",
       "      <td>corrupt sheriff</td>\n",
       "      <td>325173</td>\n",
       "    </tr>\n",
       "  </tbody>\n",
       "</table>\n",
       "<p>4156 rows × 3 columns</p>\n",
       "</div>"
      ],
      "text/plain": [
       "            id             name  tmdb_id\n",
       "137369      65          holiday    19252\n",
       "139324      65          holiday    19252\n",
       "135581      65          holiday    26381\n",
       "137536      65          holiday    26381\n",
       "135628      65          holiday    26537\n",
       "...        ...              ...      ...\n",
       "138012  237651        dreamland   325712\n",
       "136432  238208    dead end road    23382\n",
       "138387  238208    dead end road    23382\n",
       "136265  238539  corrupt sheriff   325173\n",
       "138220  238539  corrupt sheriff   325173\n",
       "\n",
       "[4156 rows x 3 columns]"
      ]
     },
     "execution_count": 28,
     "metadata": {},
     "output_type": "execute_result"
    }
   ],
   "source": [
    "# Check for duplicated columns\n",
    "keywords[keywords.duplicated(keep=False)].sort_values(by=[\"id\", \"name\", \"tmdb_id\"])"
   ]
  },
  {
   "cell_type": "code",
   "execution_count": 29,
   "metadata": {},
   "outputs": [
    {
     "data": {
      "text/plain": [
       "id         4156\n",
       "name       4156\n",
       "tmdb_id    4156\n",
       "dtype: int64"
      ]
     },
     "execution_count": 29,
     "metadata": {},
     "output_type": "execute_result"
    }
   ],
   "source": [
    "keywords[keywords.duplicated(keep=False)].count()"
   ]
  },
  {
   "cell_type": "code",
   "execution_count": 30,
   "metadata": {},
   "outputs": [],
   "source": [
    "keywords.drop_duplicates(keep=\"first\", inplace=True)"
   ]
  },
  {
   "cell_type": "markdown",
   "metadata": {},
   "source": [
    "Validate"
   ]
  },
  {
   "cell_type": "code",
   "execution_count": 31,
   "metadata": {},
   "outputs": [
    {
     "data": {
      "text/plain": [
       "id         0\n",
       "name       0\n",
       "tmdb_id    0\n",
       "dtype: int64"
      ]
     },
     "execution_count": 31,
     "metadata": {},
     "output_type": "execute_result"
    }
   ],
   "source": [
    "keywords[keywords.duplicated(keep=False)].count()"
   ]
  },
  {
   "cell_type": "code",
   "execution_count": 32,
   "metadata": {},
   "outputs": [
    {
     "data": {
      "text/plain": [
       "id         0\n",
       "name       0\n",
       "tmdb_id    0\n",
       "dtype: int64"
      ]
     },
     "execution_count": 32,
     "metadata": {},
     "output_type": "execute_result"
    }
   ],
   "source": [
    "keywords.isnull().sum()"
   ]
  },
  {
   "cell_type": "markdown",
   "metadata": {},
   "source": [
    "#### Links Dataframe Processing:"
   ]
  },
  {
   "cell_type": "code",
   "execution_count": 33,
   "metadata": {},
   "outputs": [
    {
     "data": {
      "application/vnd.microsoft.datawrangler.viewer.v0+json": {
       "columns": [
        {
         "name": "index",
         "rawType": "int64",
         "type": "integer"
        },
        {
         "name": "movieId",
         "rawType": "int64",
         "type": "integer"
        },
        {
         "name": "imdbId",
         "rawType": "int64",
         "type": "integer"
        },
        {
         "name": "tmdbId",
         "rawType": "float64",
         "type": "float"
        }
       ],
       "conversionMethod": "pd.DataFrame",
       "ref": "b0bfb34f-7302-457a-9dcc-ec7a354da5cc",
       "rows": [
        [
         "0",
         "1",
         "114709",
         "862.0"
        ],
        [
         "1",
         "2",
         "113497",
         "8844.0"
        ],
        [
         "2",
         "3",
         "113228",
         "15602.0"
        ],
        [
         "3",
         "4",
         "114885",
         "31357.0"
        ],
        [
         "4",
         "5",
         "113041",
         "11862.0"
        ]
       ],
       "shape": {
        "columns": 3,
        "rows": 5
       }
      },
      "text/html": [
       "<div>\n",
       "<style scoped>\n",
       "    .dataframe tbody tr th:only-of-type {\n",
       "        vertical-align: middle;\n",
       "    }\n",
       "\n",
       "    .dataframe tbody tr th {\n",
       "        vertical-align: top;\n",
       "    }\n",
       "\n",
       "    .dataframe thead th {\n",
       "        text-align: right;\n",
       "    }\n",
       "</style>\n",
       "<table border=\"1\" class=\"dataframe\">\n",
       "  <thead>\n",
       "    <tr style=\"text-align: right;\">\n",
       "      <th></th>\n",
       "      <th>movieId</th>\n",
       "      <th>imdbId</th>\n",
       "      <th>tmdbId</th>\n",
       "    </tr>\n",
       "  </thead>\n",
       "  <tbody>\n",
       "    <tr>\n",
       "      <th>0</th>\n",
       "      <td>1</td>\n",
       "      <td>114709</td>\n",
       "      <td>862.0</td>\n",
       "    </tr>\n",
       "    <tr>\n",
       "      <th>1</th>\n",
       "      <td>2</td>\n",
       "      <td>113497</td>\n",
       "      <td>8844.0</td>\n",
       "    </tr>\n",
       "    <tr>\n",
       "      <th>2</th>\n",
       "      <td>3</td>\n",
       "      <td>113228</td>\n",
       "      <td>15602.0</td>\n",
       "    </tr>\n",
       "    <tr>\n",
       "      <th>3</th>\n",
       "      <td>4</td>\n",
       "      <td>114885</td>\n",
       "      <td>31357.0</td>\n",
       "    </tr>\n",
       "    <tr>\n",
       "      <th>4</th>\n",
       "      <td>5</td>\n",
       "      <td>113041</td>\n",
       "      <td>11862.0</td>\n",
       "    </tr>\n",
       "  </tbody>\n",
       "</table>\n",
       "</div>"
      ],
      "text/plain": [
       "   movieId  imdbId   tmdbId\n",
       "0        1  114709    862.0\n",
       "1        2  113497   8844.0\n",
       "2        3  113228  15602.0\n",
       "3        4  114885  31357.0\n",
       "4        5  113041  11862.0"
      ]
     },
     "execution_count": 33,
     "metadata": {},
     "output_type": "execute_result"
    }
   ],
   "source": [
    "links.head()"
   ]
  },
  {
   "cell_type": "code",
   "execution_count": 34,
   "metadata": {},
   "outputs": [
    {
     "name": "stdout",
     "output_type": "stream",
     "text": [
      "<class 'pandas.core.frame.DataFrame'>\n",
      "RangeIndex: 45843 entries, 0 to 45842\n",
      "Data columns (total 3 columns):\n",
      " #   Column   Non-Null Count  Dtype  \n",
      "---  ------   --------------  -----  \n",
      " 0   movieId  45843 non-null  int64  \n",
      " 1   imdbId   45843 non-null  int64  \n",
      " 2   tmdbId   45624 non-null  float64\n",
      "dtypes: float64(1), int64(2)\n",
      "memory usage: 1.0 MB\n"
     ]
    }
   ],
   "source": [
    "links.info()"
   ]
  },
  {
   "cell_type": "markdown",
   "metadata": {},
   "source": [
    "Cleaning & renaming columns"
   ]
  },
  {
   "cell_type": "code",
   "execution_count": 35,
   "metadata": {},
   "outputs": [],
   "source": [
    "new_name = {\n",
    "    \"movieId\": \"movie_id\",\n",
    "    \"imdbId\": \"imdb_id\",\n",
    "    \"tmdbId\": \"tmdb_id\"\n",
    "    }\n",
    "links.rename(columns=new_name, inplace=True)"
   ]
  },
  {
   "cell_type": "code",
   "execution_count": 36,
   "metadata": {},
   "outputs": [],
   "source": [
    "links[\"tmdb_id\"] = links.tmdb_id.fillna(0).astype(int)"
   ]
  },
  {
   "cell_type": "markdown",
   "metadata": {},
   "source": [
    "Validate"
   ]
  },
  {
   "cell_type": "code",
   "execution_count": 37,
   "metadata": {},
   "outputs": [
    {
     "name": "stdout",
     "output_type": "stream",
     "text": [
      "<class 'pandas.core.frame.DataFrame'>\n",
      "RangeIndex: 45843 entries, 0 to 45842\n",
      "Data columns (total 3 columns):\n",
      " #   Column    Non-Null Count  Dtype\n",
      "---  ------    --------------  -----\n",
      " 0   movie_id  45843 non-null  int64\n",
      " 1   imdb_id   45843 non-null  int64\n",
      " 2   tmdb_id   45843 non-null  int64\n",
      "dtypes: int64(3)\n",
      "memory usage: 1.0 MB\n"
     ]
    }
   ],
   "source": [
    "links.info()"
   ]
  },
  {
   "cell_type": "code",
   "execution_count": 38,
   "metadata": {},
   "outputs": [
    {
     "data": {
      "text/plain": [
       "movie_id    0\n",
       "imdb_id     0\n",
       "tmdb_id     0\n",
       "dtype: int64"
      ]
     },
     "execution_count": 38,
     "metadata": {},
     "output_type": "execute_result"
    }
   ],
   "source": [
    "links.isnull().sum()"
   ]
  },
  {
   "cell_type": "markdown",
   "metadata": {},
   "source": [
    "#### Movies Metaddata Dataframe Processing:"
   ]
  },
  {
   "cell_type": "code",
   "execution_count": 39,
   "metadata": {},
   "outputs": [
    {
     "data": {
      "application/vnd.microsoft.datawrangler.viewer.v0+json": {
       "columns": [
        {
         "name": "index",
         "rawType": "int64",
         "type": "integer"
        },
        {
         "name": "adult",
         "rawType": "object",
         "type": "string"
        },
        {
         "name": "belongs_to_collection",
         "rawType": "object",
         "type": "unknown"
        },
        {
         "name": "budget",
         "rawType": "object",
         "type": "string"
        },
        {
         "name": "genres",
         "rawType": "object",
         "type": "string"
        },
        {
         "name": "homepage",
         "rawType": "object",
         "type": "unknown"
        },
        {
         "name": "id",
         "rawType": "object",
         "type": "string"
        },
        {
         "name": "imdb_id",
         "rawType": "object",
         "type": "string"
        },
        {
         "name": "original_language",
         "rawType": "object",
         "type": "string"
        },
        {
         "name": "original_title",
         "rawType": "object",
         "type": "string"
        },
        {
         "name": "overview",
         "rawType": "object",
         "type": "string"
        },
        {
         "name": "popularity",
         "rawType": "object",
         "type": "unknown"
        },
        {
         "name": "poster_path",
         "rawType": "object",
         "type": "string"
        },
        {
         "name": "production_companies",
         "rawType": "object",
         "type": "string"
        },
        {
         "name": "production_countries",
         "rawType": "object",
         "type": "string"
        },
        {
         "name": "release_date",
         "rawType": "object",
         "type": "string"
        },
        {
         "name": "revenue",
         "rawType": "float64",
         "type": "float"
        },
        {
         "name": "runtime",
         "rawType": "float64",
         "type": "float"
        },
        {
         "name": "spoken_languages",
         "rawType": "object",
         "type": "string"
        },
        {
         "name": "status",
         "rawType": "object",
         "type": "string"
        },
        {
         "name": "tagline",
         "rawType": "object",
         "type": "unknown"
        },
        {
         "name": "title",
         "rawType": "object",
         "type": "string"
        },
        {
         "name": "video",
         "rawType": "object",
         "type": "unknown"
        },
        {
         "name": "vote_average",
         "rawType": "float64",
         "type": "float"
        },
        {
         "name": "vote_count",
         "rawType": "float64",
         "type": "float"
        }
       ],
       "conversionMethod": "pd.DataFrame",
       "ref": "4da2dd85-3714-408f-a7fe-9ae4c63fb922",
       "rows": [
        [
         "0",
         "False",
         "{'id': 10194, 'name': 'Toy Story Collection', 'poster_path': '/7G9915LfUQ2lVfwMEEhDsn3kT4B.jpg', 'backdrop_path': '/9FBwqcd9IRruEDUrTdcaafOMKUq.jpg'}",
         "30000000",
         "[{'id': 16, 'name': 'Animation'}, {'id': 35, 'name': 'Comedy'}, {'id': 10751, 'name': 'Family'}]",
         "http://toystory.disney.com/toy-story",
         "862",
         "tt0114709",
         "en",
         "Toy Story",
         "Led by Woody, Andy's toys live happily in his room until Andy's birthday brings Buzz Lightyear onto the scene. Afraid of losing his place in Andy's heart, Woody plots against Buzz. But when circumstances separate Buzz and Woody from their owner, the duo eventually learns to put aside their differences.",
         "21.946943",
         "/rhIRbceoE9lR4veEXuwCC2wARtG.jpg",
         "[{'name': 'Pixar Animation Studios', 'id': 3}]",
         "[{'iso_3166_1': 'US', 'name': 'United States of America'}]",
         "1995-10-30",
         "373554033.0",
         "81.0",
         "[{'iso_639_1': 'en', 'name': 'English'}]",
         "Released",
         null,
         "Toy Story",
         "False",
         "7.7",
         "5415.0"
        ],
        [
         "1",
         "False",
         null,
         "65000000",
         "[{'id': 12, 'name': 'Adventure'}, {'id': 14, 'name': 'Fantasy'}, {'id': 10751, 'name': 'Family'}]",
         null,
         "8844",
         "tt0113497",
         "en",
         "Jumanji",
         "When siblings Judy and Peter discover an enchanted board game that opens the door to a magical world, they unwittingly invite Alan -- an adult who's been trapped inside the game for 26 years -- into their living room. Alan's only hope for freedom is to finish the game, which proves risky as all three find themselves running from giant rhinoceroses, evil monkeys and other terrifying creatures.",
         "17.015539",
         "/vzmL6fP7aPKNKPRTFnZmiUfciyV.jpg",
         "[{'name': 'TriStar Pictures', 'id': 559}, {'name': 'Teitler Film', 'id': 2550}, {'name': 'Interscope Communications', 'id': 10201}]",
         "[{'iso_3166_1': 'US', 'name': 'United States of America'}]",
         "1995-12-15",
         "262797249.0",
         "104.0",
         "[{'iso_639_1': 'en', 'name': 'English'}, {'iso_639_1': 'fr', 'name': 'Français'}]",
         "Released",
         "Roll the dice and unleash the excitement!",
         "Jumanji",
         "False",
         "6.9",
         "2413.0"
        ],
        [
         "2",
         "False",
         "{'id': 119050, 'name': 'Grumpy Old Men Collection', 'poster_path': '/nLvUdqgPgm3F85NMCii9gVFUcet.jpg', 'backdrop_path': '/hypTnLot2z8wpFS7qwsQHW1uV8u.jpg'}",
         "0",
         "[{'id': 10749, 'name': 'Romance'}, {'id': 35, 'name': 'Comedy'}]",
         null,
         "15602",
         "tt0113228",
         "en",
         "Grumpier Old Men",
         "A family wedding reignites the ancient feud between next-door neighbors and fishing buddies John and Max. Meanwhile, a sultry Italian divorcée opens a restaurant at the local bait shop, alarming the locals who worry she'll scare the fish away. But she's less interested in seafood than she is in cooking up a hot time with Max.",
         "11.7129",
         "/6ksm1sjKMFLbO7UY2i6G1ju9SML.jpg",
         "[{'name': 'Warner Bros.', 'id': 6194}, {'name': 'Lancaster Gate', 'id': 19464}]",
         "[{'iso_3166_1': 'US', 'name': 'United States of America'}]",
         "1995-12-22",
         "0.0",
         "101.0",
         "[{'iso_639_1': 'en', 'name': 'English'}]",
         "Released",
         "Still Yelling. Still Fighting. Still Ready for Love.",
         "Grumpier Old Men",
         "False",
         "6.5",
         "92.0"
        ],
        [
         "3",
         "False",
         null,
         "16000000",
         "[{'id': 35, 'name': 'Comedy'}, {'id': 18, 'name': 'Drama'}, {'id': 10749, 'name': 'Romance'}]",
         null,
         "31357",
         "tt0114885",
         "en",
         "Waiting to Exhale",
         "Cheated on, mistreated and stepped on, the women are holding their breath, waiting for the elusive \"good man\" to break a string of less-than-stellar lovers. Friends and confidants Vannah, Bernie, Glo and Robin talk it all out, determined to find a better way to breathe.",
         "3.859495",
         "/16XOMpEaLWkrcPqSQqhTmeJuqQl.jpg",
         "[{'name': 'Twentieth Century Fox Film Corporation', 'id': 306}]",
         "[{'iso_3166_1': 'US', 'name': 'United States of America'}]",
         "1995-12-22",
         "81452156.0",
         "127.0",
         "[{'iso_639_1': 'en', 'name': 'English'}]",
         "Released",
         "Friends are the people who let you be yourself... and never let you forget it.",
         "Waiting to Exhale",
         "False",
         "6.1",
         "34.0"
        ],
        [
         "4",
         "False",
         "{'id': 96871, 'name': 'Father of the Bride Collection', 'poster_path': '/nts4iOmNnq7GNicycMJ9pSAn204.jpg', 'backdrop_path': '/7qwE57OVZmMJChBpLEbJEmzUydk.jpg'}",
         "0",
         "[{'id': 35, 'name': 'Comedy'}]",
         null,
         "11862",
         "tt0113041",
         "en",
         "Father of the Bride Part II",
         "Just when George Banks has recovered from his daughter's wedding, he receives the news that she's pregnant ... and that George's wife, Nina, is expecting too. He was planning on selling their home, but that's a plan that -- like George -- will have to change with the arrival of both a grandchild and a kid of his own.",
         "8.387519",
         "/e64sOI48hQXyru7naBFyssKFxVd.jpg",
         "[{'name': 'Sandollar Productions', 'id': 5842}, {'name': 'Touchstone Pictures', 'id': 9195}]",
         "[{'iso_3166_1': 'US', 'name': 'United States of America'}]",
         "1995-02-10",
         "76578911.0",
         "106.0",
         "[{'iso_639_1': 'en', 'name': 'English'}]",
         "Released",
         "Just When His World Is Back To Normal... He's In For The Surprise Of His Life!",
         "Father of the Bride Part II",
         "False",
         "5.7",
         "173.0"
        ]
       ],
       "shape": {
        "columns": 24,
        "rows": 5
       }
      },
      "text/html": [
       "<div>\n",
       "<style scoped>\n",
       "    .dataframe tbody tr th:only-of-type {\n",
       "        vertical-align: middle;\n",
       "    }\n",
       "\n",
       "    .dataframe tbody tr th {\n",
       "        vertical-align: top;\n",
       "    }\n",
       "\n",
       "    .dataframe thead th {\n",
       "        text-align: right;\n",
       "    }\n",
       "</style>\n",
       "<table border=\"1\" class=\"dataframe\">\n",
       "  <thead>\n",
       "    <tr style=\"text-align: right;\">\n",
       "      <th></th>\n",
       "      <th>adult</th>\n",
       "      <th>belongs_to_collection</th>\n",
       "      <th>budget</th>\n",
       "      <th>genres</th>\n",
       "      <th>homepage</th>\n",
       "      <th>id</th>\n",
       "      <th>imdb_id</th>\n",
       "      <th>original_language</th>\n",
       "      <th>original_title</th>\n",
       "      <th>overview</th>\n",
       "      <th>...</th>\n",
       "      <th>release_date</th>\n",
       "      <th>revenue</th>\n",
       "      <th>runtime</th>\n",
       "      <th>spoken_languages</th>\n",
       "      <th>status</th>\n",
       "      <th>tagline</th>\n",
       "      <th>title</th>\n",
       "      <th>video</th>\n",
       "      <th>vote_average</th>\n",
       "      <th>vote_count</th>\n",
       "    </tr>\n",
       "  </thead>\n",
       "  <tbody>\n",
       "    <tr>\n",
       "      <th>0</th>\n",
       "      <td>False</td>\n",
       "      <td>{'id': 10194, 'name': 'Toy Story Collection', ...</td>\n",
       "      <td>30000000</td>\n",
       "      <td>[{'id': 16, 'name': 'Animation'}, {'id': 35, '...</td>\n",
       "      <td>http://toystory.disney.com/toy-story</td>\n",
       "      <td>862</td>\n",
       "      <td>tt0114709</td>\n",
       "      <td>en</td>\n",
       "      <td>Toy Story</td>\n",
       "      <td>Led by Woody, Andy's toys live happily in his ...</td>\n",
       "      <td>...</td>\n",
       "      <td>1995-10-30</td>\n",
       "      <td>373554033.0</td>\n",
       "      <td>81.0</td>\n",
       "      <td>[{'iso_639_1': 'en', 'name': 'English'}]</td>\n",
       "      <td>Released</td>\n",
       "      <td>NaN</td>\n",
       "      <td>Toy Story</td>\n",
       "      <td>False</td>\n",
       "      <td>7.7</td>\n",
       "      <td>5415.0</td>\n",
       "    </tr>\n",
       "    <tr>\n",
       "      <th>1</th>\n",
       "      <td>False</td>\n",
       "      <td>NaN</td>\n",
       "      <td>65000000</td>\n",
       "      <td>[{'id': 12, 'name': 'Adventure'}, {'id': 14, '...</td>\n",
       "      <td>NaN</td>\n",
       "      <td>8844</td>\n",
       "      <td>tt0113497</td>\n",
       "      <td>en</td>\n",
       "      <td>Jumanji</td>\n",
       "      <td>When siblings Judy and Peter discover an encha...</td>\n",
       "      <td>...</td>\n",
       "      <td>1995-12-15</td>\n",
       "      <td>262797249.0</td>\n",
       "      <td>104.0</td>\n",
       "      <td>[{'iso_639_1': 'en', 'name': 'English'}, {'iso...</td>\n",
       "      <td>Released</td>\n",
       "      <td>Roll the dice and unleash the excitement!</td>\n",
       "      <td>Jumanji</td>\n",
       "      <td>False</td>\n",
       "      <td>6.9</td>\n",
       "      <td>2413.0</td>\n",
       "    </tr>\n",
       "    <tr>\n",
       "      <th>2</th>\n",
       "      <td>False</td>\n",
       "      <td>{'id': 119050, 'name': 'Grumpy Old Men Collect...</td>\n",
       "      <td>0</td>\n",
       "      <td>[{'id': 10749, 'name': 'Romance'}, {'id': 35, ...</td>\n",
       "      <td>NaN</td>\n",
       "      <td>15602</td>\n",
       "      <td>tt0113228</td>\n",
       "      <td>en</td>\n",
       "      <td>Grumpier Old Men</td>\n",
       "      <td>A family wedding reignites the ancient feud be...</td>\n",
       "      <td>...</td>\n",
       "      <td>1995-12-22</td>\n",
       "      <td>0.0</td>\n",
       "      <td>101.0</td>\n",
       "      <td>[{'iso_639_1': 'en', 'name': 'English'}]</td>\n",
       "      <td>Released</td>\n",
       "      <td>Still Yelling. Still Fighting. Still Ready for...</td>\n",
       "      <td>Grumpier Old Men</td>\n",
       "      <td>False</td>\n",
       "      <td>6.5</td>\n",
       "      <td>92.0</td>\n",
       "    </tr>\n",
       "    <tr>\n",
       "      <th>3</th>\n",
       "      <td>False</td>\n",
       "      <td>NaN</td>\n",
       "      <td>16000000</td>\n",
       "      <td>[{'id': 35, 'name': 'Comedy'}, {'id': 18, 'nam...</td>\n",
       "      <td>NaN</td>\n",
       "      <td>31357</td>\n",
       "      <td>tt0114885</td>\n",
       "      <td>en</td>\n",
       "      <td>Waiting to Exhale</td>\n",
       "      <td>Cheated on, mistreated and stepped on, the wom...</td>\n",
       "      <td>...</td>\n",
       "      <td>1995-12-22</td>\n",
       "      <td>81452156.0</td>\n",
       "      <td>127.0</td>\n",
       "      <td>[{'iso_639_1': 'en', 'name': 'English'}]</td>\n",
       "      <td>Released</td>\n",
       "      <td>Friends are the people who let you be yourself...</td>\n",
       "      <td>Waiting to Exhale</td>\n",
       "      <td>False</td>\n",
       "      <td>6.1</td>\n",
       "      <td>34.0</td>\n",
       "    </tr>\n",
       "    <tr>\n",
       "      <th>4</th>\n",
       "      <td>False</td>\n",
       "      <td>{'id': 96871, 'name': 'Father of the Bride Col...</td>\n",
       "      <td>0</td>\n",
       "      <td>[{'id': 35, 'name': 'Comedy'}]</td>\n",
       "      <td>NaN</td>\n",
       "      <td>11862</td>\n",
       "      <td>tt0113041</td>\n",
       "      <td>en</td>\n",
       "      <td>Father of the Bride Part II</td>\n",
       "      <td>Just when George Banks has recovered from his ...</td>\n",
       "      <td>...</td>\n",
       "      <td>1995-02-10</td>\n",
       "      <td>76578911.0</td>\n",
       "      <td>106.0</td>\n",
       "      <td>[{'iso_639_1': 'en', 'name': 'English'}]</td>\n",
       "      <td>Released</td>\n",
       "      <td>Just When His World Is Back To Normal... He's ...</td>\n",
       "      <td>Father of the Bride Part II</td>\n",
       "      <td>False</td>\n",
       "      <td>5.7</td>\n",
       "      <td>173.0</td>\n",
       "    </tr>\n",
       "  </tbody>\n",
       "</table>\n",
       "<p>5 rows × 24 columns</p>\n",
       "</div>"
      ],
      "text/plain": [
       "   adult                              belongs_to_collection    budget  \\\n",
       "0  False  {'id': 10194, 'name': 'Toy Story Collection', ...  30000000   \n",
       "1  False                                                NaN  65000000   \n",
       "2  False  {'id': 119050, 'name': 'Grumpy Old Men Collect...         0   \n",
       "3  False                                                NaN  16000000   \n",
       "4  False  {'id': 96871, 'name': 'Father of the Bride Col...         0   \n",
       "\n",
       "                                              genres  \\\n",
       "0  [{'id': 16, 'name': 'Animation'}, {'id': 35, '...   \n",
       "1  [{'id': 12, 'name': 'Adventure'}, {'id': 14, '...   \n",
       "2  [{'id': 10749, 'name': 'Romance'}, {'id': 35, ...   \n",
       "3  [{'id': 35, 'name': 'Comedy'}, {'id': 18, 'nam...   \n",
       "4                     [{'id': 35, 'name': 'Comedy'}]   \n",
       "\n",
       "                               homepage     id    imdb_id original_language  \\\n",
       "0  http://toystory.disney.com/toy-story    862  tt0114709                en   \n",
       "1                                   NaN   8844  tt0113497                en   \n",
       "2                                   NaN  15602  tt0113228                en   \n",
       "3                                   NaN  31357  tt0114885                en   \n",
       "4                                   NaN  11862  tt0113041                en   \n",
       "\n",
       "                original_title  \\\n",
       "0                    Toy Story   \n",
       "1                      Jumanji   \n",
       "2             Grumpier Old Men   \n",
       "3            Waiting to Exhale   \n",
       "4  Father of the Bride Part II   \n",
       "\n",
       "                                            overview  ... release_date  \\\n",
       "0  Led by Woody, Andy's toys live happily in his ...  ...   1995-10-30   \n",
       "1  When siblings Judy and Peter discover an encha...  ...   1995-12-15   \n",
       "2  A family wedding reignites the ancient feud be...  ...   1995-12-22   \n",
       "3  Cheated on, mistreated and stepped on, the wom...  ...   1995-12-22   \n",
       "4  Just when George Banks has recovered from his ...  ...   1995-02-10   \n",
       "\n",
       "       revenue runtime                                   spoken_languages  \\\n",
       "0  373554033.0    81.0           [{'iso_639_1': 'en', 'name': 'English'}]   \n",
       "1  262797249.0   104.0  [{'iso_639_1': 'en', 'name': 'English'}, {'iso...   \n",
       "2          0.0   101.0           [{'iso_639_1': 'en', 'name': 'English'}]   \n",
       "3   81452156.0   127.0           [{'iso_639_1': 'en', 'name': 'English'}]   \n",
       "4   76578911.0   106.0           [{'iso_639_1': 'en', 'name': 'English'}]   \n",
       "\n",
       "     status                                            tagline  \\\n",
       "0  Released                                                NaN   \n",
       "1  Released          Roll the dice and unleash the excitement!   \n",
       "2  Released  Still Yelling. Still Fighting. Still Ready for...   \n",
       "3  Released  Friends are the people who let you be yourself...   \n",
       "4  Released  Just When His World Is Back To Normal... He's ...   \n",
       "\n",
       "                         title  video vote_average vote_count  \n",
       "0                    Toy Story  False          7.7     5415.0  \n",
       "1                      Jumanji  False          6.9     2413.0  \n",
       "2             Grumpier Old Men  False          6.5       92.0  \n",
       "3            Waiting to Exhale  False          6.1       34.0  \n",
       "4  Father of the Bride Part II  False          5.7      173.0  \n",
       "\n",
       "[5 rows x 24 columns]"
      ]
     },
     "execution_count": 39,
     "metadata": {},
     "output_type": "execute_result"
    }
   ],
   "source": [
    "movies_metadata.head()"
   ]
  },
  {
   "cell_type": "code",
   "execution_count": 40,
   "metadata": {},
   "outputs": [
    {
     "data": {
      "text/plain": [
       "adult                     object\n",
       "belongs_to_collection     object\n",
       "budget                    object\n",
       "genres                    object\n",
       "homepage                  object\n",
       "id                        object\n",
       "imdb_id                   object\n",
       "original_language         object\n",
       "original_title            object\n",
       "overview                  object\n",
       "popularity                object\n",
       "poster_path               object\n",
       "production_companies      object\n",
       "production_countries      object\n",
       "release_date              object\n",
       "revenue                  float64\n",
       "runtime                  float64\n",
       "spoken_languages          object\n",
       "status                    object\n",
       "tagline                   object\n",
       "title                     object\n",
       "video                     object\n",
       "vote_average             float64\n",
       "vote_count               float64\n",
       "dtype: object"
      ]
     },
     "execution_count": 40,
     "metadata": {},
     "output_type": "execute_result"
    }
   ],
   "source": [
    "movies_metadata.dtypes"
   ]
  },
  {
   "cell_type": "markdown",
   "metadata": {},
   "source": [
    "Cleaning & convert data type"
   ]
  },
  {
   "cell_type": "code",
   "execution_count": 41,
   "metadata": {},
   "outputs": [],
   "source": [
    "# Rename column using the same convention\n",
    "movies_metadata.rename(columns={\"id\": \"tmdb_id\"}, inplace=True)"
   ]
  },
  {
   "cell_type": "code",
   "execution_count": 42,
   "metadata": {},
   "outputs": [
    {
     "data": {
      "application/vnd.microsoft.datawrangler.viewer.v0+json": {
       "columns": [
        {
         "name": "index",
         "rawType": "int64",
         "type": "integer"
        },
        {
         "name": "adult",
         "rawType": "object",
         "type": "string"
        },
        {
         "name": "belongs_to_collection",
         "rawType": "object",
         "type": "unknown"
        },
        {
         "name": "budget",
         "rawType": "object",
         "type": "string"
        },
        {
         "name": "genres",
         "rawType": "object",
         "type": "string"
        },
        {
         "name": "homepage",
         "rawType": "object",
         "type": "unknown"
        },
        {
         "name": "tmdb_id",
         "rawType": "object",
         "type": "string"
        },
        {
         "name": "imdb_id",
         "rawType": "object",
         "type": "unknown"
        },
        {
         "name": "original_language",
         "rawType": "object",
         "type": "unknown"
        },
        {
         "name": "original_title",
         "rawType": "object",
         "type": "string"
        },
        {
         "name": "overview",
         "rawType": "object",
         "type": "unknown"
        },
        {
         "name": "popularity",
         "rawType": "object",
         "type": "unknown"
        },
        {
         "name": "poster_path",
         "rawType": "object",
         "type": "unknown"
        },
        {
         "name": "production_companies",
         "rawType": "object",
         "type": "unknown"
        },
        {
         "name": "production_countries",
         "rawType": "object",
         "type": "unknown"
        },
        {
         "name": "release_date",
         "rawType": "object",
         "type": "unknown"
        },
        {
         "name": "revenue",
         "rawType": "float64",
         "type": "float"
        },
        {
         "name": "runtime",
         "rawType": "float64",
         "type": "float"
        },
        {
         "name": "spoken_languages",
         "rawType": "object",
         "type": "unknown"
        },
        {
         "name": "status",
         "rawType": "object",
         "type": "unknown"
        },
        {
         "name": "tagline",
         "rawType": "object",
         "type": "unknown"
        },
        {
         "name": "title",
         "rawType": "object",
         "type": "unknown"
        },
        {
         "name": "video",
         "rawType": "object",
         "type": "unknown"
        },
        {
         "name": "vote_average",
         "rawType": "float64",
         "type": "float"
        },
        {
         "name": "vote_count",
         "rawType": "float64",
         "type": "float"
        }
       ],
       "conversionMethod": "pd.DataFrame",
       "ref": "7906be67-7cb4-4dcf-a3cd-598126463c5e",
       "rows": [
        [
         "35587",
         " Avalanche Sharks tells the story of a bikini contest that turns into a horrifying affair when it is hit by a shark avalanche.",
         "2.185485",
         "/zaSf5OG7V8X8gqFvly88zDdRm46.jpg",
         "[{'name': 'Odyssey Media', 'id': 17161}, {'name': 'Pulser Productions', 'id': 18012}, {'name': 'Rogue State', 'id': 18013}, {'name': 'The Cartel', 'id': 23822}]",
         "[{'iso_3166_1': 'CA', 'name': 'Canada'}]",
         "2014-01-01",
         "0",
         "82.0",
         "[{'iso_639_1': 'en', 'name': 'English'}]",
         "Released",
         "Beware Of Frost Bites",
         "Avalanche Sharks",
         "False",
         "4.3",
         "22",
         null,
         null,
         null,
         null,
         null,
         null,
         null,
         null,
         null
        ],
        [
         "29503",
         " Rune Balot goes to a casino connected to the October corporation to try to wrap up her case once and for all.",
         "1.931659",
         "/zV8bHuSL6WXoD6FWogP9j4x80bL.jpg",
         "[{'name': 'Aniplex', 'id': 2883}, {'name': 'GoHands', 'id': 7759}, {'name': 'BROSTA TV', 'id': 7760}, {'name': 'Mardock Scramble Production Committee', 'id': 7761}, {'name': 'Sentai Filmworks', 'id': 33751}]",
         "[{'iso_3166_1': 'US', 'name': 'United States of America'}, {'iso_3166_1': 'JP', 'name': 'Japan'}]",
         "2012-09-29",
         "0",
         "68.0",
         "[{'iso_639_1': 'ja', 'name': '日本語'}]",
         "Released",
         null,
         "Mardock Scramble: The Third Exhaust",
         "False",
         "7.0",
         "12",
         null,
         null,
         null,
         null,
         null,
         null,
         null,
         null,
         null
        ],
        [
         "19730",
         " - Written by Ørnås",
         "0.065736",
         "/ff9qCepilowshEtG2GYWwzt2bs4.jpg",
         "[{'name': 'Carousel Productions', 'id': 11176}, {'name': 'Vision View Entertainment', 'id': 11602}, {'name': 'Telescene Film Group Productions', 'id': 29812}]",
         "[{'iso_3166_1': 'CA', 'name': 'Canada'}, {'iso_3166_1': 'LU', 'name': 'Luxembourg'}, {'iso_3166_1': 'GB', 'name': 'United Kingdom'}, {'iso_3166_1': 'US', 'name': 'United States of America'}]",
         "1997-08-20",
         "0",
         "104.0",
         "[{'iso_639_1': 'en', 'name': 'English'}]",
         "Released",
         null,
         "Midnight Man",
         "False",
         "6.0",
         "1",
         null,
         null,
         null,
         null,
         null,
         null,
         null,
         null,
         null
        ],
        [
         "16070",
         "False",
         null,
         "0",
         "[{'id': 18, 'name': 'Drama'}]",
         null,
         "130917",
         "tt0081656",
         "en",
         "Tribute",
         "A shallow Broadway press agent learns he is dying just as his son by his ex-wife arrives for a visit.",
         "0.695113",
         "/nsUsSoj9ap0eE5A8oZrPmYTA42e.jpg",
         "[]",
         "[]",
         "1980-12-14",
         "0.0",
         "121.0",
         "[{'iso_639_1': 'en', 'name': 'English'}]",
         "Released",
         null,
         "Tribute",
         "False",
         "5.3",
         "3.0"
        ],
        [
         "45434",
         "False",
         null,
         "0",
         "[]",
         null,
         "325439",
         "tt0055178",
         "en",
         "Le Meraviglie di Aladino",
         "Young Aladdin (Donald O'Connor) has a series of wild adventures after he discovers a magic lamp containing a genie (Vittorio De Sica).",
         "0.093498",
         "/UmS7SMaCb1n7uZzkzQSGeGD5Vk.jpg",
         "[]",
         "[]",
         "1961-10-31",
         "0.0",
         "93.0",
         "[{'iso_639_1': 'en', 'name': 'English'}]",
         "Released",
         null,
         "The Wonders of Aladdin",
         "False",
         "0.0",
         "0.0"
        ],
        [
         "45448",
         "False",
         null,
         "0",
         "[]",
         null,
         "122036",
         "tt0224286",
         "fr",
         "Les Transmutations imperceptibles",
         "This shows a prince entering upon the stage of the King's private theatre. He is about to do a few mystifying tricks for the amusement of the court.",
         "0.071782",
         "/ifWvveLPWWrzitz4oL01YMEokiB.jpg",
         "[{'name': 'Star Film Company', 'id': 45867}]",
         "[{'iso_3166_1': 'FR', 'name': 'France'}]",
         "1904-01-01",
         "0.0",
         "2.0",
         "[]",
         "Released",
         null,
         "The Imperceptable Transmutations",
         "False",
         "5.0",
         "2.0"
        ],
        [
         "45465",
         "False",
         null,
         "0",
         "[]",
         null,
         "461257",
         "tt6980792",
         "en",
         "Queerama",
         "50 years after decriminalisation of homosexuality in the UK, director Daisy Asquith mines the jewels of the BFI archive to take us into the relationships, desires, fears and expressions of gay men and women in the 20th century.",
         "0.163015",
         "/s5UkZt6NTsrS7ZF0Rh8nzupRlIU.jpg",
         "[]",
         "[{'iso_3166_1': 'GB', 'name': 'United Kingdom'}]",
         "2017-06-09",
         "0.0",
         "75.0",
         "[{'iso_639_1': 'en', 'name': 'English'}]",
         "Released",
         null,
         "Queerama",
         "False",
         "0.0",
         "0.0"
        ],
        [
         "45437",
         "False",
         null,
         "0",
         "[{'id': 10751, 'name': 'Family'}, {'id': 16, 'name': 'Animation'}, {'id': 10749, 'name': 'Romance'}, {'id': 35, 'name': 'Comedy'}]",
         null,
         "455661",
         "tt6969946",
         "en",
         "In a Heartbeat",
         "A closeted boy runs the risk of being outed by his own heart after it pops out of his chest to chase down the boy of his dreams.",
         "20.82178",
         "/wJUJROdLOtOzMixkjkx1aaZGSLl.jpg",
         "[{'name': 'Ringling College of Art and Design', 'id': 18359}]",
         "[{'iso_3166_1': 'US', 'name': 'United States of America'}]",
         "2017-06-01",
         "0.0",
         "4.0",
         "[{'iso_639_1': 'en', 'name': 'English'}]",
         "Released",
         "The Heart Wants What The Heart Wants",
         "In a Heartbeat",
         "False",
         "8.3",
         "146.0"
        ],
        [
         "45451",
         "False",
         null,
         "0",
         "[{'id': 35, 'name': 'Comedy'}, {'id': 14, 'name': 'Fantasy'}]",
         null,
         "106807",
         "tt0135571",
         "fr",
         "Nouvelles luttes extravagantes",
         "A series of fantastical wrestling matches.",
         "0.225432",
         "/tn5J3PszVETDkKj49nakmeqr8Od.jpg",
         "[{'name': 'Star-Film', 'id': 7159}]",
         "[{'iso_3166_1': 'FR', 'name': 'France'}]",
         "1900-01-01",
         "0.0",
         "2.0",
         "[{'iso_639_1': 'xx', 'name': 'No Language'}]",
         "Released",
         null,
         "The Fat and Lean Wrestling Match",
         "False",
         "6.5",
         "6.0"
        ],
        [
         "45452",
         "False",
         null,
         "0",
         "[{'id': 99, 'name': 'Documentary'}]",
         null,
         "276895",
         "tt3054038",
         "en",
         "Deep Hearts",
         "Deep Hearts is a film about the Bororo Fulani, a nomadic society located in central Niger Republic and the title is a reference to an important aspect of these people’s thought and demeanor.",
         "0.011025",
         "/8jI4ykkIVDmrYgUjDld9i0aulMq.jpg",
         "[]",
         "[{'iso_3166_1': 'US', 'name': 'United States of America'}]",
         "1981-01-01",
         "0.0",
         "58.0",
         "[{'iso_639_1': 'ff', 'name': 'Fulfulde'}, {'iso_639_1': 'en', 'name': 'English'}]",
         "Released",
         null,
         "Deep Hearts",
         "False",
         "0.0",
         "0.0"
        ],
        [
         "45453",
         "False",
         null,
         "0",
         "[{'id': 80, 'name': 'Crime'}, {'id': 18, 'name': 'Drama'}, {'id': 53, 'name': 'Thriller'}]",
         null,
         "404604",
         "tt5690142",
         "hi",
         "Maa",
         "The bliss of a biology teacher’s family life in Delhi is shattered when her daughter, Arya  is physically assaulted by Jagan and gang. Does Devki Sabarwal wait for the law to take its course? Or does Devki become Maa Durga and hunt down the perpetrators of the crime?",
         "1.559596",
         "/zZwbntqdfKdVgzH1RoMHa99g0mJ.jpg",
         "[{'name': 'Mad Films', 'id': 82459}, {'name': 'Third Eye Pictures', 'id': 88831}]",
         "[{'iso_3166_1': 'IN', 'name': 'India'}]",
         "2017-07-07",
         "0.0",
         "146.0",
         "[{'iso_639_1': 'hi', 'name': 'हिन्दी'}]",
         "Released",
         null,
         "Mom",
         "False",
         "6.6",
         "14.0"
        ],
        [
         "45454",
         "False",
         null,
         "0",
         "[{'id': 35, 'name': 'Comedy'}, {'id': 18, 'name': 'Drama'}]",
         null,
         "420346",
         "tt4130180",
         "en",
         "The Morning After",
         "The Morning After is a feature film that consists of 8 vignettes that are inter-cut throughout the film. The 8 vignettes are about when you wake up next to someone the next morning...",
         "0.139936",
         "/rpkDqyKdXahRcZIEC9I02EBSwje.jpg",
         "[{'name': 'Oops Doughnuts Productions', 'id': 5698}, {'name': 'He and She Films', 'id': 85400}]",
         "[{'iso_3166_1': 'US', 'name': 'United States of America'}]",
         "2015-01-11",
         "0.0",
         "79.0",
         "[{'iso_639_1': 'en', 'name': 'English'}]",
         "Released",
         "What happened last night?",
         "The Morning After",
         "False",
         "4.0",
         "2.0"
        ],
        [
         "45457",
         "False",
         null,
         "0",
         "[{'id': 9648, 'name': 'Mystery'}, {'id': 27, 'name': 'Horror'}]",
         null,
         "390959",
         "tt0265736",
         "en",
         "Shadow of the Blair Witch",
         "In this true-crime documentary, we delve into the murder spree that was the inspiration for Joe Berlinger's \"Book of Shadows: Blair Witch 2\".",
         "0.076061",
         "/q75tCM4pFmUzdCg0gqcOQquCaYf.jpg",
         "[]",
         "[]",
         "2000-10-22",
         "0.0",
         "45.0",
         "[{'iso_639_1': 'en', 'name': 'English'}]",
         "Released",
         null,
         "Shadow of the Blair Witch",
         "False",
         "7.0",
         "2.0"
        ],
        [
         "45458",
         "False",
         null,
         "0",
         "[{'id': 27, 'name': 'Horror'}]",
         null,
         "289923",
         "tt0252966",
         "en",
         "The Burkittsville 7",
         "A film archivist revisits the story of Rustin Parr, a hermit thought to have murdered seven children while under the possession of the Blair Witch.",
         "0.38645",
         "/lXtoHVdej6kS1Dc7KAhw05sMos9.jpg",
         "[{'name': 'Neptune Salad Entertainment', 'id': 27570}, {'name': 'Pirie Productions', 'id': 27571}]",
         "[{'iso_3166_1': 'US', 'name': 'United States of America'}]",
         "2000-10-03",
         "0.0",
         "30.0",
         "[{'iso_639_1': 'en', 'name': 'English'}]",
         "Released",
         "Do you know what happened 50 years before \"The Blair Witch Project\"?",
         "The Burkittsville 7",
         "False",
         "7.0",
         "1.0"
        ],
        [
         "45459",
         "False",
         null,
         "0",
         "[{'id': 878, 'name': 'Science Fiction'}]",
         null,
         "222848",
         "tt0112613",
         "en",
         "Caged Heat 3000",
         "It's the year 3000 AD. The world's most dangerous women are banished to a remote asteroid 45 million light years from earth. Kira Murphy doesn't belong; wrongfully accused of a crime she did not commit, she's thrown in this interplanetary prison and left to her own defenses. But Kira's a fighter, and soon she finds herself in the middle of a female gang war; where everyone wants a piece of the action... and a piece of her! \"Caged Heat 3000\" takes the Women-in-Prison genre to a whole new level... and a whole new galaxy!",
         "0.661558",
         "/4lF9LH0b0Z1X94xGK9IOzqEW6k1.jpg",
         "[{'name': 'Concorde-New Horizons', 'id': 4688}]",
         "[{'iso_3166_1': 'US', 'name': 'United States of America'}]",
         "1995-01-01",
         "0.0",
         "85.0",
         "[{'iso_639_1': 'en', 'name': 'English'}]",
         "Released",
         null,
         "Caged Heat 3000",
         "False",
         "3.5",
         "1.0"
        ],
        [
         "16095",
         "False",
         null,
         "0",
         "[]",
         null,
         "126238",
         "tt0479550",
         "en",
         "Ten Skies",
         "Ten shots of skies.",
         "0.10836",
         "/vgExy9PgcVcYBndkdyHE5LPJFjZ.jpg",
         "[]",
         "[]",
         "2004-11-21",
         "0.0",
         "101.0",
         "[]",
         "Released",
         null,
         "Ten Skies",
         "False",
         "7.7",
         "3.0"
        ],
        [
         "16102",
         "False",
         null,
         "0",
         "[{'id': 10769, 'name': 'Foreign'}]",
         null,
         "103894",
         "tt1644577",
         "en",
         "Thieves By Law",
         "Documentary about Russian Mafia.",
         "0.171242",
         "/bRHkGbfZjTni8XxayGW8Inqyi4k.jpg",
         "[]",
         "[]",
         "2010-04-22",
         "0.0",
         "90.0",
         "[]",
         "Released",
         null,
         "Thieves by Law",
         "False",
         "7.7",
         "3.0"
        ],
        [
         "16105",
         "False",
         null,
         "0",
         "[{'id': 18, 'name': 'Drama'}]",
         null,
         "137504",
         "tt0045507",
         "ja",
         "あにいもうと",
         "The eldest daughter of a rural family Mon returns home from Tokyo pregnant after an affair with a college student Kobata, which causes a scandal that will threaten the marriage prospects of the younger sister San, in her cash-strapped family. The ill-tempered eldest brother Inokichi decides to take on the role of disciplinarian, with harrowing results.",
         "0.458318",
         "/ujHC6VsSBJIHCGYxpzQZGEgGxG4.jpg",
         "[{'name': 'Daiei Tokyo Daini', 'id': 66913}]",
         "[{'iso_3166_1': 'JP', 'name': 'Japan'}]",
         "1953-08-19",
         "0.0",
         "86.0",
         "[{'iso_639_1': 'ja', 'name': '日本語'}]",
         "Released",
         null,
         "Older Brother, Younger Sister",
         "False",
         "0.0",
         "0.0"
        ],
        [
         "16109",
         "False",
         null,
         "262000",
         "[{'id': 99, 'name': 'Documentary'}, {'id': 10402, 'name': 'Music'}, {'id': 10769, 'name': 'Foreign'}]",
         "http://www.magneettimies.com",
         "112072",
         "tt1533796",
         "fi",
         "Magneettimies",
         "A look at the life and music of Pekka Streng who died at the age of 26 in 1975.",
         "0.121601",
         "/769HVqTY32pWXpi8Nmdsp4ocGEE.jpg",
         "[]",
         "[{'iso_3166_1': 'FI', 'name': 'Finland'}]",
         "2009-10-16",
         "0.0",
         "79.0",
         "[{'iso_639_1': 'fi', 'name': 'suomi'}]",
         "Released",
         null,
         "The magnetic man",
         "False",
         "5.3",
         "3.0"
        ],
        [
         "16110",
         "False",
         "{'id': 167716, 'name': 'The Bill Douglas Trilogy', 'poster_path': '/xrgEFhTTrSRYcfJBQpALOffdecW.jpg', 'backdrop_path': None}",
         "0",
         "[]",
         null,
         "114444",
         "tt0068983",
         "en",
         "My Childhood",
         "The first part of Bill Douglas' influential trilogy harks back to his impoverished upbringing in early-'40s Scotland. Cinema was his only escape - he paid for it with the money he made from returning empty jam jars - and this escape is reflected most closely at this time of his life as an eight-year-old living on the breadline with his half-brother and sick grandmother in a poor mining village.",
         "0.063647",
         "/aWQr9D0PFY5ivDm1tqGryeqxAtB.jpg",
         "[{'name': 'British Film Institute (BFI)', 'id': 7281}]",
         "[{'iso_3166_1': 'GB', 'name': 'United Kingdom'}]",
         "1972-06-05",
         "0.0",
         "48.0",
         "[{'iso_639_1': 'en', 'name': 'English'}]",
         "Released",
         null,
         "My Childhood",
         "False",
         "7.4",
         "10.0"
        ],
        [
         "16111",
         "False",
         null,
         "0",
         "[]",
         null,
         "157178",
         "tt0113205",
         "pl",
         "Grający z talerza",
         null,
         "0.104189",
         "/lTMxzlHen278MM64W0OJlt4PHoF.jpg",
         "[]",
         "[{'iso_3166_1': 'PL', 'name': 'Poland'}]",
         "1995-11-07",
         "0.0",
         "0.0",
         "[{'iso_639_1': 'pl', 'name': 'Polski'}]",
         "Released",
         null,
         "Grający z talerza",
         "False",
         "7.8",
         "2.0"
        ],
        [
         "16113",
         "False",
         null,
         "0",
         "[{'id': 16, 'name': 'Animation'}, {'id': 10751, 'name': 'Family'}, {'id': 10769, 'name': 'Foreign'}]",
         null,
         "134569",
         "tt2408288",
         "en",
         "Jib",
         "The Korean Academy of Film Arts has produced an animation for 3 consecutive years through a collaborative project. Considering the severe reality of Korean animation in that it lacks an industrial infrastructure, \"The House\" demonstrates the possibilities of Korean animation and the efficiency of collective production. While comparing apartments in the downtown core to the shabby environment of a marginalized district, \"The House\" portrays the collapse of the spirits dwelling at the house. As such the adventure of Ga-young and the spirits in the house becomes a criticism of modern society: enlightenment via animation. Although this animation may not have the most delicate or original style, the 5 animators that worked on this film unleashed their imaginations, ultimately showcasing the power of a collective process and a pleasure of the collective imagination.",
         "0.27606",
         "/mEfOGqcNcj1W4X4IFxyolYxUDBs.jpg",
         "[]",
         "[{'iso_3166_1': 'KR', 'name': 'South Korea'}]",
         "2011-03-17",
         "0.0",
         "72.0",
         "[{'iso_639_1': 'ko', 'name': '한국어/조선말'}]",
         "Released",
         null,
         "The House",
         "False",
         "7.1",
         "4.0"
        ],
        [
         "45462",
         "False",
         null,
         "0",
         "[{'id': 18, 'name': 'Drama'}]",
         null,
         "111109",
         "tt2028550",
         "tl",
         "Siglo ng Pagluluwal",
         "An artist struggles to finish his work while a storyline about a cult plays in his head.",
         "0.178241",
         "/xZkmxsNmYXJbKVsTRLLx3pqGHx7.jpg",
         "[{'name': 'Sine Olivia', 'id': 19653}]",
         "[{'iso_3166_1': 'PH', 'name': 'Philippines'}]",
         "2011-11-17",
         "0.0",
         "360.0",
         "[{'iso_639_1': 'tl', 'name': ''}]",
         "Released",
         null,
         "Century of Birthing",
         "False",
         "9.0",
         "3.0"
        ],
        [
         "45384",
         "False",
         null,
         "0",
         "[{'id': 35, 'name': 'Comedy'}, {'id': 27, 'name': 'Horror'}, {'id': 18, 'name': 'Drama'}]",
         null,
         "434873",
         "tt5735280",
         "en",
         "It Stains the Sands Red",
         "In the throes of a zombie apocalypse, A troubled woman from Las Vegas with a dark past, finds herself stranded in the desert with a lone and ravenous zombie on her tail.",
         "8.471866",
         "/rBCjDBa2Dau9WqEslCpdJni394M.jpg",
         "[{'name': 'Digital Interference Productions', 'id': 52207}, {'name': 'Grasswood Media', 'id': 86331}]",
         "[{'iso_3166_1': 'US', 'name': 'United States of America'}]",
         "2016-10-08",
         "0.0",
         "92.0",
         "[{'iso_639_1': 'en', 'name': 'English'}]",
         "Released",
         "If the heat doesn't kill you, something else will",
         "It Stains the Sands Red",
         "False",
         "5.6",
         "21.0"
        ],
        [
         "45385",
         "False",
         null,
         "0",
         "[]",
         null,
         "175461",
         "tt0140434",
         "de",
         "Lichtspiel opus I",
         "Against a dark background, several bright, curved or rounded shapes pulse towards the center of the screen, one at a time. They are followed by many other shapes, some irregular, some pointed, others rounded. The abstract shapes move into or across the screen in harmony with the musical score.",
         "0.212768",
         "/10Ijl1svZg0GNNzATfvCKBABX6Y.jpg",
         "[]",
         "[]",
         "1921-04-26",
         "0.0",
         "12.0",
         "[]",
         "Released",
         null,
         "Lichtspiel opus I",
         "False",
         "6.5",
         "10.0"
        ],
        [
         "45386",
         "False",
         null,
         "0",
         "[{'id': 16, 'name': 'Animation'}]",
         null,
         "175457",
         "tt0403386",
         "en",
         "Opus II",
         "An abstract animation from Walter Ruttmann.",
         "0.177238",
         "/xShOZM3yHD00MOJKBegQ0o8RTvD.jpg",
         "[]",
         "[{'iso_3166_1': 'DE', 'name': 'Germany'}]",
         "1921-12-31",
         "0.0",
         "4.0",
         "[]",
         "Released",
         null,
         "Opus II",
         "False",
         "6.7",
         "5.0"
        ],
        [
         "45387",
         "False",
         null,
         "0",
         "[]",
         null,
         "176298",
         "tt0177955",
         "en",
         "Opus III",
         "An abstract animation from Walter Ruttmann.",
         "0.256196",
         "/wB5f6gOiqHR8lJWxjIlBJnLbF0s.jpg",
         "[]",
         "[]",
         "1924-03-11",
         "0.0",
         "3.0",
         "[]",
         "Released",
         null,
         "Opus III",
         "False",
         "6.9",
         "5.0"
        ],
        [
         "45388",
         "False",
         null,
         "0",
         "[{'id': 16, 'name': 'Animation'}]",
         null,
         "184402",
         "tt0177956",
         "de",
         "Opus IV",
         "An abstract animation by Walter Ruttmann.",
         "0.433345",
         "/mF7L0KIt3i8L5vpN2uLhyNlcvyM.jpg",
         "[]",
         "[{'iso_3166_1': 'DE', 'name': 'Germany'}]",
         "1925-04-09",
         "0.0",
         "4.0",
         "[{'iso_639_1': 'xx', 'name': 'No Language'}]",
         "Released",
         null,
         "Opus IV",
         "False",
         "6.9",
         "4.0"
        ],
        [
         "45389",
         "False",
         null,
         "0",
         "[{'id': 99, 'name': 'Documentary'}]",
         null,
         "370213",
         "tt5278928",
         "fa",
         "Sonita",
         "If 18-year-old Sonita had a say, Michael Jackson and Rihanna would be her parents and she'd be a rapper who tells the story of Afghan women and their fate as child brides. She finds out that her family plans to sell her to an unknown husband for $9,000.",
         "0.399658",
         "/gTLYkTZWLo5NkWGdMbSHiCLo3aa.jpg",
         "[]",
         "[{'iso_3166_1': 'DE', 'name': 'Germany'}, {'iso_3166_1': 'CH', 'name': 'Switzerland'}]",
         "2015-11-20",
         "0.0",
         "91.0",
         "[{'iso_639_1': 'en', 'name': 'English'}, {'iso_639_1': 'fa', 'name': 'فارسی'}]",
         "Released",
         null,
         "Sonita",
         "False",
         "6.0",
         "1.0"
        ],
        [
         "45391",
         "False",
         null,
         "0",
         "[{'id': 10749, 'name': 'Romance'}]",
         "http://pixltv.com/cant-buy-my-love-premieres-saturday-march-4/",
         "445126",
         "tt5864238",
         "en",
         "Can't Buy My Love",
         "Lilly, a hard working EMT, is only focused on her job and getting into medical school. So when wealthy slacker Jeff enters her life it throws her off course. At first, Lilly wants nothing to do with Jeff or his sense of entitlement and lack of direction. As she spends more time with him, she starts to realize that you can’t always judge a book by its cover.",
         "0.661347",
         "/fT3i5Yegn1gqoNsfV1utk1vwcvU.jpg",
         "[]",
         "[]",
         "2017-03-04",
         "0.0",
         "86.0",
         "[{'iso_639_1': 'en', 'name': 'English'}]",
         "Released",
         null,
         "Can't Buy My Love",
         "False",
         "7.0",
         "7.0"
        ],
        [
         "45392",
         "False",
         null,
         "0",
         "[{'id': 10770, 'name': 'TV Movie'}, {'id': 10749, 'name': 'Romance'}]",
         "http://pixltv.com/hopeless-romantic-premieres-saturday-june-4/",
         "401687",
         "tt5775814",
         "en",
         "Hopeless Romantic",
         "Hopeless romantic Matt (Brandon W. Jones) decides it’s time to pop the big question to his girlfriend, Alexis (Cassi Thomson). Before the big evening he practices his proposal on his best friend, Liz (Christa B. Allen). Matt believes if he follows the rules of all of his favorite romantic comedies he’s guaranteed a “Yes!” To Matt’s dismay, Alexis gently rejects him stating he’s only interested in the idea of being in love and not a real relationship. After this unexpected disaster, Matt binge watches one rom-com after another and comes up with plan to win Alexis back. Though Liz thinks Matt’s plan is absurd she agrees to be his wingman. The operation to rekindle his relationship appears to be working only for Matt to face the reality that he and Alexis may have grown apart and his heart belongs elsewhere.",
         "0.253497",
         "/c4v2ng9xfwt5dEP5T6ngeimozLu.jpg",
         "[{'name': 'Larry Levinson Productions', 'id': 3282}]",
         "[{'iso_3166_1': 'US', 'name': 'United States of America'}]",
         "2016-06-04",
         "0.0",
         "86.0",
         "[{'iso_639_1': 'en', 'name': 'English'}]",
         "Released",
         null,
         "Hopeless Romantic",
         "False",
         "4.3",
         "3.0"
        ],
        [
         "45393",
         "False",
         null,
         "0",
         "[{'id': 18, 'name': 'Drama'}, {'id': 10749, 'name': 'Romance'}]",
         null,
         "200066",
         "tt0095150",
         "en",
         "Il frullo del passero",
         "A woman, who has been the mistress of a man who has just died, thinks about leaving the little Italian village where they lived and moving to another place. An old and rich man offers her a place in his house, however, she will have to listen to him telling his past love stories.",
         "0.138621",
         "/36KPcZJbbZKqvfeWjyG5xcHYHKR.jpg",
         "[{'name': 'Reteitalia', 'id': 1242}]",
         "[{'iso_3166_1': 'IT', 'name': 'Italy'}, {'iso_3166_1': 'FR', 'name': 'France'}]",
         "1988-01-01",
         "0.0",
         "95.0",
         "[{'iso_639_1': 'it', 'name': 'Italiano'}]",
         "Released",
         null,
         "The Sparrow's Fluttering",
         "False",
         "0.0",
         "0.0"
        ],
        [
         "45394",
         "False",
         null,
         "0",
         "[{'id': 18, 'name': 'Drama'}]",
         null,
         "273279",
         "tt1563665",
         "fr",
         "La peau de chagrin",
         "In 19th-century France, a man (Thomas Coumans) magically has his wishes come true but at a price that shortens his life.",
         "1.235341",
         "/1Hm7BHuc2TZqx1SYeidS8ht6YvU.jpg",
         "[{'name': 'Fontana Productions', 'id': 2306}, {'name': 'Radio Télévision Belge Francophone (RTBF)', 'id': 7466}, {'name': 'France 2 Cinéma', 'id': 15671}, {'name': 'Murmures Productions', 'id': 24152}]",
         "[{'iso_3166_1': 'BE', 'name': 'Belgium'}, {'iso_3166_1': 'FR', 'name': 'France'}]",
         "2010-09-22",
         "0.0",
         "98.0",
         "[{'iso_639_1': 'fr', 'name': 'Français'}]",
         "Released",
         null,
         "The Skin of Sorrow",
         "False",
         "7.0",
         "1.0"
        ],
        [
         "36",
         "False",
         null,
         "0",
         "[{'id': 12, 'name': 'Adventure'}, {'id': 36, 'name': 'History'}, {'id': 18, 'name': 'Drama'}, {'id': 10751, 'name': 'Family'}]",
         null,
         "139405",
         "tt0112286",
         "en",
         "Across the Sea of Time",
         "A young Russian boy, Thomas Minton, travels to New York as a passenger on a Russian freighter. Close to Ellis Island he gets off and thus starts his journey to America the same way as all immigrants in former times. Thomas is searching for the family of one of his ancestors, who had emigrated decades ago, but once sent a letter home together with a sample of his new profession: 3D-Photography. The boy follows his relative's traces by counter-checking the old 3D-Photographs of New York (using an antique viewer) with the same places and how they look today. This way, the audience gets to see the Big Apple in former times as well as today.",
         "0.114469",
         "/lKOAyy098yjoot8cutYsStVO1WS.jpg",
         "[{'name': 'Sony New Technologies', 'id': 53390}]",
         "[{'iso_3166_1': 'US', 'name': 'United States of America'}]",
         "1995-10-20",
         "0.0",
         "51.0",
         "[{'iso_639_1': 'ru', 'name': 'Pусский'}, {'iso_639_1': 'en', 'name': 'English'}]",
         "Released",
         null,
         "Across the Sea of Time",
         "False",
         "3.5",
         "2.0"
        ],
        [
         "50",
         "False",
         null,
         "0",
         "[{'id': 28, 'name': 'Action'}, {'id': 53, 'name': 'Thriller'}, {'id': 18, 'name': 'Drama'}]",
         null,
         "117164",
         "tt0109950",
         "en",
         "Guardian Angel",
         "Detective - turned - bodyguard Cynthia McKay (Cynthia Rothrock) is hired by a psychotic icy seductress, Nina Lindell (Lydie Denier), the same woman who killed Mckay's lover months earlier.  With vendetta in her heart McKay accompanies the flamboyantly playful womanizer through the glamourous world of the super-rich as his protector.  In a unique role reversal, it is the woman protecting the man from another woman, erupting into a deadly triangle of passion, suspense and action.",
         "0.595949",
         "/hwbKoOSUuzuN2AQppnUxwwd4qOD.jpg",
         "[]",
         "[]",
         "1994-11-22",
         "0.0",
         "93.0",
         "[]",
         "Released",
         "She's no angel of mercy.",
         "Guardian Angel",
         "False",
         "6.3",
         "3.0"
        ],
        [
         "45396",
         "False",
         null,
         "0",
         "[]",
         null,
         "149946",
         "tt1002760",
         "ru",
         "Два в одном",
         "This celebrated director's \"exquisite cruelty\" appears front and center when the death of a stage actor turns a theatrical drama into a real one. Two in One's two parts, \"Stagehands\" and \"Woman of a Lifetime,\" celebrate the psychological richness that lurks just beneath the surface of banal reality--if murderous stagehands, lascivious fathers and vengeful daughters can be described as banal.",
         "0.038832",
         "/oRGFr0ZMeE3owOAq3dzf89fDyBM.jpg",
         "[]",
         "[]",
         "2007-11-27",
         "0.0",
         "124.0",
         "[{'iso_639_1': 'ru', 'name': 'Pусский'}]",
         "Released",
         null,
         "Two in One",
         "False",
         "1.0",
         "1.0"
        ],
        [
         "45398",
         "False",
         null,
         "1254040",
         "[{'id': 10749, 'name': 'Romance'}, {'id': 35, 'name': 'Comedy'}]",
         "http://lmtr.fi/",
         "468707",
         "tt5742932",
         "fi",
         "Lauri Mäntyvaaran tuuheet ripset",
         null,
         "0.347806",
         "/rKOpJuwb7pTqYVShHM2tl25VxyF.jpg",
         "[{'name': 'Elokuvayhtiö Oy Aamu', 'id': 84883}]",
         "[{'iso_3166_1': 'FI', 'name': 'Finland'}]",
         "2017-07-28",
         "0.0",
         "90.0",
         "[{'iso_639_1': 'fi', 'name': 'suomi'}]",
         "Released",
         null,
         "Thick Lashes of Lauri Mäntyvaara",
         "False",
         "8.0",
         "1.0"
        ],
        [
         "45399",
         "False",
         null,
         "750000",
         "[{'id': 80, 'name': 'Crime'}, {'id': 35, 'name': 'Comedy'}]",
         null,
         "280422",
         "tt3805180",
         "ru",
         "Все и сразу",
         null,
         "0.201582",
         "/hNsmPpl3zLG36jr4EIEd5P8I4pa.jpg",
         "[{'name': 'Кинокомпания «Lunapark»', 'id': 42096}, {'name': 'Инвада фильм', 'id': 42097}]",
         "[{'iso_3166_1': 'RU', 'name': 'Russia'}]",
         "2014-06-05",
         "3.0",
         "0.0",
         "[{'iso_639_1': 'ru', 'name': 'Pусский'}]",
         "Released",
         null,
         "All at Once",
         "False",
         "6.0",
         "4.0"
        ],
        [
         "45401",
         "False",
         null,
         "0",
         "[{'id': 18, 'name': 'Drama'}, {'id': 36, 'name': 'History'}, {'id': 9648, 'name': 'Mystery'}]",
         null,
         "240789",
         "tt1197626",
         "ru",
         "Чудо",
         "The film is based on real events that took place in Samara in 1956 and known as the \"Standing Zoe.\" During the holiday girl, without waiting her betrothed, removes the icon from the wall and Nicholas begins to dance with her, but suddenly freezes in place. This state continues for many months. Residents of the provincial town are frightened by this extraordinary event, which is cluttered with rumors and speculation. To try to understand the situation, there goes metropolitan newspaper journalist ...",
         "0.436028",
         "/AjXZQPdV5PUibMqVPXVFCZ4VK4N.jpg",
         "[{'name': 'Central Partnership', 'id': 9342}, {'name': 'Amkart Studios', 'id': 15754}, {'name': 'Russian Ministry of Culture', 'id': 15755}]",
         "[{'iso_3166_1': 'RU', 'name': 'Russia'}]",
         "2009-10-09",
         "50656.0",
         "110.0",
         "[{'iso_639_1': 'ru', 'name': 'Pусский'}]",
         "Released",
         null,
         "The Miracle",
         "False",
         "6.3",
         "3.0"
        ],
        [
         "45361",
         "False",
         null,
         "0",
         "[]",
         null,
         "214753",
         "tt0106234",
         "en",
         "The Airzone Solution",
         "The Airzone Solution takes place in a future Britain where pollution has reached a point where the populace must often wear filtration masks when they venture outside. AirZone, a powerful corporation, signs a lucrative deal with the government to deal with the problem. The public is told that AirZone plans to build giant filtration plants to clean the atmosphere, but environmentalists are skeptical, especially when people begin dying and disappearing around AirZone facilities.",
         "0.000108",
         "/64DhIZK7mVZolxFG28ura8s0i9f.jpg",
         "[]",
         "[]",
         "1993-01-01",
         "0.0",
         "65.0",
         "[{'iso_639_1': 'en', 'name': 'English'}]",
         "Released",
         null,
         "The Airzone Solution",
         "False",
         "0.0",
         "0.0"
        ],
        [
         "45362",
         "False",
         null,
         "0",
         "[]",
         null,
         "173874",
         "tt0113769",
         "en",
         "The Many Faces of Christopher Lee",
         "Christopher Lee talks about his film career, while showing clips from some of his best films.",
         "0.051939",
         "/uYXdTmDTRY2hjMmPASl1vVHNqX0.jpg",
         "[{'name': 'Luminous Film & Video Works', 'id': 13432}]",
         "[{'iso_3166_1': 'GB', 'name': 'United Kingdom'}]",
         "1996-01-01",
         "0.0",
         "60.0",
         "[{'iso_639_1': 'en', 'name': 'English'}]",
         "Released",
         null,
         "The Many Faces of Christopher Lee",
         "False",
         "10.0",
         "1.0"
        ],
        [
         "45364",
         "False",
         null,
         "0",
         "[{'id': 10749, 'name': 'Romance'}, {'id': 18, 'name': 'Drama'}]",
         null,
         "151506",
         "tt0114419",
         "en",
         "She Fought Alone",
         "All, including school administration and a friend, turn their backs on a girl who accused a classmate of rape.",
         "0.622808",
         "/F0sjL7WWOoBA7ea9If62OlRqL2.jpg",
         "[{'name': 'NBC Productions', 'id': 5253}, {'name': 'Bonnie Raskin Productions', 'id': 40462}, {'name': 'Granite House Inc.', 'id': 55123}]",
         "[{'iso_3166_1': 'US', 'name': 'United States of America'}]",
         "1995-11-06",
         "0.0",
         "87.0",
         "[{'iso_639_1': 'en', 'name': 'English'}]",
         "Released",
         "She cried rape. But no one would listen.",
         "She Fought Alone",
         "False",
         "4.1",
         "7.0"
        ],
        [
         "45367",
         "False",
         null,
         "0",
         "[{'id': 878, 'name': 'Science Fiction'}]",
         null,
         "449696",
         "tt0105492",
         "en",
         "The Stranger: Summoned by Shadows",
         "Wearied by his travels through time and space The Stranger has rejected his long-time companion and is in self-imposed exile on a barren planet. Can he ignore the pleas for help from the locals who are tormented by The Conjuror?",
         "3.5e-05",
         "/aWnsJwOZB1ARhavpnh0O5ae8qWn.jpg",
         "[{'name': 'BBV Productions', 'id': 88355}]",
         "[{'iso_3166_1': 'GB', 'name': 'United Kingdom'}]",
         "1991-01-01",
         "0.0",
         "34.0",
         "[{'iso_639_1': 'en', 'name': 'English'}]",
         "Released",
         null,
         "The Stranger: Summoned by Shadows",
         "False",
         "0.0",
         "0.0"
        ],
        [
         "45370",
         "False",
         null,
         "0",
         "[{'id': 18, 'name': 'Drama'}]",
         null,
         "374764",
         "tt3529010",
         "es",
         "Cómo funcionan casi todas las cosas",
         "Celina works at a remote tollbooth on a desert road, few days before Christmas, her father dies and Celina becomes a door-to-door encyclopedia saleswoman so she can earn enough money to travel to Italy and find her mom.",
         "0.274793",
         "/cMsD2BSDgXuHceypiKc0jW5r7Iz.jpg",
         "[{'name': 'Tarea Fina', 'id': 64499}]",
         "[{'iso_3166_1': 'AR', 'name': 'Argentina'}]",
         "2015-11-12",
         "0.0",
         "0.0",
         "[{'iso_639_1': 'es', 'name': 'Español'}]",
         "Released",
         null,
         "How Most Things Work",
         "False",
         "6.8",
         "2.0"
        ],
        [
         "45371",
         "False",
         "{'id': 477208, 'name': 'DC Super Hero Girls Collection', 'poster_path': None, 'backdrop_path': None}",
         "0",
         "[{'id': 16, 'name': 'Animation'}]",
         null,
         "460135",
         "tt7158814",
         "en",
         "LEGO DC Super Hero Girls: Brain Drain",
         "When Supergirl, Wonder Woman, Batgirl, Bumblebee and Katana suddenly realize they cannot remember a single moment from their Monday at Super Hero High, the young DC Super Heroes spring into sleuthing action! Suspecting foul-play, they band together to retrace their steps and uncover the mystery of who exactly stole their memories – and what nefarious plan might be afoot?",
         "8.413734",
         "/niLX2txdI5GlVowJlnb5Hr26QpK.jpg",
         "[{'name': 'Warner Bros. Animation', 'id': 2785}]",
         "[{'iso_3166_1': 'US', 'name': 'United States of America'}]",
         "2017-08-30",
         "0.0",
         "0.0",
         "[{'iso_639_1': 'en', 'name': 'English'}, {'iso_639_1': 'pl', 'name': 'Polski'}, {'iso_639_1': 'pt', 'name': 'Português'}]",
         "Released",
         null,
         "LEGO DC Super Hero Girls: Brain Drain",
         "False",
         "10.0",
         "2.0"
        ],
        [
         "45373",
         "False",
         null,
         "0",
         "[{'id': 35, 'name': 'Comedy'}, {'id': 80, 'name': 'Crime'}]",
         null,
         "426272",
         "tt6598626",
         "en",
         "Take Me",
         "Ray is a fledgling entrepreneur who specializes in high-end simulated abductions. He jumps at the chance when a mysterious client contracts him for a weekend kidnapping with a handsome payday at the end. But the job isn't all that it seems.",
         "9.222308",
         "/70kL9vXjbCAYd3wNXYScCBGlkJC.jpg",
         "[{'name': 'Duplass Brothers Productions', 'id': 1974}]",
         "[{'iso_3166_1': 'US', 'name': 'United States of America'}]",
         "2017-05-05",
         "0.0",
         "83.0",
         "[{'iso_639_1': 'en', 'name': 'English'}]",
         "Released",
         "A good hostage is hard to find.",
         "Take Me",
         "False",
         "6.0",
         "38.0"
        ],
        [
         "45374",
         "False",
         null,
         "0",
         "[]",
         null,
         "408624",
         "tt5918074",
         "en",
         "A Death in the Gunj",
         "A sensitive university student unraveling while on a week-long vacation with a crowd of cocksure relatives and family friends.",
         "0.516993",
         "/ksqGltfJzYJL3lV4YvoIkVgcU55.jpg",
         "[{'name': 'Studioz IDrream', 'id': 85800}, {'name': 'MacGuffin Pictures', 'id': 85801}]",
         "[{'iso_3166_1': 'IN', 'name': 'India'}]",
         "2016-09-10",
         "0.0",
         "110.0",
         "[{'iso_639_1': 'bn', 'name': 'বাংলা'}, {'iso_639_1': 'en', 'name': 'English'}]",
         "Released",
         null,
         "A Death in the Gunj",
         "False",
         "7.0",
         "5.0"
        ],
        [
         "45375",
         "False",
         null,
         "0",
         "[{'id': 14, 'name': 'Fantasy'}, {'id': 35, 'name': 'Comedy'}, {'id': 10749, 'name': 'Romance'}, {'id': 18, 'name': 'Drama'}]",
         null,
         "413421",
         "tt5502766",
         "hi",
         "फिल्लौरी",
         "A man is forced to marry a tree to ward off ill-luck that surrounds his love-life which turns into a nightmare when the tree is embodied by a spirit with an unfinished business.",
         "0.600717",
         "/zBsPbHNKMDu1hWowWoIVlnbSLJC.jpg",
         "[{'name': 'Fox Star Studios', 'id': 12154}, {'name': 'Clean Slate Films', 'id': 80879}]",
         "[{'iso_3166_1': 'IN', 'name': 'India'}]",
         "2017-03-24",
         "0.0",
         "138.0",
         "[{'iso_639_1': 'hi', 'name': 'हिन्दी'}]",
         "Released",
         "Some love stories last beyond a lifetime",
         "Phillauri",
         "False",
         "7.1",
         "11.0"
        ],
        [
         "45376",
         "False",
         null,
         "0",
         "[{'id': 35, 'name': 'Comedy'}, {'id': 10749, 'name': 'Romance'}]",
         null,
         "261871",
         "tt3338382",
         "ru",
         "Полярный рейс",
         "Sometimes New Year eve can bring a lot of surprises...",
         "0.036523",
         "/bXaoodAqE20vpQFUtypgP6ktHVf.jpg",
         "[{'name': 'Wise Vision', 'id': 21279}]",
         "[{'iso_3166_1': 'UA', 'name': 'Ukraine'}]",
         "2013-12-12",
         "0.0",
         "90.0",
         "[{'iso_639_1': 'ru', 'name': 'Pусский'}]",
         "Released",
         null,
         "Polar Flight",
         "False",
         "0.0",
         "0.0"
        ],
        [
         "45377",
         "False",
         null,
         "0",
         "[{'id': 12, 'name': 'Adventure'}]",
         null,
         "317389",
         "tt0070695",
         "es",
         "Simbad e il califfo di Bagdad",
         null,
         "0.006352",
         "/izk7KbT6LZO9baEhCkOZYMgj60w.jpg",
         "[{'name': 'Roas Produzioni', 'id': 21137}, {'name': 'Buton Film', 'id': 43810}]",
         "[{'iso_3166_1': 'IT', 'name': 'Italy'}]",
         "1973-07-22",
         "0.0",
         null,
         "[{'iso_639_1': 'it', 'name': 'Italiano'}]",
         "Released",
         null,
         "Simbad e il califfo di Bagdad",
         "False",
         "0.0",
         "0.0"
        ]
       ],
       "shape": {
        "columns": 24,
        "rows": 45466
       }
      },
      "text/html": [
       "<div>\n",
       "<style scoped>\n",
       "    .dataframe tbody tr th:only-of-type {\n",
       "        vertical-align: middle;\n",
       "    }\n",
       "\n",
       "    .dataframe tbody tr th {\n",
       "        vertical-align: top;\n",
       "    }\n",
       "\n",
       "    .dataframe thead th {\n",
       "        text-align: right;\n",
       "    }\n",
       "</style>\n",
       "<table border=\"1\" class=\"dataframe\">\n",
       "  <thead>\n",
       "    <tr style=\"text-align: right;\">\n",
       "      <th></th>\n",
       "      <th>adult</th>\n",
       "      <th>belongs_to_collection</th>\n",
       "      <th>budget</th>\n",
       "      <th>genres</th>\n",
       "      <th>homepage</th>\n",
       "      <th>tmdb_id</th>\n",
       "      <th>imdb_id</th>\n",
       "      <th>original_language</th>\n",
       "      <th>original_title</th>\n",
       "      <th>overview</th>\n",
       "      <th>...</th>\n",
       "      <th>release_date</th>\n",
       "      <th>revenue</th>\n",
       "      <th>runtime</th>\n",
       "      <th>spoken_languages</th>\n",
       "      <th>status</th>\n",
       "      <th>tagline</th>\n",
       "      <th>title</th>\n",
       "      <th>video</th>\n",
       "      <th>vote_average</th>\n",
       "      <th>vote_count</th>\n",
       "    </tr>\n",
       "  </thead>\n",
       "  <tbody>\n",
       "    <tr>\n",
       "      <th>35587</th>\n",
       "      <td>Avalanche Sharks tells the story of a bikini ...</td>\n",
       "      <td>2.185485</td>\n",
       "      <td>/zaSf5OG7V8X8gqFvly88zDdRm46.jpg</td>\n",
       "      <td>[{'name': 'Odyssey Media', 'id': 17161}, {'nam...</td>\n",
       "      <td>[{'iso_3166_1': 'CA', 'name': 'Canada'}]</td>\n",
       "      <td>2014-01-01</td>\n",
       "      <td>0</td>\n",
       "      <td>82.0</td>\n",
       "      <td>[{'iso_639_1': 'en', 'name': 'English'}]</td>\n",
       "      <td>Released</td>\n",
       "      <td>...</td>\n",
       "      <td>22</td>\n",
       "      <td>NaN</td>\n",
       "      <td>NaN</td>\n",
       "      <td>NaN</td>\n",
       "      <td>NaN</td>\n",
       "      <td>NaN</td>\n",
       "      <td>NaN</td>\n",
       "      <td>NaN</td>\n",
       "      <td>NaN</td>\n",
       "      <td>NaN</td>\n",
       "    </tr>\n",
       "    <tr>\n",
       "      <th>29503</th>\n",
       "      <td>Rune Balot goes to a casino connected to the ...</td>\n",
       "      <td>1.931659</td>\n",
       "      <td>/zV8bHuSL6WXoD6FWogP9j4x80bL.jpg</td>\n",
       "      <td>[{'name': 'Aniplex', 'id': 2883}, {'name': 'Go...</td>\n",
       "      <td>[{'iso_3166_1': 'US', 'name': 'United States o...</td>\n",
       "      <td>2012-09-29</td>\n",
       "      <td>0</td>\n",
       "      <td>68.0</td>\n",
       "      <td>[{'iso_639_1': 'ja', 'name': '日本語'}]</td>\n",
       "      <td>Released</td>\n",
       "      <td>...</td>\n",
       "      <td>12</td>\n",
       "      <td>NaN</td>\n",
       "      <td>NaN</td>\n",
       "      <td>NaN</td>\n",
       "      <td>NaN</td>\n",
       "      <td>NaN</td>\n",
       "      <td>NaN</td>\n",
       "      <td>NaN</td>\n",
       "      <td>NaN</td>\n",
       "      <td>NaN</td>\n",
       "    </tr>\n",
       "    <tr>\n",
       "      <th>19730</th>\n",
       "      <td>- Written by Ørnås</td>\n",
       "      <td>0.065736</td>\n",
       "      <td>/ff9qCepilowshEtG2GYWwzt2bs4.jpg</td>\n",
       "      <td>[{'name': 'Carousel Productions', 'id': 11176}...</td>\n",
       "      <td>[{'iso_3166_1': 'CA', 'name': 'Canada'}, {'iso...</td>\n",
       "      <td>1997-08-20</td>\n",
       "      <td>0</td>\n",
       "      <td>104.0</td>\n",
       "      <td>[{'iso_639_1': 'en', 'name': 'English'}]</td>\n",
       "      <td>Released</td>\n",
       "      <td>...</td>\n",
       "      <td>1</td>\n",
       "      <td>NaN</td>\n",
       "      <td>NaN</td>\n",
       "      <td>NaN</td>\n",
       "      <td>NaN</td>\n",
       "      <td>NaN</td>\n",
       "      <td>NaN</td>\n",
       "      <td>NaN</td>\n",
       "      <td>NaN</td>\n",
       "      <td>NaN</td>\n",
       "    </tr>\n",
       "    <tr>\n",
       "      <th>16070</th>\n",
       "      <td>False</td>\n",
       "      <td>NaN</td>\n",
       "      <td>0</td>\n",
       "      <td>[{'id': 18, 'name': 'Drama'}]</td>\n",
       "      <td>NaN</td>\n",
       "      <td>130917</td>\n",
       "      <td>tt0081656</td>\n",
       "      <td>en</td>\n",
       "      <td>Tribute</td>\n",
       "      <td>A shallow Broadway press agent learns he is dy...</td>\n",
       "      <td>...</td>\n",
       "      <td>1980-12-14</td>\n",
       "      <td>0.0</td>\n",
       "      <td>121.0</td>\n",
       "      <td>[{'iso_639_1': 'en', 'name': 'English'}]</td>\n",
       "      <td>Released</td>\n",
       "      <td>NaN</td>\n",
       "      <td>Tribute</td>\n",
       "      <td>False</td>\n",
       "      <td>5.3</td>\n",
       "      <td>3.0</td>\n",
       "    </tr>\n",
       "    <tr>\n",
       "      <th>45434</th>\n",
       "      <td>False</td>\n",
       "      <td>NaN</td>\n",
       "      <td>0</td>\n",
       "      <td>[]</td>\n",
       "      <td>NaN</td>\n",
       "      <td>325439</td>\n",
       "      <td>tt0055178</td>\n",
       "      <td>en</td>\n",
       "      <td>Le Meraviglie di Aladino</td>\n",
       "      <td>Young Aladdin (Donald O'Connor) has a series o...</td>\n",
       "      <td>...</td>\n",
       "      <td>1961-10-31</td>\n",
       "      <td>0.0</td>\n",
       "      <td>93.0</td>\n",
       "      <td>[{'iso_639_1': 'en', 'name': 'English'}]</td>\n",
       "      <td>Released</td>\n",
       "      <td>NaN</td>\n",
       "      <td>The Wonders of Aladdin</td>\n",
       "      <td>False</td>\n",
       "      <td>0.0</td>\n",
       "      <td>0.0</td>\n",
       "    </tr>\n",
       "    <tr>\n",
       "      <th>...</th>\n",
       "      <td>...</td>\n",
       "      <td>...</td>\n",
       "      <td>...</td>\n",
       "      <td>...</td>\n",
       "      <td>...</td>\n",
       "      <td>...</td>\n",
       "      <td>...</td>\n",
       "      <td>...</td>\n",
       "      <td>...</td>\n",
       "      <td>...</td>\n",
       "      <td>...</td>\n",
       "      <td>...</td>\n",
       "      <td>...</td>\n",
       "      <td>...</td>\n",
       "      <td>...</td>\n",
       "      <td>...</td>\n",
       "      <td>...</td>\n",
       "      <td>...</td>\n",
       "      <td>...</td>\n",
       "      <td>...</td>\n",
       "      <td>...</td>\n",
       "    </tr>\n",
       "    <tr>\n",
       "      <th>27792</th>\n",
       "      <td>False</td>\n",
       "      <td>NaN</td>\n",
       "      <td>0</td>\n",
       "      <td>[{'id': 99, 'name': 'Documentary'}]</td>\n",
       "      <td>NaN</td>\n",
       "      <td>92</td>\n",
       "      <td>tt0169024</td>\n",
       "      <td>en</td>\n",
       "      <td>Megacities</td>\n",
       "      <td>Megacities is a documentary about the slums of...</td>\n",
       "      <td>...</td>\n",
       "      <td>1998-08-12</td>\n",
       "      <td>0.0</td>\n",
       "      <td>94.0</td>\n",
       "      <td>[{'iso_639_1': 'ru', 'name': 'Pусский'}, {'iso...</td>\n",
       "      <td>Released</td>\n",
       "      <td>NaN</td>\n",
       "      <td>Megacities</td>\n",
       "      <td>False</td>\n",
       "      <td>7.0</td>\n",
       "      <td>3.0</td>\n",
       "    </tr>\n",
       "    <tr>\n",
       "      <th>4342</th>\n",
       "      <td>False</td>\n",
       "      <td>NaN</td>\n",
       "      <td>0</td>\n",
       "      <td>[{'id': 18, 'name': 'Drama'}, {'id': 80, 'name...</td>\n",
       "      <td>NaN</td>\n",
       "      <td>2</td>\n",
       "      <td>tt0094675</td>\n",
       "      <td>fi</td>\n",
       "      <td>Ariel</td>\n",
       "      <td>Taisto Kasurinen is a Finnish coal miner whose...</td>\n",
       "      <td>...</td>\n",
       "      <td>1988-10-21</td>\n",
       "      <td>0.0</td>\n",
       "      <td>69.0</td>\n",
       "      <td>[{'iso_639_1': 'fi', 'name': 'suomi'}, {'iso_6...</td>\n",
       "      <td>Released</td>\n",
       "      <td>NaN</td>\n",
       "      <td>Ariel</td>\n",
       "      <td>False</td>\n",
       "      <td>7.1</td>\n",
       "      <td>44.0</td>\n",
       "    </tr>\n",
       "    <tr>\n",
       "      <th>12947</th>\n",
       "      <td>False</td>\n",
       "      <td>NaN</td>\n",
       "      <td>0</td>\n",
       "      <td>[{'id': 18, 'name': 'Drama'}, {'id': 35, 'name...</td>\n",
       "      <td>NaN</td>\n",
       "      <td>3</td>\n",
       "      <td>tt0092149</td>\n",
       "      <td>fi</td>\n",
       "      <td>Varjoja paratiisissa</td>\n",
       "      <td>An episode in the life of Nikander, a garbage ...</td>\n",
       "      <td>...</td>\n",
       "      <td>1986-10-16</td>\n",
       "      <td>0.0</td>\n",
       "      <td>76.0</td>\n",
       "      <td>[{'iso_639_1': 'en', 'name': 'English'}, {'iso...</td>\n",
       "      <td>Released</td>\n",
       "      <td>NaN</td>\n",
       "      <td>Shadows in Paradise</td>\n",
       "      <td>False</td>\n",
       "      <td>7.1</td>\n",
       "      <td>35.0</td>\n",
       "    </tr>\n",
       "    <tr>\n",
       "      <th>474</th>\n",
       "      <td>False</td>\n",
       "      <td>NaN</td>\n",
       "      <td>0</td>\n",
       "      <td>[{'id': 28, 'name': 'Action'}, {'id': 53, 'nam...</td>\n",
       "      <td>NaN</td>\n",
       "      <td>6</td>\n",
       "      <td>tt0107286</td>\n",
       "      <td>en</td>\n",
       "      <td>Judgment Night</td>\n",
       "      <td>While racing to a boxing match, Frank, Mike, J...</td>\n",
       "      <td>...</td>\n",
       "      <td>1993-10-15</td>\n",
       "      <td>12136938.0</td>\n",
       "      <td>110.0</td>\n",
       "      <td>[{'iso_639_1': 'en', 'name': 'English'}]</td>\n",
       "      <td>Released</td>\n",
       "      <td>Don't move. Don't whisper. Don't even breathe.</td>\n",
       "      <td>Judgment Night</td>\n",
       "      <td>False</td>\n",
       "      <td>6.4</td>\n",
       "      <td>79.0</td>\n",
       "    </tr>\n",
       "    <tr>\n",
       "      <th>17</th>\n",
       "      <td>False</td>\n",
       "      <td>NaN</td>\n",
       "      <td>4000000</td>\n",
       "      <td>[{'id': 80, 'name': 'Crime'}, {'id': 35, 'name...</td>\n",
       "      <td>NaN</td>\n",
       "      <td>5</td>\n",
       "      <td>tt0113101</td>\n",
       "      <td>en</td>\n",
       "      <td>Four Rooms</td>\n",
       "      <td>It's Ted the Bellhop's first night on the job....</td>\n",
       "      <td>...</td>\n",
       "      <td>1995-12-09</td>\n",
       "      <td>4300000.0</td>\n",
       "      <td>98.0</td>\n",
       "      <td>[{'iso_639_1': 'en', 'name': 'English'}]</td>\n",
       "      <td>Released</td>\n",
       "      <td>Twelve outrageous guests. Four scandalous requ...</td>\n",
       "      <td>Four Rooms</td>\n",
       "      <td>False</td>\n",
       "      <td>6.5</td>\n",
       "      <td>539.0</td>\n",
       "    </tr>\n",
       "  </tbody>\n",
       "</table>\n",
       "<p>45466 rows × 24 columns</p>\n",
       "</div>"
      ],
      "text/plain": [
       "                                                   adult  \\\n",
       "35587   Avalanche Sharks tells the story of a bikini ...   \n",
       "29503   Rune Balot goes to a casino connected to the ...   \n",
       "19730                                 - Written by Ørnås   \n",
       "16070                                              False   \n",
       "45434                                              False   \n",
       "...                                                  ...   \n",
       "27792                                              False   \n",
       "4342                                               False   \n",
       "12947                                              False   \n",
       "474                                                False   \n",
       "17                                                 False   \n",
       "\n",
       "      belongs_to_collection                            budget  \\\n",
       "35587              2.185485  /zaSf5OG7V8X8gqFvly88zDdRm46.jpg   \n",
       "29503              1.931659  /zV8bHuSL6WXoD6FWogP9j4x80bL.jpg   \n",
       "19730              0.065736  /ff9qCepilowshEtG2GYWwzt2bs4.jpg   \n",
       "16070                   NaN                                 0   \n",
       "45434                   NaN                                 0   \n",
       "...                     ...                               ...   \n",
       "27792                   NaN                                 0   \n",
       "4342                    NaN                                 0   \n",
       "12947                   NaN                                 0   \n",
       "474                     NaN                                 0   \n",
       "17                      NaN                           4000000   \n",
       "\n",
       "                                                  genres  \\\n",
       "35587  [{'name': 'Odyssey Media', 'id': 17161}, {'nam...   \n",
       "29503  [{'name': 'Aniplex', 'id': 2883}, {'name': 'Go...   \n",
       "19730  [{'name': 'Carousel Productions', 'id': 11176}...   \n",
       "16070                      [{'id': 18, 'name': 'Drama'}]   \n",
       "45434                                                 []   \n",
       "...                                                  ...   \n",
       "27792                [{'id': 99, 'name': 'Documentary'}]   \n",
       "4342   [{'id': 18, 'name': 'Drama'}, {'id': 80, 'name...   \n",
       "12947  [{'id': 18, 'name': 'Drama'}, {'id': 35, 'name...   \n",
       "474    [{'id': 28, 'name': 'Action'}, {'id': 53, 'nam...   \n",
       "17     [{'id': 80, 'name': 'Crime'}, {'id': 35, 'name...   \n",
       "\n",
       "                                                homepage     tmdb_id  \\\n",
       "35587           [{'iso_3166_1': 'CA', 'name': 'Canada'}]  2014-01-01   \n",
       "29503  [{'iso_3166_1': 'US', 'name': 'United States o...  2012-09-29   \n",
       "19730  [{'iso_3166_1': 'CA', 'name': 'Canada'}, {'iso...  1997-08-20   \n",
       "16070                                                NaN      130917   \n",
       "45434                                                NaN      325439   \n",
       "...                                                  ...         ...   \n",
       "27792                                                NaN          92   \n",
       "4342                                                 NaN           2   \n",
       "12947                                                NaN           3   \n",
       "474                                                  NaN           6   \n",
       "17                                                   NaN           5   \n",
       "\n",
       "         imdb_id original_language                            original_title  \\\n",
       "35587          0              82.0  [{'iso_639_1': 'en', 'name': 'English'}]   \n",
       "29503          0              68.0      [{'iso_639_1': 'ja', 'name': '日本語'}]   \n",
       "19730          0             104.0  [{'iso_639_1': 'en', 'name': 'English'}]   \n",
       "16070  tt0081656                en                                   Tribute   \n",
       "45434  tt0055178                en                  Le Meraviglie di Aladino   \n",
       "...          ...               ...                                       ...   \n",
       "27792  tt0169024                en                                Megacities   \n",
       "4342   tt0094675                fi                                     Ariel   \n",
       "12947  tt0092149                fi                      Varjoja paratiisissa   \n",
       "474    tt0107286                en                            Judgment Night   \n",
       "17     tt0113101                en                                Four Rooms   \n",
       "\n",
       "                                                overview  ... release_date  \\\n",
       "35587                                           Released  ...           22   \n",
       "29503                                           Released  ...           12   \n",
       "19730                                           Released  ...            1   \n",
       "16070  A shallow Broadway press agent learns he is dy...  ...   1980-12-14   \n",
       "45434  Young Aladdin (Donald O'Connor) has a series o...  ...   1961-10-31   \n",
       "...                                                  ...  ...          ...   \n",
       "27792  Megacities is a documentary about the slums of...  ...   1998-08-12   \n",
       "4342   Taisto Kasurinen is a Finnish coal miner whose...  ...   1988-10-21   \n",
       "12947  An episode in the life of Nikander, a garbage ...  ...   1986-10-16   \n",
       "474    While racing to a boxing match, Frank, Mike, J...  ...   1993-10-15   \n",
       "17     It's Ted the Bellhop's first night on the job....  ...   1995-12-09   \n",
       "\n",
       "          revenue runtime                                   spoken_languages  \\\n",
       "35587         NaN     NaN                                                NaN   \n",
       "29503         NaN     NaN                                                NaN   \n",
       "19730         NaN     NaN                                                NaN   \n",
       "16070         0.0   121.0           [{'iso_639_1': 'en', 'name': 'English'}]   \n",
       "45434         0.0    93.0           [{'iso_639_1': 'en', 'name': 'English'}]   \n",
       "...           ...     ...                                                ...   \n",
       "27792         0.0    94.0  [{'iso_639_1': 'ru', 'name': 'Pусский'}, {'iso...   \n",
       "4342          0.0    69.0  [{'iso_639_1': 'fi', 'name': 'suomi'}, {'iso_6...   \n",
       "12947         0.0    76.0  [{'iso_639_1': 'en', 'name': 'English'}, {'iso...   \n",
       "474    12136938.0   110.0           [{'iso_639_1': 'en', 'name': 'English'}]   \n",
       "17      4300000.0    98.0           [{'iso_639_1': 'en', 'name': 'English'}]   \n",
       "\n",
       "         status                                            tagline  \\\n",
       "35587       NaN                                                NaN   \n",
       "29503       NaN                                                NaN   \n",
       "19730       NaN                                                NaN   \n",
       "16070  Released                                                NaN   \n",
       "45434  Released                                                NaN   \n",
       "...         ...                                                ...   \n",
       "27792  Released                                                NaN   \n",
       "4342   Released                                                NaN   \n",
       "12947  Released                                                NaN   \n",
       "474    Released     Don't move. Don't whisper. Don't even breathe.   \n",
       "17     Released  Twelve outrageous guests. Four scandalous requ...   \n",
       "\n",
       "                        title  video vote_average vote_count  \n",
       "35587                     NaN    NaN          NaN        NaN  \n",
       "29503                     NaN    NaN          NaN        NaN  \n",
       "19730                     NaN    NaN          NaN        NaN  \n",
       "16070                 Tribute  False          5.3        3.0  \n",
       "45434  The Wonders of Aladdin  False          0.0        0.0  \n",
       "...                       ...    ...          ...        ...  \n",
       "27792              Megacities  False          7.0        3.0  \n",
       "4342                    Ariel  False          7.1       44.0  \n",
       "12947     Shadows in Paradise  False          7.1       35.0  \n",
       "474            Judgment Night  False          6.4       79.0  \n",
       "17                 Four Rooms  False          6.5      539.0  \n",
       "\n",
       "[45466 rows x 24 columns]"
      ]
     },
     "execution_count": 42,
     "metadata": {},
     "output_type": "execute_result"
    }
   ],
   "source": [
    "# Checking for invalid column\n",
    "movies_metadata.sort_values(\"tmdb_id\", key=lambda x: x.astype(str).str.len(), ascending=False)"
   ]
  },
  {
   "cell_type": "code",
   "execution_count": 43,
   "metadata": {},
   "outputs": [],
   "source": [
    "# Remove rows with missing values\n",
    "mask = movies_metadata[[\"revenue\", \"runtime\", \"video\", \"title\", \"vote_count\"]].isna().all(axis=1)\n",
    "movies_metadata = movies_metadata[~mask]\n",
    "# Convert adult category into boolean type\n",
    "movies_metadata[\"adult\"] = movies_metadata.adult.astype(bool)\n",
    "# Convert budget category into integer type\n",
    "movies_metadata[\"budget\"] = movies_metadata.budget.astype(int)\n",
    "# Convert ID into integer type\n",
    "movies_metadata[\"tmdb_id\"] = movies_metadata.tmdb_id.astype(int)\n",
    "# Convert popularity category into float type\n",
    "movies_metadata[\"popularity\"] = movies_metadata.popularity.astype(float)\n",
    "# Convert release_date into datetime type\n",
    "movies_metadata[\"release_date\"] = pd.to_datetime(movies_metadata.release_date)\n",
    "# Convert revenue category into integer type\n",
    "movies_metadata[\"revenue\"] = movies_metadata.revenue.astype(int)\n",
    "# Convert video category into boolean type\n",
    "movies_metadata[\"video\"] = movies_metadata.video.astype(bool)\n",
    "# Convert vote_count category into integer type\n",
    "movies_metadata[\"vote_count\"] = movies_metadata.vote_count.astype(int)\n"
   ]
  },
  {
   "cell_type": "code",
   "execution_count": 44,
   "metadata": {},
   "outputs": [
    {
     "data": {
      "application/vnd.microsoft.datawrangler.viewer.v0+json": {
       "columns": [
        {
         "name": "index",
         "rawType": "int64",
         "type": "integer"
        },
        {
         "name": "adult",
         "rawType": "bool",
         "type": "boolean"
        },
        {
         "name": "belongs_to_collection",
         "rawType": "object",
         "type": "unknown"
        },
        {
         "name": "budget",
         "rawType": "int64",
         "type": "integer"
        },
        {
         "name": "genres",
         "rawType": "object",
         "type": "string"
        },
        {
         "name": "homepage",
         "rawType": "object",
         "type": "unknown"
        },
        {
         "name": "tmdb_id",
         "rawType": "int64",
         "type": "integer"
        },
        {
         "name": "imdb_id",
         "rawType": "object",
         "type": "string"
        },
        {
         "name": "original_language",
         "rawType": "object",
         "type": "string"
        },
        {
         "name": "original_title",
         "rawType": "object",
         "type": "string"
        },
        {
         "name": "overview",
         "rawType": "object",
         "type": "string"
        },
        {
         "name": "popularity",
         "rawType": "float64",
         "type": "float"
        },
        {
         "name": "poster_path",
         "rawType": "object",
         "type": "string"
        },
        {
         "name": "production_companies",
         "rawType": "object",
         "type": "string"
        },
        {
         "name": "production_countries",
         "rawType": "object",
         "type": "string"
        },
        {
         "name": "release_date",
         "rawType": "datetime64[ns]",
         "type": "datetime"
        },
        {
         "name": "revenue",
         "rawType": "int64",
         "type": "integer"
        },
        {
         "name": "runtime",
         "rawType": "float64",
         "type": "float"
        },
        {
         "name": "spoken_languages",
         "rawType": "object",
         "type": "string"
        },
        {
         "name": "status",
         "rawType": "object",
         "type": "string"
        },
        {
         "name": "tagline",
         "rawType": "object",
         "type": "string"
        },
        {
         "name": "title",
         "rawType": "object",
         "type": "string"
        },
        {
         "name": "video",
         "rawType": "bool",
         "type": "boolean"
        },
        {
         "name": "vote_average",
         "rawType": "float64",
         "type": "float"
        },
        {
         "name": "vote_count",
         "rawType": "int64",
         "type": "integer"
        }
       ],
       "conversionMethod": "pd.DataFrame",
       "ref": "506f303a-6b30-4a05-bd85-2ad424124bb0",
       "rows": [
        [
         "5865",
         "True",
         null,
         "30000000",
         "[{'id': 35, 'name': 'Comedy'}, {'id': 80, 'name': 'Crime'}, {'id': 18, 'name': 'Drama'}, {'id': 10749, 'name': 'Romance'}, {'id': 53, 'name': 'Thriller'}]",
         null,
         "4912",
         "tt0270288",
         "en",
         "Confessions of a Dangerous Mind",
         "Television made him famous, but his biggest hits happened off screen. Television producer by day, CIA assassin by night, Chuck Barris was recruited by the CIA at the height of his TV career and trained to become a covert operative. Or so Barris said.",
         "11.331072",
         "/o3Im9nPLAgtlw1j2LtpMebAotSe.jpg",
         "[{'name': 'Miramax Films', 'id': 14}, {'name': 'Allied Filmmakers', 'id': 1755}, {'name': 'Mad Chance', 'id': 1757}]",
         "[{'iso_3166_1': 'US', 'name': 'United States of America'}]",
         "2002-12-30 00:00:00",
         "33013805",
         "113.0",
         "[{'iso_639_1': 'en', 'name': 'English'}]",
         "Released",
         "Some things are better left top secret.",
         "Confessions of a Dangerous Mind",
         "False",
         "6.6",
         "281"
        ],
        [
         "33826",
         "True",
         null,
         "30000000",
         "[{'id': 35, 'name': 'Comedy'}, {'id': 80, 'name': 'Crime'}, {'id': 18, 'name': 'Drama'}, {'id': 10749, 'name': 'Romance'}, {'id': 53, 'name': 'Thriller'}]",
         null,
         "4912",
         "tt0270288",
         "en",
         "Confessions of a Dangerous Mind",
         "Television made him famous, but his biggest hits happened off screen. Television producer by day, CIA assassin by night, Chuck Barris was recruited by the CIA at the height of his TV career and trained to become a covert operative. Or so Barris said.",
         "7.645827",
         "/o3Im9nPLAgtlw1j2LtpMebAotSe.jpg",
         "[{'name': 'Miramax Films', 'id': 14}, {'name': 'Allied Filmmakers', 'id': 1755}, {'name': 'Mad Chance', 'id': 1757}]",
         "[{'iso_3166_1': 'US', 'name': 'United States of America'}]",
         "2002-12-30 00:00:00",
         "33013805",
         "113.0",
         "[{'iso_639_1': 'en', 'name': 'English'}]",
         "Released",
         "Some things are better left top secret.",
         "Confessions of a Dangerous Mind",
         "False",
         "6.6",
         "281"
        ],
        [
         "7345",
         "True",
         null,
         "0",
         "[{'id': 80, 'name': 'Crime'}, {'id': 18, 'name': 'Drama'}, {'id': 53, 'name': 'Thriller'}]",
         null,
         "5511",
         "tt0062229",
         "fr",
         "Le Samouraï",
         "Hitman Jef Costello is a perfectionist who always carefully plans his murders and who never gets caught.",
         "9.091288",
         "/cvNW8IXigbaMNo4gKEIps0NGnhA.jpg",
         "[{'name': 'Fida cinematografica', 'id': 73}, {'name': 'Compagnie Industrielle et Commerciale Cinématographique (CICC)', 'id': 11788}, {'name': 'TC Productions', 'id': 21777}, {'name': 'Filmel', 'id': 42182}]",
         "[{'iso_3166_1': 'FR', 'name': 'France'}, {'iso_3166_1': 'IT', 'name': 'Italy'}]",
         "1967-10-25 00:00:00",
         "39481",
         "105.0",
         "[{'iso_639_1': 'fr', 'name': 'Français'}]",
         "Released",
         "There is no solitude greater than that of the Samurai",
         "Le Samouraï",
         "False",
         "7.9",
         "187"
        ],
        [
         "9165",
         "True",
         null,
         "0",
         "[{'id': 80, 'name': 'Crime'}, {'id': 18, 'name': 'Drama'}, {'id': 53, 'name': 'Thriller'}]",
         null,
         "5511",
         "tt0062229",
         "fr",
         "Le Samouraï",
         "Hitman Jef Costello is a perfectionist who always carefully plans his murders and who never gets caught.",
         "9.091288",
         "/cvNW8IXigbaMNo4gKEIps0NGnhA.jpg",
         "[{'name': 'Fida cinematografica', 'id': 73}, {'name': 'Compagnie Industrielle et Commerciale Cinématographique (CICC)', 'id': 11788}, {'name': 'TC Productions', 'id': 21777}, {'name': 'Filmel', 'id': 42182}]",
         "[{'iso_3166_1': 'FR', 'name': 'France'}, {'iso_3166_1': 'IT', 'name': 'Italy'}]",
         "1967-10-25 00:00:00",
         "39481",
         "105.0",
         "[{'iso_639_1': 'fr', 'name': 'Français'}]",
         "Released",
         "There is no solitude greater than that of the Samurai",
         "Le Samouraï",
         "False",
         "7.9",
         "187"
        ],
        [
         "4114",
         "True",
         "{'id': 34055, 'name': 'Pokémon Collection', 'poster_path': '/j5te0YNZAMXDBnsqTUDKIBEt8iu.jpg', 'backdrop_path': '/iGoYKA0TFfgSoZpG2u5viTJMGfK.jpg'}",
         "16000000",
         "[{'id': 12, 'name': 'Adventure'}, {'id': 14, 'name': 'Fantasy'}, {'id': 16, 'name': 'Animation'}, {'id': 28, 'name': 'Action'}, {'id': 10751, 'name': 'Family'}]",
         "http://movies.warnerbros.com/pk3/",
         "10991",
         "tt0235679",
         "ja",
         "Pokémon 3: The Movie",
         "When Molly Hale's sadness of her father's disappearance get to her, she unknowingly uses the Unown to create her own dream world along with Entei, who she believes to be her father. When Entei kidnaps Ash's mom, Ash along with Misty & Brock invade the mansion looking for his mom and trying to stop the mysteries of Molly's Dream World and Entei!",
         "10.264597",
         "/5ILjS6XB5deiHop8SXPsYxXWVPE.jpg",
         "[{'name': 'TV Tokyo', 'id': 3034}, {'name': '4 Kids Entertainment', 'id': 3035}, {'name': 'Nintendo', 'id': 12288}, {'name': 'Pikachu Project', 'id': 12653}, {'name': 'Oriental Light and Magic (OLM)', 'id': 66289}, {'name': \"Kids' WB\", 'id': 89163}, {'name': 'Pikachu Project 2001', 'id': 89164}, {'name': 'Shoakuken', 'id': 89165}]",
         "[{'iso_3166_1': 'JP', 'name': 'Japan'}]",
         "2000-07-08 00:00:00",
         "68411275",
         "93.0",
         "[{'iso_639_1': 'en', 'name': 'English'}]",
         "Released",
         "Pokémon: Spell of the Unknown",
         "Pokémon: Spell of the Unknown",
         "False",
         "6.0",
         "143"
        ]
       ],
       "shape": {
        "columns": 24,
        "rows": 5
       }
      },
      "text/html": [
       "<div>\n",
       "<style scoped>\n",
       "    .dataframe tbody tr th:only-of-type {\n",
       "        vertical-align: middle;\n",
       "    }\n",
       "\n",
       "    .dataframe tbody tr th {\n",
       "        vertical-align: top;\n",
       "    }\n",
       "\n",
       "    .dataframe thead th {\n",
       "        text-align: right;\n",
       "    }\n",
       "</style>\n",
       "<table border=\"1\" class=\"dataframe\">\n",
       "  <thead>\n",
       "    <tr style=\"text-align: right;\">\n",
       "      <th></th>\n",
       "      <th>adult</th>\n",
       "      <th>belongs_to_collection</th>\n",
       "      <th>budget</th>\n",
       "      <th>genres</th>\n",
       "      <th>homepage</th>\n",
       "      <th>tmdb_id</th>\n",
       "      <th>imdb_id</th>\n",
       "      <th>original_language</th>\n",
       "      <th>original_title</th>\n",
       "      <th>overview</th>\n",
       "      <th>...</th>\n",
       "      <th>release_date</th>\n",
       "      <th>revenue</th>\n",
       "      <th>runtime</th>\n",
       "      <th>spoken_languages</th>\n",
       "      <th>status</th>\n",
       "      <th>tagline</th>\n",
       "      <th>title</th>\n",
       "      <th>video</th>\n",
       "      <th>vote_average</th>\n",
       "      <th>vote_count</th>\n",
       "    </tr>\n",
       "  </thead>\n",
       "  <tbody>\n",
       "    <tr>\n",
       "      <th>5865</th>\n",
       "      <td>True</td>\n",
       "      <td>NaN</td>\n",
       "      <td>30000000</td>\n",
       "      <td>[{'id': 35, 'name': 'Comedy'}, {'id': 80, 'nam...</td>\n",
       "      <td>NaN</td>\n",
       "      <td>4912</td>\n",
       "      <td>tt0270288</td>\n",
       "      <td>en</td>\n",
       "      <td>Confessions of a Dangerous Mind</td>\n",
       "      <td>Television made him famous, but his biggest hi...</td>\n",
       "      <td>...</td>\n",
       "      <td>2002-12-30</td>\n",
       "      <td>33013805</td>\n",
       "      <td>113.0</td>\n",
       "      <td>[{'iso_639_1': 'en', 'name': 'English'}]</td>\n",
       "      <td>Released</td>\n",
       "      <td>Some things are better left top secret.</td>\n",
       "      <td>Confessions of a Dangerous Mind</td>\n",
       "      <td>False</td>\n",
       "      <td>6.6</td>\n",
       "      <td>281</td>\n",
       "    </tr>\n",
       "    <tr>\n",
       "      <th>33826</th>\n",
       "      <td>True</td>\n",
       "      <td>NaN</td>\n",
       "      <td>30000000</td>\n",
       "      <td>[{'id': 35, 'name': 'Comedy'}, {'id': 80, 'nam...</td>\n",
       "      <td>NaN</td>\n",
       "      <td>4912</td>\n",
       "      <td>tt0270288</td>\n",
       "      <td>en</td>\n",
       "      <td>Confessions of a Dangerous Mind</td>\n",
       "      <td>Television made him famous, but his biggest hi...</td>\n",
       "      <td>...</td>\n",
       "      <td>2002-12-30</td>\n",
       "      <td>33013805</td>\n",
       "      <td>113.0</td>\n",
       "      <td>[{'iso_639_1': 'en', 'name': 'English'}]</td>\n",
       "      <td>Released</td>\n",
       "      <td>Some things are better left top secret.</td>\n",
       "      <td>Confessions of a Dangerous Mind</td>\n",
       "      <td>False</td>\n",
       "      <td>6.6</td>\n",
       "      <td>281</td>\n",
       "    </tr>\n",
       "    <tr>\n",
       "      <th>7345</th>\n",
       "      <td>True</td>\n",
       "      <td>NaN</td>\n",
       "      <td>0</td>\n",
       "      <td>[{'id': 80, 'name': 'Crime'}, {'id': 18, 'name...</td>\n",
       "      <td>NaN</td>\n",
       "      <td>5511</td>\n",
       "      <td>tt0062229</td>\n",
       "      <td>fr</td>\n",
       "      <td>Le Samouraï</td>\n",
       "      <td>Hitman Jef Costello is a perfectionist who alw...</td>\n",
       "      <td>...</td>\n",
       "      <td>1967-10-25</td>\n",
       "      <td>39481</td>\n",
       "      <td>105.0</td>\n",
       "      <td>[{'iso_639_1': 'fr', 'name': 'Français'}]</td>\n",
       "      <td>Released</td>\n",
       "      <td>There is no solitude greater than that of the ...</td>\n",
       "      <td>Le Samouraï</td>\n",
       "      <td>False</td>\n",
       "      <td>7.9</td>\n",
       "      <td>187</td>\n",
       "    </tr>\n",
       "    <tr>\n",
       "      <th>9165</th>\n",
       "      <td>True</td>\n",
       "      <td>NaN</td>\n",
       "      <td>0</td>\n",
       "      <td>[{'id': 80, 'name': 'Crime'}, {'id': 18, 'name...</td>\n",
       "      <td>NaN</td>\n",
       "      <td>5511</td>\n",
       "      <td>tt0062229</td>\n",
       "      <td>fr</td>\n",
       "      <td>Le Samouraï</td>\n",
       "      <td>Hitman Jef Costello is a perfectionist who alw...</td>\n",
       "      <td>...</td>\n",
       "      <td>1967-10-25</td>\n",
       "      <td>39481</td>\n",
       "      <td>105.0</td>\n",
       "      <td>[{'iso_639_1': 'fr', 'name': 'Français'}]</td>\n",
       "      <td>Released</td>\n",
       "      <td>There is no solitude greater than that of the ...</td>\n",
       "      <td>Le Samouraï</td>\n",
       "      <td>False</td>\n",
       "      <td>7.9</td>\n",
       "      <td>187</td>\n",
       "    </tr>\n",
       "    <tr>\n",
       "      <th>4114</th>\n",
       "      <td>True</td>\n",
       "      <td>{'id': 34055, 'name': 'Pokémon Collection', 'p...</td>\n",
       "      <td>16000000</td>\n",
       "      <td>[{'id': 12, 'name': 'Adventure'}, {'id': 14, '...</td>\n",
       "      <td>http://movies.warnerbros.com/pk3/</td>\n",
       "      <td>10991</td>\n",
       "      <td>tt0235679</td>\n",
       "      <td>ja</td>\n",
       "      <td>Pokémon 3: The Movie</td>\n",
       "      <td>When Molly Hale's sadness of her father's disa...</td>\n",
       "      <td>...</td>\n",
       "      <td>2000-07-08</td>\n",
       "      <td>68411275</td>\n",
       "      <td>93.0</td>\n",
       "      <td>[{'iso_639_1': 'en', 'name': 'English'}]</td>\n",
       "      <td>Released</td>\n",
       "      <td>Pokémon: Spell of the Unknown</td>\n",
       "      <td>Pokémon: Spell of the Unknown</td>\n",
       "      <td>False</td>\n",
       "      <td>6.0</td>\n",
       "      <td>143</td>\n",
       "    </tr>\n",
       "  </tbody>\n",
       "</table>\n",
       "<p>5 rows × 24 columns</p>\n",
       "</div>"
      ],
      "text/plain": [
       "       adult                              belongs_to_collection    budget  \\\n",
       "5865    True                                                NaN  30000000   \n",
       "33826   True                                                NaN  30000000   \n",
       "7345    True                                                NaN         0   \n",
       "9165    True                                                NaN         0   \n",
       "4114    True  {'id': 34055, 'name': 'Pokémon Collection', 'p...  16000000   \n",
       "\n",
       "                                                  genres  \\\n",
       "5865   [{'id': 35, 'name': 'Comedy'}, {'id': 80, 'nam...   \n",
       "33826  [{'id': 35, 'name': 'Comedy'}, {'id': 80, 'nam...   \n",
       "7345   [{'id': 80, 'name': 'Crime'}, {'id': 18, 'name...   \n",
       "9165   [{'id': 80, 'name': 'Crime'}, {'id': 18, 'name...   \n",
       "4114   [{'id': 12, 'name': 'Adventure'}, {'id': 14, '...   \n",
       "\n",
       "                                homepage  tmdb_id    imdb_id  \\\n",
       "5865                                 NaN     4912  tt0270288   \n",
       "33826                                NaN     4912  tt0270288   \n",
       "7345                                 NaN     5511  tt0062229   \n",
       "9165                                 NaN     5511  tt0062229   \n",
       "4114   http://movies.warnerbros.com/pk3/    10991  tt0235679   \n",
       "\n",
       "      original_language                   original_title  \\\n",
       "5865                 en  Confessions of a Dangerous Mind   \n",
       "33826                en  Confessions of a Dangerous Mind   \n",
       "7345                 fr                      Le Samouraï   \n",
       "9165                 fr                      Le Samouraï   \n",
       "4114                 ja             Pokémon 3: The Movie   \n",
       "\n",
       "                                                overview  ...  release_date  \\\n",
       "5865   Television made him famous, but his biggest hi...  ...    2002-12-30   \n",
       "33826  Television made him famous, but his biggest hi...  ...    2002-12-30   \n",
       "7345   Hitman Jef Costello is a perfectionist who alw...  ...    1967-10-25   \n",
       "9165   Hitman Jef Costello is a perfectionist who alw...  ...    1967-10-25   \n",
       "4114   When Molly Hale's sadness of her father's disa...  ...    2000-07-08   \n",
       "\n",
       "        revenue runtime                           spoken_languages    status  \\\n",
       "5865   33013805   113.0   [{'iso_639_1': 'en', 'name': 'English'}]  Released   \n",
       "33826  33013805   113.0   [{'iso_639_1': 'en', 'name': 'English'}]  Released   \n",
       "7345      39481   105.0  [{'iso_639_1': 'fr', 'name': 'Français'}]  Released   \n",
       "9165      39481   105.0  [{'iso_639_1': 'fr', 'name': 'Français'}]  Released   \n",
       "4114   68411275    93.0   [{'iso_639_1': 'en', 'name': 'English'}]  Released   \n",
       "\n",
       "                                                 tagline  \\\n",
       "5865             Some things are better left top secret.   \n",
       "33826            Some things are better left top secret.   \n",
       "7345   There is no solitude greater than that of the ...   \n",
       "9165   There is no solitude greater than that of the ...   \n",
       "4114                       Pokémon: Spell of the Unknown   \n",
       "\n",
       "                                 title  video vote_average vote_count  \n",
       "5865   Confessions of a Dangerous Mind  False          6.6        281  \n",
       "33826  Confessions of a Dangerous Mind  False          6.6        281  \n",
       "7345                       Le Samouraï  False          7.9        187  \n",
       "9165                       Le Samouraï  False          7.9        187  \n",
       "4114     Pokémon: Spell of the Unknown  False          6.0        143  \n",
       "\n",
       "[5 rows x 24 columns]"
      ]
     },
     "execution_count": 44,
     "metadata": {},
     "output_type": "execute_result"
    }
   ],
   "source": [
    "# Check for duplicated columns\n",
    "movies_metadata[movies_metadata.duplicated(subset=[\"tmdb_id\", \"title\", \"imdb_id\"], keep=False)].sort_values(by=[\"tmdb_id\", \"title\", \"imdb_id\"]).head()"
   ]
  },
  {
   "cell_type": "code",
   "execution_count": 45,
   "metadata": {},
   "outputs": [],
   "source": [
    "# Drop duplicates\n",
    "movies_metadata.drop_duplicates(subset=[\"tmdb_id\", \"title\", \"imdb_id\"], keep=\"first\", inplace=True)"
   ]
  },
  {
   "cell_type": "markdown",
   "metadata": {},
   "source": [
    "Validate"
   ]
  },
  {
   "cell_type": "code",
   "execution_count": 46,
   "metadata": {},
   "outputs": [
    {
     "data": {
      "application/vnd.microsoft.datawrangler.viewer.v0+json": {
       "columns": [
        {
         "name": "index",
         "rawType": "int64",
         "type": "integer"
        },
        {
         "name": "adult",
         "rawType": "bool",
         "type": "boolean"
        },
        {
         "name": "belongs_to_collection",
         "rawType": "object",
         "type": "unknown"
        },
        {
         "name": "budget",
         "rawType": "int64",
         "type": "integer"
        },
        {
         "name": "genres",
         "rawType": "object",
         "type": "string"
        },
        {
         "name": "homepage",
         "rawType": "object",
         "type": "unknown"
        },
        {
         "name": "tmdb_id",
         "rawType": "int64",
         "type": "integer"
        },
        {
         "name": "imdb_id",
         "rawType": "object",
         "type": "unknown"
        },
        {
         "name": "original_language",
         "rawType": "object",
         "type": "unknown"
        },
        {
         "name": "original_title",
         "rawType": "object",
         "type": "string"
        },
        {
         "name": "overview",
         "rawType": "object",
         "type": "unknown"
        },
        {
         "name": "popularity",
         "rawType": "float64",
         "type": "float"
        },
        {
         "name": "poster_path",
         "rawType": "object",
         "type": "unknown"
        },
        {
         "name": "production_companies",
         "rawType": "object",
         "type": "string"
        },
        {
         "name": "production_countries",
         "rawType": "object",
         "type": "string"
        },
        {
         "name": "release_date",
         "rawType": "datetime64[ns]",
         "type": "datetime"
        },
        {
         "name": "revenue",
         "rawType": "int64",
         "type": "integer"
        },
        {
         "name": "runtime",
         "rawType": "float64",
         "type": "float"
        },
        {
         "name": "spoken_languages",
         "rawType": "object",
         "type": "string"
        },
        {
         "name": "status",
         "rawType": "object",
         "type": "unknown"
        },
        {
         "name": "tagline",
         "rawType": "object",
         "type": "unknown"
        },
        {
         "name": "title",
         "rawType": "object",
         "type": "string"
        },
        {
         "name": "video",
         "rawType": "bool",
         "type": "boolean"
        },
        {
         "name": "vote_average",
         "rawType": "float64",
         "type": "float"
        },
        {
         "name": "vote_count",
         "rawType": "int64",
         "type": "integer"
        }
       ],
       "conversionMethod": "pd.DataFrame",
       "ref": "13666a59-1cdc-4e0e-89f1-cbea97476286",
       "rows": [
        [
         "45457",
         "True",
         null,
         "0",
         "[{'id': 9648, 'name': 'Mystery'}, {'id': 27, 'name': 'Horror'}]",
         null,
         "390959",
         "tt0265736",
         "en",
         "Shadow of the Blair Witch",
         "In this true-crime documentary, we delve into the murder spree that was the inspiration for Joe Berlinger's \"Book of Shadows: Blair Witch 2\".",
         "0.076061",
         "/q75tCM4pFmUzdCg0gqcOQquCaYf.jpg",
         "[]",
         "[]",
         "2000-10-22 00:00:00",
         "0",
         "45.0",
         "[{'iso_639_1': 'en', 'name': 'English'}]",
         "Released",
         null,
         "Shadow of the Blair Witch",
         "False",
         "7.0",
         "2"
        ],
        [
         "45458",
         "True",
         null,
         "0",
         "[{'id': 27, 'name': 'Horror'}]",
         null,
         "289923",
         "tt0252966",
         "en",
         "The Burkittsville 7",
         "A film archivist revisits the story of Rustin Parr, a hermit thought to have murdered seven children while under the possession of the Blair Witch.",
         "0.38645",
         "/lXtoHVdej6kS1Dc7KAhw05sMos9.jpg",
         "[{'name': 'Neptune Salad Entertainment', 'id': 27570}, {'name': 'Pirie Productions', 'id': 27571}]",
         "[{'iso_3166_1': 'US', 'name': 'United States of America'}]",
         "2000-10-03 00:00:00",
         "0",
         "30.0",
         "[{'iso_639_1': 'en', 'name': 'English'}]",
         "Released",
         "Do you know what happened 50 years before \"The Blair Witch Project\"?",
         "The Burkittsville 7",
         "False",
         "7.0",
         "1"
        ],
        [
         "45459",
         "True",
         null,
         "0",
         "[{'id': 878, 'name': 'Science Fiction'}]",
         null,
         "222848",
         "tt0112613",
         "en",
         "Caged Heat 3000",
         "It's the year 3000 AD. The world's most dangerous women are banished to a remote asteroid 45 million light years from earth. Kira Murphy doesn't belong; wrongfully accused of a crime she did not commit, she's thrown in this interplanetary prison and left to her own defenses. But Kira's a fighter, and soon she finds herself in the middle of a female gang war; where everyone wants a piece of the action... and a piece of her! \"Caged Heat 3000\" takes the Women-in-Prison genre to a whole new level... and a whole new galaxy!",
         "0.661558",
         "/4lF9LH0b0Z1X94xGK9IOzqEW6k1.jpg",
         "[{'name': 'Concorde-New Horizons', 'id': 4688}]",
         "[{'iso_3166_1': 'US', 'name': 'United States of America'}]",
         "1995-01-01 00:00:00",
         "0",
         "85.0",
         "[{'iso_639_1': 'en', 'name': 'English'}]",
         "Released",
         null,
         "Caged Heat 3000",
         "False",
         "3.5",
         "1"
        ],
        [
         "45465",
         "True",
         null,
         "0",
         "[]",
         null,
         "461257",
         "tt6980792",
         "en",
         "Queerama",
         "50 years after decriminalisation of homosexuality in the UK, director Daisy Asquith mines the jewels of the BFI archive to take us into the relationships, desires, fears and expressions of gay men and women in the 20th century.",
         "0.163015",
         "/s5UkZt6NTsrS7ZF0Rh8nzupRlIU.jpg",
         "[]",
         "[{'iso_3166_1': 'GB', 'name': 'United Kingdom'}]",
         "2017-06-09 00:00:00",
         "0",
         "75.0",
         "[{'iso_639_1': 'en', 'name': 'English'}]",
         "Released",
         null,
         "Queerama",
         "False",
         "0.0",
         "0"
        ],
        [
         "45464",
         "True",
         null,
         "0",
         "[]",
         null,
         "227506",
         "tt0008536",
         "en",
         "Satana likuyushchiy",
         "In a small town live two brothers, one a minister and the other one a hunchback painter of the chapel who lives with his wife. One dreadful and stormy night, a stranger knocks at the door asking for shelter. The stranger talks about all the good things of the earthly life the minister is missing because of his puritanical faith. The minister comes to accept the stranger's viewpoint but it is others who will pay the consequences because the minister will discover the human pleasures thanks to, ehem, his sister- in -law… The tormented minister and his cuckolded brother will die in a strange accident in the chapel and later an infant will be born from the minister's adulterous relationship.",
         "0.003503",
         "/aorBPO7ak8e8iJKT5OcqYxU3jlK.jpg",
         "[{'name': 'Yermoliev', 'id': 88753}]",
         "[{'iso_3166_1': 'RU', 'name': 'Russia'}]",
         "1917-10-21 00:00:00",
         "0",
         "87.0",
         "[]",
         "Released",
         null,
         "Satan Triumphant",
         "False",
         "0.0",
         "0"
        ],
        [
         "45461",
         "True",
         null,
         "0",
         "[{'id': 18, 'name': 'Drama'}, {'id': 10751, 'name': 'Family'}]",
         "http://www.imdb.com/title/tt6209470/",
         "439050",
         "tt6209470",
         "fa",
         "رگ خواب",
         "Rising and falling between a man and woman.",
         "0.072051",
         "/jldsYflnId4tTWPx8es3uzsB1I8.jpg",
         "[]",
         "[{'iso_3166_1': 'IR', 'name': 'Iran'}]",
         null,
         "0",
         "90.0",
         "[{'iso_639_1': 'fa', 'name': 'فارسی'}]",
         "Released",
         "Rising and falling between a man and woman",
         "Subdue",
         "False",
         "4.0",
         "1"
        ],
        [
         "45462",
         "True",
         null,
         "0",
         "[{'id': 18, 'name': 'Drama'}]",
         null,
         "111109",
         "tt2028550",
         "tl",
         "Siglo ng Pagluluwal",
         "An artist struggles to finish his work while a storyline about a cult plays in his head.",
         "0.178241",
         "/xZkmxsNmYXJbKVsTRLLx3pqGHx7.jpg",
         "[{'name': 'Sine Olivia', 'id': 19653}]",
         "[{'iso_3166_1': 'PH', 'name': 'Philippines'}]",
         "2011-11-17 00:00:00",
         "0",
         "360.0",
         "[{'iso_639_1': 'tl', 'name': ''}]",
         "Released",
         null,
         "Century of Birthing",
         "False",
         "9.0",
         "3"
        ],
        [
         "41653",
         "True",
         null,
         "0",
         "[{'id': 10749, 'name': 'Romance'}, {'id': 35, 'name': 'Comedy'}, {'id': 18, 'name': 'Drama'}]",
         null,
         "320293",
         "tt0084839",
         "fi",
         "Ulvova mylläri",
         "The main character is a miller, who sometimes acts strangely but is otherwise a goodhearted hardworking honest man. He sometimes keeps the villagers up all night by howling. Finally the villagers decide that the miller has to be committed into a mental hospital, where the hero does not have to spend too much time until he escapes. The miller takes to the woods near his home but there he is constantly harassed by the chief of the police with his posse.",
         "0.070588",
         null,
         "[{'name': 'Filmityö', 'id': 95677}]",
         "[{'iso_3166_1': 'FI', 'name': 'Finland'}]",
         "1982-11-05 00:00:00",
         "0",
         "95.0",
         "[{'iso_639_1': 'fi', 'name': 'suomi'}]",
         "Released",
         null,
         "The Howling Miller",
         "False",
         "6.0",
         "2"
        ],
        [
         "45432",
         "True",
         null,
         "0",
         "[{'id': 99, 'name': 'Documentary'}]",
         null,
         "323132",
         "tt0074124",
         "en",
         "Altar of Fire",
         "This film records a 12 day ritual performed by Mambudiri Brahmins in Kerala, southwest India, in April 1975. This event was possibly the last performance of the Agnicayana, a Vedic ritual of sacrifice dating back 3,000 years and probably the oldest surviving human ritual. Long considered extinct and never witnessed by outsiders, the ceremonies require the participation of seventeen priests, involve libations of Soma juice and oblations of other substances, all preceded by several months of preparation and rehearsals. They include the construction, from a thousand bricks, of a fire altar in the shape of a bird.",
         "0.0",
         "/zE7szDWCCIN6h5XoNJBUuzCyg0o.jpg",
         "[]",
         "[]",
         "1976-01-01 00:00:00",
         "0",
         "45.0",
         "[{'iso_639_1': 'en', 'name': 'English'}]",
         "Released",
         null,
         "Altar of Fire",
         "False",
         "0.0",
         "0"
        ],
        [
         "45434",
         "True",
         null,
         "0",
         "[]",
         null,
         "325439",
         "tt0055178",
         "en",
         "Le Meraviglie di Aladino",
         "Young Aladdin (Donald O'Connor) has a series of wild adventures after he discovers a magic lamp containing a genie (Vittorio De Sica).",
         "0.093498",
         "/UmS7SMaCb1n7uZzkzQSGeGD5Vk.jpg",
         "[]",
         "[]",
         "1961-10-31 00:00:00",
         "0",
         "93.0",
         "[{'iso_639_1': 'en', 'name': 'English'}]",
         "Released",
         null,
         "The Wonders of Aladdin",
         "False",
         "0.0",
         "0"
        ],
        [
         "45438",
         "True",
         null,
         "0",
         "[{'id': 18, 'name': 'Drama'}]",
         null,
         "327237",
         "tt3814486",
         "nl",
         "Bloed, Zweet en Tranen",
         "Bloed, Zweet en Tranen (Blood, Sweat and Tears) is a story about the life of Andre Hazes, a Dutch populair singer. This movie shows three crucial phases in the life of Hazes: his youth (60's), his breakthrough (80's) and the last year of his life (early '00).",
         "0.590087",
         "/aNrh6DfTngUvi7WdpTjLTPzYbTU.jpg",
         "[]",
         "[]",
         "2015-04-02 00:00:00",
         "0",
         "111.0",
         "[{'iso_639_1': 'nl', 'name': 'Nederlands'}]",
         "Released",
         "The movie about Andre Hazes",
         "Blood, Sweat and Tears",
         "False",
         "6.8",
         "11"
        ],
        [
         "41663",
         "True",
         null,
         "0",
         "[{'id': 18, 'name': 'Drama'}, {'id': 53, 'name': 'Thriller'}]",
         "http://www.sfi.se/en-GB/Swedish-film-database/Item/?type=MOVIE&itemid=75748",
         "301849",
         "tt3265506",
         "sv",
         "Flugparken",
         "Blowfly Park is a psychological thriller which follows Christian Kretschmann, a day-nursery teacher, who may have committed a violent murder. This is the film debut of choreographer Jens Östberg.",
         "0.774073",
         "/tijE6zzzXeetSJFUtIi8qLTgsPr.jpg",
         "[]",
         "[{'iso_3166_1': 'SE', 'name': 'Sweden'}]",
         "2014-11-28 00:00:00",
         "0",
         "96.0",
         "[{'iso_639_1': 'sv', 'name': 'svenska'}]",
         "Released",
         null,
         "Blowfly Park",
         "False",
         "5.0",
         "2"
        ],
        [
         "41664",
         "True",
         null,
         "0",
         "[{'id': 28, 'name': 'Action'}, {'id': 12, 'name': 'Adventure'}, {'id': 18, 'name': 'Drama'}]",
         null,
         "188521",
         "tt2343137",
         "en",
         "Spies of Warsaw",
         "A military attaché at the French embassy is drawn into a world of abduction, betrayal and intrigue in the diplomatic salons and back alleys of Warsaw.",
         "2.224206",
         "/12bVweExWtsstEg29czYE9rehDL.jpg",
         "[]",
         "[{'iso_3166_1': 'GB', 'name': 'United Kingdom'}, {'iso_3166_1': 'US', 'name': 'United States of America'}, {'iso_3166_1': 'PL', 'name': 'Poland'}]",
         "2013-01-01 00:00:00",
         "0",
         "180.0",
         "[{'iso_639_1': 'en', 'name': 'English'}, {'iso_639_1': 'fr', 'name': 'Français'}, {'iso_639_1': 'de', 'name': 'Deutsch'}, {'iso_639_1': 'pl', 'name': 'Polski'}]",
         "Released",
         null,
         "Spies of Warsaw",
         "False",
         "6.7",
         "12"
        ],
        [
         "41666",
         "True",
         null,
         "0",
         "[{'id': 9648, 'name': 'Mystery'}, {'id': 53, 'name': 'Thriller'}]",
         null,
         "380620",
         "tt4900708",
         "ja",
         "クリーピー",
         "After having narrowly escaped an attempt on his life at the hands of a psychopath, detective inspector Takakura quits active service in the police force and takes up a position as a university lecturer in criminal psychology. But his desire to get to the bottom of criminals’ motives remains, and he does not hesitate long when former colleague Nogami asks him to reopen an old case.",
         "1.288657",
         "/xo6HWgkcfkSKih0CckX9KUt0K4Q.jpg",
         "[]",
         "[{'iso_3166_1': 'JP', 'name': 'Japan'}]",
         "2016-06-18 00:00:00",
         "0",
         "130.0",
         "[{'iso_639_1': 'ja', 'name': '日本語'}]",
         "Released",
         null,
         "Creepy",
         "False",
         "6.3",
         "27"
        ],
        [
         "41667",
         "True",
         null,
         "0",
         "[]",
         null,
         "115877",
         "tt0060398",
         "en",
         "Fantasía... 3",
         "The film is an adaptation of three fairy tales classics of children literature. \"The Maiden of the Sea\" tells the story of Coraline, a mermaid who wants to be human afte she falls in love with a Sailor Prince. \"The 3 hairs of the Devil\" tells the story of Tomasin, a young man of humble background, which a seer had a presentiment that he would marry the daughter of the king, who must perform a series of tests to avoid death, and marriage the princess is accepted by the king. \"The Wizard of Oz\" tells the story of Sylvia, a girl who get lost in the woods with her dog Toto, and along with her friends The Scarecrow, The Tin Man and the Cowardly Lion, have been snatched the brain, heart and courage, respectively. They go the Emerald City to request help from the Wizard of Oz adapting three children’s stories: , The three hairs from the devil and The Wizard of Oz.",
         "0.101585",
         "/ftWN24ECLSobYZTZbM2QHL9ekeg.jpg",
         "[]",
         "[{'iso_3166_1': 'ES', 'name': 'Spain'}]",
         "1966-01-01 00:00:00",
         "0",
         "85.0",
         "[{'iso_639_1': 'es', 'name': 'Español'}]",
         "Released",
         null,
         "Fantasía... 3",
         "False",
         "5.0",
         "1"
        ],
        [
         "45427",
         "True",
         null,
         "0",
         "[{'id': 9648, 'name': 'Mystery'}, {'id': 18, 'name': 'Drama'}, {'id': 53, 'name': 'Thriller'}, {'id': 27, 'name': 'Horror'}]",
         null,
         "365432",
         "tt4285960",
         "en",
         "The Sublet",
         "The Sublet is a suspense driven psychological thriller about Joanna, a new mom coping with her baby alone in an odd sublet apartment. As her husband neglects her to focus on his career, Joanna questions her sanity as she discovers a violent past to the apartment and suspects that the building may be haunted.",
         "1.339355",
         "/dESzaecE7laxZcxuusJNOUFfUBQ.jpg",
         "[{'name': 'Black Fawn Films', 'id': 9315}, {'name': 'Breakthrough Entertainment', 'id': 81225}]",
         "[{'iso_3166_1': 'CA', 'name': 'Canada'}]",
         "2015-11-07 00:00:00",
         "0",
         "82.0",
         "[{'iso_639_1': 'fr', 'name': 'Français'}, {'iso_639_1': 'en', 'name': 'English'}]",
         "Released",
         null,
         "The Sublet",
         "False",
         "6.5",
         "4"
        ],
        [
         "45430",
         "True",
         null,
         "0",
         "[{'id': 53, 'name': 'Thriller'}, {'id': 878, 'name': 'Science Fiction'}]",
         null,
         "222872",
         "tt0120200",
         "en",
         "Starquest II",
         "Sci-fi thriller directed by Fred Gallo.",
         "1.188052",
         "/kYRubwfzgCk9IM3MyJtslCGO1TH.jpg",
         "[{'name': 'The Pacific Trust', 'id': 30376}]",
         "[{'iso_3166_1': 'US', 'name': 'United States of America'}]",
         "1996-01-01 00:00:00",
         "0",
         "0.0",
         "[]",
         "Released",
         null,
         "Starquest II",
         "False",
         "2.0",
         "1"
        ],
        [
         "45431",
         "True",
         null,
         "0",
         "[{'id': 99, 'name': 'Documentary'}]",
         null,
         "257472",
         "tt0072088",
         "en",
         "Rivers of Sand",
         "The people portrayed in this film are called Hamar. They dwell in the thorny scrubland of southwestern Ethiopia, about one hundred miles north of Lake Rudolph, Africa's great inland sea. They are isolated by some distant choice that now limits their movement and defines their condition. At least until recently, it has resulted in their retaining a highly traditional way of life.  Hamar women eagerly accept their ritual whipping when boys come of age.  Part of that tradition was the open, even flamboyant, observance of male supremacy. In their isolation, they seemed to have refined this not uncommon principle of social organization into a remarkably pure state. Hamar men are masters and their women are slaves. The film tries to disclose the effect on mood and behavior of lives governed by the idea of sexual inequality.",
         "0.0375",
         null,
         "[]",
         "[]",
         "1974-10-30 00:00:00",
         "0",
         "83.0",
         "[{'iso_639_1': 'en', 'name': 'English'}]",
         "Released",
         null,
         "Rivers of Sand",
         "False",
         "0.0",
         "0"
        ],
        [
         "36",
         "True",
         null,
         "0",
         "[{'id': 12, 'name': 'Adventure'}, {'id': 36, 'name': 'History'}, {'id': 18, 'name': 'Drama'}, {'id': 10751, 'name': 'Family'}]",
         null,
         "139405",
         "tt0112286",
         "en",
         "Across the Sea of Time",
         "A young Russian boy, Thomas Minton, travels to New York as a passenger on a Russian freighter. Close to Ellis Island he gets off and thus starts his journey to America the same way as all immigrants in former times. Thomas is searching for the family of one of his ancestors, who had emigrated decades ago, but once sent a letter home together with a sample of his new profession: 3D-Photography. The boy follows his relative's traces by counter-checking the old 3D-Photographs of New York (using an antique viewer) with the same places and how they look today. This way, the audience gets to see the Big Apple in former times as well as today.",
         "0.114469",
         "/lKOAyy098yjoot8cutYsStVO1WS.jpg",
         "[{'name': 'Sony New Technologies', 'id': 53390}]",
         "[{'iso_3166_1': 'US', 'name': 'United States of America'}]",
         "1995-10-20 00:00:00",
         "0",
         "51.0",
         "[{'iso_639_1': 'ru', 'name': 'Pусский'}, {'iso_639_1': 'en', 'name': 'English'}]",
         "Released",
         null,
         "Across the Sea of Time",
         "False",
         "3.5",
         "2"
        ],
        [
         "45437",
         "True",
         null,
         "0",
         "[{'id': 10751, 'name': 'Family'}, {'id': 16, 'name': 'Animation'}, {'id': 10749, 'name': 'Romance'}, {'id': 35, 'name': 'Comedy'}]",
         null,
         "455661",
         "tt6969946",
         "en",
         "In a Heartbeat",
         "A closeted boy runs the risk of being outed by his own heart after it pops out of his chest to chase down the boy of his dreams.",
         "20.82178",
         "/wJUJROdLOtOzMixkjkx1aaZGSLl.jpg",
         "[{'name': 'Ringling College of Art and Design', 'id': 18359}]",
         "[{'iso_3166_1': 'US', 'name': 'United States of America'}]",
         "2017-06-01 00:00:00",
         "0",
         "4.0",
         "[{'iso_639_1': 'en', 'name': 'English'}]",
         "Released",
         "The Heart Wants What The Heart Wants",
         "In a Heartbeat",
         "False",
         "8.3",
         "146"
        ],
        [
         "41638",
         "True",
         null,
         "0",
         "[{'id': 18, 'name': 'Drama'}]",
         null,
         "393731",
         "tt4530968",
         "fr",
         "Mercenaire",
         "Odyssey Saône, a young Wallisian of Caledonian origin, leaves everything behind to try his luck in France as a rugby player. Soane is thirsty for freedom, fighting for recognition that it lacks.",
         "1.350684",
         "/pQlEi8qLxIknqgF6BBsefUUFt34.jpg",
         "[{'name': '3B Productions', 'id': 7184}, {'name': 'Timshel Production', 'id': 75805}]",
         "[{'iso_3166_1': 'FR', 'name': 'France'}]",
         "2016-10-05 00:00:00",
         "0",
         "112.0",
         "[{'iso_639_1': 'fr', 'name': 'Français'}]",
         "Released",
         null,
         "Mercenary",
         "False",
         "6.8",
         "10"
        ],
        [
         "41639",
         "True",
         null,
         "0",
         "[{'id': 99, 'name': 'Documentary'}]",
         "https://www.facebook.com/FroningFilm/",
         "362226",
         "tt5079382",
         "en",
         "Froning: The Fittest Man In History",
         "Rich Froning Jr entered the 2014 CrossFit Games competition with three consecutive victories, a feat that no other athlete had accomplished.  After finding CrossFit in 2009, Froning began a history-making career, finishing second at the CrossFit Games in 2010 and dominating the competition for the next four years.  His four titles, five trips to the podium, 16 event wins, 35 top-five event finishes and 45 top-10 event finishes are all records, and he's revered in the community.  Froning's athletic prowess has been under the microscope for five years, but there's much more to the man from Tennessee than snatches and pull-ups.  In this in-depth documentary by Heber Cannon, take a look into the life and childhood of the fittest man in history, follow his quest to a fourth straight CrossFit Games championship, and see him as a son, a husband, and a new father.",
         "0.647998",
         "/m2PJwqvrZv78UbXHvXzP9pJ6roZ.jpg",
         "[{'name': 'CrossFit Inc.', 'id': 64596}]",
         "[{'iso_3166_1': 'US', 'name': 'United States of America'}]",
         "2015-10-01 00:00:00",
         "0",
         "99.0",
         "[{'iso_639_1': 'en', 'name': 'English'}]",
         "Released",
         null,
         "Froning: The Fittest Man In History",
         "False",
         "6.5",
         "8"
        ],
        [
         "41640",
         "True",
         null,
         "0",
         "[{'id': 18, 'name': 'Drama'}]",
         null,
         "257487",
         "tt2618936",
         "es",
         "Inevitable",
         "Fabian (Dario Grandinetti) works as a bank executive. After one of his colleagues in the bank dies, he falls into crisis. His wife, Mariela (Carolina Peleritti), is a psychologist and has Olga (Mabel Rivera) , an embittered woman who tries to take her frustration out on her, as one of her patients. Fabian will meet a famous blind author (Federico Luppi), who tries to help him. Following his advice, Fabian embarks himself on a relationship with Alicia (Antonella Costa), a young artist that he considers his inevitable love.",
         "0.277213",
         "/zZimQkC6oCRXSzuymxFP4eRl3gR.jpg",
         "[{'name': 'Adivina Producciones S.L.', 'id': 5470}]",
         "[{'iso_3166_1': 'AR', 'name': 'Argentina'}, {'iso_3166_1': 'ES', 'name': 'Spain'}]",
         "2014-04-11 00:00:00",
         "0",
         "0.0",
         "[{'iso_639_1': 'es', 'name': 'Español'}]",
         "Released",
         null,
         "Inevitable",
         "False",
         "0.0",
         "0"
        ],
        [
         "41641",
         "True",
         null,
         "0",
         "[{'id': 10752, 'name': 'War'}, {'id': 18, 'name': 'Drama'}, {'id': 36, 'name': 'History'}]",
         null,
         "403357",
         "tt5698568",
         "es",
         "1898. Los últimos de Filipinas",
         "The Spanish troops in the Philippines Have to fight for their lives as they are forgot by the Spanish Empire",
         "12.129986",
         "/f0j68TWyH44vPGP9RoHiZegv4LO.jpg",
         "[{'name': 'Televisión Española (TVE)', 'id': 6639}, {'name': 'CIPI Cinematografica S.A.', 'id': 8574}, {'name': 'Instituto de la Cinematografía y de las Artes Audiovisuales (ICAA)', 'id': 9974}, {'name': '13 TV', 'id': 78449}]",
         "[{'iso_3166_1': 'ES', 'name': 'Spain'}]",
         "2016-12-02 00:00:00",
         "0",
         "105.0",
         "[{'iso_639_1': 'es', 'name': 'Español'}]",
         "Released",
         null,
         "1898. Our Last Men in the Philippines",
         "False",
         "6.5",
         "39"
        ],
        [
         "41642",
         "True",
         null,
         "150000000",
         "[{'id': 28, 'name': 'Action'}, {'id': 12, 'name': 'Adventure'}, {'id': 14, 'name': 'Fantasy'}]",
         "http://www.thegreatwallmovie.com/",
         "311324",
         "tt2034800",
         "en",
         "The Great Wall",
         "European mercenaries searching for black powder become embroiled in the defense of the Great Wall of China against a horde of monstrous creatures.",
         "15.884744",
         "/hm0Z5tpRlSzPO97U5e2Q32Y0Xrb.jpg",
         "[{'name': 'Universal Pictures', 'id': 33}, {'name': 'Atlas Entertainment', 'id': 507}, {'name': 'Legendary Pictures', 'id': 923}, {'name': 'China Film Group', 'id': 5635}, {'name': 'Le Vision Pictures', 'id': 48873}, {'name': 'Legendary East', 'id': 86433}, {'name': 'Kava Productions', 'id': 86434}]",
         "[{'iso_3166_1': 'AU', 'name': 'Australia'}, {'iso_3166_1': 'CA', 'name': 'Canada'}, {'iso_3166_1': 'CN', 'name': 'China'}, {'iso_3166_1': 'HK', 'name': 'Hong Kong'}, {'iso_3166_1': 'US', 'name': 'United States of America'}]",
         "2016-12-16 00:00:00",
         "331957105",
         "103.0",
         "[{'iso_639_1': 'en', 'name': 'English'}, {'iso_639_1': 'zh', 'name': '普通话'}, {'iso_639_1': 'es', 'name': 'Español'}]",
         "Released",
         "1700 years to build. 5500 miles long. What were they trying to keep out?",
         "The Great Wall",
         "False",
         "5.8",
         "1465"
        ],
        [
         "41643",
         "True",
         null,
         "0",
         "[{'id': 16, 'name': 'Animation'}]",
         null,
         "283146",
         "tt3107228",
         "en",
         "This Land Is Mine",
         "An animated history of the conflict between Palestinians and Israelis",
         "0.194273",
         "/3KPlT2QeZb4D7axdioddeb9j4wC.jpg",
         "[{'name': 'Nina Paley', 'id': 76628}]",
         "[{'iso_3166_1': 'US', 'name': 'United States of America'}]",
         "2012-07-22 00:00:00",
         "0",
         "4.0",
         "[{'iso_639_1': 'en', 'name': 'English'}]",
         "Released",
         "Death is the real winner",
         "This Land Is Mine",
         "False",
         "6.1",
         "4"
        ],
        [
         "41646",
         "True",
         null,
         "0",
         "[{'id': 35, 'name': 'Comedy'}]",
         null,
         "401593",
         "tt5814512",
         "en",
         "Big Jay Oakerson: Live at Webster Hall",
         "From the legendary New York City music venue, the man The New York Times called “a master of the dirty joke” dishes on the taboos of growing up with step parents, how to navigate “the friend zone,” and why nobody should feel uncomfortable about cringe-worthy material at a comedy show.",
         "0.248238",
         "/oZo9AmzVVPZFWGV8yFlKFT7t4YF.jpg",
         "[{'name': 'Jax Media', 'id': 24021}]",
         "[{'iso_3166_1': 'US', 'name': 'United States of America'}]",
         "2016-06-17 00:00:00",
         "0",
         "0.0",
         "[{'iso_639_1': 'en', 'name': 'English'}]",
         "Released",
         null,
         "Big Jay Oakerson: Live at Webster Hall",
         "False",
         "10.0",
         "1"
        ],
        [
         "41648",
         "True",
         null,
         "0",
         "[{'id': 35, 'name': 'Comedy'}]",
         "http://slashthemovie.com/",
         "347870",
         "tt4729990",
         "en",
         "Slash",
         "Freshman Neil's Vanguard stories are all he cares about...until he meets the older Julia, who pushes him to put his own fan fic online. When the website's moderator takes a special interest in Neil's work, it opens up a whole new universe.",
         "0.957564",
         "/iuyQUiJ756WOctTXHIGRr1CiLQg.jpg",
         "[{'name': 'Arts+Labor', 'id': 42039}]",
         "[{'iso_3166_1': 'US', 'name': 'United States of America'}]",
         "2016-03-13 00:00:00",
         "0",
         "100.0",
         "[{'iso_639_1': 'en', 'name': 'English'}]",
         "Released",
         null,
         "Slash",
         "False",
         "6.6",
         "17"
        ],
        [
         "41649",
         "True",
         null,
         "0",
         "[{'id': 35, 'name': 'Comedy'}]",
         "https://www.netflix.com/title/80115673",
         "429126",
         "tt5861260",
         "en",
         "Reggie Watts: Spatial",
         "The comic innovator delivers a surreal set blending experimental songs, jokes about grits, guns and drugs, and other improvised comedy adventures.",
         "0.29431",
         "/iutPEZ2YzWu576JvBOOaiwGFMi1.jpg",
         "[{'name': 'NetFlix', 'id': 8858}]",
         "[{'iso_3166_1': 'US', 'name': 'United States of America'}]",
         "2016-12-06 00:00:00",
         "0",
         "61.0",
         "[{'iso_639_1': 'en', 'name': 'English'}]",
         "Released",
         null,
         "Reggie Watts: Spatial",
         "False",
         "7.0",
         "4"
        ],
        [
         "41650",
         "True",
         null,
         "0",
         "[{'id': 53, 'name': 'Thriller'}]",
         null,
         "401060",
         "tt5710042",
         "en",
         "Mercy",
         "Brought together at their childhood home over their dying mother, an estranged family is thrust into a deadly fight for their own survival.",
         "5.720163",
         "/2hDePrZbde3pmcaXrESANfIJkeL.jpg",
         "[{'name': 'XYZ Films', 'id': 12142}, {'name': 'Netflix', 'id': 59811}]",
         "[]",
         "2016-06-04 00:00:00",
         "0",
         "82.0",
         "[{'iso_639_1': 'en', 'name': 'English'}, {'iso_639_1': 'de', 'name': 'Deutsch'}]",
         "Released",
         null,
         "Mercy",
         "False",
         "4.1",
         "38"
        ],
        [
         "41651",
         "True",
         null,
         "0",
         "[{'id': 10749, 'name': 'Romance'}, {'id': 35, 'name': 'Comedy'}]",
         "http://matchbreakerthemovie.com/",
         "413417",
         "tt4269746",
         "en",
         "The Matchbreaker",
         "When an idealistic romantic gets fired from his day job, he is offered a \"one-time gig\" to break up a girl's relationship for her disapproving parents. This \"one-time\" gig spreads through word-of-mouth and he ends up becoming a professional match-breaker. However, he ends up falling for one of his clients and must figure out how to balance his secret job with his love-life.",
         "2.555849",
         "/sztdKdVYFNdz6Q6D11Pd8IyCqPK.jpg",
         "[{'name': 'Vetter Brothers Filmworks', 'id': 84161}]",
         "[{'iso_3166_1': 'US', 'name': 'United States of America'}]",
         "2016-10-07 00:00:00",
         "0",
         "94.0",
         "[{'iso_639_1': 'en', 'name': 'English'}]",
         "Released",
         "True love can just wait.",
         "The Matchbreaker",
         "False",
         "6.0",
         "22"
        ],
        [
         "41652",
         "True",
         null,
         "0",
         "[{'id': 35, 'name': 'Comedy'}, {'id': 18, 'name': 'Drama'}, {'id': 14, 'name': 'Fantasy'}, {'id': 10749, 'name': 'Romance'}]",
         null,
         "352490",
         "tt4560008",
         "en",
         "This Beautiful Fantastic",
         "A young woman who dreams of being a children's author makes an unlikely friendship with a cantankerous, rich old widower.",
         "3.202684",
         "/pkbxIuntAf1zq96K9855AwKGMr.jpg",
         "[{'name': 'Constance Media', 'id': 22306}, {'name': 'Ipso Facto Productions', 'id': 64632}, {'name': 'Smudge Films', 'id': 90610}]",
         "[{'iso_3166_1': 'GB', 'name': 'United Kingdom'}, {'iso_3166_1': 'US', 'name': 'United States of America'}]",
         "2016-10-20 00:00:00",
         "0",
         "100.0",
         "[{'iso_639_1': 'gd', 'name': ''}, {'iso_639_1': 'en', 'name': 'English'}]",
         "Released",
         "Life blooms in enchanting ways.",
         "This Beautiful Fantastic",
         "False",
         "7.3",
         "41"
        ],
        [
         "45416",
         "True",
         null,
         "0",
         "[{'id': 35, 'name': 'Comedy'}]",
         null,
         "282308",
         "tt0427767",
         "en",
         "Rigadin peintre cubiste",
         "After visiting the first Cubist exposition in Paris, Rigadin (Charles Prince) is struck by his discovery: A egg is a rhombus, the earth a cube! Unfortunately, he is engaged to Miss Rondebosse (Gabrielle Lange), whose father is head of the Tradition...",
         "0.003732",
         "/rGi2o6TDQhiYeaYQqPQkwKx8qfJ.jpg",
         "[{'name': 'Pathé Frères', 'id': 21594}]",
         "[{'iso_3166_1': 'FR', 'name': 'France'}]",
         "1912-01-01 00:00:00",
         "0",
         "0.0",
         "[{'iso_639_1': 'fr', 'name': 'Français'}]",
         "Released",
         null,
         "Whiffles, Cubic Artist",
         "False",
         "0.0",
         "0"
        ],
        [
         "45417",
         "True",
         null,
         "0",
         "[{'id': 80, 'name': 'Crime'}, {'id': 35, 'name': 'Comedy'}, {'id': 28, 'name': 'Action'}, {'id': 10751, 'name': 'Family'}]",
         null,
         "461297",
         "tt6212210",
         "en",
         "Cop and a Half: New Recruit",
         "In this family-friendly action reboot of the 1993 film, Karina Foley, an ambitious and spunky 12-year-old, inserts herself in a police investigation of the Badge Bandit, led by the grizzled, veteran detective Mark Simmons. Much to Simmons' disapproval, Karina partners up with him to stop the Badge Bandit from further wreaking havoc on the city. Through wit, skill, and green smoothies, Karina and Detective Simmons save the day and build a strong relationship in the process.",
         "1.248353",
         "/qRW0hlQaeGAtz6YBgzUbv9o8YVA.jpg",
         "[{'name': 'Universal Pictures', 'id': 33}]",
         "[{'iso_3166_1': 'US', 'name': 'United States of America'}]",
         "2017-08-01 00:00:00",
         "0",
         "97.0",
         "[{'iso_639_1': 'en', 'name': 'English'}]",
         "Released",
         "One Kid's Fantasy. One Cop's Nightmare.",
         "Cop and a Half: New Recruit",
         "False",
         "6.0",
         "1"
        ],
        [
         "45418",
         "True",
         null,
         "0",
         "[{'id': 18, 'name': 'Drama'}]",
         null,
         "258907",
         "tt0071450",
         "en",
         "Dyketactics",
         "Born in Los Angeles but a New Yorker by choice, Barbara Hammer is a whole genre unto herself. Her pioneering 1974 short film Dyketactics, a four-minute, hippie wonder consisting of frolicking naked women in the countryside, broke new ground for its exploration of lesbian identity, desire and aesthetic. (from bfi.org.uk)",
         "0.331254",
         "/zj7cEOSbqGiUpXjyt6t9LfpdzG5.jpg",
         "[]",
         "[{'iso_3166_1': 'US', 'name': 'United States of America'}]",
         "1974-01-01 00:00:00",
         "0",
         "4.0",
         "[{'iso_639_1': 'en', 'name': 'English'}]",
         "Released",
         null,
         "Dyketactics",
         "False",
         "8.0",
         "1"
        ],
        [
         "45419",
         "True",
         null,
         "0",
         "[{'id': 99, 'name': 'Documentary'}]",
         null,
         "127762",
         "tt0000023",
         "fr",
         "Baignade en Mer",
         "Several little boys run along a pier, then jump into the ocean.",
         "0.429666",
         "/jt7xCKXBAJSZG1FtwEgD0FM1ExY.jpg",
         "[{'name': 'Lumière', 'id': 11793}]",
         "[{'iso_3166_1': 'FR', 'name': 'France'}]",
         "1895-12-28 00:00:00",
         "0",
         "1.0",
         "[{'iso_639_1': 'xx', 'name': 'No Language'}]",
         "Released",
         null,
         "Baignade en Mer",
         "False",
         "5.3",
         "12"
        ],
        [
         "45423",
         "True",
         null,
         "0",
         "[{'id': 35, 'name': 'Comedy'}, {'id': 18, 'name': 'Drama'}, {'id': 10749, 'name': 'Romance'}]",
         null,
         "174271",
         "tt0116345",
         "en",
         "The Fortunes and Misfortunes of Moll Flanders",
         "In her filthy cell in Newgate prison Moll Flanders, dubbed 'the wickedest woman in England' tells her story. Born in the gaol, after her mother is transported Moll is raised by the kindly mayor of Colchester and his wife, whose two sons lust after her. She enjoys sex with handsome Rowland, who teaches her that money talks, but, realizing he only wants her as a mistress, she marries his duller brother Robin, who conveniently dies after five years, leaving her wealthy. She goes to London, briefly meeting highwayman Jemmy Seagrove, and marries parvenu draper Daniel Dawkins, but he has huge debts and must flee to France, leaving Moll alone and poor. Moll meets handsome young American sea captain Lemuel Golightly, who marries her and takes her to Virginia and a good life style, along with his mother. They have two children and are blissfully happy until Moll discovers her mother-in-law is also her birth mother. She has married her own brother. She returns to England and poses as wealthy ...",
         "1.237982",
         "/3axe2JK3OM9zwYmKisUYY7JmuPD.jpg",
         "[{'name': 'Granada Television', 'id': 14063}]",
         "[]",
         "1996-10-13 00:00:00",
         "0",
         "108.0",
         "[{'iso_639_1': 'en', 'name': 'English'}, {'iso_639_1': 'de', 'name': 'Deutsch'}]",
         "Released",
         "Notorius Scandalous Unforgettable",
         "The Fortunes and Misfortunes of Moll Flanders",
         "False",
         "5.8",
         "8"
        ],
        [
         "45425",
         "True",
         null,
         "0",
         "[{'id': 14, 'name': 'Fantasy'}, {'id': 35, 'name': 'Comedy'}, {'id': 10749, 'name': 'Romance'}, {'id': 18, 'name': 'Drama'}]",
         null,
         "143117",
         "tt0097062",
         "ru",
         "Chyornaya Roza - Emblema Pechali, Krasnaya Roza - Emblema Lyubvi",
         "The story happens mainly around \"The Old Arbat Street\" in the center of Moscow, where always concentrate vendors, poor young artists and musicians. The hero of this film is a boy named Mitiya,who lives with eccentric elder friend in an apartment house on \"The Old Arbat\". In fact, people who then appear around Mitiya are all unique, eccentric and the space of the apartment house begins to have an unrealistic character as a miniature of unstable society in the end of Soviet Union.",
         "0.630944",
         "/sQWV6lKyOGHt8LarGaMQokW827j.jpg",
         "[{'name': 'Mosfilm', 'id': 5120}]",
         "[{'iso_3166_1': 'RU', 'name': 'Russia'}]",
         "1989-02-03 00:00:00",
         "0",
         "139.0",
         "[{'iso_639_1': 'ru', 'name': 'Pусский'}]",
         "Released",
         null,
         "A Black Rose Is an Emblem of Sorrow, a Red Rose an Emblem of Love",
         "False",
         "6.5",
         "4"
        ],
        [
         "41622",
         "True",
         null,
         "0",
         "[{'id': 99, 'name': 'Documentary'}]",
         null,
         "185644",
         "tt0402162",
         "en",
         "The End",
         "A documentary examining the end of live for five hospice patients and their families.",
         "0.00582",
         "/vYOcV1s5Ie4kePDSwn6q6GIjD4m.jpg",
         "[]",
         "[]",
         "2004-03-11 00:00:00",
         "0",
         "84.0",
         "[]",
         "Released",
         null,
         "The End",
         "False",
         "0.0",
         "0"
        ],
        [
         "41623",
         "True",
         null,
         "0",
         "[{'id': 18, 'name': 'Drama'}]",
         null,
         "200035",
         "tt2239947",
         "en",
         "Political Animals",
         "Political Animals is a six-part miniseries. Elaine Barrish's husband Bud was a popular President of the United States during the 1990s despite his extramarital affairs. After leaving the White House, Elaine Barrish was elected Governor of Illinois and ran for the Democratic nomination for President, but lost to Paul Garcetti. The night Barrish conceded the nomination, she asked her husband for a divorce. Two years later, as Garcetti's Secretary of State, Barrish deals with State Department issues while trying to keep her family together.",
         "2.53434",
         "/imCofz7Qz01kC0naRSPGrqDMJHs.jpg",
         "[]",
         "[]",
         "2012-07-15 00:00:00",
         "0",
         "252.0",
         "[]",
         "Released",
         null,
         "Political Animals",
         "False",
         "7.0",
         "22"
        ],
        [
         "41625",
         "True",
         null,
         "0",
         "[{'id': 99, 'name': 'Documentary'}]",
         null,
         "100829",
         "tt0853155",
         "en",
         "This is What Love in Action Looks Like",
         "In the summer of 2005 a 16yo Memphis, TN wrote on his MySpace blog about his parents sending him to a \"Fundamentalist Christian\" program that strives to turn gay teens straight. This documentary follows the inspirational story of this teens local community standing up for their friend with daily protests at the facility in what would become an international news story. The documentary features several former clients of the organization who tell their personal stories about the time they spent within the programs walls.",
         "0.082306",
         "/2kzk8w3UDESc4TUZnyG8JgOIFaJ.jpg",
         "[{'name': 'TLA Releasing', 'id': 328}]",
         "[]",
         "2011-01-28 00:00:00",
         "0",
         "0.0",
         "[]",
         "Released",
         null,
         "This is What Love in Action Looks Like",
         "False",
         "2.5",
         "2"
        ],
        [
         "41626",
         "True",
         null,
         "0",
         "[{'id': 99, 'name': 'Documentary'}]",
         null,
         "138014",
         "tt1413067",
         "en",
         "Fish out of Water",
         "Fish out of Water tackles the seven Bible verses used to condemn homosexuality and justify marriage discrimination. This feature documentary uses humor and original animation to make a traditionally complex and controversial topic accessible to those who don't like talking about religion and sexuality. Fish out of Water dives into the underbelly of America, crisscrosses red and blue states and talks to ministers from every denomination to uncover America's impassioned relationship with homosexuality and the Bible. With slapstick animation and quirky interviews taken everywhere from barbershops to mega churches, Fish out of Water delivers a voice to the oppressed and informs to the misled. Most importantly, Fish out of Water sits down with hundreds of gay, lesbian, bisexual and transgender folks to impart their experiences with faith and sexuality.",
         "0.040003",
         "/vsegdliSNOCtcpMe7d1VRhuNPIH.jpg",
         "[]",
         "[]",
         "2009-07-18 00:00:00",
         "0",
         "59.0",
         "[]",
         "Released",
         "God did create Adam and Steve.",
         "Fish out of Water",
         "False",
         "6.0",
         "1"
        ],
        [
         "41628",
         "True",
         null,
         "0",
         "[{'id': 99, 'name': 'Documentary'}]",
         "http://www.patriocracymovie.com/",
         "105561",
         "tt1916719",
         "en",
         "Patriocracy",
         "An examination of the current state of political polarization in the United States of the America.",
         "0.126924",
         "/tiN2WRIKPp6TbfL4WvPLLztV3bQ.jpg",
         "[]",
         "[]",
         "2011-11-05 00:00:00",
         "0",
         "90.0",
         "[{'iso_639_1': 'en', 'name': 'English'}]",
         "Released",
         null,
         "Patriocracy",
         "False",
         "6.8",
         "2"
        ],
        [
         "41629",
         "True",
         null,
         "0",
         "[{'id': 99, 'name': 'Documentary'}]",
         null,
         "206397",
         "tt1843978",
         "en",
         "Lynching Charlie Lynch",
         "In 2006, Charlie Lynch was invited by the civic leaders of Morro Bay, CA to open a medical marijuana dispensary within the city limits. Offered a business license and asked to join the Chamber of Commerce, Lynch opened and maintained his business according to the most rigorous standards available. However, marijuana remains a Class 1 narcotic according to the DEA, and Lynch's business soon became the target of a large Federal investigation. This film explores the horrific descent into hell faced by Mr. Lynch - previously a law abiding citizen without so much as a speeding ticket, as he is cast as a Pablo Escobar and thrown into Federal detention.",
         "0.157907",
         "/nHjpw05NhkmI8vOfuydmuiOPWrO.jpg",
         "[]",
         "[]",
         "2012-04-20 00:00:00",
         "0",
         "100.0",
         "[]",
         "Released",
         null,
         "Lynching Charlie Lynch",
         "False",
         "4.0",
         "2"
        ],
        [
         "41630",
         "True",
         null,
         "0",
         "[{'id': 35, 'name': 'Comedy'}]",
         null,
         "123279",
         "tt2192038",
         "en",
         "Kathy Griffin: Pants Off",
         "Self-proclaimed \"D-Lister\" and two-time Emmy Award-winning comedian Kathy Griffin's latest comedy specials take you on a wild ride behind the scenes of Hollywood's most salacious celebrity gossip.",
         "0.027572",
         "/53e7XlsY7FiCwhWn0DC76HbXM1r.jpg",
         "[]",
         "[{'iso_3166_1': 'US', 'name': 'United States of America'}]",
         "2011-09-20 00:00:00",
         "0",
         "60.0",
         "[{'iso_639_1': 'en', 'name': 'English'}]",
         "Released",
         null,
         "Kathy Griffin: Pants Off",
         "False",
         "0.0",
         "0"
        ],
        [
         "41632",
         "True",
         null,
         "0",
         "[{'id': 10402, 'name': 'Music'}]",
         null,
         "275355",
         "tt1712191",
         "en",
         "Memphis: The Broadway Musical",
         "Memphis is set in the places where rock and roll was born in the 1950s: the seedy nightclubs, radio stations and recording studios of the musically-rich Tennessee city. With an original score, it tells the fictional story of DJ Huey Calhoun, a good ole' local boy with a passion for R&amp;B music and Felicia Farrell, an up-and-coming black singer that he meets one fateful night on Beale Street. Despite the objections of their loved ones (Huey's close-minded mama and Felicia's cautious brother, a club owner), they embark on a dangerous affair. As their careers rise, the relationship is challenged by personal ambition and the pressures of an outside world unable to accept their love.",
         "0.077753",
         "/2bzS6mX3TyAayuRb1dxXyp9Qq3e.jpg",
         "[]",
         "[]",
         "2011-04-28 00:00:00",
         "0",
         "165.0",
         "[{'iso_639_1': 'en', 'name': 'English'}]",
         "Released",
         null,
         "Memphis: The Broadway Musical",
         "False",
         "8.0",
         "2"
        ],
        [
         "41634",
         "True",
         null,
         "0",
         "[]",
         null,
         "103181",
         "tt2327519",
         "en",
         "Sondheim! The Birthday Concert",
         "Join us for a rousing celebration of the life and works of one of Broadway's greatest legends - the one and only Stephen Sondheim.  For the master composer and lyricist's 80th birthday, many of musical theater's brightest stars gathered in March of 2010 to perform more than two dozen sensational numbers from Sondheim's illustrious career, and several of these enduring songs are performed by the original Broadway cast members.  David Hyde Pierce hosts this magical event with Stephen Sondheim's longtime collaborator Paul Gemignani conducting the New York Philharmonic.",
         "0.120193",
         "/xELZ8sqEwkNdMieCcltO4dVraB6.jpg",
         "[]",
         "[]",
         "2010-11-26 00:00:00",
         "0",
         "116.0",
         "[]",
         "Released",
         null,
         "Sondheim! The Birthday Concert",
         "False",
         "0.0",
         "0"
        ],
        [
         "76",
         "True",
         null,
         "0",
         "[{'id': 99, 'name': 'Documentary'}]",
         null,
         "124626",
         "tt0113973",
         "en",
         "Nico Icon",
         "A look into the many lives of Christa Päffgen, otherwise known as Nico; from cutie German mädchen to the first of the supermodels, to glamorous diva of the Velvet Underground, to cult item, junkie and hag. Many faces for the same woman, whom, you realize, just couldn't bring herself to care enough to live.",
         "0.133893",
         "/tuIDKBp92R4tGFOB46MofvakfiY.jpg",
         "[{'name': 'Zweites Deutsches Fernsehen (ZDF)', 'id': 4606}, {'name': 'Ciak Filmproduktion', 'id': 83201}, {'name': 'Bluehorse Films', 'id': 93174}]",
         "[{'iso_3166_1': 'DE', 'name': 'Germany'}, {'iso_3166_1': 'US', 'name': 'United States of America'}]",
         "1995-02-18 00:00:00",
         "0",
         "70.0",
         "[{'iso_639_1': 'de', 'name': 'Deutsch'}, {'iso_639_1': 'en', 'name': 'English'}]",
         "Released",
         null,
         "Nico Icon",
         "False",
         "7.3",
         "3"
        ],
        [
         "82",
         "True",
         null,
         "0",
         "[{'id': 10749, 'name': 'Romance'}, {'id': 18, 'name': 'Drama'}]",
         null,
         "146599",
         "tt0114039",
         "en",
         "Once Upon a Time... When We Were Colored",
         "This film relates the story of a tightly connected Afro-American community informally called Colored Town where the inhabitants live and depend on each other in a world where racist oppression is everywhere, as told by a boy called Cliff who spent his childhood there. Despite this, we see the life of the community in all its joys and sorrows, of those that live there while others decide to leave for a better life north. For those remaining, things come to a serious situation when one prominent businessman is being muscled out by a white competitor using racist intimidation. In response, the community must make the decision of whether to submit meekly like they always have, or finally fight for their rights.",
         "0.252287",
         "/tsJSlkFSZPQhhVuKrYJXNClYaPD.jpg",
         "[{'name': 'BET Pictures', 'id': 38196}, {'name': 'United Image Entertainme', 'id': 38197}]",
         "[{'iso_3166_1': 'US', 'name': 'United States of America'}]",
         "1996-01-26 00:00:00",
         "0",
         "115.0",
         "[{'iso_639_1': 'en', 'name': 'English'}]",
         "Released",
         null,
         "Once Upon a Time... When We Were Colored",
         "False",
         "4.5",
         "2"
        ],
        [
         "83",
         "True",
         null,
         "0",
         "[]",
         null,
         "188588",
         "tt0113612",
         "en",
         "Last Summer in the Hamptons",
         "Filmed entirely on location in East Hampton, Long Island, \"Last Summer in the Hamptons\" concerns a large theatrical family spending the last weekend of their summer together at the decades-old family retreat which economic circumstances have forced them to put on the market. Victoria Foyt plays a young Hollywood actress whose visit wreaks havoc on the stellar group of family and friends - led by matriarch Viveca Lindfors and made up of an extraordinary mix of prominent New York actors, directors, and playwrights. In the course of a very unusual weekend, comic as well as serious situations arise, and the family's secrets - of which there are many - begin to unravel.",
         "0.531159",
         "/pfgpkDNcwSi1x4jVzeLqvxTwX5a.jpg",
         "[]",
         "[]",
         "1995-11-22 00:00:00",
         "0",
         "108.0",
         "[]",
         "Released",
         null,
         "Last Summer in the Hamptons",
         "False",
         "0.0",
         "0"
        ]
       ],
       "shape": {
        "columns": 24,
        "rows": 45430
       }
      },
      "text/html": [
       "<div>\n",
       "<style scoped>\n",
       "    .dataframe tbody tr th:only-of-type {\n",
       "        vertical-align: middle;\n",
       "    }\n",
       "\n",
       "    .dataframe tbody tr th {\n",
       "        vertical-align: top;\n",
       "    }\n",
       "\n",
       "    .dataframe thead th {\n",
       "        text-align: right;\n",
       "    }\n",
       "</style>\n",
       "<table border=\"1\" class=\"dataframe\">\n",
       "  <thead>\n",
       "    <tr style=\"text-align: right;\">\n",
       "      <th></th>\n",
       "      <th>adult</th>\n",
       "      <th>belongs_to_collection</th>\n",
       "      <th>budget</th>\n",
       "      <th>genres</th>\n",
       "      <th>homepage</th>\n",
       "      <th>tmdb_id</th>\n",
       "      <th>imdb_id</th>\n",
       "      <th>original_language</th>\n",
       "      <th>original_title</th>\n",
       "      <th>overview</th>\n",
       "      <th>...</th>\n",
       "      <th>release_date</th>\n",
       "      <th>revenue</th>\n",
       "      <th>runtime</th>\n",
       "      <th>spoken_languages</th>\n",
       "      <th>status</th>\n",
       "      <th>tagline</th>\n",
       "      <th>title</th>\n",
       "      <th>video</th>\n",
       "      <th>vote_average</th>\n",
       "      <th>vote_count</th>\n",
       "    </tr>\n",
       "  </thead>\n",
       "  <tbody>\n",
       "    <tr>\n",
       "      <th>45457</th>\n",
       "      <td>True</td>\n",
       "      <td>NaN</td>\n",
       "      <td>0</td>\n",
       "      <td>[{'id': 9648, 'name': 'Mystery'}, {'id': 27, '...</td>\n",
       "      <td>NaN</td>\n",
       "      <td>390959</td>\n",
       "      <td>tt0265736</td>\n",
       "      <td>en</td>\n",
       "      <td>Shadow of the Blair Witch</td>\n",
       "      <td>In this true-crime documentary, we delve into ...</td>\n",
       "      <td>...</td>\n",
       "      <td>2000-10-22</td>\n",
       "      <td>0</td>\n",
       "      <td>45.0</td>\n",
       "      <td>[{'iso_639_1': 'en', 'name': 'English'}]</td>\n",
       "      <td>Released</td>\n",
       "      <td>NaN</td>\n",
       "      <td>Shadow of the Blair Witch</td>\n",
       "      <td>False</td>\n",
       "      <td>7.0</td>\n",
       "      <td>2</td>\n",
       "    </tr>\n",
       "    <tr>\n",
       "      <th>45458</th>\n",
       "      <td>True</td>\n",
       "      <td>NaN</td>\n",
       "      <td>0</td>\n",
       "      <td>[{'id': 27, 'name': 'Horror'}]</td>\n",
       "      <td>NaN</td>\n",
       "      <td>289923</td>\n",
       "      <td>tt0252966</td>\n",
       "      <td>en</td>\n",
       "      <td>The Burkittsville 7</td>\n",
       "      <td>A film archivist revisits the story of Rustin ...</td>\n",
       "      <td>...</td>\n",
       "      <td>2000-10-03</td>\n",
       "      <td>0</td>\n",
       "      <td>30.0</td>\n",
       "      <td>[{'iso_639_1': 'en', 'name': 'English'}]</td>\n",
       "      <td>Released</td>\n",
       "      <td>Do you know what happened 50 years before \"The...</td>\n",
       "      <td>The Burkittsville 7</td>\n",
       "      <td>False</td>\n",
       "      <td>7.0</td>\n",
       "      <td>1</td>\n",
       "    </tr>\n",
       "    <tr>\n",
       "      <th>45459</th>\n",
       "      <td>True</td>\n",
       "      <td>NaN</td>\n",
       "      <td>0</td>\n",
       "      <td>[{'id': 878, 'name': 'Science Fiction'}]</td>\n",
       "      <td>NaN</td>\n",
       "      <td>222848</td>\n",
       "      <td>tt0112613</td>\n",
       "      <td>en</td>\n",
       "      <td>Caged Heat 3000</td>\n",
       "      <td>It's the year 3000 AD. The world's most danger...</td>\n",
       "      <td>...</td>\n",
       "      <td>1995-01-01</td>\n",
       "      <td>0</td>\n",
       "      <td>85.0</td>\n",
       "      <td>[{'iso_639_1': 'en', 'name': 'English'}]</td>\n",
       "      <td>Released</td>\n",
       "      <td>NaN</td>\n",
       "      <td>Caged Heat 3000</td>\n",
       "      <td>False</td>\n",
       "      <td>3.5</td>\n",
       "      <td>1</td>\n",
       "    </tr>\n",
       "    <tr>\n",
       "      <th>45465</th>\n",
       "      <td>True</td>\n",
       "      <td>NaN</td>\n",
       "      <td>0</td>\n",
       "      <td>[]</td>\n",
       "      <td>NaN</td>\n",
       "      <td>461257</td>\n",
       "      <td>tt6980792</td>\n",
       "      <td>en</td>\n",
       "      <td>Queerama</td>\n",
       "      <td>50 years after decriminalisation of homosexual...</td>\n",
       "      <td>...</td>\n",
       "      <td>2017-06-09</td>\n",
       "      <td>0</td>\n",
       "      <td>75.0</td>\n",
       "      <td>[{'iso_639_1': 'en', 'name': 'English'}]</td>\n",
       "      <td>Released</td>\n",
       "      <td>NaN</td>\n",
       "      <td>Queerama</td>\n",
       "      <td>False</td>\n",
       "      <td>0.0</td>\n",
       "      <td>0</td>\n",
       "    </tr>\n",
       "    <tr>\n",
       "      <th>45464</th>\n",
       "      <td>True</td>\n",
       "      <td>NaN</td>\n",
       "      <td>0</td>\n",
       "      <td>[]</td>\n",
       "      <td>NaN</td>\n",
       "      <td>227506</td>\n",
       "      <td>tt0008536</td>\n",
       "      <td>en</td>\n",
       "      <td>Satana likuyushchiy</td>\n",
       "      <td>In a small town live two brothers, one a minis...</td>\n",
       "      <td>...</td>\n",
       "      <td>1917-10-21</td>\n",
       "      <td>0</td>\n",
       "      <td>87.0</td>\n",
       "      <td>[]</td>\n",
       "      <td>Released</td>\n",
       "      <td>NaN</td>\n",
       "      <td>Satan Triumphant</td>\n",
       "      <td>False</td>\n",
       "      <td>0.0</td>\n",
       "      <td>0</td>\n",
       "    </tr>\n",
       "    <tr>\n",
       "      <th>...</th>\n",
       "      <td>...</td>\n",
       "      <td>...</td>\n",
       "      <td>...</td>\n",
       "      <td>...</td>\n",
       "      <td>...</td>\n",
       "      <td>...</td>\n",
       "      <td>...</td>\n",
       "      <td>...</td>\n",
       "      <td>...</td>\n",
       "      <td>...</td>\n",
       "      <td>...</td>\n",
       "      <td>...</td>\n",
       "      <td>...</td>\n",
       "      <td>...</td>\n",
       "      <td>...</td>\n",
       "      <td>...</td>\n",
       "      <td>...</td>\n",
       "      <td>...</td>\n",
       "      <td>...</td>\n",
       "      <td>...</td>\n",
       "      <td>...</td>\n",
       "    </tr>\n",
       "    <tr>\n",
       "      <th>11339</th>\n",
       "      <td>True</td>\n",
       "      <td>NaN</td>\n",
       "      <td>6000000</td>\n",
       "      <td>[{'id': 18, 'name': 'Drama'}, {'id': 10749, 'n...</td>\n",
       "      <td>http://www.elementarteilchen.film.de/</td>\n",
       "      <td>86</td>\n",
       "      <td>tt0430051</td>\n",
       "      <td>de</td>\n",
       "      <td>Elementarteilchen</td>\n",
       "      <td>Based on Michel Houellebecq's controversial no...</td>\n",
       "      <td>...</td>\n",
       "      <td>2006-02-10</td>\n",
       "      <td>0</td>\n",
       "      <td>105.0</td>\n",
       "      <td>[{'iso_639_1': 'en', 'name': 'English'}, {'iso...</td>\n",
       "      <td>Released</td>\n",
       "      <td>NaN</td>\n",
       "      <td>The Elementary Particles</td>\n",
       "      <td>False</td>\n",
       "      <td>6.4</td>\n",
       "      <td>34</td>\n",
       "    </tr>\n",
       "    <tr>\n",
       "      <th>474</th>\n",
       "      <td>True</td>\n",
       "      <td>NaN</td>\n",
       "      <td>0</td>\n",
       "      <td>[{'id': 28, 'name': 'Action'}, {'id': 53, 'nam...</td>\n",
       "      <td>NaN</td>\n",
       "      <td>6</td>\n",
       "      <td>tt0107286</td>\n",
       "      <td>en</td>\n",
       "      <td>Judgment Night</td>\n",
       "      <td>While racing to a boxing match, Frank, Mike, J...</td>\n",
       "      <td>...</td>\n",
       "      <td>1993-10-15</td>\n",
       "      <td>12136938</td>\n",
       "      <td>110.0</td>\n",
       "      <td>[{'iso_639_1': 'en', 'name': 'English'}]</td>\n",
       "      <td>Released</td>\n",
       "      <td>Don't move. Don't whisper. Don't even breathe.</td>\n",
       "      <td>Judgment Night</td>\n",
       "      <td>False</td>\n",
       "      <td>6.4</td>\n",
       "      <td>79</td>\n",
       "    </tr>\n",
       "    <tr>\n",
       "      <th>17</th>\n",
       "      <td>True</td>\n",
       "      <td>NaN</td>\n",
       "      <td>4000000</td>\n",
       "      <td>[{'id': 80, 'name': 'Crime'}, {'id': 35, 'name...</td>\n",
       "      <td>NaN</td>\n",
       "      <td>5</td>\n",
       "      <td>tt0113101</td>\n",
       "      <td>en</td>\n",
       "      <td>Four Rooms</td>\n",
       "      <td>It's Ted the Bellhop's first night on the job....</td>\n",
       "      <td>...</td>\n",
       "      <td>1995-12-09</td>\n",
       "      <td>4300000</td>\n",
       "      <td>98.0</td>\n",
       "      <td>[{'iso_639_1': 'en', 'name': 'English'}]</td>\n",
       "      <td>Released</td>\n",
       "      <td>Twelve outrageous guests. Four scandalous requ...</td>\n",
       "      <td>Four Rooms</td>\n",
       "      <td>False</td>\n",
       "      <td>6.5</td>\n",
       "      <td>539</td>\n",
       "    </tr>\n",
       "    <tr>\n",
       "      <th>4342</th>\n",
       "      <td>True</td>\n",
       "      <td>NaN</td>\n",
       "      <td>0</td>\n",
       "      <td>[{'id': 18, 'name': 'Drama'}, {'id': 80, 'name...</td>\n",
       "      <td>NaN</td>\n",
       "      <td>2</td>\n",
       "      <td>tt0094675</td>\n",
       "      <td>fi</td>\n",
       "      <td>Ariel</td>\n",
       "      <td>Taisto Kasurinen is a Finnish coal miner whose...</td>\n",
       "      <td>...</td>\n",
       "      <td>1988-10-21</td>\n",
       "      <td>0</td>\n",
       "      <td>69.0</td>\n",
       "      <td>[{'iso_639_1': 'fi', 'name': 'suomi'}, {'iso_6...</td>\n",
       "      <td>Released</td>\n",
       "      <td>NaN</td>\n",
       "      <td>Ariel</td>\n",
       "      <td>False</td>\n",
       "      <td>7.1</td>\n",
       "      <td>44</td>\n",
       "    </tr>\n",
       "    <tr>\n",
       "      <th>12947</th>\n",
       "      <td>True</td>\n",
       "      <td>NaN</td>\n",
       "      <td>0</td>\n",
       "      <td>[{'id': 18, 'name': 'Drama'}, {'id': 35, 'name...</td>\n",
       "      <td>NaN</td>\n",
       "      <td>3</td>\n",
       "      <td>tt0092149</td>\n",
       "      <td>fi</td>\n",
       "      <td>Varjoja paratiisissa</td>\n",
       "      <td>An episode in the life of Nikander, a garbage ...</td>\n",
       "      <td>...</td>\n",
       "      <td>1986-10-16</td>\n",
       "      <td>0</td>\n",
       "      <td>76.0</td>\n",
       "      <td>[{'iso_639_1': 'en', 'name': 'English'}, {'iso...</td>\n",
       "      <td>Released</td>\n",
       "      <td>NaN</td>\n",
       "      <td>Shadows in Paradise</td>\n",
       "      <td>False</td>\n",
       "      <td>7.1</td>\n",
       "      <td>35</td>\n",
       "    </tr>\n",
       "  </tbody>\n",
       "</table>\n",
       "<p>45430 rows × 24 columns</p>\n",
       "</div>"
      ],
      "text/plain": [
       "       adult belongs_to_collection   budget  \\\n",
       "45457   True                   NaN        0   \n",
       "45458   True                   NaN        0   \n",
       "45459   True                   NaN        0   \n",
       "45465   True                   NaN        0   \n",
       "45464   True                   NaN        0   \n",
       "...      ...                   ...      ...   \n",
       "11339   True                   NaN  6000000   \n",
       "474     True                   NaN        0   \n",
       "17      True                   NaN  4000000   \n",
       "4342    True                   NaN        0   \n",
       "12947   True                   NaN        0   \n",
       "\n",
       "                                                  genres  \\\n",
       "45457  [{'id': 9648, 'name': 'Mystery'}, {'id': 27, '...   \n",
       "45458                     [{'id': 27, 'name': 'Horror'}]   \n",
       "45459           [{'id': 878, 'name': 'Science Fiction'}]   \n",
       "45465                                                 []   \n",
       "45464                                                 []   \n",
       "...                                                  ...   \n",
       "11339  [{'id': 18, 'name': 'Drama'}, {'id': 10749, 'n...   \n",
       "474    [{'id': 28, 'name': 'Action'}, {'id': 53, 'nam...   \n",
       "17     [{'id': 80, 'name': 'Crime'}, {'id': 35, 'name...   \n",
       "4342   [{'id': 18, 'name': 'Drama'}, {'id': 80, 'name...   \n",
       "12947  [{'id': 18, 'name': 'Drama'}, {'id': 35, 'name...   \n",
       "\n",
       "                                    homepage  tmdb_id    imdb_id  \\\n",
       "45457                                    NaN   390959  tt0265736   \n",
       "45458                                    NaN   289923  tt0252966   \n",
       "45459                                    NaN   222848  tt0112613   \n",
       "45465                                    NaN   461257  tt6980792   \n",
       "45464                                    NaN   227506  tt0008536   \n",
       "...                                      ...      ...        ...   \n",
       "11339  http://www.elementarteilchen.film.de/       86  tt0430051   \n",
       "474                                      NaN        6  tt0107286   \n",
       "17                                       NaN        5  tt0113101   \n",
       "4342                                     NaN        2  tt0094675   \n",
       "12947                                    NaN        3  tt0092149   \n",
       "\n",
       "      original_language             original_title  \\\n",
       "45457                en  Shadow of the Blair Witch   \n",
       "45458                en        The Burkittsville 7   \n",
       "45459                en            Caged Heat 3000   \n",
       "45465                en                   Queerama   \n",
       "45464                en        Satana likuyushchiy   \n",
       "...                 ...                        ...   \n",
       "11339                de          Elementarteilchen   \n",
       "474                  en             Judgment Night   \n",
       "17                   en                 Four Rooms   \n",
       "4342                 fi                      Ariel   \n",
       "12947                fi       Varjoja paratiisissa   \n",
       "\n",
       "                                                overview  ...  release_date  \\\n",
       "45457  In this true-crime documentary, we delve into ...  ...    2000-10-22   \n",
       "45458  A film archivist revisits the story of Rustin ...  ...    2000-10-03   \n",
       "45459  It's the year 3000 AD. The world's most danger...  ...    1995-01-01   \n",
       "45465  50 years after decriminalisation of homosexual...  ...    2017-06-09   \n",
       "45464  In a small town live two brothers, one a minis...  ...    1917-10-21   \n",
       "...                                                  ...  ...           ...   \n",
       "11339  Based on Michel Houellebecq's controversial no...  ...    2006-02-10   \n",
       "474    While racing to a boxing match, Frank, Mike, J...  ...    1993-10-15   \n",
       "17     It's Ted the Bellhop's first night on the job....  ...    1995-12-09   \n",
       "4342   Taisto Kasurinen is a Finnish coal miner whose...  ...    1988-10-21   \n",
       "12947  An episode in the life of Nikander, a garbage ...  ...    1986-10-16   \n",
       "\n",
       "        revenue runtime                                   spoken_languages  \\\n",
       "45457         0    45.0           [{'iso_639_1': 'en', 'name': 'English'}]   \n",
       "45458         0    30.0           [{'iso_639_1': 'en', 'name': 'English'}]   \n",
       "45459         0    85.0           [{'iso_639_1': 'en', 'name': 'English'}]   \n",
       "45465         0    75.0           [{'iso_639_1': 'en', 'name': 'English'}]   \n",
       "45464         0    87.0                                                 []   \n",
       "...         ...     ...                                                ...   \n",
       "11339         0   105.0  [{'iso_639_1': 'en', 'name': 'English'}, {'iso...   \n",
       "474    12136938   110.0           [{'iso_639_1': 'en', 'name': 'English'}]   \n",
       "17      4300000    98.0           [{'iso_639_1': 'en', 'name': 'English'}]   \n",
       "4342          0    69.0  [{'iso_639_1': 'fi', 'name': 'suomi'}, {'iso_6...   \n",
       "12947         0    76.0  [{'iso_639_1': 'en', 'name': 'English'}, {'iso...   \n",
       "\n",
       "         status                                            tagline  \\\n",
       "45457  Released                                                NaN   \n",
       "45458  Released  Do you know what happened 50 years before \"The...   \n",
       "45459  Released                                                NaN   \n",
       "45465  Released                                                NaN   \n",
       "45464  Released                                                NaN   \n",
       "...         ...                                                ...   \n",
       "11339  Released                                                NaN   \n",
       "474    Released     Don't move. Don't whisper. Don't even breathe.   \n",
       "17     Released  Twelve outrageous guests. Four scandalous requ...   \n",
       "4342   Released                                                NaN   \n",
       "12947  Released                                                NaN   \n",
       "\n",
       "                           title  video vote_average vote_count  \n",
       "45457  Shadow of the Blair Witch  False          7.0          2  \n",
       "45458        The Burkittsville 7  False          7.0          1  \n",
       "45459            Caged Heat 3000  False          3.5          1  \n",
       "45465                   Queerama  False          0.0          0  \n",
       "45464           Satan Triumphant  False          0.0          0  \n",
       "...                          ...    ...          ...        ...  \n",
       "11339   The Elementary Particles  False          6.4         34  \n",
       "474               Judgment Night  False          6.4         79  \n",
       "17                    Four Rooms  False          6.5        539  \n",
       "4342                       Ariel  False          7.1         44  \n",
       "12947        Shadows in Paradise  False          7.1         35  \n",
       "\n",
       "[45430 rows x 24 columns]"
      ]
     },
     "execution_count": 46,
     "metadata": {},
     "output_type": "execute_result"
    }
   ],
   "source": [
    "# Validate invalid data removal\n",
    "movies_metadata.sort_values(\"tmdb_id\", key=lambda x: x.astype(str).str.len(), ascending=False)"
   ]
  },
  {
   "cell_type": "code",
   "execution_count": 47,
   "metadata": {},
   "outputs": [
    {
     "name": "stdout",
     "output_type": "stream",
     "text": [
      "<class 'pandas.core.frame.DataFrame'>\n",
      "Index: 45430 entries, 0 to 45465\n",
      "Data columns (total 8 columns):\n",
      " #   Column        Non-Null Count  Dtype         \n",
      "---  ------        --------------  -----         \n",
      " 0   adult         45430 non-null  bool          \n",
      " 1   budget        45430 non-null  int64         \n",
      " 2   tmdb_id       45430 non-null  int64         \n",
      " 3   popularity    45430 non-null  float64       \n",
      " 4   release_date  45346 non-null  datetime64[ns]\n",
      " 5   revenue       45430 non-null  int64         \n",
      " 6   video         45430 non-null  bool          \n",
      " 7   vote_count    45430 non-null  int64         \n",
      "dtypes: bool(2), datetime64[ns](1), float64(1), int64(4)\n",
      "memory usage: 2.5 MB\n"
     ]
    }
   ],
   "source": [
    "# Validate cleaned data type\n",
    "fixed_columns = [\"adult\", \"budget\", \"tmdb_id\", \"popularity\", \"release_date\", \"revenue\", \"video\", \"vote_count\"]\n",
    "movies_metadata[fixed_columns].info()"
   ]
  },
  {
   "cell_type": "code",
   "execution_count": 48,
   "metadata": {},
   "outputs": [
    {
     "data": {
      "text/plain": [
       "adult                    0\n",
       "belongs_to_collection    0\n",
       "budget                   0\n",
       "genres                   0\n",
       "homepage                 0\n",
       "tmdb_id                  0\n",
       "imdb_id                  0\n",
       "original_language        0\n",
       "original_title           0\n",
       "overview                 0\n",
       "popularity               0\n",
       "poster_path              0\n",
       "production_companies     0\n",
       "production_countries     0\n",
       "release_date             0\n",
       "revenue                  0\n",
       "runtime                  0\n",
       "spoken_languages         0\n",
       "status                   0\n",
       "tagline                  0\n",
       "title                    0\n",
       "video                    0\n",
       "vote_average             0\n",
       "vote_count               0\n",
       "dtype: int64"
      ]
     },
     "execution_count": 48,
     "metadata": {},
     "output_type": "execute_result"
    }
   ],
   "source": [
    "# Check for duplicated columns\n",
    "movies_metadata[movies_metadata.duplicated(subset=[\"tmdb_id\", \"title\", \"imdb_id\"], keep=False)].count()"
   ]
  },
  {
   "cell_type": "markdown",
   "metadata": {},
   "source": [
    "Inspect column to handle JSON type of data"
   ]
  },
  {
   "cell_type": "code",
   "execution_count": 49,
   "metadata": {},
   "outputs": [
    {
     "data": {
      "text/plain": [
       "adult                                                                 True\n",
       "belongs_to_collection    {'id': 10194, 'name': 'Toy Story Collection', ...\n",
       "budget                                                            30000000\n",
       "genres                   [{'id': 16, 'name': 'Animation'}, {'id': 35, '...\n",
       "homepage                              http://toystory.disney.com/toy-story\n",
       "tmdb_id                                                                862\n",
       "imdb_id                                                          tt0114709\n",
       "original_language                                                       en\n",
       "original_title                                                   Toy Story\n",
       "overview                 Led by Woody, Andy's toys live happily in his ...\n",
       "popularity                                                       21.946943\n",
       "poster_path                               /rhIRbceoE9lR4veEXuwCC2wARtG.jpg\n",
       "production_companies        [{'name': 'Pixar Animation Studios', 'id': 3}]\n",
       "production_countries     [{'iso_3166_1': 'US', 'name': 'United States o...\n",
       "release_date                                           1995-10-30 00:00:00\n",
       "revenue                                                          373554033\n",
       "runtime                                                               81.0\n",
       "spoken_languages                  [{'iso_639_1': 'en', 'name': 'English'}]\n",
       "status                                                            Released\n",
       "tagline                                                                NaN\n",
       "title                                                            Toy Story\n",
       "video                                                                False\n",
       "vote_average                                                           7.7\n",
       "vote_count                                                            5415\n",
       "Name: 0, dtype: object"
      ]
     },
     "execution_count": 49,
     "metadata": {},
     "output_type": "execute_result"
    }
   ],
   "source": [
    "# Inspect the first row of the movies_metadata DataFrame to decide the processing method\n",
    "movies_metadata.iloc[0]"
   ]
  },
  {
   "cell_type": "markdown",
   "metadata": {},
   "source": [
    "Extracting belongs_to_collection DataFrame"
   ]
  },
  {
   "cell_type": "code",
   "execution_count": 50,
   "metadata": {},
   "outputs": [],
   "source": [
    "\n",
    "belongs_to_collection = movies_metadata[[\"belongs_to_collection\", \"tmdb_id\"]].copy()\n",
    "belongs_to_collection = extract_dict_values(belongs_to_collection, \"belongs_to_collection\")\n",
    "movies_metadata.drop(\"belongs_to_collection\", axis=1, inplace=True)"
   ]
  },
  {
   "cell_type": "markdown",
   "metadata": {},
   "source": [
    "Process & cleaning belongs_to_collection DataFrame"
   ]
  },
  {
   "cell_type": "code",
   "execution_count": 51,
   "metadata": {},
   "outputs": [
    {
     "data": {
      "application/vnd.microsoft.datawrangler.viewer.v0+json": {
       "columns": [
        {
         "name": "index",
         "rawType": "int64",
         "type": "integer"
        },
        {
         "name": "index",
         "rawType": "int64",
         "type": "integer"
        },
        {
         "name": "tmdb_id",
         "rawType": "int64",
         "type": "integer"
        },
        {
         "name": "id",
         "rawType": "int64",
         "type": "integer"
        },
        {
         "name": "name",
         "rawType": "object",
         "type": "string"
        },
        {
         "name": "poster_path",
         "rawType": "object",
         "type": "string"
        },
        {
         "name": "backdrop_path",
         "rawType": "object",
         "type": "string"
        }
       ],
       "conversionMethod": "pd.DataFrame",
       "ref": "06fe9fff-252d-4861-bb44-4ee968f36c63",
       "rows": [
        [
         "0",
         "0",
         "862",
         "10194",
         "Toy Story Collection",
         "/7G9915LfUQ2lVfwMEEhDsn3kT4B.jpg",
         "/9FBwqcd9IRruEDUrTdcaafOMKUq.jpg"
        ],
        [
         "1",
         "2",
         "15602",
         "119050",
         "Grumpy Old Men Collection",
         "/nLvUdqgPgm3F85NMCii9gVFUcet.jpg",
         "/hypTnLot2z8wpFS7qwsQHW1uV8u.jpg"
        ],
        [
         "2",
         "4",
         "11862",
         "96871",
         "Father of the Bride Collection",
         "/nts4iOmNnq7GNicycMJ9pSAn204.jpg",
         "/7qwE57OVZmMJChBpLEbJEmzUydk.jpg"
        ],
        [
         "3",
         "9",
         "710",
         "645",
         "James Bond Collection",
         "/HORpg5CSkmeQlAolx3bKMrKgfi.jpg",
         "/6VcVl48kNKvdXOZfJPdarlUGOsk.jpg"
        ],
        [
         "4",
         "12",
         "21032",
         "117693",
         "Balto Collection",
         "/w0ZgH6Lgxt2bQYnf1ss74UvYftm.jpg",
         "/9VM5LiJV0bGb1st1KyHA3cVnO2G.jpg"
        ]
       ],
       "shape": {
        "columns": 6,
        "rows": 5
       }
      },
      "text/html": [
       "<div>\n",
       "<style scoped>\n",
       "    .dataframe tbody tr th:only-of-type {\n",
       "        vertical-align: middle;\n",
       "    }\n",
       "\n",
       "    .dataframe tbody tr th {\n",
       "        vertical-align: top;\n",
       "    }\n",
       "\n",
       "    .dataframe thead th {\n",
       "        text-align: right;\n",
       "    }\n",
       "</style>\n",
       "<table border=\"1\" class=\"dataframe\">\n",
       "  <thead>\n",
       "    <tr style=\"text-align: right;\">\n",
       "      <th></th>\n",
       "      <th>index</th>\n",
       "      <th>tmdb_id</th>\n",
       "      <th>id</th>\n",
       "      <th>name</th>\n",
       "      <th>poster_path</th>\n",
       "      <th>backdrop_path</th>\n",
       "    </tr>\n",
       "  </thead>\n",
       "  <tbody>\n",
       "    <tr>\n",
       "      <th>0</th>\n",
       "      <td>0</td>\n",
       "      <td>862</td>\n",
       "      <td>10194</td>\n",
       "      <td>Toy Story Collection</td>\n",
       "      <td>/7G9915LfUQ2lVfwMEEhDsn3kT4B.jpg</td>\n",
       "      <td>/9FBwqcd9IRruEDUrTdcaafOMKUq.jpg</td>\n",
       "    </tr>\n",
       "    <tr>\n",
       "      <th>1</th>\n",
       "      <td>2</td>\n",
       "      <td>15602</td>\n",
       "      <td>119050</td>\n",
       "      <td>Grumpy Old Men Collection</td>\n",
       "      <td>/nLvUdqgPgm3F85NMCii9gVFUcet.jpg</td>\n",
       "      <td>/hypTnLot2z8wpFS7qwsQHW1uV8u.jpg</td>\n",
       "    </tr>\n",
       "    <tr>\n",
       "      <th>2</th>\n",
       "      <td>4</td>\n",
       "      <td>11862</td>\n",
       "      <td>96871</td>\n",
       "      <td>Father of the Bride Collection</td>\n",
       "      <td>/nts4iOmNnq7GNicycMJ9pSAn204.jpg</td>\n",
       "      <td>/7qwE57OVZmMJChBpLEbJEmzUydk.jpg</td>\n",
       "    </tr>\n",
       "    <tr>\n",
       "      <th>3</th>\n",
       "      <td>9</td>\n",
       "      <td>710</td>\n",
       "      <td>645</td>\n",
       "      <td>James Bond Collection</td>\n",
       "      <td>/HORpg5CSkmeQlAolx3bKMrKgfi.jpg</td>\n",
       "      <td>/6VcVl48kNKvdXOZfJPdarlUGOsk.jpg</td>\n",
       "    </tr>\n",
       "    <tr>\n",
       "      <th>4</th>\n",
       "      <td>12</td>\n",
       "      <td>21032</td>\n",
       "      <td>117693</td>\n",
       "      <td>Balto Collection</td>\n",
       "      <td>/w0ZgH6Lgxt2bQYnf1ss74UvYftm.jpg</td>\n",
       "      <td>/9VM5LiJV0bGb1st1KyHA3cVnO2G.jpg</td>\n",
       "    </tr>\n",
       "  </tbody>\n",
       "</table>\n",
       "</div>"
      ],
      "text/plain": [
       "   index  tmdb_id      id                            name  \\\n",
       "0      0      862   10194            Toy Story Collection   \n",
       "1      2    15602  119050       Grumpy Old Men Collection   \n",
       "2      4    11862   96871  Father of the Bride Collection   \n",
       "3      9      710     645           James Bond Collection   \n",
       "4     12    21032  117693                Balto Collection   \n",
       "\n",
       "                        poster_path                     backdrop_path  \n",
       "0  /7G9915LfUQ2lVfwMEEhDsn3kT4B.jpg  /9FBwqcd9IRruEDUrTdcaafOMKUq.jpg  \n",
       "1  /nLvUdqgPgm3F85NMCii9gVFUcet.jpg  /hypTnLot2z8wpFS7qwsQHW1uV8u.jpg  \n",
       "2  /nts4iOmNnq7GNicycMJ9pSAn204.jpg  /7qwE57OVZmMJChBpLEbJEmzUydk.jpg  \n",
       "3   /HORpg5CSkmeQlAolx3bKMrKgfi.jpg  /6VcVl48kNKvdXOZfJPdarlUGOsk.jpg  \n",
       "4  /w0ZgH6Lgxt2bQYnf1ss74UvYftm.jpg  /9VM5LiJV0bGb1st1KyHA3cVnO2G.jpg  "
      ]
     },
     "execution_count": 51,
     "metadata": {},
     "output_type": "execute_result"
    }
   ],
   "source": [
    "# Take a look of the top 5 rows of the belongs_to_collection DataFrame\n",
    "belongs_to_collection.head()"
   ]
  },
  {
   "cell_type": "code",
   "execution_count": 52,
   "metadata": {},
   "outputs": [
    {
     "name": "stdout",
     "output_type": "stream",
     "text": [
      "<class 'pandas.core.frame.DataFrame'>\n",
      "RangeIndex: 4487 entries, 0 to 4486\n",
      "Data columns (total 6 columns):\n",
      " #   Column         Non-Null Count  Dtype \n",
      "---  ------         --------------  ----- \n",
      " 0   index          4487 non-null   int64 \n",
      " 1   tmdb_id        4487 non-null   int64 \n",
      " 2   id             4487 non-null   int64 \n",
      " 3   name           4487 non-null   object\n",
      " 4   poster_path    3944 non-null   object\n",
      " 5   backdrop_path  3260 non-null   object\n",
      "dtypes: int64(3), object(3)\n",
      "memory usage: 210.5+ KB\n"
     ]
    }
   ],
   "source": [
    "# Inspect the data type\n",
    "belongs_to_collection.info()"
   ]
  },
  {
   "cell_type": "code",
   "execution_count": 53,
   "metadata": {},
   "outputs": [
    {
     "data": {
      "application/vnd.microsoft.datawrangler.viewer.v0+json": {
       "columns": [
        {
         "name": "index",
         "rawType": "int64",
         "type": "integer"
        },
        {
         "name": "index",
         "rawType": "int64",
         "type": "integer"
        },
        {
         "name": "tmdb_id",
         "rawType": "int64",
         "type": "integer"
        },
        {
         "name": "id",
         "rawType": "int64",
         "type": "integer"
        },
        {
         "name": "name",
         "rawType": "object",
         "type": "string"
        },
        {
         "name": "poster_path",
         "rawType": "object",
         "type": "string"
        },
        {
         "name": "backdrop_path",
         "rawType": "object",
         "type": "string"
        }
       ],
       "conversionMethod": "pd.DataFrame",
       "ref": "6cf9554b-e2cc-4491-ac78-d6c972e78ac4",
       "rows": [
        [
         "0",
         "0",
         "862",
         "10194",
         "Toy Story Collection",
         "/7G9915LfUQ2lVfwMEEhDsn3kT4B.jpg",
         "/9FBwqcd9IRruEDUrTdcaafOMKUq.jpg"
        ],
        [
         "1",
         "2",
         "15602",
         "119050",
         "Grumpy Old Men Collection",
         "/nLvUdqgPgm3F85NMCii9gVFUcet.jpg",
         "/hypTnLot2z8wpFS7qwsQHW1uV8u.jpg"
        ],
        [
         "2",
         "4",
         "11862",
         "96871",
         "Father of the Bride Collection",
         "/nts4iOmNnq7GNicycMJ9pSAn204.jpg",
         "/7qwE57OVZmMJChBpLEbJEmzUydk.jpg"
        ],
        [
         "3",
         "9",
         "710",
         "645",
         "James Bond Collection",
         "/HORpg5CSkmeQlAolx3bKMrKgfi.jpg",
         "/6VcVl48kNKvdXOZfJPdarlUGOsk.jpg"
        ],
        [
         "4",
         "12",
         "21032",
         "117693",
         "Balto Collection",
         "/w0ZgH6Lgxt2bQYnf1ss74UvYftm.jpg",
         "/9VM5LiJV0bGb1st1KyHA3cVnO2G.jpg"
        ]
       ],
       "shape": {
        "columns": 6,
        "rows": 5
       }
      },
      "text/html": [
       "<div>\n",
       "<style scoped>\n",
       "    .dataframe tbody tr th:only-of-type {\n",
       "        vertical-align: middle;\n",
       "    }\n",
       "\n",
       "    .dataframe tbody tr th {\n",
       "        vertical-align: top;\n",
       "    }\n",
       "\n",
       "    .dataframe thead th {\n",
       "        text-align: right;\n",
       "    }\n",
       "</style>\n",
       "<table border=\"1\" class=\"dataframe\">\n",
       "  <thead>\n",
       "    <tr style=\"text-align: right;\">\n",
       "      <th></th>\n",
       "      <th>index</th>\n",
       "      <th>tmdb_id</th>\n",
       "      <th>id</th>\n",
       "      <th>name</th>\n",
       "      <th>poster_path</th>\n",
       "      <th>backdrop_path</th>\n",
       "    </tr>\n",
       "  </thead>\n",
       "  <tbody>\n",
       "    <tr>\n",
       "      <th>0</th>\n",
       "      <td>0</td>\n",
       "      <td>862</td>\n",
       "      <td>10194</td>\n",
       "      <td>Toy Story Collection</td>\n",
       "      <td>/7G9915LfUQ2lVfwMEEhDsn3kT4B.jpg</td>\n",
       "      <td>/9FBwqcd9IRruEDUrTdcaafOMKUq.jpg</td>\n",
       "    </tr>\n",
       "    <tr>\n",
       "      <th>1</th>\n",
       "      <td>2</td>\n",
       "      <td>15602</td>\n",
       "      <td>119050</td>\n",
       "      <td>Grumpy Old Men Collection</td>\n",
       "      <td>/nLvUdqgPgm3F85NMCii9gVFUcet.jpg</td>\n",
       "      <td>/hypTnLot2z8wpFS7qwsQHW1uV8u.jpg</td>\n",
       "    </tr>\n",
       "    <tr>\n",
       "      <th>2</th>\n",
       "      <td>4</td>\n",
       "      <td>11862</td>\n",
       "      <td>96871</td>\n",
       "      <td>Father of the Bride Collection</td>\n",
       "      <td>/nts4iOmNnq7GNicycMJ9pSAn204.jpg</td>\n",
       "      <td>/7qwE57OVZmMJChBpLEbJEmzUydk.jpg</td>\n",
       "    </tr>\n",
       "    <tr>\n",
       "      <th>3</th>\n",
       "      <td>9</td>\n",
       "      <td>710</td>\n",
       "      <td>645</td>\n",
       "      <td>James Bond Collection</td>\n",
       "      <td>/HORpg5CSkmeQlAolx3bKMrKgfi.jpg</td>\n",
       "      <td>/6VcVl48kNKvdXOZfJPdarlUGOsk.jpg</td>\n",
       "    </tr>\n",
       "    <tr>\n",
       "      <th>4</th>\n",
       "      <td>12</td>\n",
       "      <td>21032</td>\n",
       "      <td>117693</td>\n",
       "      <td>Balto Collection</td>\n",
       "      <td>/w0ZgH6Lgxt2bQYnf1ss74UvYftm.jpg</td>\n",
       "      <td>/9VM5LiJV0bGb1st1KyHA3cVnO2G.jpg</td>\n",
       "    </tr>\n",
       "  </tbody>\n",
       "</table>\n",
       "</div>"
      ],
      "text/plain": [
       "   index  tmdb_id      id                            name  \\\n",
       "0      0      862   10194            Toy Story Collection   \n",
       "1      2    15602  119050       Grumpy Old Men Collection   \n",
       "2      4    11862   96871  Father of the Bride Collection   \n",
       "3      9      710     645           James Bond Collection   \n",
       "4     12    21032  117693                Balto Collection   \n",
       "\n",
       "                        poster_path                     backdrop_path  \n",
       "0  /7G9915LfUQ2lVfwMEEhDsn3kT4B.jpg  /9FBwqcd9IRruEDUrTdcaafOMKUq.jpg  \n",
       "1  /nLvUdqgPgm3F85NMCii9gVFUcet.jpg  /hypTnLot2z8wpFS7qwsQHW1uV8u.jpg  \n",
       "2  /nts4iOmNnq7GNicycMJ9pSAn204.jpg  /7qwE57OVZmMJChBpLEbJEmzUydk.jpg  \n",
       "3   /HORpg5CSkmeQlAolx3bKMrKgfi.jpg  /6VcVl48kNKvdXOZfJPdarlUGOsk.jpg  \n",
       "4  /w0ZgH6Lgxt2bQYnf1ss74UvYftm.jpg  /9VM5LiJV0bGb1st1KyHA3cVnO2G.jpg  "
      ]
     },
     "execution_count": 53,
     "metadata": {},
     "output_type": "execute_result"
    }
   ],
   "source": [
    "# Remove rows with missing values\n",
    "mask = belongs_to_collection[[\"id\", \"name\"]].isna().all(axis=1)\n",
    "belongs_to_collection = belongs_to_collection[~mask]\n",
    "belongs_to_collection.head()"
   ]
  },
  {
   "cell_type": "markdown",
   "metadata": {},
   "source": [
    "Validate"
   ]
  },
  {
   "cell_type": "code",
   "execution_count": 54,
   "metadata": {},
   "outputs": [
    {
     "name": "stdout",
     "output_type": "stream",
     "text": [
      "<class 'pandas.core.frame.DataFrame'>\n",
      "RangeIndex: 4487 entries, 0 to 4486\n",
      "Data columns (total 6 columns):\n",
      " #   Column         Non-Null Count  Dtype \n",
      "---  ------         --------------  ----- \n",
      " 0   index          4487 non-null   int64 \n",
      " 1   tmdb_id        4487 non-null   int64 \n",
      " 2   id             4487 non-null   int64 \n",
      " 3   name           4487 non-null   object\n",
      " 4   poster_path    3944 non-null   object\n",
      " 5   backdrop_path  3260 non-null   object\n",
      "dtypes: int64(3), object(3)\n",
      "memory usage: 210.5+ KB\n"
     ]
    }
   ],
   "source": [
    "# Inspect the data type\n",
    "belongs_to_collection.info()"
   ]
  },
  {
   "cell_type": "code",
   "execution_count": 55,
   "metadata": {},
   "outputs": [
    {
     "data": {
      "text/plain": [
       "index            0\n",
       "tmdb_id          0\n",
       "id               0\n",
       "name             0\n",
       "poster_path      0\n",
       "backdrop_path    0\n",
       "dtype: int64"
      ]
     },
     "execution_count": 55,
     "metadata": {},
     "output_type": "execute_result"
    }
   ],
   "source": [
    "# Check for duplicated columns\n",
    "belongs_to_collection[belongs_to_collection.duplicated(subset=[\"tmdb_id\", \"name\", \"id\"], keep=False)].count()"
   ]
  },
  {
   "cell_type": "markdown",
   "metadata": {},
   "source": [
    "Extracting and separating genres column"
   ]
  },
  {
   "cell_type": "code",
   "execution_count": 56,
   "metadata": {},
   "outputs": [
    {
     "data": {
      "application/vnd.microsoft.datawrangler.viewer.v0+json": {
       "columns": [
        {
         "name": "index",
         "rawType": "int64",
         "type": "integer"
        },
        {
         "name": "id",
         "rawType": "int64",
         "type": "integer"
        },
        {
         "name": "name",
         "rawType": "object",
         "type": "string"
        },
        {
         "name": "tmdb_id",
         "rawType": "int64",
         "type": "integer"
        }
       ],
       "conversionMethod": "pd.DataFrame",
       "ref": "ca49120b-2273-42cd-8535-9b47074bb92b",
       "rows": [
        [
         "77688",
         "53",
         "Thriller",
         "5252"
        ],
        [
         "42503",
         "16",
         "Animation",
         "73723"
        ],
        [
         "8775",
         "878",
         "Science Fiction",
         "12599"
        ],
        [
         "19653",
         "10751",
         "Family",
         "36616"
        ],
        [
         "14054",
         "18",
         "Drama",
         "61578"
        ]
       ],
       "shape": {
        "columns": 3,
        "rows": 5
       }
      },
      "text/html": [
       "<div>\n",
       "<style scoped>\n",
       "    .dataframe tbody tr th:only-of-type {\n",
       "        vertical-align: middle;\n",
       "    }\n",
       "\n",
       "    .dataframe tbody tr th {\n",
       "        vertical-align: top;\n",
       "    }\n",
       "\n",
       "    .dataframe thead th {\n",
       "        text-align: right;\n",
       "    }\n",
       "</style>\n",
       "<table border=\"1\" class=\"dataframe\">\n",
       "  <thead>\n",
       "    <tr style=\"text-align: right;\">\n",
       "      <th></th>\n",
       "      <th>id</th>\n",
       "      <th>name</th>\n",
       "      <th>tmdb_id</th>\n",
       "    </tr>\n",
       "  </thead>\n",
       "  <tbody>\n",
       "    <tr>\n",
       "      <th>77688</th>\n",
       "      <td>53</td>\n",
       "      <td>Thriller</td>\n",
       "      <td>5252</td>\n",
       "    </tr>\n",
       "    <tr>\n",
       "      <th>42503</th>\n",
       "      <td>16</td>\n",
       "      <td>Animation</td>\n",
       "      <td>73723</td>\n",
       "    </tr>\n",
       "    <tr>\n",
       "      <th>8775</th>\n",
       "      <td>878</td>\n",
       "      <td>Science Fiction</td>\n",
       "      <td>12599</td>\n",
       "    </tr>\n",
       "    <tr>\n",
       "      <th>19653</th>\n",
       "      <td>10751</td>\n",
       "      <td>Family</td>\n",
       "      <td>36616</td>\n",
       "    </tr>\n",
       "    <tr>\n",
       "      <th>14054</th>\n",
       "      <td>18</td>\n",
       "      <td>Drama</td>\n",
       "      <td>61578</td>\n",
       "    </tr>\n",
       "  </tbody>\n",
       "</table>\n",
       "</div>"
      ],
      "text/plain": [
       "          id             name  tmdb_id\n",
       "77688     53         Thriller     5252\n",
       "42503     16        Animation    73723\n",
       "8775     878  Science Fiction    12599\n",
       "19653  10751           Family    36616\n",
       "14054     18            Drama    61578"
      ]
     },
     "execution_count": 56,
     "metadata": {},
     "output_type": "execute_result"
    }
   ],
   "source": [
    "genres = normalize_data(movies_metadata, \"genres\", \"tmdb_id\")\n",
    "movies_metadata.drop(columns=[\"genres\"], inplace=True)\n",
    "genres.sample(5)"
   ]
  },
  {
   "cell_type": "markdown",
   "metadata": {},
   "source": [
    "Validate"
   ]
  },
  {
   "cell_type": "code",
   "execution_count": 57,
   "metadata": {},
   "outputs": [
    {
     "name": "stdout",
     "output_type": "stream",
     "text": [
      "<class 'pandas.core.frame.DataFrame'>\n",
      "RangeIndex: 91006 entries, 0 to 91005\n",
      "Data columns (total 3 columns):\n",
      " #   Column   Non-Null Count  Dtype \n",
      "---  ------   --------------  ----- \n",
      " 0   id       91006 non-null  int64 \n",
      " 1   name     91006 non-null  object\n",
      " 2   tmdb_id  91006 non-null  int64 \n",
      "dtypes: int64(2), object(1)\n",
      "memory usage: 2.1+ MB\n"
     ]
    }
   ],
   "source": [
    "genres.info()"
   ]
  },
  {
   "cell_type": "code",
   "execution_count": 58,
   "metadata": {},
   "outputs": [
    {
     "data": {
      "text/plain": [
       "id         0\n",
       "name       0\n",
       "tmdb_id    0\n",
       "dtype: int64"
      ]
     },
     "execution_count": 58,
     "metadata": {},
     "output_type": "execute_result"
    }
   ],
   "source": [
    "# Check for duplicated columns\n",
    "genres[genres.duplicated(keep=False)].count()"
   ]
  },
  {
   "cell_type": "markdown",
   "metadata": {},
   "source": [
    "Extracting production_companies column"
   ]
  },
  {
   "cell_type": "code",
   "execution_count": 59,
   "metadata": {},
   "outputs": [
    {
     "data": {
      "application/vnd.microsoft.datawrangler.viewer.v0+json": {
       "columns": [
        {
         "name": "index",
         "rawType": "int64",
         "type": "integer"
        },
        {
         "name": "name",
         "rawType": "object",
         "type": "string"
        },
        {
         "name": "id",
         "rawType": "int64",
         "type": "integer"
        },
        {
         "name": "tmdb_id",
         "rawType": "int64",
         "type": "integer"
        }
       ],
       "conversionMethod": "pd.DataFrame",
       "ref": "b32382af-7e98-400c-832c-4fc7c61998ff",
       "rows": [
        [
         "570",
         "Lucasfilm",
         "1",
         "11"
        ],
        [
         "2474",
         "Lucasfilm",
         "1",
         "89"
        ],
        [
         "48287",
         "Lucasfilm",
         "1",
         "302429"
        ],
        [
         "2298",
         "Lucasfilm",
         "1",
         "1892"
        ],
        [
         "2270",
         "Lucasfilm",
         "1",
         "1891"
        ]
       ],
       "shape": {
        "columns": 3,
        "rows": 5
       }
      },
      "text/html": [
       "<div>\n",
       "<style scoped>\n",
       "    .dataframe tbody tr th:only-of-type {\n",
       "        vertical-align: middle;\n",
       "    }\n",
       "\n",
       "    .dataframe tbody tr th {\n",
       "        vertical-align: top;\n",
       "    }\n",
       "\n",
       "    .dataframe thead th {\n",
       "        text-align: right;\n",
       "    }\n",
       "</style>\n",
       "<table border=\"1\" class=\"dataframe\">\n",
       "  <thead>\n",
       "    <tr style=\"text-align: right;\">\n",
       "      <th></th>\n",
       "      <th>name</th>\n",
       "      <th>id</th>\n",
       "      <th>tmdb_id</th>\n",
       "    </tr>\n",
       "  </thead>\n",
       "  <tbody>\n",
       "    <tr>\n",
       "      <th>570</th>\n",
       "      <td>Lucasfilm</td>\n",
       "      <td>1</td>\n",
       "      <td>11</td>\n",
       "    </tr>\n",
       "    <tr>\n",
       "      <th>2474</th>\n",
       "      <td>Lucasfilm</td>\n",
       "      <td>1</td>\n",
       "      <td>89</td>\n",
       "    </tr>\n",
       "    <tr>\n",
       "      <th>48287</th>\n",
       "      <td>Lucasfilm</td>\n",
       "      <td>1</td>\n",
       "      <td>302429</td>\n",
       "    </tr>\n",
       "    <tr>\n",
       "      <th>2298</th>\n",
       "      <td>Lucasfilm</td>\n",
       "      <td>1</td>\n",
       "      <td>1892</td>\n",
       "    </tr>\n",
       "    <tr>\n",
       "      <th>2270</th>\n",
       "      <td>Lucasfilm</td>\n",
       "      <td>1</td>\n",
       "      <td>1891</td>\n",
       "    </tr>\n",
       "  </tbody>\n",
       "</table>\n",
       "</div>"
      ],
      "text/plain": [
       "            name  id  tmdb_id\n",
       "570    Lucasfilm   1       11\n",
       "2474   Lucasfilm   1       89\n",
       "48287  Lucasfilm   1   302429\n",
       "2298   Lucasfilm   1     1892\n",
       "2270   Lucasfilm   1     1891"
      ]
     },
     "execution_count": 59,
     "metadata": {},
     "output_type": "execute_result"
    }
   ],
   "source": [
    "production_companies = normalize_data(movies_metadata, \"production_companies\", \"tmdb_id\")\n",
    "movies_metadata.drop(columns=[\"production_companies\"], inplace=True)\n",
    "production_companies.sort_values(by=\"id\").head()"
   ]
  },
  {
   "cell_type": "markdown",
   "metadata": {},
   "source": [
    "Validate"
   ]
  },
  {
   "cell_type": "code",
   "execution_count": 60,
   "metadata": {},
   "outputs": [
    {
     "name": "stdout",
     "output_type": "stream",
     "text": [
      "<class 'pandas.core.frame.DataFrame'>\n",
      "RangeIndex: 70464 entries, 0 to 70463\n",
      "Data columns (total 3 columns):\n",
      " #   Column   Non-Null Count  Dtype \n",
      "---  ------   --------------  ----- \n",
      " 0   name     70464 non-null  object\n",
      " 1   id       70464 non-null  int64 \n",
      " 2   tmdb_id  70464 non-null  int64 \n",
      "dtypes: int64(2), object(1)\n",
      "memory usage: 1.6+ MB\n"
     ]
    }
   ],
   "source": [
    "production_companies.info()"
   ]
  },
  {
   "cell_type": "code",
   "execution_count": 61,
   "metadata": {},
   "outputs": [
    {
     "data": {
      "text/plain": [
       "name       0\n",
       "id         0\n",
       "tmdb_id    0\n",
       "dtype: int64"
      ]
     },
     "execution_count": 61,
     "metadata": {},
     "output_type": "execute_result"
    }
   ],
   "source": [
    "# Check for duplicated columns\n",
    "production_companies[production_companies.duplicated(keep=False)].count()"
   ]
  },
  {
   "cell_type": "markdown",
   "metadata": {},
   "source": [
    "Extracting production_countries DataFrame"
   ]
  },
  {
   "cell_type": "code",
   "execution_count": 62,
   "metadata": {},
   "outputs": [
    {
     "data": {
      "application/vnd.microsoft.datawrangler.viewer.v0+json": {
       "columns": [
        {
         "name": "index",
         "rawType": "int64",
         "type": "integer"
        },
        {
         "name": "iso_3166_1",
         "rawType": "object",
         "type": "string"
        },
        {
         "name": "name",
         "rawType": "object",
         "type": "string"
        },
        {
         "name": "tmdb_id",
         "rawType": "int64",
         "type": "integer"
        }
       ],
       "conversionMethod": "pd.DataFrame",
       "ref": "e71f085a-9816-456c-aaa1-fca90ab714b4",
       "rows": [
        [
         "44905",
         "CN",
         "China",
         "382563"
        ],
        [
         "2223",
         "GB",
         "United Kingdom",
         "13597"
        ],
        [
         "43400",
         "US",
         "United States of America",
         "53335"
        ],
        [
         "48500",
         "DK",
         "Denmark",
         "402919"
        ],
        [
         "25070",
         "US",
         "United States of America",
         "201485"
        ]
       ],
       "shape": {
        "columns": 3,
        "rows": 5
       }
      },
      "text/html": [
       "<div>\n",
       "<style scoped>\n",
       "    .dataframe tbody tr th:only-of-type {\n",
       "        vertical-align: middle;\n",
       "    }\n",
       "\n",
       "    .dataframe tbody tr th {\n",
       "        vertical-align: top;\n",
       "    }\n",
       "\n",
       "    .dataframe thead th {\n",
       "        text-align: right;\n",
       "    }\n",
       "</style>\n",
       "<table border=\"1\" class=\"dataframe\">\n",
       "  <thead>\n",
       "    <tr style=\"text-align: right;\">\n",
       "      <th></th>\n",
       "      <th>iso_3166_1</th>\n",
       "      <th>name</th>\n",
       "      <th>tmdb_id</th>\n",
       "    </tr>\n",
       "  </thead>\n",
       "  <tbody>\n",
       "    <tr>\n",
       "      <th>44905</th>\n",
       "      <td>CN</td>\n",
       "      <td>China</td>\n",
       "      <td>382563</td>\n",
       "    </tr>\n",
       "    <tr>\n",
       "      <th>2223</th>\n",
       "      <td>GB</td>\n",
       "      <td>United Kingdom</td>\n",
       "      <td>13597</td>\n",
       "    </tr>\n",
       "    <tr>\n",
       "      <th>43400</th>\n",
       "      <td>US</td>\n",
       "      <td>United States of America</td>\n",
       "      <td>53335</td>\n",
       "    </tr>\n",
       "    <tr>\n",
       "      <th>48500</th>\n",
       "      <td>DK</td>\n",
       "      <td>Denmark</td>\n",
       "      <td>402919</td>\n",
       "    </tr>\n",
       "    <tr>\n",
       "      <th>25070</th>\n",
       "      <td>US</td>\n",
       "      <td>United States of America</td>\n",
       "      <td>201485</td>\n",
       "    </tr>\n",
       "  </tbody>\n",
       "</table>\n",
       "</div>"
      ],
      "text/plain": [
       "      iso_3166_1                      name  tmdb_id\n",
       "44905         CN                     China   382563\n",
       "2223          GB            United Kingdom    13597\n",
       "43400         US  United States of America    53335\n",
       "48500         DK                   Denmark   402919\n",
       "25070         US  United States of America   201485"
      ]
     },
     "execution_count": 62,
     "metadata": {},
     "output_type": "execute_result"
    }
   ],
   "source": [
    "production_countries = normalize_data(movies_metadata, \"production_countries\", \"tmdb_id\")\n",
    "movies_metadata.drop(columns=[\"production_countries\"], inplace=True)\n",
    "production_countries.sample(5)"
   ]
  },
  {
   "cell_type": "markdown",
   "metadata": {},
   "source": [
    "Validate"
   ]
  },
  {
   "cell_type": "code",
   "execution_count": 63,
   "metadata": {},
   "outputs": [
    {
     "name": "stdout",
     "output_type": "stream",
     "text": [
      "<class 'pandas.core.frame.DataFrame'>\n",
      "RangeIndex: 49368 entries, 0 to 49367\n",
      "Data columns (total 3 columns):\n",
      " #   Column      Non-Null Count  Dtype \n",
      "---  ------      --------------  ----- \n",
      " 0   iso_3166_1  49368 non-null  object\n",
      " 1   name        49368 non-null  object\n",
      " 2   tmdb_id     49368 non-null  int64 \n",
      "dtypes: int64(1), object(2)\n",
      "memory usage: 1.1+ MB\n"
     ]
    }
   ],
   "source": [
    "production_countries.info()"
   ]
  },
  {
   "cell_type": "code",
   "execution_count": 64,
   "metadata": {},
   "outputs": [
    {
     "data": {
      "text/plain": [
       "iso_3166_1    0\n",
       "name          0\n",
       "tmdb_id       0\n",
       "dtype: int64"
      ]
     },
     "execution_count": 64,
     "metadata": {},
     "output_type": "execute_result"
    }
   ],
   "source": [
    "# Check for duplicated columns\n",
    "production_countries[production_countries.duplicated(keep=False)].count()"
   ]
  },
  {
   "cell_type": "markdown",
   "metadata": {},
   "source": [
    "Extracting spoken_languages DataFrame"
   ]
  },
  {
   "cell_type": "code",
   "execution_count": 65,
   "metadata": {},
   "outputs": [
    {
     "data": {
      "application/vnd.microsoft.datawrangler.viewer.v0+json": {
       "columns": [
        {
         "name": "index",
         "rawType": "int64",
         "type": "integer"
        },
        {
         "name": "iso_639_1",
         "rawType": "object",
         "type": "string"
        },
        {
         "name": "name",
         "rawType": "object",
         "type": "string"
        },
        {
         "name": "tmdb_id",
         "rawType": "int64",
         "type": "integer"
        }
       ],
       "conversionMethod": "pd.DataFrame",
       "ref": "c4e6c0a8-8c3a-4dd2-93b6-132797f7a13a",
       "rows": [
        [
         "42301",
         "it",
         "Italiano",
         "128780"
        ],
        [
         "51882",
         "it",
         "Italiano",
         "82077"
        ],
        [
         "11921",
         "en",
         "English",
         "116345"
        ],
        [
         "5734",
         "zh",
         "普通话",
         "12481"
        ],
        [
         "871",
         "en",
         "English",
         "318177"
        ]
       ],
       "shape": {
        "columns": 3,
        "rows": 5
       }
      },
      "text/html": [
       "<div>\n",
       "<style scoped>\n",
       "    .dataframe tbody tr th:only-of-type {\n",
       "        vertical-align: middle;\n",
       "    }\n",
       "\n",
       "    .dataframe tbody tr th {\n",
       "        vertical-align: top;\n",
       "    }\n",
       "\n",
       "    .dataframe thead th {\n",
       "        text-align: right;\n",
       "    }\n",
       "</style>\n",
       "<table border=\"1\" class=\"dataframe\">\n",
       "  <thead>\n",
       "    <tr style=\"text-align: right;\">\n",
       "      <th></th>\n",
       "      <th>iso_639_1</th>\n",
       "      <th>name</th>\n",
       "      <th>tmdb_id</th>\n",
       "    </tr>\n",
       "  </thead>\n",
       "  <tbody>\n",
       "    <tr>\n",
       "      <th>42301</th>\n",
       "      <td>it</td>\n",
       "      <td>Italiano</td>\n",
       "      <td>128780</td>\n",
       "    </tr>\n",
       "    <tr>\n",
       "      <th>51882</th>\n",
       "      <td>it</td>\n",
       "      <td>Italiano</td>\n",
       "      <td>82077</td>\n",
       "    </tr>\n",
       "    <tr>\n",
       "      <th>11921</th>\n",
       "      <td>en</td>\n",
       "      <td>English</td>\n",
       "      <td>116345</td>\n",
       "    </tr>\n",
       "    <tr>\n",
       "      <th>5734</th>\n",
       "      <td>zh</td>\n",
       "      <td>普通话</td>\n",
       "      <td>12481</td>\n",
       "    </tr>\n",
       "    <tr>\n",
       "      <th>871</th>\n",
       "      <td>en</td>\n",
       "      <td>English</td>\n",
       "      <td>318177</td>\n",
       "    </tr>\n",
       "  </tbody>\n",
       "</table>\n",
       "</div>"
      ],
      "text/plain": [
       "      iso_639_1      name  tmdb_id\n",
       "42301        it  Italiano   128780\n",
       "51882        it  Italiano    82077\n",
       "11921        en   English   116345\n",
       "5734         zh       普通话    12481\n",
       "871          en   English   318177"
      ]
     },
     "execution_count": 65,
     "metadata": {},
     "output_type": "execute_result"
    }
   ],
   "source": [
    "spoken_languages = normalize_data(movies_metadata, \"spoken_languages\", \"tmdb_id\")\n",
    "movies_metadata.drop(columns=[\"spoken_languages\"], inplace=True)\n",
    "spoken_languages.sample(5)"
   ]
  },
  {
   "cell_type": "markdown",
   "metadata": {},
   "source": [
    "Validate"
   ]
  },
  {
   "cell_type": "code",
   "execution_count": 66,
   "metadata": {},
   "outputs": [
    {
     "name": "stdout",
     "output_type": "stream",
     "text": [
      "<class 'pandas.core.frame.DataFrame'>\n",
      "RangeIndex: 53266 entries, 0 to 53265\n",
      "Data columns (total 3 columns):\n",
      " #   Column     Non-Null Count  Dtype \n",
      "---  ------     --------------  ----- \n",
      " 0   iso_639_1  53266 non-null  object\n",
      " 1   name       53266 non-null  object\n",
      " 2   tmdb_id    53266 non-null  int64 \n",
      "dtypes: int64(1), object(2)\n",
      "memory usage: 1.2+ MB\n"
     ]
    }
   ],
   "source": [
    "spoken_languages.info()"
   ]
  },
  {
   "cell_type": "code",
   "execution_count": 67,
   "metadata": {},
   "outputs": [
    {
     "data": {
      "text/plain": [
       "iso_639_1    0\n",
       "name         0\n",
       "tmdb_id      0\n",
       "dtype: int64"
      ]
     },
     "execution_count": 67,
     "metadata": {},
     "output_type": "execute_result"
    }
   ],
   "source": [
    "# Check for duplicated columns\n",
    "spoken_languages[spoken_languages.duplicated(keep=False)].count()"
   ]
  },
  {
   "cell_type": "markdown",
   "metadata": {},
   "source": [
    "#### Ratings Dataframe Processing:"
   ]
  },
  {
   "cell_type": "code",
   "execution_count": 68,
   "metadata": {},
   "outputs": [
    {
     "data": {
      "application/vnd.microsoft.datawrangler.viewer.v0+json": {
       "columns": [
        {
         "name": "index",
         "rawType": "int64",
         "type": "integer"
        },
        {
         "name": "userId",
         "rawType": "int64",
         "type": "integer"
        },
        {
         "name": "movieId",
         "rawType": "int64",
         "type": "integer"
        },
        {
         "name": "rating",
         "rawType": "float64",
         "type": "float"
        },
        {
         "name": "timestamp",
         "rawType": "int64",
         "type": "integer"
        }
       ],
       "conversionMethod": "pd.DataFrame",
       "ref": "6c0da2b3-b999-43e9-8e79-c2c2dde92e6d",
       "rows": [
        [
         "12400301",
         "128626",
         "784",
         "1.5",
         "1111649088"
        ],
        [
         "15383934",
         "160097",
         "3977",
         "3.0",
         "1315838687"
        ],
        [
         "25401651",
         "264493",
         "69757",
         "3.0",
         "1440510075"
        ],
        [
         "17091648",
         "177456",
         "586",
         "5.0",
         "1494040036"
        ],
        [
         "23693955",
         "245923",
         "356",
         "5.0",
         "944974445"
        ]
       ],
       "shape": {
        "columns": 4,
        "rows": 5
       }
      },
      "text/html": [
       "<div>\n",
       "<style scoped>\n",
       "    .dataframe tbody tr th:only-of-type {\n",
       "        vertical-align: middle;\n",
       "    }\n",
       "\n",
       "    .dataframe tbody tr th {\n",
       "        vertical-align: top;\n",
       "    }\n",
       "\n",
       "    .dataframe thead th {\n",
       "        text-align: right;\n",
       "    }\n",
       "</style>\n",
       "<table border=\"1\" class=\"dataframe\">\n",
       "  <thead>\n",
       "    <tr style=\"text-align: right;\">\n",
       "      <th></th>\n",
       "      <th>userId</th>\n",
       "      <th>movieId</th>\n",
       "      <th>rating</th>\n",
       "      <th>timestamp</th>\n",
       "    </tr>\n",
       "  </thead>\n",
       "  <tbody>\n",
       "    <tr>\n",
       "      <th>12400301</th>\n",
       "      <td>128626</td>\n",
       "      <td>784</td>\n",
       "      <td>1.5</td>\n",
       "      <td>1111649088</td>\n",
       "    </tr>\n",
       "    <tr>\n",
       "      <th>15383934</th>\n",
       "      <td>160097</td>\n",
       "      <td>3977</td>\n",
       "      <td>3.0</td>\n",
       "      <td>1315838687</td>\n",
       "    </tr>\n",
       "    <tr>\n",
       "      <th>25401651</th>\n",
       "      <td>264493</td>\n",
       "      <td>69757</td>\n",
       "      <td>3.0</td>\n",
       "      <td>1440510075</td>\n",
       "    </tr>\n",
       "    <tr>\n",
       "      <th>17091648</th>\n",
       "      <td>177456</td>\n",
       "      <td>586</td>\n",
       "      <td>5.0</td>\n",
       "      <td>1494040036</td>\n",
       "    </tr>\n",
       "    <tr>\n",
       "      <th>23693955</th>\n",
       "      <td>245923</td>\n",
       "      <td>356</td>\n",
       "      <td>5.0</td>\n",
       "      <td>944974445</td>\n",
       "    </tr>\n",
       "  </tbody>\n",
       "</table>\n",
       "</div>"
      ],
      "text/plain": [
       "          userId  movieId  rating   timestamp\n",
       "12400301  128626      784     1.5  1111649088\n",
       "15383934  160097     3977     3.0  1315838687\n",
       "25401651  264493    69757     3.0  1440510075\n",
       "17091648  177456      586     5.0  1494040036\n",
       "23693955  245923      356     5.0   944974445"
      ]
     },
     "execution_count": 68,
     "metadata": {},
     "output_type": "execute_result"
    }
   ],
   "source": [
    "# Take a peek of the ratings data\n",
    "ratings.sample(5)"
   ]
  },
  {
   "cell_type": "markdown",
   "metadata": {},
   "source": [
    "Renaming columns"
   ]
  },
  {
   "cell_type": "code",
   "execution_count": 69,
   "metadata": {},
   "outputs": [],
   "source": [
    "new_name = {\n",
    "    \"movieId\": \"movie_id\",\n",
    "    \"userId\": \"user_id\"\n",
    "    }\n",
    "ratings.rename(columns=new_name, inplace=True)"
   ]
  },
  {
   "cell_type": "markdown",
   "metadata": {},
   "source": [
    "Validate Data Type"
   ]
  },
  {
   "cell_type": "code",
   "execution_count": 70,
   "metadata": {},
   "outputs": [
    {
     "name": "stdout",
     "output_type": "stream",
     "text": [
      "<class 'pandas.core.frame.DataFrame'>\n",
      "RangeIndex: 26024289 entries, 0 to 26024288\n",
      "Data columns (total 4 columns):\n",
      " #   Column     Dtype  \n",
      "---  ------     -----  \n",
      " 0   user_id    int64  \n",
      " 1   movie_id   int64  \n",
      " 2   rating     float64\n",
      " 3   timestamp  int64  \n",
      "dtypes: float64(1), int64(3)\n",
      "memory usage: 794.2 MB\n"
     ]
    }
   ],
   "source": [
    "ratings.info()"
   ]
  },
  {
   "cell_type": "code",
   "execution_count": 71,
   "metadata": {},
   "outputs": [
    {
     "data": {
      "text/plain": [
       "user_id      0\n",
       "movie_id     0\n",
       "rating       0\n",
       "timestamp    0\n",
       "dtype: int64"
      ]
     },
     "execution_count": 71,
     "metadata": {},
     "output_type": "execute_result"
    }
   ],
   "source": [
    "ratings[ratings.duplicated(subset=[\"user_id\", \"movie_id\"], keep=False)].count()"
   ]
  },
  {
   "cell_type": "markdown",
   "metadata": {},
   "source": [
    "#### Validate whether the data is valid and related"
   ]
  },
  {
   "cell_type": "code",
   "execution_count": 72,
   "metadata": {},
   "outputs": [
    {
     "data": {
      "application/vnd.microsoft.datawrangler.viewer.v0+json": {
       "columns": [
        {
         "name": "index",
         "rawType": "int64",
         "type": "integer"
        },
        {
         "name": "user_id",
         "rawType": "int64",
         "type": "integer"
        },
        {
         "name": "movie_id",
         "rawType": "int64",
         "type": "integer"
        },
        {
         "name": "rating",
         "rawType": "float64",
         "type": "float"
        },
        {
         "name": "timestamp",
         "rawType": "int64",
         "type": "integer"
        }
       ],
       "conversionMethod": "pd.DataFrame",
       "ref": "ca5e9dc2-9ddd-45d3-b3c0-2ecc37a7fe22",
       "rows": [
        [
         "0",
         "1",
         "110",
         "1.0",
         "1425941529"
        ],
        [
         "1",
         "1",
         "147",
         "4.5",
         "1425942435"
        ],
        [
         "2",
         "1",
         "858",
         "5.0",
         "1425941523"
        ],
        [
         "3",
         "1",
         "1221",
         "5.0",
         "1425941546"
        ],
        [
         "4",
         "1",
         "1246",
         "5.0",
         "1425941556"
        ]
       ],
       "shape": {
        "columns": 4,
        "rows": 5
       }
      },
      "text/html": [
       "<div>\n",
       "<style scoped>\n",
       "    .dataframe tbody tr th:only-of-type {\n",
       "        vertical-align: middle;\n",
       "    }\n",
       "\n",
       "    .dataframe tbody tr th {\n",
       "        vertical-align: top;\n",
       "    }\n",
       "\n",
       "    .dataframe thead th {\n",
       "        text-align: right;\n",
       "    }\n",
       "</style>\n",
       "<table border=\"1\" class=\"dataframe\">\n",
       "  <thead>\n",
       "    <tr style=\"text-align: right;\">\n",
       "      <th></th>\n",
       "      <th>user_id</th>\n",
       "      <th>movie_id</th>\n",
       "      <th>rating</th>\n",
       "      <th>timestamp</th>\n",
       "    </tr>\n",
       "  </thead>\n",
       "  <tbody>\n",
       "    <tr>\n",
       "      <th>0</th>\n",
       "      <td>1</td>\n",
       "      <td>110</td>\n",
       "      <td>1.0</td>\n",
       "      <td>1425941529</td>\n",
       "    </tr>\n",
       "    <tr>\n",
       "      <th>1</th>\n",
       "      <td>1</td>\n",
       "      <td>147</td>\n",
       "      <td>4.5</td>\n",
       "      <td>1425942435</td>\n",
       "    </tr>\n",
       "    <tr>\n",
       "      <th>2</th>\n",
       "      <td>1</td>\n",
       "      <td>858</td>\n",
       "      <td>5.0</td>\n",
       "      <td>1425941523</td>\n",
       "    </tr>\n",
       "    <tr>\n",
       "      <th>3</th>\n",
       "      <td>1</td>\n",
       "      <td>1221</td>\n",
       "      <td>5.0</td>\n",
       "      <td>1425941546</td>\n",
       "    </tr>\n",
       "    <tr>\n",
       "      <th>4</th>\n",
       "      <td>1</td>\n",
       "      <td>1246</td>\n",
       "      <td>5.0</td>\n",
       "      <td>1425941556</td>\n",
       "    </tr>\n",
       "  </tbody>\n",
       "</table>\n",
       "</div>"
      ],
      "text/plain": [
       "   user_id  movie_id  rating   timestamp\n",
       "0        1       110     1.0  1425941529\n",
       "1        1       147     4.5  1425942435\n",
       "2        1       858     5.0  1425941523\n",
       "3        1      1221     5.0  1425941546\n",
       "4        1      1246     5.0  1425941556"
      ]
     },
     "execution_count": 72,
     "metadata": {},
     "output_type": "execute_result"
    }
   ],
   "source": [
    "# Taking sample\n",
    "ratings.head()"
   ]
  },
  {
   "cell_type": "code",
   "execution_count": 73,
   "metadata": {},
   "outputs": [
    {
     "data": {
      "application/vnd.microsoft.datawrangler.viewer.v0+json": {
       "columns": [
        {
         "name": "index",
         "rawType": "int64",
         "type": "integer"
        },
        {
         "name": "movie_id",
         "rawType": "int64",
         "type": "integer"
        },
        {
         "name": "imdb_id",
         "rawType": "int64",
         "type": "integer"
        },
        {
         "name": "tmdb_id",
         "rawType": "int64",
         "type": "integer"
        }
       ],
       "conversionMethod": "pd.DataFrame",
       "ref": "ca5a0b65-12ef-4cdb-a93f-8adb34d242db",
       "rows": [
        [
         "108",
         "110",
         "112573",
         "197"
        ]
       ],
       "shape": {
        "columns": 3,
        "rows": 1
       }
      },
      "text/html": [
       "<div>\n",
       "<style scoped>\n",
       "    .dataframe tbody tr th:only-of-type {\n",
       "        vertical-align: middle;\n",
       "    }\n",
       "\n",
       "    .dataframe tbody tr th {\n",
       "        vertical-align: top;\n",
       "    }\n",
       "\n",
       "    .dataframe thead th {\n",
       "        text-align: right;\n",
       "    }\n",
       "</style>\n",
       "<table border=\"1\" class=\"dataframe\">\n",
       "  <thead>\n",
       "    <tr style=\"text-align: right;\">\n",
       "      <th></th>\n",
       "      <th>movie_id</th>\n",
       "      <th>imdb_id</th>\n",
       "      <th>tmdb_id</th>\n",
       "    </tr>\n",
       "  </thead>\n",
       "  <tbody>\n",
       "    <tr>\n",
       "      <th>108</th>\n",
       "      <td>110</td>\n",
       "      <td>112573</td>\n",
       "      <td>197</td>\n",
       "    </tr>\n",
       "  </tbody>\n",
       "</table>\n",
       "</div>"
      ],
      "text/plain": [
       "     movie_id  imdb_id  tmdb_id\n",
       "108       110   112573      197"
      ]
     },
     "execution_count": 73,
     "metadata": {},
     "output_type": "execute_result"
    }
   ],
   "source": [
    "links[links.movie_id == 110]"
   ]
  },
  {
   "cell_type": "markdown",
   "metadata": {},
   "source": [
    "[IMDB Link validation](https://www.imdb.com/title/tt0112573/)\n",
    "\n",
    "[TMDB Link validation](https://www.themoviedb.org/movie/197)"
   ]
  },
  {
   "cell_type": "code",
   "execution_count": 74,
   "metadata": {},
   "outputs": [
    {
     "data": {
      "application/vnd.microsoft.datawrangler.viewer.v0+json": {
       "columns": [
        {
         "name": "index",
         "rawType": "int64",
         "type": "integer"
        },
        {
         "name": "cast_id",
         "rawType": "int64",
         "type": "integer"
        },
        {
         "name": "character",
         "rawType": "object",
         "type": "string"
        },
        {
         "name": "credit_id",
         "rawType": "object",
         "type": "string"
        },
        {
         "name": "gender",
         "rawType": "int64",
         "type": "integer"
        },
        {
         "name": "id",
         "rawType": "int64",
         "type": "integer"
        },
        {
         "name": "name",
         "rawType": "object",
         "type": "string"
        },
        {
         "name": "order",
         "rawType": "int64",
         "type": "integer"
        },
        {
         "name": "profile_path",
         "rawType": "object",
         "type": "string"
        },
        {
         "name": "tmdb_id",
         "rawType": "int64",
         "type": "integer"
        }
       ],
       "conversionMethod": "pd.DataFrame",
       "ref": "96740c98-5a56-468a-b811-ad1e46e7582a",
       "rows": [
        [
         "1802",
         "5",
         "William Wallace",
         "52fe4225c3a36847f80079d7",
         "2",
         "2461",
         "Mel Gibson",
         "0",
         "/6VGgL0bBvPIJ9vDOyyGf5nK2zL4.jpg",
         "197"
        ],
        [
         "1803",
         "6",
         "Murron MacClannough",
         "52fe4225c3a36847f80079db",
         "0",
         "2462",
         "Catherine McCormack",
         "1",
         "/a8Jszh3rHQ2T4u1VyE4lXrb0uDI.jpg",
         "197"
        ],
        [
         "1804",
         "7",
         "Princess Isabelle",
         "52fe4225c3a36847f80079df",
         "1",
         "1957",
         "Sophie Marceau",
         "2",
         "/xrMvKw3bAuCyXKSc4IQIoOPBQZV.jpg",
         "197"
        ],
        [
         "1805",
         "8",
         "King Edward",
         "52fe4225c3a36847f80079e3",
         "2",
         "2463",
         "Patrick McGoohan",
         "3",
         "/2M6rJ8tvLg3Ztp0s5PrwDbqFMcu.jpg",
         "197"
        ],
        [
         "1806",
         "9",
         "Robert the Bruce",
         "52fe4225c3a36847f80079e7",
         "2",
         "2464",
         "Angus Macfadyen",
         "4",
         "/qTplz89WHXM4dGu0PVSarWEYHcO.jpg",
         "197"
        ]
       ],
       "shape": {
        "columns": 9,
        "rows": 5
       }
      },
      "text/html": [
       "<div>\n",
       "<style scoped>\n",
       "    .dataframe tbody tr th:only-of-type {\n",
       "        vertical-align: middle;\n",
       "    }\n",
       "\n",
       "    .dataframe tbody tr th {\n",
       "        vertical-align: top;\n",
       "    }\n",
       "\n",
       "    .dataframe thead th {\n",
       "        text-align: right;\n",
       "    }\n",
       "</style>\n",
       "<table border=\"1\" class=\"dataframe\">\n",
       "  <thead>\n",
       "    <tr style=\"text-align: right;\">\n",
       "      <th></th>\n",
       "      <th>cast_id</th>\n",
       "      <th>character</th>\n",
       "      <th>credit_id</th>\n",
       "      <th>gender</th>\n",
       "      <th>id</th>\n",
       "      <th>name</th>\n",
       "      <th>order</th>\n",
       "      <th>profile_path</th>\n",
       "      <th>tmdb_id</th>\n",
       "    </tr>\n",
       "  </thead>\n",
       "  <tbody>\n",
       "    <tr>\n",
       "      <th>1802</th>\n",
       "      <td>5</td>\n",
       "      <td>William Wallace</td>\n",
       "      <td>52fe4225c3a36847f80079d7</td>\n",
       "      <td>2</td>\n",
       "      <td>2461</td>\n",
       "      <td>Mel Gibson</td>\n",
       "      <td>0</td>\n",
       "      <td>/6VGgL0bBvPIJ9vDOyyGf5nK2zL4.jpg</td>\n",
       "      <td>197</td>\n",
       "    </tr>\n",
       "    <tr>\n",
       "      <th>1803</th>\n",
       "      <td>6</td>\n",
       "      <td>Murron MacClannough</td>\n",
       "      <td>52fe4225c3a36847f80079db</td>\n",
       "      <td>0</td>\n",
       "      <td>2462</td>\n",
       "      <td>Catherine McCormack</td>\n",
       "      <td>1</td>\n",
       "      <td>/a8Jszh3rHQ2T4u1VyE4lXrb0uDI.jpg</td>\n",
       "      <td>197</td>\n",
       "    </tr>\n",
       "    <tr>\n",
       "      <th>1804</th>\n",
       "      <td>7</td>\n",
       "      <td>Princess Isabelle</td>\n",
       "      <td>52fe4225c3a36847f80079df</td>\n",
       "      <td>1</td>\n",
       "      <td>1957</td>\n",
       "      <td>Sophie Marceau</td>\n",
       "      <td>2</td>\n",
       "      <td>/xrMvKw3bAuCyXKSc4IQIoOPBQZV.jpg</td>\n",
       "      <td>197</td>\n",
       "    </tr>\n",
       "    <tr>\n",
       "      <th>1805</th>\n",
       "      <td>8</td>\n",
       "      <td>King Edward</td>\n",
       "      <td>52fe4225c3a36847f80079e3</td>\n",
       "      <td>2</td>\n",
       "      <td>2463</td>\n",
       "      <td>Patrick McGoohan</td>\n",
       "      <td>3</td>\n",
       "      <td>/2M6rJ8tvLg3Ztp0s5PrwDbqFMcu.jpg</td>\n",
       "      <td>197</td>\n",
       "    </tr>\n",
       "    <tr>\n",
       "      <th>1806</th>\n",
       "      <td>9</td>\n",
       "      <td>Robert the Bruce</td>\n",
       "      <td>52fe4225c3a36847f80079e7</td>\n",
       "      <td>2</td>\n",
       "      <td>2464</td>\n",
       "      <td>Angus Macfadyen</td>\n",
       "      <td>4</td>\n",
       "      <td>/qTplz89WHXM4dGu0PVSarWEYHcO.jpg</td>\n",
       "      <td>197</td>\n",
       "    </tr>\n",
       "  </tbody>\n",
       "</table>\n",
       "</div>"
      ],
      "text/plain": [
       "      cast_id            character                 credit_id  gender    id  \\\n",
       "1802        5      William Wallace  52fe4225c3a36847f80079d7       2  2461   \n",
       "1803        6  Murron MacClannough  52fe4225c3a36847f80079db       0  2462   \n",
       "1804        7    Princess Isabelle  52fe4225c3a36847f80079df       1  1957   \n",
       "1805        8          King Edward  52fe4225c3a36847f80079e3       2  2463   \n",
       "1806        9     Robert the Bruce  52fe4225c3a36847f80079e7       2  2464   \n",
       "\n",
       "                     name  order                      profile_path  tmdb_id  \n",
       "1802           Mel Gibson      0  /6VGgL0bBvPIJ9vDOyyGf5nK2zL4.jpg      197  \n",
       "1803  Catherine McCormack      1  /a8Jszh3rHQ2T4u1VyE4lXrb0uDI.jpg      197  \n",
       "1804       Sophie Marceau      2  /xrMvKw3bAuCyXKSc4IQIoOPBQZV.jpg      197  \n",
       "1805     Patrick McGoohan      3  /2M6rJ8tvLg3Ztp0s5PrwDbqFMcu.jpg      197  \n",
       "1806      Angus Macfadyen      4  /qTplz89WHXM4dGu0PVSarWEYHcO.jpg      197  "
      ]
     },
     "execution_count": 74,
     "metadata": {},
     "output_type": "execute_result"
    }
   ],
   "source": [
    "cast[cast[\"tmdb_id\"] == 197].head()"
   ]
  },
  {
   "cell_type": "code",
   "execution_count": 75,
   "metadata": {},
   "outputs": [
    {
     "data": {
      "application/vnd.microsoft.datawrangler.viewer.v0+json": {
       "columns": [
        {
         "name": "index",
         "rawType": "int64",
         "type": "integer"
        },
        {
         "name": "credit_id",
         "rawType": "object",
         "type": "string"
        },
        {
         "name": "department",
         "rawType": "object",
         "type": "string"
        },
        {
         "name": "gender",
         "rawType": "int64",
         "type": "integer"
        },
        {
         "name": "id",
         "rawType": "int64",
         "type": "integer"
        },
        {
         "name": "job",
         "rawType": "object",
         "type": "string"
        },
        {
         "name": "name",
         "rawType": "object",
         "type": "string"
        },
        {
         "name": "profile_path",
         "rawType": "object",
         "type": "unknown"
        },
        {
         "name": "tmdb_id",
         "rawType": "int64",
         "type": "integer"
        }
       ],
       "conversionMethod": "pd.DataFrame",
       "ref": "447adc59-accc-4e2e-9490-5b8cba5010b3",
       "rows": [
        [
         "2254",
         "52fe4225c3a36847f80079c1",
         "Writing",
         "2",
         "2460",
         "Author",
         "Randall Wallace",
         "/qmHTJng76EXxPbHPQMwwyTvSEwN.jpg",
         "197"
        ],
        [
         "2255",
         "52fe4225c3a36847f80079c7",
         "Directing",
         "2",
         "2461",
         "Director",
         "Mel Gibson",
         "/6VGgL0bBvPIJ9vDOyyGf5nK2zL4.jpg",
         "197"
        ],
        [
         "2256",
         "52fe4225c3a36847f80079cd",
         "Production",
         "2",
         "2461",
         "Producer",
         "Mel Gibson",
         "/6VGgL0bBvPIJ9vDOyyGf5nK2zL4.jpg",
         "197"
        ],
        [
         "2257",
         "52fe4225c3a36847f80079d3",
         "Sound",
         "2",
         "1729",
         "Original Music Composer",
         "James Horner",
         "/oLOtXxXsYk8X4qq0ud4xVypXudi.jpg",
         "197"
        ],
        [
         "2258",
         "52fe4225c3a36847f8007a39",
         "Camera",
         "2",
         "2483",
         "Director of Photography",
         "John Toll",
         null,
         "197"
        ]
       ],
       "shape": {
        "columns": 8,
        "rows": 5
       }
      },
      "text/html": [
       "<div>\n",
       "<style scoped>\n",
       "    .dataframe tbody tr th:only-of-type {\n",
       "        vertical-align: middle;\n",
       "    }\n",
       "\n",
       "    .dataframe tbody tr th {\n",
       "        vertical-align: top;\n",
       "    }\n",
       "\n",
       "    .dataframe thead th {\n",
       "        text-align: right;\n",
       "    }\n",
       "</style>\n",
       "<table border=\"1\" class=\"dataframe\">\n",
       "  <thead>\n",
       "    <tr style=\"text-align: right;\">\n",
       "      <th></th>\n",
       "      <th>credit_id</th>\n",
       "      <th>department</th>\n",
       "      <th>gender</th>\n",
       "      <th>id</th>\n",
       "      <th>job</th>\n",
       "      <th>name</th>\n",
       "      <th>profile_path</th>\n",
       "      <th>tmdb_id</th>\n",
       "    </tr>\n",
       "  </thead>\n",
       "  <tbody>\n",
       "    <tr>\n",
       "      <th>2254</th>\n",
       "      <td>52fe4225c3a36847f80079c1</td>\n",
       "      <td>Writing</td>\n",
       "      <td>2</td>\n",
       "      <td>2460</td>\n",
       "      <td>Author</td>\n",
       "      <td>Randall Wallace</td>\n",
       "      <td>/qmHTJng76EXxPbHPQMwwyTvSEwN.jpg</td>\n",
       "      <td>197</td>\n",
       "    </tr>\n",
       "    <tr>\n",
       "      <th>2255</th>\n",
       "      <td>52fe4225c3a36847f80079c7</td>\n",
       "      <td>Directing</td>\n",
       "      <td>2</td>\n",
       "      <td>2461</td>\n",
       "      <td>Director</td>\n",
       "      <td>Mel Gibson</td>\n",
       "      <td>/6VGgL0bBvPIJ9vDOyyGf5nK2zL4.jpg</td>\n",
       "      <td>197</td>\n",
       "    </tr>\n",
       "    <tr>\n",
       "      <th>2256</th>\n",
       "      <td>52fe4225c3a36847f80079cd</td>\n",
       "      <td>Production</td>\n",
       "      <td>2</td>\n",
       "      <td>2461</td>\n",
       "      <td>Producer</td>\n",
       "      <td>Mel Gibson</td>\n",
       "      <td>/6VGgL0bBvPIJ9vDOyyGf5nK2zL4.jpg</td>\n",
       "      <td>197</td>\n",
       "    </tr>\n",
       "    <tr>\n",
       "      <th>2257</th>\n",
       "      <td>52fe4225c3a36847f80079d3</td>\n",
       "      <td>Sound</td>\n",
       "      <td>2</td>\n",
       "      <td>1729</td>\n",
       "      <td>Original Music Composer</td>\n",
       "      <td>James Horner</td>\n",
       "      <td>/oLOtXxXsYk8X4qq0ud4xVypXudi.jpg</td>\n",
       "      <td>197</td>\n",
       "    </tr>\n",
       "    <tr>\n",
       "      <th>2258</th>\n",
       "      <td>52fe4225c3a36847f8007a39</td>\n",
       "      <td>Camera</td>\n",
       "      <td>2</td>\n",
       "      <td>2483</td>\n",
       "      <td>Director of Photography</td>\n",
       "      <td>John Toll</td>\n",
       "      <td>None</td>\n",
       "      <td>197</td>\n",
       "    </tr>\n",
       "  </tbody>\n",
       "</table>\n",
       "</div>"
      ],
      "text/plain": [
       "                     credit_id  department  gender    id  \\\n",
       "2254  52fe4225c3a36847f80079c1     Writing       2  2460   \n",
       "2255  52fe4225c3a36847f80079c7   Directing       2  2461   \n",
       "2256  52fe4225c3a36847f80079cd  Production       2  2461   \n",
       "2257  52fe4225c3a36847f80079d3       Sound       2  1729   \n",
       "2258  52fe4225c3a36847f8007a39      Camera       2  2483   \n",
       "\n",
       "                          job             name  \\\n",
       "2254                   Author  Randall Wallace   \n",
       "2255                 Director       Mel Gibson   \n",
       "2256                 Producer       Mel Gibson   \n",
       "2257  Original Music Composer     James Horner   \n",
       "2258  Director of Photography        John Toll   \n",
       "\n",
       "                          profile_path  tmdb_id  \n",
       "2254  /qmHTJng76EXxPbHPQMwwyTvSEwN.jpg      197  \n",
       "2255  /6VGgL0bBvPIJ9vDOyyGf5nK2zL4.jpg      197  \n",
       "2256  /6VGgL0bBvPIJ9vDOyyGf5nK2zL4.jpg      197  \n",
       "2257  /oLOtXxXsYk8X4qq0ud4xVypXudi.jpg      197  \n",
       "2258                              None      197  "
      ]
     },
     "execution_count": 75,
     "metadata": {},
     "output_type": "execute_result"
    }
   ],
   "source": [
    "crew[crew[\"tmdb_id\"] == 197].head()"
   ]
  },
  {
   "cell_type": "code",
   "execution_count": 76,
   "metadata": {},
   "outputs": [
    {
     "data": {
      "application/vnd.microsoft.datawrangler.viewer.v0+json": {
       "columns": [
        {
         "name": "index",
         "rawType": "int64",
         "type": "integer"
        },
        {
         "name": "id",
         "rawType": "int64",
         "type": "integer"
        },
        {
         "name": "name",
         "rawType": "object",
         "type": "string"
        },
        {
         "name": "tmdb_id",
         "rawType": "int64",
         "type": "integer"
        }
       ],
       "conversionMethod": "pd.DataFrame",
       "ref": "5ba5e5c8-2cb1-49dc-ab47-4f9538dbf3ce",
       "rows": [
        [
         "791",
         "30",
         "individual",
         "197"
        ],
        [
         "792",
         "388",
         "scotland",
         "197"
        ],
        [
         "793",
         "930",
         "in love with enemy",
         "197"
        ],
        [
         "794",
         "3754",
         "legend",
         "197"
        ],
        [
         "795",
         "4097",
         "independence",
         "197"
        ]
       ],
       "shape": {
        "columns": 3,
        "rows": 5
       }
      },
      "text/html": [
       "<div>\n",
       "<style scoped>\n",
       "    .dataframe tbody tr th:only-of-type {\n",
       "        vertical-align: middle;\n",
       "    }\n",
       "\n",
       "    .dataframe tbody tr th {\n",
       "        vertical-align: top;\n",
       "    }\n",
       "\n",
       "    .dataframe thead th {\n",
       "        text-align: right;\n",
       "    }\n",
       "</style>\n",
       "<table border=\"1\" class=\"dataframe\">\n",
       "  <thead>\n",
       "    <tr style=\"text-align: right;\">\n",
       "      <th></th>\n",
       "      <th>id</th>\n",
       "      <th>name</th>\n",
       "      <th>tmdb_id</th>\n",
       "    </tr>\n",
       "  </thead>\n",
       "  <tbody>\n",
       "    <tr>\n",
       "      <th>791</th>\n",
       "      <td>30</td>\n",
       "      <td>individual</td>\n",
       "      <td>197</td>\n",
       "    </tr>\n",
       "    <tr>\n",
       "      <th>792</th>\n",
       "      <td>388</td>\n",
       "      <td>scotland</td>\n",
       "      <td>197</td>\n",
       "    </tr>\n",
       "    <tr>\n",
       "      <th>793</th>\n",
       "      <td>930</td>\n",
       "      <td>in love with enemy</td>\n",
       "      <td>197</td>\n",
       "    </tr>\n",
       "    <tr>\n",
       "      <th>794</th>\n",
       "      <td>3754</td>\n",
       "      <td>legend</td>\n",
       "      <td>197</td>\n",
       "    </tr>\n",
       "    <tr>\n",
       "      <th>795</th>\n",
       "      <td>4097</td>\n",
       "      <td>independence</td>\n",
       "      <td>197</td>\n",
       "    </tr>\n",
       "  </tbody>\n",
       "</table>\n",
       "</div>"
      ],
      "text/plain": [
       "       id                name  tmdb_id\n",
       "791    30          individual      197\n",
       "792   388            scotland      197\n",
       "793   930  in love with enemy      197\n",
       "794  3754              legend      197\n",
       "795  4097        independence      197"
      ]
     },
     "execution_count": 76,
     "metadata": {},
     "output_type": "execute_result"
    }
   ],
   "source": [
    "keywords[keywords[\"tmdb_id\"] == 197].head()"
   ]
  },
  {
   "cell_type": "code",
   "execution_count": 77,
   "metadata": {},
   "outputs": [
    {
     "data": {
      "application/vnd.microsoft.datawrangler.viewer.v0+json": {
       "columns": [
        {
         "name": "index",
         "rawType": "int64",
         "type": "integer"
        },
        {
         "name": "adult",
         "rawType": "bool",
         "type": "boolean"
        },
        {
         "name": "budget",
         "rawType": "int64",
         "type": "integer"
        },
        {
         "name": "homepage",
         "rawType": "object",
         "type": "unknown"
        },
        {
         "name": "tmdb_id",
         "rawType": "int64",
         "type": "integer"
        },
        {
         "name": "imdb_id",
         "rawType": "object",
         "type": "string"
        },
        {
         "name": "original_language",
         "rawType": "object",
         "type": "string"
        },
        {
         "name": "original_title",
         "rawType": "object",
         "type": "string"
        },
        {
         "name": "overview",
         "rawType": "object",
         "type": "string"
        },
        {
         "name": "popularity",
         "rawType": "float64",
         "type": "float"
        },
        {
         "name": "poster_path",
         "rawType": "object",
         "type": "string"
        },
        {
         "name": "release_date",
         "rawType": "datetime64[ns]",
         "type": "datetime"
        },
        {
         "name": "revenue",
         "rawType": "int64",
         "type": "integer"
        },
        {
         "name": "runtime",
         "rawType": "float64",
         "type": "float"
        },
        {
         "name": "status",
         "rawType": "object",
         "type": "string"
        },
        {
         "name": "tagline",
         "rawType": "object",
         "type": "string"
        },
        {
         "name": "title",
         "rawType": "object",
         "type": "string"
        },
        {
         "name": "video",
         "rawType": "bool",
         "type": "boolean"
        },
        {
         "name": "vote_average",
         "rawType": "float64",
         "type": "float"
        },
        {
         "name": "vote_count",
         "rawType": "int64",
         "type": "integer"
        }
       ],
       "conversionMethod": "pd.DataFrame",
       "ref": "979cb015-f862-43c6-8cdf-d1e3f8189496",
       "rows": [
        [
         "108",
         "True",
         "72000000",
         null,
         "197",
         "tt0112573",
         "en",
         "Braveheart",
         "Enraged at the slaughter of Murron, his new bride and childhood love, Scottish warrior William Wallace slays a platoon of the local English lord's soldiers. This leads the village to revolt and, eventually, the entire country to rise up against English rule.",
         "20.755149",
         "/2qAgGeYdLjelOEqjW9FYvPHpplC.jpg",
         "1995-05-24 00:00:00",
         "210000000",
         "177.0",
         "Released",
         "Every man dies. Not every man truly lives.",
         "Braveheart",
         "False",
         "7.7",
         "3404"
        ]
       ],
       "shape": {
        "columns": 19,
        "rows": 1
       }
      },
      "text/html": [
       "<div>\n",
       "<style scoped>\n",
       "    .dataframe tbody tr th:only-of-type {\n",
       "        vertical-align: middle;\n",
       "    }\n",
       "\n",
       "    .dataframe tbody tr th {\n",
       "        vertical-align: top;\n",
       "    }\n",
       "\n",
       "    .dataframe thead th {\n",
       "        text-align: right;\n",
       "    }\n",
       "</style>\n",
       "<table border=\"1\" class=\"dataframe\">\n",
       "  <thead>\n",
       "    <tr style=\"text-align: right;\">\n",
       "      <th></th>\n",
       "      <th>adult</th>\n",
       "      <th>budget</th>\n",
       "      <th>homepage</th>\n",
       "      <th>tmdb_id</th>\n",
       "      <th>imdb_id</th>\n",
       "      <th>original_language</th>\n",
       "      <th>original_title</th>\n",
       "      <th>overview</th>\n",
       "      <th>popularity</th>\n",
       "      <th>poster_path</th>\n",
       "      <th>release_date</th>\n",
       "      <th>revenue</th>\n",
       "      <th>runtime</th>\n",
       "      <th>status</th>\n",
       "      <th>tagline</th>\n",
       "      <th>title</th>\n",
       "      <th>video</th>\n",
       "      <th>vote_average</th>\n",
       "      <th>vote_count</th>\n",
       "    </tr>\n",
       "  </thead>\n",
       "  <tbody>\n",
       "    <tr>\n",
       "      <th>108</th>\n",
       "      <td>True</td>\n",
       "      <td>72000000</td>\n",
       "      <td>NaN</td>\n",
       "      <td>197</td>\n",
       "      <td>tt0112573</td>\n",
       "      <td>en</td>\n",
       "      <td>Braveheart</td>\n",
       "      <td>Enraged at the slaughter of Murron, his new br...</td>\n",
       "      <td>20.755149</td>\n",
       "      <td>/2qAgGeYdLjelOEqjW9FYvPHpplC.jpg</td>\n",
       "      <td>1995-05-24</td>\n",
       "      <td>210000000</td>\n",
       "      <td>177.0</td>\n",
       "      <td>Released</td>\n",
       "      <td>Every man dies. Not every man truly lives.</td>\n",
       "      <td>Braveheart</td>\n",
       "      <td>False</td>\n",
       "      <td>7.7</td>\n",
       "      <td>3404</td>\n",
       "    </tr>\n",
       "  </tbody>\n",
       "</table>\n",
       "</div>"
      ],
      "text/plain": [
       "     adult    budget homepage  tmdb_id    imdb_id original_language  \\\n",
       "108   True  72000000      NaN      197  tt0112573                en   \n",
       "\n",
       "    original_title                                           overview  \\\n",
       "108     Braveheart  Enraged at the slaughter of Murron, his new br...   \n",
       "\n",
       "     popularity                       poster_path release_date    revenue  \\\n",
       "108   20.755149  /2qAgGeYdLjelOEqjW9FYvPHpplC.jpg   1995-05-24  210000000   \n",
       "\n",
       "     runtime    status                                     tagline  \\\n",
       "108    177.0  Released  Every man dies. Not every man truly lives.   \n",
       "\n",
       "          title  video  vote_average  vote_count  \n",
       "108  Braveheart  False           7.7        3404  "
      ]
     },
     "execution_count": 77,
     "metadata": {},
     "output_type": "execute_result"
    }
   ],
   "source": [
    "movies_metadata[movies_metadata[\"tmdb_id\"] == 197]"
   ]
  },
  {
   "cell_type": "code",
   "execution_count": 78,
   "metadata": {},
   "outputs": [
    {
     "data": {
      "application/vnd.microsoft.datawrangler.viewer.v0+json": {
       "columns": [
        {
         "name": "index",
         "rawType": "int64",
         "type": "integer"
        },
        {
         "name": "index",
         "rawType": "int64",
         "type": "integer"
        },
        {
         "name": "tmdb_id",
         "rawType": "int64",
         "type": "integer"
        },
        {
         "name": "id",
         "rawType": "int64",
         "type": "integer"
        },
        {
         "name": "name",
         "rawType": "object",
         "type": "string"
        },
        {
         "name": "poster_path",
         "rawType": "object",
         "type": "string"
        },
        {
         "name": "backdrop_path",
         "rawType": "object",
         "type": "string"
        }
       ],
       "conversionMethod": "pd.DataFrame",
       "ref": "948528fd-5c9b-4b72-899a-71506106721d",
       "rows": [],
       "shape": {
        "columns": 6,
        "rows": 0
       }
      },
      "text/html": [
       "<div>\n",
       "<style scoped>\n",
       "    .dataframe tbody tr th:only-of-type {\n",
       "        vertical-align: middle;\n",
       "    }\n",
       "\n",
       "    .dataframe tbody tr th {\n",
       "        vertical-align: top;\n",
       "    }\n",
       "\n",
       "    .dataframe thead th {\n",
       "        text-align: right;\n",
       "    }\n",
       "</style>\n",
       "<table border=\"1\" class=\"dataframe\">\n",
       "  <thead>\n",
       "    <tr style=\"text-align: right;\">\n",
       "      <th></th>\n",
       "      <th>index</th>\n",
       "      <th>tmdb_id</th>\n",
       "      <th>id</th>\n",
       "      <th>name</th>\n",
       "      <th>poster_path</th>\n",
       "      <th>backdrop_path</th>\n",
       "    </tr>\n",
       "  </thead>\n",
       "  <tbody>\n",
       "  </tbody>\n",
       "</table>\n",
       "</div>"
      ],
      "text/plain": [
       "Empty DataFrame\n",
       "Columns: [index, tmdb_id, id, name, poster_path, backdrop_path]\n",
       "Index: []"
      ]
     },
     "execution_count": 78,
     "metadata": {},
     "output_type": "execute_result"
    }
   ],
   "source": [
    "belongs_to_collection[belongs_to_collection[\"tmdb_id\"] == 197]"
   ]
  },
  {
   "cell_type": "code",
   "execution_count": 79,
   "metadata": {},
   "outputs": [
    {
     "data": {
      "application/vnd.microsoft.datawrangler.viewer.v0+json": {
       "columns": [
        {
         "name": "index",
         "rawType": "int64",
         "type": "integer"
        },
        {
         "name": "id",
         "rawType": "int64",
         "type": "integer"
        },
        {
         "name": "name",
         "rawType": "object",
         "type": "string"
        },
        {
         "name": "tmdb_id",
         "rawType": "int64",
         "type": "integer"
        }
       ],
       "conversionMethod": "pd.DataFrame",
       "ref": "756904c6-3219-4b67-88e0-2afd4e7b14ed",
       "rows": [
        [
         "261",
         "28",
         "Action",
         "197"
        ],
        [
         "262",
         "18",
         "Drama",
         "197"
        ],
        [
         "263",
         "36",
         "History",
         "197"
        ],
        [
         "264",
         "10752",
         "War",
         "197"
        ]
       ],
       "shape": {
        "columns": 3,
        "rows": 4
       }
      },
      "text/html": [
       "<div>\n",
       "<style scoped>\n",
       "    .dataframe tbody tr th:only-of-type {\n",
       "        vertical-align: middle;\n",
       "    }\n",
       "\n",
       "    .dataframe tbody tr th {\n",
       "        vertical-align: top;\n",
       "    }\n",
       "\n",
       "    .dataframe thead th {\n",
       "        text-align: right;\n",
       "    }\n",
       "</style>\n",
       "<table border=\"1\" class=\"dataframe\">\n",
       "  <thead>\n",
       "    <tr style=\"text-align: right;\">\n",
       "      <th></th>\n",
       "      <th>id</th>\n",
       "      <th>name</th>\n",
       "      <th>tmdb_id</th>\n",
       "    </tr>\n",
       "  </thead>\n",
       "  <tbody>\n",
       "    <tr>\n",
       "      <th>261</th>\n",
       "      <td>28</td>\n",
       "      <td>Action</td>\n",
       "      <td>197</td>\n",
       "    </tr>\n",
       "    <tr>\n",
       "      <th>262</th>\n",
       "      <td>18</td>\n",
       "      <td>Drama</td>\n",
       "      <td>197</td>\n",
       "    </tr>\n",
       "    <tr>\n",
       "      <th>263</th>\n",
       "      <td>36</td>\n",
       "      <td>History</td>\n",
       "      <td>197</td>\n",
       "    </tr>\n",
       "    <tr>\n",
       "      <th>264</th>\n",
       "      <td>10752</td>\n",
       "      <td>War</td>\n",
       "      <td>197</td>\n",
       "    </tr>\n",
       "  </tbody>\n",
       "</table>\n",
       "</div>"
      ],
      "text/plain": [
       "        id     name  tmdb_id\n",
       "261     28   Action      197\n",
       "262     18    Drama      197\n",
       "263     36  History      197\n",
       "264  10752      War      197"
      ]
     },
     "execution_count": 79,
     "metadata": {},
     "output_type": "execute_result"
    }
   ],
   "source": [
    "genres[genres[\"tmdb_id\"] == 197]"
   ]
  },
  {
   "cell_type": "code",
   "execution_count": 80,
   "metadata": {},
   "outputs": [
    {
     "data": {
      "application/vnd.microsoft.datawrangler.viewer.v0+json": {
       "columns": [
        {
         "name": "index",
         "rawType": "int64",
         "type": "integer"
        },
        {
         "name": "name",
         "rawType": "object",
         "type": "string"
        },
        {
         "name": "id",
         "rawType": "int64",
         "type": "integer"
        },
        {
         "name": "tmdb_id",
         "rawType": "int64",
         "type": "integer"
        }
       ],
       "conversionMethod": "pd.DataFrame",
       "ref": "109e4627-0dbc-4f36-ad90-722aaccdcda5",
       "rows": [
        [
         "263",
         "Icon Entertainment International",
         "4564",
         "197"
        ],
        [
         "264",
         "The Ladd Company",
         "7965",
         "197"
        ],
        [
         "265",
         "B.H. Finance C.V.",
         "11353",
         "197"
        ]
       ],
       "shape": {
        "columns": 3,
        "rows": 3
       }
      },
      "text/html": [
       "<div>\n",
       "<style scoped>\n",
       "    .dataframe tbody tr th:only-of-type {\n",
       "        vertical-align: middle;\n",
       "    }\n",
       "\n",
       "    .dataframe tbody tr th {\n",
       "        vertical-align: top;\n",
       "    }\n",
       "\n",
       "    .dataframe thead th {\n",
       "        text-align: right;\n",
       "    }\n",
       "</style>\n",
       "<table border=\"1\" class=\"dataframe\">\n",
       "  <thead>\n",
       "    <tr style=\"text-align: right;\">\n",
       "      <th></th>\n",
       "      <th>name</th>\n",
       "      <th>id</th>\n",
       "      <th>tmdb_id</th>\n",
       "    </tr>\n",
       "  </thead>\n",
       "  <tbody>\n",
       "    <tr>\n",
       "      <th>263</th>\n",
       "      <td>Icon Entertainment International</td>\n",
       "      <td>4564</td>\n",
       "      <td>197</td>\n",
       "    </tr>\n",
       "    <tr>\n",
       "      <th>264</th>\n",
       "      <td>The Ladd Company</td>\n",
       "      <td>7965</td>\n",
       "      <td>197</td>\n",
       "    </tr>\n",
       "    <tr>\n",
       "      <th>265</th>\n",
       "      <td>B.H. Finance C.V.</td>\n",
       "      <td>11353</td>\n",
       "      <td>197</td>\n",
       "    </tr>\n",
       "  </tbody>\n",
       "</table>\n",
       "</div>"
      ],
      "text/plain": [
       "                                 name     id  tmdb_id\n",
       "263  Icon Entertainment International   4564      197\n",
       "264                  The Ladd Company   7965      197\n",
       "265                 B.H. Finance C.V.  11353      197"
      ]
     },
     "execution_count": 80,
     "metadata": {},
     "output_type": "execute_result"
    }
   ],
   "source": [
    "production_companies[production_companies[\"tmdb_id\"] == 197]"
   ]
  },
  {
   "cell_type": "code",
   "execution_count": 81,
   "metadata": {},
   "outputs": [
    {
     "data": {
      "application/vnd.microsoft.datawrangler.viewer.v0+json": {
       "columns": [
        {
         "name": "index",
         "rawType": "int64",
         "type": "integer"
        },
        {
         "name": "iso_3166_1",
         "rawType": "object",
         "type": "string"
        },
        {
         "name": "name",
         "rawType": "object",
         "type": "string"
        },
        {
         "name": "tmdb_id",
         "rawType": "int64",
         "type": "integer"
        }
       ],
       "conversionMethod": "pd.DataFrame",
       "ref": "90f6db4f-3e7b-4e80-b5b8-79f9e543cd38",
       "rows": [
        [
         "135",
         "US",
         "United States of America",
         "197"
        ]
       ],
       "shape": {
        "columns": 3,
        "rows": 1
       }
      },
      "text/html": [
       "<div>\n",
       "<style scoped>\n",
       "    .dataframe tbody tr th:only-of-type {\n",
       "        vertical-align: middle;\n",
       "    }\n",
       "\n",
       "    .dataframe tbody tr th {\n",
       "        vertical-align: top;\n",
       "    }\n",
       "\n",
       "    .dataframe thead th {\n",
       "        text-align: right;\n",
       "    }\n",
       "</style>\n",
       "<table border=\"1\" class=\"dataframe\">\n",
       "  <thead>\n",
       "    <tr style=\"text-align: right;\">\n",
       "      <th></th>\n",
       "      <th>iso_3166_1</th>\n",
       "      <th>name</th>\n",
       "      <th>tmdb_id</th>\n",
       "    </tr>\n",
       "  </thead>\n",
       "  <tbody>\n",
       "    <tr>\n",
       "      <th>135</th>\n",
       "      <td>US</td>\n",
       "      <td>United States of America</td>\n",
       "      <td>197</td>\n",
       "    </tr>\n",
       "  </tbody>\n",
       "</table>\n",
       "</div>"
      ],
      "text/plain": [
       "    iso_3166_1                      name  tmdb_id\n",
       "135         US  United States of America      197"
      ]
     },
     "execution_count": 81,
     "metadata": {},
     "output_type": "execute_result"
    }
   ],
   "source": [
    "production_countries[production_countries[\"tmdb_id\"] == 197]"
   ]
  },
  {
   "cell_type": "code",
   "execution_count": 82,
   "metadata": {},
   "outputs": [
    {
     "data": {
      "application/vnd.microsoft.datawrangler.viewer.v0+json": {
       "columns": [
        {
         "name": "index",
         "rawType": "int64",
         "type": "integer"
        },
        {
         "name": "iso_639_1",
         "rawType": "object",
         "type": "string"
        },
        {
         "name": "name",
         "rawType": "object",
         "type": "string"
        },
        {
         "name": "tmdb_id",
         "rawType": "int64",
         "type": "integer"
        }
       ],
       "conversionMethod": "pd.DataFrame",
       "ref": "e12a90da-126f-4766-bf9f-6d31cfa4bee9",
       "rows": [
        [
         "145",
         "en",
         "English",
         "197"
        ],
        [
         "146",
         "fr",
         "Français",
         "197"
        ],
        [
         "147",
         "la",
         "Latin",
         "197"
        ],
        [
         "148",
         "gd",
         "",
         "197"
        ]
       ],
       "shape": {
        "columns": 3,
        "rows": 4
       }
      },
      "text/html": [
       "<div>\n",
       "<style scoped>\n",
       "    .dataframe tbody tr th:only-of-type {\n",
       "        vertical-align: middle;\n",
       "    }\n",
       "\n",
       "    .dataframe tbody tr th {\n",
       "        vertical-align: top;\n",
       "    }\n",
       "\n",
       "    .dataframe thead th {\n",
       "        text-align: right;\n",
       "    }\n",
       "</style>\n",
       "<table border=\"1\" class=\"dataframe\">\n",
       "  <thead>\n",
       "    <tr style=\"text-align: right;\">\n",
       "      <th></th>\n",
       "      <th>iso_639_1</th>\n",
       "      <th>name</th>\n",
       "      <th>tmdb_id</th>\n",
       "    </tr>\n",
       "  </thead>\n",
       "  <tbody>\n",
       "    <tr>\n",
       "      <th>145</th>\n",
       "      <td>en</td>\n",
       "      <td>English</td>\n",
       "      <td>197</td>\n",
       "    </tr>\n",
       "    <tr>\n",
       "      <th>146</th>\n",
       "      <td>fr</td>\n",
       "      <td>Français</td>\n",
       "      <td>197</td>\n",
       "    </tr>\n",
       "    <tr>\n",
       "      <th>147</th>\n",
       "      <td>la</td>\n",
       "      <td>Latin</td>\n",
       "      <td>197</td>\n",
       "    </tr>\n",
       "    <tr>\n",
       "      <th>148</th>\n",
       "      <td>gd</td>\n",
       "      <td></td>\n",
       "      <td>197</td>\n",
       "    </tr>\n",
       "  </tbody>\n",
       "</table>\n",
       "</div>"
      ],
      "text/plain": [
       "    iso_639_1      name  tmdb_id\n",
       "145        en   English      197\n",
       "146        fr  Français      197\n",
       "147        la     Latin      197\n",
       "148        gd                197"
      ]
     },
     "execution_count": 82,
     "metadata": {},
     "output_type": "execute_result"
    }
   ],
   "source": [
    "spoken_languages[spoken_languages[\"tmdb_id\"] == 197]"
   ]
  },
  {
   "cell_type": "markdown",
   "metadata": {},
   "source": [
    "## Notes\n",
    "- Data on movies_metadata with id 82663, 122662, 249260 can be corrected manually\n",
    "- With this all of the data can be concluded to be integrated and validated based on it's ID"
   ]
  },
  {
   "cell_type": "markdown",
   "metadata": {},
   "source": [
    "## Create simple visualization"
   ]
  },
  {
   "cell_type": "code",
   "execution_count": 83,
   "metadata": {},
   "outputs": [],
   "source": [
    "# Import libraries\n",
    "import matplotlib.pyplot as plt\n",
    "import seaborn as sns"
   ]
  },
  {
   "cell_type": "markdown",
   "metadata": {},
   "source": [
    "What is the total budget for filming industry over the year?"
   ]
  },
  {
   "cell_type": "code",
   "execution_count": 84,
   "metadata": {},
   "outputs": [],
   "source": [
    "yearly_budget = movies_metadata.groupby(movies_metadata.release_date.dt.year).budget.sum().reset_index()\n",
    "\n",
    "# Remove insignificant data\n",
    "yearly_budget = yearly_budget[yearly_budget.budget != 0].sort_values(by=\"budget\", ascending=False)"
   ]
  },
  {
   "cell_type": "code",
   "execution_count": 85,
   "metadata": {},
   "outputs": [
    {
     "data": {
      "image/png": "[encoded data removed]",
      "text/plain": [
       "<Figure size 1200x600 with 1 Axes>"
      ]
     },
     "metadata": {},
     "output_type": "display_data"
    }
   ],
   "source": [
    "def yearly_budget_trend(yearly_budget: pd.DataFrame):\n",
    "    plt.figure(figsize=(12, 6))\n",
    "    sns.lineplot(data=yearly_budget, x=\"release_date\", y=\"budget\", marker=\"o\", color=\"green\")\n",
    "    plt.title(\"Yearly Budget Distribution\")\n",
    "    plt.xlabel(\"Year\")\n",
    "    plt.ylabel(\"Total Budget\")\n",
    "    plt.xticks(rotation=45)\n",
    "    plt.show()\n",
    "\n",
    "yearly_budget_trend(yearly_budget.head(50))"
   ]
  },
  {
   "cell_type": "markdown",
   "metadata": {},
   "source": [
    "Top 10 movies with the most revenue"
   ]
  },
  {
   "cell_type": "code",
   "execution_count": 86,
   "metadata": {},
   "outputs": [],
   "source": [
    "top_10_revenue = movies_metadata.sort_values(by=\"revenue\", ascending=False).head(10)[[\"title\", \"revenue\"]]"
   ]
  },
  {
   "cell_type": "code",
   "execution_count": 87,
   "metadata": {},
   "outputs": [],
   "source": [
    "def top_10_revenue_plot(top_10_revenue):\n",
    "    plt.figure(figsize=(12, 10))\n",
    "\n",
    "    # Create the bar plot\n",
    "    ax = sns.barplot(data=top_10_revenue, y=\"title\", x=\"revenue\", color=\"skyblue\")\n",
    "\n",
    "    plt.title(\"Top 10 Movies by Revenue\", fontsize=14)\n",
    "    plt.xlabel(\"Revenue\", fontsize=12)\n",
    "    plt.ylabel(\"Movie\", fontsize=12)\n",
    "\n",
    "    # Add value labels to the end of each bar\n",
    "    for i in ax.containers[0]:\n",
    "        width = i.get_width()\n",
    "        # Format large numbers\n",
    "        if width >= 1_000_000_000:\n",
    "            label = f\"${width/1_000_000_000:.2f}B\"\n",
    "        elif width >= 1_000_000:\n",
    "            label = f\"${width/1_000_000:.2f}M\"\n",
    "        else:\n",
    "            label = f\"${width:,.0f}\"\n",
    "        \n",
    "        ax.text(width + i.get_width().min() * 0.01, i.get_y() + i.get_height()/2, label, \n",
    "                va=\"center\", ha=\"left\", fontsize=10)\n",
    "\n",
    "    plt.tight_layout()\n",
    "    plt.show()"
   ]
  },
  {
   "cell_type": "code",
   "execution_count": 88,
   "metadata": {},
   "outputs": [
    {
     "data": {
      "image/png": "[encoded data removed]",
      "text/plain": [
       "<Figure size 1200x1000 with 1 Axes>"
      ]
     },
     "metadata": {},
     "output_type": "display_data"
    }
   ],
   "source": [
    "top_10_revenue_plot(top_10_revenue)"
   ]
  }
 ],
 "metadata": {
  "kernelspec": {
   "display_name": "Python 3",
   "language": "python",
   "name": "python3"
  },
  "language_info": {
   "codemirror_mode": {
    "name": "ipython",
    "version": 3
   },
   "file_extension": ".py",
   "mimetype": "text/x-python",
   "name": "python",
   "nbconvert_exporter": "python",
   "pygments_lexer": "ipython3",
   "version": "3.10.4"
  }
 },
 "nbformat": 4,
 "nbformat_minor": 2
}
