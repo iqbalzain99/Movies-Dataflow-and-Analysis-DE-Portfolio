{
 "cells": [
  {
   "cell_type": "markdown",
   "metadata": {},
   "source": [
    "# Movies Dataset Processing & Analysis\n",
    "\n",
    "![Movies Image](plugins/assets/movies_image.png)\n",
    "\n",
    "### Objective:\n",
    "The aim of this project is to fetch historical data about movies metadata from open APIs. The gathered data will be processed, cleaned, then will be stored in the data lake using AWS S3, loaded into Snowflake, and Visualize through dashboard. \n",
    "\n",
    "The [Kaggle Movies Dataset](https://www.kaggle.com/datasets/rounakbanik/the-movies-dataset/data) that used contains metadata for all 45,000 movies listed in the Full MovieLens Dataset. The dataset consists of movies released on or before July 2017. Data points include cast, crew, plot keywords, budget, revenue, posters, release dates, languages, production companies, countries, TMDB vote counts and vote averages.\n",
    "\n",
    "This dataset also has files containing 26 million ratings from 270,000 users for all 45,000 movies. Ratings are on a scale of 1-5 and have been obtained from the official GroupLens website.\n",
    "\n",
    "## Key Features of the Project:\n",
    "\n",
    "### Data Collection:\n",
    "Identify reliable open sources for movies dataset.\n",
    "Use Python to fetch data using libraries such as requests, pandas, or openpyxl.\n",
    "\n",
    "\n",
    "### Data Processing:\n",
    "Clean and preprocess the data to ensure it's in a usable format.\n",
    "Handle missing data, duplicates, and irrelevant columns.\n",
    "Perform any necessary transformations (e.g., from json to dataset).\n",
    "\n",
    "### Data Storage:\n",
    "Store the data in a local database (e.g., SQLite) or a cloud-based data warehouse (e.g., Google BigQuery, AWS Redshift) for later use.\n",
    "\n",
    "\n",
    "### Dashboard Development:\n",
    "Use a Python visualization library (e.g., Plotly, Dash, Matplotlib) to build an interactive dashboard.\n",
    "The dashboard will allow users to interact with data, filter by transport type, and visualize transport routes, schedules, or other metrics.\n",
    "\n",
    "\n",
    "### Experimentation & Analysis:\n",
    "Experiment with data fetching, transformation, and the integration of APIs.\n",
    "Explore possible analyses such as peak-hour transport usage, performance (on-time arrivals), and comparison across routes."
   ]
  },
  {
   "cell_type": "markdown",
   "metadata": {},
   "source": [
    "### Load Libraries:"
   ]
  },
  {
   "cell_type": "code",
   "execution_count": 205,
   "metadata": {},
   "outputs": [],
   "source": [
    "# Import all necessary packages\n",
    "import pandas as pd\n",
    "import numpy as np\n",
    "import plugins.utils as utils\n",
    "import snowflake.connector\n",
    "from plugins.config import snow_creds, aws_creds\n",
    "import json\n",
    "from typing import Optional\n",
    "import ast"
   ]
  },
  {
   "cell_type": "markdown",
   "metadata": {},
   "source": [
    "## Data Collection:"
   ]
  },
  {
   "cell_type": "code",
   "execution_count": 206,
   "metadata": {},
   "outputs": [
    {
     "name": "stdout",
     "output_type": "stream",
     "text": [
      "Folder './plugins/assets/data/the-movies-dataset' has been filled.\n"
     ]
    }
   ],
   "source": [
    "# Download the dataset from Kaggle\n",
    "dataset_name = \"rounakbanik/the-movies-dataset\" \n",
    "download_folder = \"./plugins/assets/data/the-movies-dataset\"\n",
    "utils.download_kaggle_dataset(dataset_name, download_folder)"
   ]
  },
  {
   "cell_type": "code",
   "execution_count": 207,
   "metadata": {},
   "outputs": [],
   "source": [
    "# Load all of the data into DataFrames\n",
    "# The column ID -> identifier will be distinguished by using m_id which stands for movie_id (Most likely to be tmdbId in links df)\n",
    "credits = pd.read_csv(\"./plugins/assets/data/the-movies-dataset/credits.csv\")\n",
    "keywords = pd.read_csv(\"./plugins/assets/data/the-movies-dataset/keywords.csv\")\n",
    "links = pd.read_csv(\"./plugins/assets/data/the-movies-dataset/links.csv\")\n",
    "movies_metadata = pd.read_csv(\"./plugins/assets/data/the-movies-dataset/movies_metadata.csv\")\n",
    "ratings = pd.read_csv(\"./plugins/assets/data/the-movies-dataset/ratings.csv\")"
   ]
  },
  {
   "cell_type": "markdown",
   "metadata": {},
   "source": [
    "## Data Processing:"
   ]
  },
  {
   "cell_type": "code",
   "execution_count": 208,
   "metadata": {},
   "outputs": [],
   "source": [
    "def safe_parse_collection(x: pd.Series):\n",
    "    if pd.isna(x):\n",
    "        return np.nan\n",
    "    \n",
    "    if isinstance(x, dict):\n",
    "        return x  # Already a dictionary, return as is\n",
    "    \n",
    "    try:\n",
    "        return ast.literal_eval(x)\n",
    "    except (ValueError, SyntaxError, TypeError):\n",
    "        return np.nan\n",
    "    \n",
    "# AI Generated Code\n",
    "def normalize_data(\n",
    "    df: pd.DataFrame, \n",
    "    subset_column: str, \n",
    "    id_column: str,\n",
    "    prefix: str\n",
    ") -> pd.DataFrame:\n",
    "    \"\"\"Optimized normalization of nested data using vectorized operations.\"\"\"\n",
    "    # Create working copy with only necessary columns\n",
    "    working_df = df[[id_column, subset_column]].copy()\n",
    "    \n",
    "    # Vectorized parsing of nested data\n",
    "    working_df[subset_column] = working_df[subset_column].apply(safe_parse_collection)\n",
    "    \n",
    "    # Filter valid entries and explode lists\n",
    "    valid_mask = working_df[subset_column].apply(\n",
    "        lambda x: isinstance(x, list) and len(x) > 0 and all(isinstance(i, dict) for i in x)\n",
    "    )\n",
    "    exploded_df = working_df[valid_mask].explode(subset_column)\n",
    "    \n",
    "    if exploded_df.empty:\n",
    "        return pd.DataFrame()\n",
    "    \n",
    "    # Normalize nested dicts in vectorized manner\n",
    "    normalized = pd.json_normalize(exploded_df[subset_column])\n",
    "    \n",
    "    # Add reference ID with type conversion for memory efficiency\n",
    "    id_col_name = f\"{prefix}_{id_column}\"\n",
    "    normalized[id_col_name] = exploded_df[id_column].astype(\n",
    "        exploded_df[id_column].dtype\n",
    "    ).values\n",
    "    \n",
    "    return normalized.reset_index(drop=True)\n",
    "\n",
    "def extract_dict_values(\n",
    "    df: pd.DataFrame, \n",
    "    column_name: str, \n",
    "    new_column_prefix: Optional[str] = None\n",
    ") -> pd.DataFrame:\n",
    "    \"\"\"Optimized dictionary expansion using vectorized operations.\"\"\"\n",
    "    # Parse and normalize in bulk\n",
    "    parsed = df[column_name].apply(safe_parse_collection)\n",
    "    normalized = pd.json_normalize(parsed)\n",
    "    \n",
    "    # Apply prefix if specified\n",
    "    if new_column_prefix:\n",
    "        normalized = normalized.add_prefix(f\"{new_column_prefix}_\")\n",
    "    \n",
    "    # Join results using pandas' efficient merge instead of row-wise operations\n",
    "    return pd.concat([df, normalized], axis=1)"
   ]
  },
  {
   "cell_type": "markdown",
   "metadata": {},
   "source": [
    "#### Credits Dataframe Processing:"
   ]
  },
  {
   "cell_type": "code",
   "execution_count": 209,
   "metadata": {},
   "outputs": [
    {
     "data": {
      "text/html": [
       "<div>\n",
       "<style scoped>\n",
       "    .dataframe tbody tr th:only-of-type {\n",
       "        vertical-align: middle;\n",
       "    }\n",
       "\n",
       "    .dataframe tbody tr th {\n",
       "        vertical-align: top;\n",
       "    }\n",
       "\n",
       "    .dataframe thead th {\n",
       "        text-align: right;\n",
       "    }\n",
       "</style>\n",
       "<table border=\"1\" class=\"dataframe\">\n",
       "  <thead>\n",
       "    <tr style=\"text-align: right;\">\n",
       "      <th></th>\n",
       "      <th>cast</th>\n",
       "      <th>crew</th>\n",
       "      <th>id</th>\n",
       "    </tr>\n",
       "  </thead>\n",
       "  <tbody>\n",
       "    <tr>\n",
       "      <th>20600</th>\n",
       "      <td>[]</td>\n",
       "      <td>[{'credit_id': '52fe48029251416c9107cec9', 'de...</td>\n",
       "      <td>81225</td>\n",
       "    </tr>\n",
       "    <tr>\n",
       "      <th>43997</th>\n",
       "      <td>[{'cast_id': 7, 'character': '', 'credit_id': ...</td>\n",
       "      <td>[{'credit_id': '52fe4c54c3a368484e1b2a87', 'de...</td>\n",
       "      <td>138724</td>\n",
       "    </tr>\n",
       "    <tr>\n",
       "      <th>6001</th>\n",
       "      <td>[{'cast_id': 5, 'character': 'Phillip Dimitriu...</td>\n",
       "      <td>[{'credit_id': '52fe475cc3a36847f8131625', 'de...</td>\n",
       "      <td>48249</td>\n",
       "    </tr>\n",
       "    <tr>\n",
       "      <th>23197</th>\n",
       "      <td>[{'cast_id': 10, 'character': 'Father James La...</td>\n",
       "      <td>[{'credit_id': '540a85e4c3a368799c000a81', 'de...</td>\n",
       "      <td>157832</td>\n",
       "    </tr>\n",
       "    <tr>\n",
       "      <th>17110</th>\n",
       "      <td>[]</td>\n",
       "      <td>[{'credit_id': '52fe4914c3a36847f81882ef', 'de...</td>\n",
       "      <td>56822</td>\n",
       "    </tr>\n",
       "  </tbody>\n",
       "</table>\n",
       "</div>"
      ],
      "text/plain": [
       "                                                    cast  \\\n",
       "20600                                                 []   \n",
       "43997  [{'cast_id': 7, 'character': '', 'credit_id': ...   \n",
       "6001   [{'cast_id': 5, 'character': 'Phillip Dimitriu...   \n",
       "23197  [{'cast_id': 10, 'character': 'Father James La...   \n",
       "17110                                                 []   \n",
       "\n",
       "                                                    crew      id  \n",
       "20600  [{'credit_id': '52fe48029251416c9107cec9', 'de...   81225  \n",
       "43997  [{'credit_id': '52fe4c54c3a368484e1b2a87', 'de...  138724  \n",
       "6001   [{'credit_id': '52fe475cc3a36847f8131625', 'de...   48249  \n",
       "23197  [{'credit_id': '540a85e4c3a368799c000a81', 'de...  157832  \n",
       "17110  [{'credit_id': '52fe4914c3a36847f81882ef', 'de...   56822  "
      ]
     },
     "execution_count": 209,
     "metadata": {},
     "output_type": "execute_result"
    }
   ],
   "source": [
    "# Take a peek of current credits data\n",
    "credits.sample(5)"
   ]
  },
  {
   "cell_type": "code",
   "execution_count": 210,
   "metadata": {},
   "outputs": [],
   "source": [
    "c_cast = normalize_data(credits, 'cast', 'id', 'm')\n",
    "c_crew = normalize_data(credits, 'crew', 'id', 'm')"
   ]
  },
  {
   "cell_type": "markdown",
   "metadata": {},
   "source": [
    "Process c_cast dataframe"
   ]
  },
  {
   "cell_type": "code",
   "execution_count": 211,
   "metadata": {},
   "outputs": [
    {
     "data": {
      "text/html": [
       "<div>\n",
       "<style scoped>\n",
       "    .dataframe tbody tr th:only-of-type {\n",
       "        vertical-align: middle;\n",
       "    }\n",
       "\n",
       "    .dataframe tbody tr th {\n",
       "        vertical-align: top;\n",
       "    }\n",
       "\n",
       "    .dataframe thead th {\n",
       "        text-align: right;\n",
       "    }\n",
       "</style>\n",
       "<table border=\"1\" class=\"dataframe\">\n",
       "  <thead>\n",
       "    <tr style=\"text-align: right;\">\n",
       "      <th></th>\n",
       "      <th>cast_id</th>\n",
       "      <th>character</th>\n",
       "      <th>credit_id</th>\n",
       "      <th>gender</th>\n",
       "      <th>id</th>\n",
       "      <th>name</th>\n",
       "      <th>order</th>\n",
       "      <th>profile_path</th>\n",
       "      <th>m_id</th>\n",
       "    </tr>\n",
       "  </thead>\n",
       "  <tbody>\n",
       "    <tr>\n",
       "      <th>293717</th>\n",
       "      <td>2</td>\n",
       "      <td>Gabriel Lecouvreur, 'le Poulpe'</td>\n",
       "      <td>52fe466ec3a368484e090625</td>\n",
       "      <td>2</td>\n",
       "      <td>28463</td>\n",
       "      <td>Jean-Pierre Darroussin</td>\n",
       "      <td>0</td>\n",
       "      <td>/951QpVbYDqI8s0TSQrPyhFZOlHY.jpg</td>\n",
       "      <td>62012</td>\n",
       "    </tr>\n",
       "    <tr>\n",
       "      <th>274628</th>\n",
       "      <td>26</td>\n",
       "      <td>Mrs. Pitt</td>\n",
       "      <td>568e1e58c3a36858ec001f37</td>\n",
       "      <td>0</td>\n",
       "      <td>1559281</td>\n",
       "      <td>Alicia Ammon</td>\n",
       "      <td>10</td>\n",
       "      <td>None</td>\n",
       "      <td>66488</td>\n",
       "    </tr>\n",
       "    <tr>\n",
       "      <th>178429</th>\n",
       "      <td>2</td>\n",
       "      <td>Clara Chevalier</td>\n",
       "      <td>52fe4607c3a36847f80e7f91</td>\n",
       "      <td>1</td>\n",
       "      <td>20882</td>\n",
       "      <td>Lea Massari</td>\n",
       "      <td>0</td>\n",
       "      <td>/gp9dPDL6w9VemMzdVi3al9RxnIg.jpg</td>\n",
       "      <td>42501</td>\n",
       "    </tr>\n",
       "    <tr>\n",
       "      <th>242124</th>\n",
       "      <td>56</td>\n",
       "      <td>Denver House Bartender</td>\n",
       "      <td>5741ddc1c3a3685ee600544e</td>\n",
       "      <td>2</td>\n",
       "      <td>121066</td>\n",
       "      <td>Lee Phelps</td>\n",
       "      <td>46</td>\n",
       "      <td>/yBLIKr2IpxLzSiqBt6N9PqGQ7EZ.jpg</td>\n",
       "      <td>43821</td>\n",
       "    </tr>\n",
       "    <tr>\n",
       "      <th>265815</th>\n",
       "      <td>12</td>\n",
       "      <td>Macarena</td>\n",
       "      <td>52fe46d2c3a36847f81140f5</td>\n",
       "      <td>0</td>\n",
       "      <td>226727</td>\n",
       "      <td>Ana De los Riscos</td>\n",
       "      <td>9</td>\n",
       "      <td>None</td>\n",
       "      <td>45765</td>\n",
       "    </tr>\n",
       "  </tbody>\n",
       "</table>\n",
       "</div>"
      ],
      "text/plain": [
       "        cast_id                        character                 credit_id  \\\n",
       "293717        2  Gabriel Lecouvreur, 'le Poulpe'  52fe466ec3a368484e090625   \n",
       "274628       26                        Mrs. Pitt  568e1e58c3a36858ec001f37   \n",
       "178429        2                  Clara Chevalier  52fe4607c3a36847f80e7f91   \n",
       "242124       56           Denver House Bartender  5741ddc1c3a3685ee600544e   \n",
       "265815       12                         Macarena  52fe46d2c3a36847f81140f5   \n",
       "\n",
       "        gender       id                    name  order  \\\n",
       "293717       2    28463  Jean-Pierre Darroussin      0   \n",
       "274628       0  1559281            Alicia Ammon     10   \n",
       "178429       1    20882             Lea Massari      0   \n",
       "242124       2   121066              Lee Phelps     46   \n",
       "265815       0   226727       Ana De los Riscos      9   \n",
       "\n",
       "                            profile_path   m_id  \n",
       "293717  /951QpVbYDqI8s0TSQrPyhFZOlHY.jpg  62012  \n",
       "274628                              None  66488  \n",
       "178429  /gp9dPDL6w9VemMzdVi3al9RxnIg.jpg  42501  \n",
       "242124  /yBLIKr2IpxLzSiqBt6N9PqGQ7EZ.jpg  43821  \n",
       "265815                              None  45765  "
      ]
     },
     "execution_count": 211,
     "metadata": {},
     "output_type": "execute_result"
    }
   ],
   "source": [
    "c_cast.sample(5)"
   ]
  },
  {
   "cell_type": "code",
   "execution_count": 212,
   "metadata": {},
   "outputs": [
    {
     "data": {
      "text/plain": [
       "gender\n",
       "2    226713\n",
       "0    223964\n",
       "1    111797\n",
       "Name: count, dtype: int64"
      ]
     },
     "execution_count": 212,
     "metadata": {},
     "output_type": "execute_result"
    }
   ],
   "source": [
    "c_cast.gender.value_counts()"
   ]
  },
  {
   "cell_type": "code",
   "execution_count": 213,
   "metadata": {},
   "outputs": [
    {
     "name": "stdout",
     "output_type": "stream",
     "text": [
      "<class 'pandas.core.frame.DataFrame'>\n",
      "RangeIndex: 562474 entries, 0 to 562473\n",
      "Data columns (total 9 columns):\n",
      " #   Column        Non-Null Count   Dtype \n",
      "---  ------        --------------   ----- \n",
      " 0   cast_id       562474 non-null  int64 \n",
      " 1   character     562474 non-null  object\n",
      " 2   credit_id     562474 non-null  object\n",
      " 3   gender        562474 non-null  int64 \n",
      " 4   id            562474 non-null  int64 \n",
      " 5   name          562474 non-null  object\n",
      " 6   order         562474 non-null  int64 \n",
      " 7   profile_path  388618 non-null  object\n",
      " 8   m_id          562474 non-null  int64 \n",
      "dtypes: int64(5), object(4)\n",
      "memory usage: 38.6+ MB\n"
     ]
    }
   ],
   "source": [
    "# c_cast preview\n",
    "c_cast.info()"
   ]
  },
  {
   "cell_type": "markdown",
   "metadata": {},
   "source": [
    "Data cleaning process for c_cast"
   ]
  },
  {
   "cell_type": "code",
   "execution_count": 214,
   "metadata": {},
   "outputs": [
    {
     "data": {
      "text/html": [
       "<div>\n",
       "<style scoped>\n",
       "    .dataframe tbody tr th:only-of-type {\n",
       "        vertical-align: middle;\n",
       "    }\n",
       "\n",
       "    .dataframe tbody tr th {\n",
       "        vertical-align: top;\n",
       "    }\n",
       "\n",
       "    .dataframe thead th {\n",
       "        text-align: right;\n",
       "    }\n",
       "</style>\n",
       "<table border=\"1\" class=\"dataframe\">\n",
       "  <thead>\n",
       "    <tr style=\"text-align: right;\">\n",
       "      <th></th>\n",
       "      <th>cast_id</th>\n",
       "      <th>character</th>\n",
       "      <th>credit_id</th>\n",
       "      <th>gender</th>\n",
       "      <th>id</th>\n",
       "      <th>name</th>\n",
       "      <th>order</th>\n",
       "      <th>profile_path</th>\n",
       "      <th>m_id</th>\n",
       "    </tr>\n",
       "  </thead>\n",
       "  <tbody>\n",
       "    <tr>\n",
       "      <th>71117</th>\n",
       "      <td>1</td>\n",
       "      <td>Ash Ketchum</td>\n",
       "      <td>52fe43de9251416c750213f1</td>\n",
       "      <td>1</td>\n",
       "      <td>67830</td>\n",
       "      <td>Veronica Taylor</td>\n",
       "      <td>0</td>\n",
       "      <td>/28EFUb3bPWJaWYzZIxurGCrDpHk.jpg</td>\n",
       "      <td>10991</td>\n",
       "    </tr>\n",
       "    <tr>\n",
       "      <th>557033</th>\n",
       "      <td>1</td>\n",
       "      <td>Ash Ketchum</td>\n",
       "      <td>52fe43de9251416c750213f1</td>\n",
       "      <td>1</td>\n",
       "      <td>67830</td>\n",
       "      <td>Veronica Taylor</td>\n",
       "      <td>0</td>\n",
       "      <td>/28EFUb3bPWJaWYzZIxurGCrDpHk.jpg</td>\n",
       "      <td>10991</td>\n",
       "    </tr>\n",
       "    <tr>\n",
       "      <th>16653</th>\n",
       "      <td>1</td>\n",
       "      <td>Catherine Barkley</td>\n",
       "      <td>52fe444ac3a368484e01aad5</td>\n",
       "      <td>0</td>\n",
       "      <td>47439</td>\n",
       "      <td>Helen Hayes</td>\n",
       "      <td>0</td>\n",
       "      <td>/6QJDTvIT0v5E9pR1rgPtq59Ej8.jpg</td>\n",
       "      <td>22649</td>\n",
       "    </tr>\n",
       "    <tr>\n",
       "      <th>235036</th>\n",
       "      <td>1</td>\n",
       "      <td>Catherine Barkley</td>\n",
       "      <td>52fe444ac3a368484e01aad5</td>\n",
       "      <td>0</td>\n",
       "      <td>47439</td>\n",
       "      <td>Helen Hayes</td>\n",
       "      <td>0</td>\n",
       "      <td>/6QJDTvIT0v5E9pR1rgPtq59Ej8.jpg</td>\n",
       "      <td>22649</td>\n",
       "    </tr>\n",
       "    <tr>\n",
       "      <th>132474</th>\n",
       "      <td>1</td>\n",
       "      <td>Lafcadia - Warrior</td>\n",
       "      <td>52fe4465c3a368484e020913</td>\n",
       "      <td>2</td>\n",
       "      <td>76793</td>\n",
       "      <td>Irrfan Khan</td>\n",
       "      <td>0</td>\n",
       "      <td>/9O71WSILj1af9smwuN44nGd198Q.jpg</td>\n",
       "      <td>23305</td>\n",
       "    </tr>\n",
       "    <tr>\n",
       "      <th>...</th>\n",
       "      <td>...</td>\n",
       "      <td>...</td>\n",
       "      <td>...</td>\n",
       "      <td>...</td>\n",
       "      <td>...</td>\n",
       "      <td>...</td>\n",
       "      <td>...</td>\n",
       "      <td>...</td>\n",
       "      <td>...</td>\n",
       "    </tr>\n",
       "    <tr>\n",
       "      <th>512939</th>\n",
       "      <td>1011</td>\n",
       "      <td>Betty's Hawaiian Maid</td>\n",
       "      <td>52fe49fb9251416c750d9d99</td>\n",
       "      <td>0</td>\n",
       "      <td>1109654</td>\n",
       "      <td>Lola Gonzales</td>\n",
       "      <td>10</td>\n",
       "      <td>None</td>\n",
       "      <td>97995</td>\n",
       "    </tr>\n",
       "    <tr>\n",
       "      <th>219993</th>\n",
       "      <td>1012</td>\n",
       "      <td>Max's Chef - in Mirror Gag</td>\n",
       "      <td>52fe49fc9251416c750d9d9d</td>\n",
       "      <td>0</td>\n",
       "      <td>1109655</td>\n",
       "      <td>Harry Mann</td>\n",
       "      <td>11</td>\n",
       "      <td>None</td>\n",
       "      <td>97995</td>\n",
       "    </tr>\n",
       "    <tr>\n",
       "      <th>512940</th>\n",
       "      <td>1012</td>\n",
       "      <td>Max's Chef - in Mirror Gag</td>\n",
       "      <td>52fe49fc9251416c750d9d9d</td>\n",
       "      <td>0</td>\n",
       "      <td>1109655</td>\n",
       "      <td>Harry Mann</td>\n",
       "      <td>11</td>\n",
       "      <td>None</td>\n",
       "      <td>97995</td>\n",
       "    </tr>\n",
       "    <tr>\n",
       "      <th>219994</th>\n",
       "      <td>1013</td>\n",
       "      <td>The Chimpanzee</td>\n",
       "      <td>52fe49fc9251416c750d9da1</td>\n",
       "      <td>0</td>\n",
       "      <td>1109656</td>\n",
       "      <td>Joe Martin</td>\n",
       "      <td>12</td>\n",
       "      <td>None</td>\n",
       "      <td>97995</td>\n",
       "    </tr>\n",
       "    <tr>\n",
       "      <th>512941</th>\n",
       "      <td>1013</td>\n",
       "      <td>The Chimpanzee</td>\n",
       "      <td>52fe49fc9251416c750d9da1</td>\n",
       "      <td>0</td>\n",
       "      <td>1109656</td>\n",
       "      <td>Joe Martin</td>\n",
       "      <td>12</td>\n",
       "      <td>None</td>\n",
       "      <td>97995</td>\n",
       "    </tr>\n",
       "  </tbody>\n",
       "</table>\n",
       "<p>850 rows × 9 columns</p>\n",
       "</div>"
      ],
      "text/plain": [
       "        cast_id                   character                 credit_id  gender  \\\n",
       "71117         1                 Ash Ketchum  52fe43de9251416c750213f1       1   \n",
       "557033        1                 Ash Ketchum  52fe43de9251416c750213f1       1   \n",
       "16653         1           Catherine Barkley  52fe444ac3a368484e01aad5       0   \n",
       "235036        1           Catherine Barkley  52fe444ac3a368484e01aad5       0   \n",
       "132474        1          Lafcadia - Warrior  52fe4465c3a368484e020913       2   \n",
       "...         ...                         ...                       ...     ...   \n",
       "512939     1011       Betty's Hawaiian Maid  52fe49fb9251416c750d9d99       0   \n",
       "219993     1012  Max's Chef - in Mirror Gag  52fe49fc9251416c750d9d9d       0   \n",
       "512940     1012  Max's Chef - in Mirror Gag  52fe49fc9251416c750d9d9d       0   \n",
       "219994     1013              The Chimpanzee  52fe49fc9251416c750d9da1       0   \n",
       "512941     1013              The Chimpanzee  52fe49fc9251416c750d9da1       0   \n",
       "\n",
       "             id             name  order                      profile_path  \\\n",
       "71117     67830  Veronica Taylor      0  /28EFUb3bPWJaWYzZIxurGCrDpHk.jpg   \n",
       "557033    67830  Veronica Taylor      0  /28EFUb3bPWJaWYzZIxurGCrDpHk.jpg   \n",
       "16653     47439      Helen Hayes      0   /6QJDTvIT0v5E9pR1rgPtq59Ej8.jpg   \n",
       "235036    47439      Helen Hayes      0   /6QJDTvIT0v5E9pR1rgPtq59Ej8.jpg   \n",
       "132474    76793      Irrfan Khan      0  /9O71WSILj1af9smwuN44nGd198Q.jpg   \n",
       "...         ...              ...    ...                               ...   \n",
       "512939  1109654    Lola Gonzales     10                              None   \n",
       "219993  1109655       Harry Mann     11                              None   \n",
       "512940  1109655       Harry Mann     11                              None   \n",
       "219994  1109656       Joe Martin     12                              None   \n",
       "512941  1109656       Joe Martin     12                              None   \n",
       "\n",
       "         m_id  \n",
       "71117   10991  \n",
       "557033  10991  \n",
       "16653   22649  \n",
       "235036  22649  \n",
       "132474  23305  \n",
       "...       ...  \n",
       "512939  97995  \n",
       "219993  97995  \n",
       "512940  97995  \n",
       "219994  97995  \n",
       "512941  97995  \n",
       "\n",
       "[850 rows x 9 columns]"
      ]
     },
     "execution_count": 214,
     "metadata": {},
     "output_type": "execute_result"
    }
   ],
   "source": [
    "# Check for duplicated columns\n",
    "c_cast[c_cast.duplicated(subset=['cast_id', 'credit_id', 'm_id', 'name'], keep=False)].sort_values(by=['cast_id', 'credit_id'])"
   ]
  },
  {
   "cell_type": "code",
   "execution_count": 215,
   "metadata": {},
   "outputs": [],
   "source": [
    "c_cast.drop_duplicates(subset=['cast_id', 'credit_id'], keep='first', inplace=True)"
   ]
  },
  {
   "cell_type": "markdown",
   "metadata": {},
   "source": [
    "Validate cleaning"
   ]
  },
  {
   "cell_type": "code",
   "execution_count": 216,
   "metadata": {},
   "outputs": [
    {
     "data": {
      "text/plain": [
       "cast_id         0\n",
       "character       0\n",
       "credit_id       0\n",
       "gender          0\n",
       "id              0\n",
       "name            0\n",
       "order           0\n",
       "profile_path    0\n",
       "m_id            0\n",
       "dtype: int64"
      ]
     },
     "execution_count": 216,
     "metadata": {},
     "output_type": "execute_result"
    }
   ],
   "source": [
    "# Validate cleaning process\n",
    "c_cast[c_cast.duplicated(subset=['cast_id', 'credit_id', 'm_id', 'name'], keep=False)].sort_values(by=['cast_id', 'credit_id']).count()"
   ]
  },
  {
   "cell_type": "code",
   "execution_count": 217,
   "metadata": {},
   "outputs": [
    {
     "data": {
      "text/plain": [
       "profile_path\n",
       "jpg    388366\n",
       "Name: count, dtype: int64"
      ]
     },
     "execution_count": 217,
     "metadata": {},
     "output_type": "execute_result"
    }
   ],
   "source": [
    "c_cast.profile_path.str.split('.').str[-1].value_counts()"
   ]
  },
  {
   "cell_type": "code",
   "execution_count": 218,
   "metadata": {},
   "outputs": [
    {
     "data": {
      "text/plain": [
       "cast_id              0\n",
       "character            0\n",
       "credit_id            0\n",
       "gender               0\n",
       "id                   0\n",
       "name                 0\n",
       "order                0\n",
       "profile_path    173678\n",
       "m_id                 0\n",
       "dtype: int64"
      ]
     },
     "execution_count": 218,
     "metadata": {},
     "output_type": "execute_result"
    }
   ],
   "source": [
    "c_cast.isnull().sum()"
   ]
  },
  {
   "cell_type": "markdown",
   "metadata": {},
   "source": [
    "Process c_crew dataset"
   ]
  },
  {
   "cell_type": "code",
   "execution_count": 219,
   "metadata": {},
   "outputs": [
    {
     "data": {
      "text/html": [
       "<div>\n",
       "<style scoped>\n",
       "    .dataframe tbody tr th:only-of-type {\n",
       "        vertical-align: middle;\n",
       "    }\n",
       "\n",
       "    .dataframe tbody tr th {\n",
       "        vertical-align: top;\n",
       "    }\n",
       "\n",
       "    .dataframe thead th {\n",
       "        text-align: right;\n",
       "    }\n",
       "</style>\n",
       "<table border=\"1\" class=\"dataframe\">\n",
       "  <thead>\n",
       "    <tr style=\"text-align: right;\">\n",
       "      <th></th>\n",
       "      <th>credit_id</th>\n",
       "      <th>department</th>\n",
       "      <th>gender</th>\n",
       "      <th>id</th>\n",
       "      <th>job</th>\n",
       "      <th>name</th>\n",
       "      <th>profile_path</th>\n",
       "      <th>m_id</th>\n",
       "    </tr>\n",
       "  </thead>\n",
       "  <tbody>\n",
       "    <tr>\n",
       "      <th>310246</th>\n",
       "      <td>55494700c3a36841af0006ff</td>\n",
       "      <td>Camera</td>\n",
       "      <td>0</td>\n",
       "      <td>1463729</td>\n",
       "      <td>Grip</td>\n",
       "      <td>Ted Gregg</td>\n",
       "      <td>None</td>\n",
       "      <td>135397</td>\n",
       "    </tr>\n",
       "    <tr>\n",
       "      <th>186856</th>\n",
       "      <td>555b0d4892514158780001a1</td>\n",
       "      <td>Art</td>\n",
       "      <td>0</td>\n",
       "      <td>1468925</td>\n",
       "      <td>Art Direction</td>\n",
       "      <td>Tracey Baryski</td>\n",
       "      <td>None</td>\n",
       "      <td>14643</td>\n",
       "    </tr>\n",
       "    <tr>\n",
       "      <th>265956</th>\n",
       "      <td>566a4cc3c3a3682e98002e5b</td>\n",
       "      <td>Art</td>\n",
       "      <td>0</td>\n",
       "      <td>1542581</td>\n",
       "      <td>Set Decoration</td>\n",
       "      <td>Mototsugu Komaki</td>\n",
       "      <td>None</td>\n",
       "      <td>143946</td>\n",
       "    </tr>\n",
       "    <tr>\n",
       "      <th>422781</th>\n",
       "      <td>52fe46a69251416c9105b38f</td>\n",
       "      <td>Directing</td>\n",
       "      <td>2</td>\n",
       "      <td>69038</td>\n",
       "      <td>Director</td>\n",
       "      <td>Carlo Vanzina</td>\n",
       "      <td>/wd51z5tECoJMS0fSn0GEojiHObp.jpg</td>\n",
       "      <td>38289</td>\n",
       "    </tr>\n",
       "    <tr>\n",
       "      <th>154681</th>\n",
       "      <td>555db0379251413b290005e2</td>\n",
       "      <td>Editing</td>\n",
       "      <td>2</td>\n",
       "      <td>310</td>\n",
       "      <td>Editor</td>\n",
       "      <td>Ronald Sanders</td>\n",
       "      <td>None</td>\n",
       "      <td>24625</td>\n",
       "    </tr>\n",
       "  </tbody>\n",
       "</table>\n",
       "</div>"
      ],
      "text/plain": [
       "                       credit_id department  gender       id             job  \\\n",
       "310246  55494700c3a36841af0006ff     Camera       0  1463729            Grip   \n",
       "186856  555b0d4892514158780001a1        Art       0  1468925   Art Direction   \n",
       "265956  566a4cc3c3a3682e98002e5b        Art       0  1542581  Set Decoration   \n",
       "422781  52fe46a69251416c9105b38f  Directing       2    69038        Director   \n",
       "154681  555db0379251413b290005e2    Editing       2      310          Editor   \n",
       "\n",
       "                    name                      profile_path    m_id  \n",
       "310246         Ted Gregg                              None  135397  \n",
       "186856    Tracey Baryski                              None   14643  \n",
       "265956  Mototsugu Komaki                              None  143946  \n",
       "422781     Carlo Vanzina  /wd51z5tECoJMS0fSn0GEojiHObp.jpg   38289  \n",
       "154681    Ronald Sanders                              None   24625  "
      ]
     },
     "execution_count": 219,
     "metadata": {},
     "output_type": "execute_result"
    }
   ],
   "source": [
    "c_crew.sample(5)"
   ]
  },
  {
   "cell_type": "code",
   "execution_count": 220,
   "metadata": {},
   "outputs": [
    {
     "name": "stdout",
     "output_type": "stream",
     "text": [
      "<class 'pandas.core.frame.DataFrame'>\n",
      "RangeIndex: 464314 entries, 0 to 464313\n",
      "Data columns (total 8 columns):\n",
      " #   Column        Non-Null Count   Dtype \n",
      "---  ------        --------------   ----- \n",
      " 0   credit_id     464314 non-null  object\n",
      " 1   department    464314 non-null  object\n",
      " 2   gender        464314 non-null  int64 \n",
      " 3   id            464314 non-null  int64 \n",
      " 4   job           464314 non-null  object\n",
      " 5   name          464314 non-null  object\n",
      " 6   profile_path  95098 non-null   object\n",
      " 7   m_id          464314 non-null  int64 \n",
      "dtypes: int64(3), object(5)\n",
      "memory usage: 28.3+ MB\n"
     ]
    }
   ],
   "source": [
    "# c_crew preview\n",
    "c_crew.info()"
   ]
  },
  {
   "cell_type": "markdown",
   "metadata": {},
   "source": [
    "Data cleaning process for c_crew"
   ]
  },
  {
   "cell_type": "code",
   "execution_count": 221,
   "metadata": {},
   "outputs": [
    {
     "data": {
      "text/html": [
       "<div>\n",
       "<style scoped>\n",
       "    .dataframe tbody tr th:only-of-type {\n",
       "        vertical-align: middle;\n",
       "    }\n",
       "\n",
       "    .dataframe tbody tr th {\n",
       "        vertical-align: top;\n",
       "    }\n",
       "\n",
       "    .dataframe thead th {\n",
       "        text-align: right;\n",
       "    }\n",
       "</style>\n",
       "<table border=\"1\" class=\"dataframe\">\n",
       "  <thead>\n",
       "    <tr style=\"text-align: right;\">\n",
       "      <th></th>\n",
       "      <th>credit_id</th>\n",
       "      <th>department</th>\n",
       "      <th>gender</th>\n",
       "      <th>id</th>\n",
       "      <th>job</th>\n",
       "      <th>name</th>\n",
       "      <th>profile_path</th>\n",
       "      <th>m_id</th>\n",
       "    </tr>\n",
       "  </thead>\n",
       "  <tbody>\n",
       "    <tr>\n",
       "      <th>259782</th>\n",
       "      <td>55c0d60e9251410f19001cec</td>\n",
       "      <td>Production</td>\n",
       "      <td>1</td>\n",
       "      <td>32</td>\n",
       "      <td>Producer</td>\n",
       "      <td>Robin Wright</td>\n",
       "      <td>/tXfQTgcIEPP7gtVdJ44ZxZPhacn.jpg</td>\n",
       "      <td>152795</td>\n",
       "    </tr>\n",
       "    <tr>\n",
       "      <th>278138</th>\n",
       "      <td>55c0d60e9251410f19001cec</td>\n",
       "      <td>Production</td>\n",
       "      <td>1</td>\n",
       "      <td>32</td>\n",
       "      <td>Producer</td>\n",
       "      <td>Robin Wright</td>\n",
       "      <td>/tXfQTgcIEPP7gtVdJ44ZxZPhacn.jpg</td>\n",
       "      <td>152795</td>\n",
       "    </tr>\n",
       "    <tr>\n",
       "      <th>90620</th>\n",
       "      <td>52fe43e2c3a36847f80760b5</td>\n",
       "      <td>Writing</td>\n",
       "      <td>2</td>\n",
       "      <td>202</td>\n",
       "      <td>Screenplay</td>\n",
       "      <td>Charlie Kaufman</td>\n",
       "      <td>/v5Zc2aplTL0y38Oe91zGnVBUtYi.jpg</td>\n",
       "      <td>4912</td>\n",
       "    </tr>\n",
       "    <tr>\n",
       "      <th>379605</th>\n",
       "      <td>52fe43e2c3a36847f80760b5</td>\n",
       "      <td>Writing</td>\n",
       "      <td>2</td>\n",
       "      <td>202</td>\n",
       "      <td>Screenplay</td>\n",
       "      <td>Charlie Kaufman</td>\n",
       "      <td>/v5Zc2aplTL0y38Oe91zGnVBUtYi.jpg</td>\n",
       "      <td>4912</td>\n",
       "    </tr>\n",
       "    <tr>\n",
       "      <th>317389</th>\n",
       "      <td>52fe4655c3a36847f80f96bf</td>\n",
       "      <td>Directing</td>\n",
       "      <td>2</td>\n",
       "      <td>525</td>\n",
       "      <td>Director</td>\n",
       "      <td>Christopher Nolan</td>\n",
       "      <td>/7OGmfDF4VHLLgbjxuEwTj3ga0uQ.jpg</td>\n",
       "      <td>43629</td>\n",
       "    </tr>\n",
       "    <tr>\n",
       "      <th>...</th>\n",
       "      <td>...</td>\n",
       "      <td>...</td>\n",
       "      <td>...</td>\n",
       "      <td>...</td>\n",
       "      <td>...</td>\n",
       "      <td>...</td>\n",
       "      <td>...</td>\n",
       "      <td>...</td>\n",
       "    </tr>\n",
       "    <tr>\n",
       "      <th>317743</th>\n",
       "      <td>596bdc83c3a3684c0200548b</td>\n",
       "      <td>Editing</td>\n",
       "      <td>0</td>\n",
       "      <td>1852798</td>\n",
       "      <td>Dialogue Editor</td>\n",
       "      <td>Matt Gorzkowski</td>\n",
       "      <td>None</td>\n",
       "      <td>199591</td>\n",
       "    </tr>\n",
       "    <tr>\n",
       "      <th>317345</th>\n",
       "      <td>596bdcd9c3a3684bcb004d02</td>\n",
       "      <td>Sound</td>\n",
       "      <td>0</td>\n",
       "      <td>1852799</td>\n",
       "      <td>Sound Effects Editor</td>\n",
       "      <td>Michael Hanlan</td>\n",
       "      <td>None</td>\n",
       "      <td>199591</td>\n",
       "    </tr>\n",
       "    <tr>\n",
       "      <th>317744</th>\n",
       "      <td>596bdcd9c3a3684bcb004d02</td>\n",
       "      <td>Sound</td>\n",
       "      <td>0</td>\n",
       "      <td>1852799</td>\n",
       "      <td>Sound Effects Editor</td>\n",
       "      <td>Michael Hanlan</td>\n",
       "      <td>None</td>\n",
       "      <td>199591</td>\n",
       "    </tr>\n",
       "    <tr>\n",
       "      <th>317346</th>\n",
       "      <td>596bdfcac3a3684c02005741</td>\n",
       "      <td>Costume &amp; Make-Up</td>\n",
       "      <td>0</td>\n",
       "      <td>1852802</td>\n",
       "      <td>Wardrobe Supervisor</td>\n",
       "      <td>Jasmine Murray-Bergquist</td>\n",
       "      <td>None</td>\n",
       "      <td>199591</td>\n",
       "    </tr>\n",
       "    <tr>\n",
       "      <th>317745</th>\n",
       "      <td>596bdfcac3a3684c02005741</td>\n",
       "      <td>Costume &amp; Make-Up</td>\n",
       "      <td>0</td>\n",
       "      <td>1852802</td>\n",
       "      <td>Wardrobe Supervisor</td>\n",
       "      <td>Jasmine Murray-Bergquist</td>\n",
       "      <td>None</td>\n",
       "      <td>199591</td>\n",
       "    </tr>\n",
       "  </tbody>\n",
       "</table>\n",
       "<p>954 rows × 8 columns</p>\n",
       "</div>"
      ],
      "text/plain": [
       "                       credit_id         department  gender       id  \\\n",
       "259782  55c0d60e9251410f19001cec         Production       1       32   \n",
       "278138  55c0d60e9251410f19001cec         Production       1       32   \n",
       "90620   52fe43e2c3a36847f80760b5            Writing       2      202   \n",
       "379605  52fe43e2c3a36847f80760b5            Writing       2      202   \n",
       "317389  52fe4655c3a36847f80f96bf          Directing       2      525   \n",
       "...                          ...                ...     ...      ...   \n",
       "317743  596bdc83c3a3684c0200548b            Editing       0  1852798   \n",
       "317345  596bdcd9c3a3684bcb004d02              Sound       0  1852799   \n",
       "317744  596bdcd9c3a3684bcb004d02              Sound       0  1852799   \n",
       "317346  596bdfcac3a3684c02005741  Costume & Make-Up       0  1852802   \n",
       "317745  596bdfcac3a3684c02005741  Costume & Make-Up       0  1852802   \n",
       "\n",
       "                         job                      name  \\\n",
       "259782              Producer              Robin Wright   \n",
       "278138              Producer              Robin Wright   \n",
       "90620             Screenplay           Charlie Kaufman   \n",
       "379605            Screenplay           Charlie Kaufman   \n",
       "317389              Director         Christopher Nolan   \n",
       "...                      ...                       ...   \n",
       "317743       Dialogue Editor           Matt Gorzkowski   \n",
       "317345  Sound Effects Editor            Michael Hanlan   \n",
       "317744  Sound Effects Editor            Michael Hanlan   \n",
       "317346   Wardrobe Supervisor  Jasmine Murray-Bergquist   \n",
       "317745   Wardrobe Supervisor  Jasmine Murray-Bergquist   \n",
       "\n",
       "                            profile_path    m_id  \n",
       "259782  /tXfQTgcIEPP7gtVdJ44ZxZPhacn.jpg  152795  \n",
       "278138  /tXfQTgcIEPP7gtVdJ44ZxZPhacn.jpg  152795  \n",
       "90620   /v5Zc2aplTL0y38Oe91zGnVBUtYi.jpg    4912  \n",
       "379605  /v5Zc2aplTL0y38Oe91zGnVBUtYi.jpg    4912  \n",
       "317389  /7OGmfDF4VHLLgbjxuEwTj3ga0uQ.jpg   43629  \n",
       "...                                  ...     ...  \n",
       "317743                              None  199591  \n",
       "317345                              None  199591  \n",
       "317744                              None  199591  \n",
       "317346                              None  199591  \n",
       "317745                              None  199591  \n",
       "\n",
       "[954 rows x 8 columns]"
      ]
     },
     "execution_count": 221,
     "metadata": {},
     "output_type": "execute_result"
    }
   ],
   "source": [
    "# Check for duplicated columns\n",
    "c_crew[c_crew.duplicated(subset=['id', 'credit_id', 'm_id', 'name'], keep=False)].sort_values(by=['id', 'credit_id'])"
   ]
  },
  {
   "cell_type": "code",
   "execution_count": 222,
   "metadata": {},
   "outputs": [],
   "source": [
    "c_crew.drop_duplicates(subset=['id', 'credit_id', 'm_id', 'name'], keep='first', inplace=True)"
   ]
  },
  {
   "cell_type": "markdown",
   "metadata": {},
   "source": [
    "Validate cleaning"
   ]
  },
  {
   "cell_type": "code",
   "execution_count": 223,
   "metadata": {},
   "outputs": [
    {
     "data": {
      "text/plain": [
       "credit_id       0\n",
       "department      0\n",
       "gender          0\n",
       "id              0\n",
       "job             0\n",
       "name            0\n",
       "profile_path    0\n",
       "m_id            0\n",
       "dtype: int64"
      ]
     },
     "execution_count": 223,
     "metadata": {},
     "output_type": "execute_result"
    }
   ],
   "source": [
    "c_crew[c_crew.duplicated(subset=['id', 'credit_id', 'm_id', 'name'], keep=False)].sort_values(by=['id', 'credit_id']).count()"
   ]
  },
  {
   "cell_type": "code",
   "execution_count": 224,
   "metadata": {},
   "outputs": [
    {
     "data": {
      "text/plain": [
       "profile_path\n",
       "jpg    95001\n",
       "Name: count, dtype: int64"
      ]
     },
     "execution_count": 224,
     "metadata": {},
     "output_type": "execute_result"
    }
   ],
   "source": [
    "c_crew.profile_path.str.split('.').str[-1].value_counts()"
   ]
  },
  {
   "cell_type": "code",
   "execution_count": 225,
   "metadata": {},
   "outputs": [
    {
     "data": {
      "text/plain": [
       "credit_id            0\n",
       "department           0\n",
       "gender               0\n",
       "id                   0\n",
       "job                  0\n",
       "name                 0\n",
       "profile_path    368835\n",
       "m_id                 0\n",
       "dtype: int64"
      ]
     },
     "execution_count": 225,
     "metadata": {},
     "output_type": "execute_result"
    }
   ],
   "source": [
    "c_crew.isnull().sum()"
   ]
  },
  {
   "cell_type": "markdown",
   "metadata": {},
   "source": [
    "#### Keywords Dataframe Processing:"
   ]
  },
  {
   "cell_type": "code",
   "execution_count": 226,
   "metadata": {},
   "outputs": [
    {
     "data": {
      "text/html": [
       "<div>\n",
       "<style scoped>\n",
       "    .dataframe tbody tr th:only-of-type {\n",
       "        vertical-align: middle;\n",
       "    }\n",
       "\n",
       "    .dataframe tbody tr th {\n",
       "        vertical-align: top;\n",
       "    }\n",
       "\n",
       "    .dataframe thead th {\n",
       "        text-align: right;\n",
       "    }\n",
       "</style>\n",
       "<table border=\"1\" class=\"dataframe\">\n",
       "  <thead>\n",
       "    <tr style=\"text-align: right;\">\n",
       "      <th></th>\n",
       "      <th>id</th>\n",
       "      <th>keywords</th>\n",
       "    </tr>\n",
       "  </thead>\n",
       "  <tbody>\n",
       "    <tr>\n",
       "      <th>0</th>\n",
       "      <td>862</td>\n",
       "      <td>[{'id': 931, 'name': 'jealousy'}, {'id': 4290,...</td>\n",
       "    </tr>\n",
       "    <tr>\n",
       "      <th>1</th>\n",
       "      <td>8844</td>\n",
       "      <td>[{'id': 10090, 'name': 'board game'}, {'id': 1...</td>\n",
       "    </tr>\n",
       "    <tr>\n",
       "      <th>2</th>\n",
       "      <td>15602</td>\n",
       "      <td>[{'id': 1495, 'name': 'fishing'}, {'id': 12392...</td>\n",
       "    </tr>\n",
       "    <tr>\n",
       "      <th>3</th>\n",
       "      <td>31357</td>\n",
       "      <td>[{'id': 818, 'name': 'based on novel'}, {'id':...</td>\n",
       "    </tr>\n",
       "    <tr>\n",
       "      <th>4</th>\n",
       "      <td>11862</td>\n",
       "      <td>[{'id': 1009, 'name': 'baby'}, {'id': 1599, 'n...</td>\n",
       "    </tr>\n",
       "  </tbody>\n",
       "</table>\n",
       "</div>"
      ],
      "text/plain": [
       "      id                                           keywords\n",
       "0    862  [{'id': 931, 'name': 'jealousy'}, {'id': 4290,...\n",
       "1   8844  [{'id': 10090, 'name': 'board game'}, {'id': 1...\n",
       "2  15602  [{'id': 1495, 'name': 'fishing'}, {'id': 12392...\n",
       "3  31357  [{'id': 818, 'name': 'based on novel'}, {'id':...\n",
       "4  11862  [{'id': 1009, 'name': 'baby'}, {'id': 1599, 'n..."
      ]
     },
     "execution_count": 226,
     "metadata": {},
     "output_type": "execute_result"
    }
   ],
   "source": [
    "keywords.head()"
   ]
  },
  {
   "cell_type": "code",
   "execution_count": 227,
   "metadata": {},
   "outputs": [],
   "source": [
    "keywords = normalize_data(keywords, 'keywords', 'id', 'm')"
   ]
  },
  {
   "cell_type": "code",
   "execution_count": 228,
   "metadata": {},
   "outputs": [
    {
     "data": {
      "text/html": [
       "<div>\n",
       "<style scoped>\n",
       "    .dataframe tbody tr th:only-of-type {\n",
       "        vertical-align: middle;\n",
       "    }\n",
       "\n",
       "    .dataframe tbody tr th {\n",
       "        vertical-align: top;\n",
       "    }\n",
       "\n",
       "    .dataframe thead th {\n",
       "        text-align: right;\n",
       "    }\n",
       "</style>\n",
       "<table border=\"1\" class=\"dataframe\">\n",
       "  <thead>\n",
       "    <tr style=\"text-align: right;\">\n",
       "      <th></th>\n",
       "      <th>id</th>\n",
       "      <th>name</th>\n",
       "      <th>m_id</th>\n",
       "    </tr>\n",
       "  </thead>\n",
       "  <tbody>\n",
       "    <tr>\n",
       "      <th>0</th>\n",
       "      <td>931</td>\n",
       "      <td>jealousy</td>\n",
       "      <td>862</td>\n",
       "    </tr>\n",
       "    <tr>\n",
       "      <th>1</th>\n",
       "      <td>4290</td>\n",
       "      <td>toy</td>\n",
       "      <td>862</td>\n",
       "    </tr>\n",
       "    <tr>\n",
       "      <th>2</th>\n",
       "      <td>5202</td>\n",
       "      <td>boy</td>\n",
       "      <td>862</td>\n",
       "    </tr>\n",
       "    <tr>\n",
       "      <th>3</th>\n",
       "      <td>6054</td>\n",
       "      <td>friendship</td>\n",
       "      <td>862</td>\n",
       "    </tr>\n",
       "    <tr>\n",
       "      <th>4</th>\n",
       "      <td>9713</td>\n",
       "      <td>friends</td>\n",
       "      <td>862</td>\n",
       "    </tr>\n",
       "  </tbody>\n",
       "</table>\n",
       "</div>"
      ],
      "text/plain": [
       "     id        name  m_id\n",
       "0   931    jealousy   862\n",
       "1  4290         toy   862\n",
       "2  5202         boy   862\n",
       "3  6054  friendship   862\n",
       "4  9713     friends   862"
      ]
     },
     "execution_count": 228,
     "metadata": {},
     "output_type": "execute_result"
    }
   ],
   "source": [
    "keywords.head(5)"
   ]
  },
  {
   "cell_type": "markdown",
   "metadata": {},
   "source": [
    "Data Cleaning process"
   ]
  },
  {
   "cell_type": "code",
   "execution_count": 229,
   "metadata": {},
   "outputs": [
    {
     "data": {
      "text/html": [
       "<div>\n",
       "<style scoped>\n",
       "    .dataframe tbody tr th:only-of-type {\n",
       "        vertical-align: middle;\n",
       "    }\n",
       "\n",
       "    .dataframe tbody tr th {\n",
       "        vertical-align: top;\n",
       "    }\n",
       "\n",
       "    .dataframe thead th {\n",
       "        text-align: right;\n",
       "    }\n",
       "</style>\n",
       "<table border=\"1\" class=\"dataframe\">\n",
       "  <thead>\n",
       "    <tr style=\"text-align: right;\">\n",
       "      <th></th>\n",
       "      <th>count</th>\n",
       "    </tr>\n",
       "    <tr>\n",
       "      <th>name</th>\n",
       "      <th></th>\n",
       "    </tr>\n",
       "  </thead>\n",
       "  <tbody>\n",
       "    <tr>\n",
       "      <th>woman director</th>\n",
       "      <td>3115</td>\n",
       "    </tr>\n",
       "    <tr>\n",
       "      <th>independent film</th>\n",
       "      <td>1930</td>\n",
       "    </tr>\n",
       "    <tr>\n",
       "      <th>murder</th>\n",
       "      <td>1308</td>\n",
       "    </tr>\n",
       "    <tr>\n",
       "      <th>based on novel</th>\n",
       "      <td>835</td>\n",
       "    </tr>\n",
       "    <tr>\n",
       "      <th>musical</th>\n",
       "      <td>734</td>\n",
       "    </tr>\n",
       "    <tr>\n",
       "      <th>...</th>\n",
       "      <td>...</td>\n",
       "    </tr>\n",
       "    <tr>\n",
       "      <th>helping animals</th>\n",
       "      <td>1</td>\n",
       "    </tr>\n",
       "    <tr>\n",
       "      <th>animal agriculture</th>\n",
       "      <td>1</td>\n",
       "    </tr>\n",
       "    <tr>\n",
       "      <th>brother sister</th>\n",
       "      <td>1</td>\n",
       "    </tr>\n",
       "    <tr>\n",
       "      <th>bad boy</th>\n",
       "      <td>1</td>\n",
       "    </tr>\n",
       "    <tr>\n",
       "      <th>biloxi mississippi</th>\n",
       "      <td>1</td>\n",
       "    </tr>\n",
       "  </tbody>\n",
       "</table>\n",
       "<p>19956 rows × 1 columns</p>\n",
       "</div>"
      ],
      "text/plain": [
       "                    count\n",
       "name                     \n",
       "woman director       3115\n",
       "independent film     1930\n",
       "murder               1308\n",
       "based on novel        835\n",
       "musical               734\n",
       "...                   ...\n",
       "helping animals         1\n",
       "animal agriculture      1\n",
       "brother sister          1\n",
       "bad boy                 1\n",
       "biloxi mississippi      1\n",
       "\n",
       "[19956 rows x 1 columns]"
      ]
     },
     "execution_count": 229,
     "metadata": {},
     "output_type": "execute_result"
    }
   ],
   "source": [
    "pd.DataFrame(keywords.name.value_counts())"
   ]
  },
  {
   "cell_type": "code",
   "execution_count": 230,
   "metadata": {},
   "outputs": [
    {
     "data": {
      "text/html": [
       "<div>\n",
       "<style scoped>\n",
       "    .dataframe tbody tr th:only-of-type {\n",
       "        vertical-align: middle;\n",
       "    }\n",
       "\n",
       "    .dataframe tbody tr th {\n",
       "        vertical-align: top;\n",
       "    }\n",
       "\n",
       "    .dataframe thead th {\n",
       "        text-align: right;\n",
       "    }\n",
       "</style>\n",
       "<table border=\"1\" class=\"dataframe\">\n",
       "  <thead>\n",
       "    <tr style=\"text-align: right;\">\n",
       "      <th></th>\n",
       "      <th>id</th>\n",
       "      <th>name</th>\n",
       "      <th>m_id</th>\n",
       "    </tr>\n",
       "  </thead>\n",
       "  <tbody>\n",
       "    <tr>\n",
       "      <th>137369</th>\n",
       "      <td>65</td>\n",
       "      <td>holiday</td>\n",
       "      <td>19252</td>\n",
       "    </tr>\n",
       "    <tr>\n",
       "      <th>139324</th>\n",
       "      <td>65</td>\n",
       "      <td>holiday</td>\n",
       "      <td>19252</td>\n",
       "    </tr>\n",
       "    <tr>\n",
       "      <th>135581</th>\n",
       "      <td>65</td>\n",
       "      <td>holiday</td>\n",
       "      <td>26381</td>\n",
       "    </tr>\n",
       "    <tr>\n",
       "      <th>137536</th>\n",
       "      <td>65</td>\n",
       "      <td>holiday</td>\n",
       "      <td>26381</td>\n",
       "    </tr>\n",
       "    <tr>\n",
       "      <th>135628</th>\n",
       "      <td>65</td>\n",
       "      <td>holiday</td>\n",
       "      <td>26537</td>\n",
       "    </tr>\n",
       "    <tr>\n",
       "      <th>...</th>\n",
       "      <td>...</td>\n",
       "      <td>...</td>\n",
       "      <td>...</td>\n",
       "    </tr>\n",
       "    <tr>\n",
       "      <th>138012</th>\n",
       "      <td>237651</td>\n",
       "      <td>dreamland</td>\n",
       "      <td>325712</td>\n",
       "    </tr>\n",
       "    <tr>\n",
       "      <th>136432</th>\n",
       "      <td>238208</td>\n",
       "      <td>dead end road</td>\n",
       "      <td>23382</td>\n",
       "    </tr>\n",
       "    <tr>\n",
       "      <th>138387</th>\n",
       "      <td>238208</td>\n",
       "      <td>dead end road</td>\n",
       "      <td>23382</td>\n",
       "    </tr>\n",
       "    <tr>\n",
       "      <th>136265</th>\n",
       "      <td>238539</td>\n",
       "      <td>corrupt sheriff</td>\n",
       "      <td>325173</td>\n",
       "    </tr>\n",
       "    <tr>\n",
       "      <th>138220</th>\n",
       "      <td>238539</td>\n",
       "      <td>corrupt sheriff</td>\n",
       "      <td>325173</td>\n",
       "    </tr>\n",
       "  </tbody>\n",
       "</table>\n",
       "<p>4156 rows × 3 columns</p>\n",
       "</div>"
      ],
      "text/plain": [
       "            id             name    m_id\n",
       "137369      65          holiday   19252\n",
       "139324      65          holiday   19252\n",
       "135581      65          holiday   26381\n",
       "137536      65          holiday   26381\n",
       "135628      65          holiday   26537\n",
       "...        ...              ...     ...\n",
       "138012  237651        dreamland  325712\n",
       "136432  238208    dead end road   23382\n",
       "138387  238208    dead end road   23382\n",
       "136265  238539  corrupt sheriff  325173\n",
       "138220  238539  corrupt sheriff  325173\n",
       "\n",
       "[4156 rows x 3 columns]"
      ]
     },
     "execution_count": 230,
     "metadata": {},
     "output_type": "execute_result"
    }
   ],
   "source": [
    "# Check for duplicated columns\n",
    "keywords[keywords.duplicated(keep=False)].sort_values(by=['id', 'name', 'm_id'])"
   ]
  },
  {
   "cell_type": "code",
   "execution_count": 231,
   "metadata": {},
   "outputs": [
    {
     "data": {
      "text/plain": [
       "id      4156\n",
       "name    4156\n",
       "m_id    4156\n",
       "dtype: int64"
      ]
     },
     "execution_count": 231,
     "metadata": {},
     "output_type": "execute_result"
    }
   ],
   "source": [
    "keywords[keywords.duplicated(keep=False)].sort_values(by=['id', 'name', 'm_id']).count()"
   ]
  },
  {
   "cell_type": "code",
   "execution_count": 232,
   "metadata": {},
   "outputs": [],
   "source": [
    "keywords.drop_duplicates(keep='first', inplace=True)"
   ]
  },
  {
   "cell_type": "markdown",
   "metadata": {},
   "source": [
    "Validate"
   ]
  },
  {
   "cell_type": "code",
   "execution_count": 233,
   "metadata": {},
   "outputs": [
    {
     "data": {
      "text/plain": [
       "id      0\n",
       "name    0\n",
       "m_id    0\n",
       "dtype: int64"
      ]
     },
     "execution_count": 233,
     "metadata": {},
     "output_type": "execute_result"
    }
   ],
   "source": [
    "keywords[keywords.duplicated(keep=False)].sort_values(by=['id', 'name', 'm_id']).count()"
   ]
  },
  {
   "cell_type": "code",
   "execution_count": 234,
   "metadata": {},
   "outputs": [
    {
     "data": {
      "text/plain": [
       "id      0\n",
       "name    0\n",
       "m_id    0\n",
       "dtype: int64"
      ]
     },
     "execution_count": 234,
     "metadata": {},
     "output_type": "execute_result"
    }
   ],
   "source": [
    "keywords.isnull().sum()"
   ]
  },
  {
   "cell_type": "markdown",
   "metadata": {},
   "source": [
    "#### Links Dataframe Processing:"
   ]
  },
  {
   "cell_type": "code",
   "execution_count": 235,
   "metadata": {},
   "outputs": [
    {
     "data": {
      "text/html": [
       "<div>\n",
       "<style scoped>\n",
       "    .dataframe tbody tr th:only-of-type {\n",
       "        vertical-align: middle;\n",
       "    }\n",
       "\n",
       "    .dataframe tbody tr th {\n",
       "        vertical-align: top;\n",
       "    }\n",
       "\n",
       "    .dataframe thead th {\n",
       "        text-align: right;\n",
       "    }\n",
       "</style>\n",
       "<table border=\"1\" class=\"dataframe\">\n",
       "  <thead>\n",
       "    <tr style=\"text-align: right;\">\n",
       "      <th></th>\n",
       "      <th>movieId</th>\n",
       "      <th>imdbId</th>\n",
       "      <th>tmdbId</th>\n",
       "    </tr>\n",
       "  </thead>\n",
       "  <tbody>\n",
       "    <tr>\n",
       "      <th>0</th>\n",
       "      <td>1</td>\n",
       "      <td>114709</td>\n",
       "      <td>862.0</td>\n",
       "    </tr>\n",
       "    <tr>\n",
       "      <th>1</th>\n",
       "      <td>2</td>\n",
       "      <td>113497</td>\n",
       "      <td>8844.0</td>\n",
       "    </tr>\n",
       "    <tr>\n",
       "      <th>2</th>\n",
       "      <td>3</td>\n",
       "      <td>113228</td>\n",
       "      <td>15602.0</td>\n",
       "    </tr>\n",
       "    <tr>\n",
       "      <th>3</th>\n",
       "      <td>4</td>\n",
       "      <td>114885</td>\n",
       "      <td>31357.0</td>\n",
       "    </tr>\n",
       "    <tr>\n",
       "      <th>4</th>\n",
       "      <td>5</td>\n",
       "      <td>113041</td>\n",
       "      <td>11862.0</td>\n",
       "    </tr>\n",
       "  </tbody>\n",
       "</table>\n",
       "</div>"
      ],
      "text/plain": [
       "   movieId  imdbId   tmdbId\n",
       "0        1  114709    862.0\n",
       "1        2  113497   8844.0\n",
       "2        3  113228  15602.0\n",
       "3        4  114885  31357.0\n",
       "4        5  113041  11862.0"
      ]
     },
     "execution_count": 235,
     "metadata": {},
     "output_type": "execute_result"
    }
   ],
   "source": [
    "links.head()"
   ]
  },
  {
   "cell_type": "code",
   "execution_count": 236,
   "metadata": {},
   "outputs": [
    {
     "name": "stdout",
     "output_type": "stream",
     "text": [
      "<class 'pandas.core.frame.DataFrame'>\n",
      "RangeIndex: 45843 entries, 0 to 45842\n",
      "Data columns (total 3 columns):\n",
      " #   Column   Non-Null Count  Dtype  \n",
      "---  ------   --------------  -----  \n",
      " 0   movieId  45843 non-null  int64  \n",
      " 1   imdbId   45843 non-null  int64  \n",
      " 2   tmdbId   45624 non-null  float64\n",
      "dtypes: float64(1), int64(2)\n",
      "memory usage: 1.0 MB\n"
     ]
    }
   ],
   "source": [
    "links.info()"
   ]
  },
  {
   "cell_type": "code",
   "execution_count": 237,
   "metadata": {},
   "outputs": [],
   "source": [
    "links['tmdbId'] = links.tmdbId.fillna(0).astype(int)"
   ]
  },
  {
   "cell_type": "markdown",
   "metadata": {},
   "source": [
    "Validate"
   ]
  },
  {
   "cell_type": "code",
   "execution_count": 238,
   "metadata": {},
   "outputs": [
    {
     "name": "stdout",
     "output_type": "stream",
     "text": [
      "<class 'pandas.core.frame.DataFrame'>\n",
      "RangeIndex: 45843 entries, 0 to 45842\n",
      "Data columns (total 3 columns):\n",
      " #   Column   Non-Null Count  Dtype\n",
      "---  ------   --------------  -----\n",
      " 0   movieId  45843 non-null  int64\n",
      " 1   imdbId   45843 non-null  int64\n",
      " 2   tmdbId   45843 non-null  int64\n",
      "dtypes: int64(3)\n",
      "memory usage: 1.0 MB\n"
     ]
    }
   ],
   "source": [
    "links.info()"
   ]
  },
  {
   "cell_type": "code",
   "execution_count": 239,
   "metadata": {},
   "outputs": [
    {
     "data": {
      "text/plain": [
       "movieId    0\n",
       "imdbId     0\n",
       "tmdbId     0\n",
       "dtype: int64"
      ]
     },
     "execution_count": 239,
     "metadata": {},
     "output_type": "execute_result"
    }
   ],
   "source": [
    "links.isnull().sum()"
   ]
  },
  {
   "cell_type": "markdown",
   "metadata": {},
   "source": [
    "#### Movies Metaddata Dataframe Processing:"
   ]
  },
  {
   "cell_type": "code",
   "execution_count": 240,
   "metadata": {},
   "outputs": [
    {
     "data": {
      "text/html": [
       "<div>\n",
       "<style scoped>\n",
       "    .dataframe tbody tr th:only-of-type {\n",
       "        vertical-align: middle;\n",
       "    }\n",
       "\n",
       "    .dataframe tbody tr th {\n",
       "        vertical-align: top;\n",
       "    }\n",
       "\n",
       "    .dataframe thead th {\n",
       "        text-align: right;\n",
       "    }\n",
       "</style>\n",
       "<table border=\"1\" class=\"dataframe\">\n",
       "  <thead>\n",
       "    <tr style=\"text-align: right;\">\n",
       "      <th></th>\n",
       "      <th>adult</th>\n",
       "      <th>belongs_to_collection</th>\n",
       "      <th>budget</th>\n",
       "      <th>genres</th>\n",
       "      <th>homepage</th>\n",
       "      <th>id</th>\n",
       "      <th>imdb_id</th>\n",
       "      <th>original_language</th>\n",
       "      <th>original_title</th>\n",
       "      <th>overview</th>\n",
       "      <th>...</th>\n",
       "      <th>release_date</th>\n",
       "      <th>revenue</th>\n",
       "      <th>runtime</th>\n",
       "      <th>spoken_languages</th>\n",
       "      <th>status</th>\n",
       "      <th>tagline</th>\n",
       "      <th>title</th>\n",
       "      <th>video</th>\n",
       "      <th>vote_average</th>\n",
       "      <th>vote_count</th>\n",
       "    </tr>\n",
       "  </thead>\n",
       "  <tbody>\n",
       "    <tr>\n",
       "      <th>0</th>\n",
       "      <td>False</td>\n",
       "      <td>{'id': 10194, 'name': 'Toy Story Collection', ...</td>\n",
       "      <td>30000000</td>\n",
       "      <td>[{'id': 16, 'name': 'Animation'}, {'id': 35, '...</td>\n",
       "      <td>http://toystory.disney.com/toy-story</td>\n",
       "      <td>862</td>\n",
       "      <td>tt0114709</td>\n",
       "      <td>en</td>\n",
       "      <td>Toy Story</td>\n",
       "      <td>Led by Woody, Andy's toys live happily in his ...</td>\n",
       "      <td>...</td>\n",
       "      <td>1995-10-30</td>\n",
       "      <td>373554033</td>\n",
       "      <td>81.0</td>\n",
       "      <td>[{'iso_639_1': 'en', 'name': 'English'}]</td>\n",
       "      <td>Released</td>\n",
       "      <td>NaN</td>\n",
       "      <td>Toy Story</td>\n",
       "      <td>False</td>\n",
       "      <td>7.7</td>\n",
       "      <td>5415</td>\n",
       "    </tr>\n",
       "    <tr>\n",
       "      <th>1</th>\n",
       "      <td>False</td>\n",
       "      <td>NaN</td>\n",
       "      <td>65000000</td>\n",
       "      <td>[{'id': 12, 'name': 'Adventure'}, {'id': 14, '...</td>\n",
       "      <td>NaN</td>\n",
       "      <td>8844</td>\n",
       "      <td>tt0113497</td>\n",
       "      <td>en</td>\n",
       "      <td>Jumanji</td>\n",
       "      <td>When siblings Judy and Peter discover an encha...</td>\n",
       "      <td>...</td>\n",
       "      <td>1995-12-15</td>\n",
       "      <td>262797249</td>\n",
       "      <td>104.0</td>\n",
       "      <td>[{'iso_639_1': 'en', 'name': 'English'}, {'iso...</td>\n",
       "      <td>Released</td>\n",
       "      <td>Roll the dice and unleash the excitement!</td>\n",
       "      <td>Jumanji</td>\n",
       "      <td>False</td>\n",
       "      <td>6.9</td>\n",
       "      <td>2413</td>\n",
       "    </tr>\n",
       "    <tr>\n",
       "      <th>2</th>\n",
       "      <td>False</td>\n",
       "      <td>{'id': 119050, 'name': 'Grumpy Old Men Collect...</td>\n",
       "      <td>0</td>\n",
       "      <td>[{'id': 10749, 'name': 'Romance'}, {'id': 35, ...</td>\n",
       "      <td>NaN</td>\n",
       "      <td>15602</td>\n",
       "      <td>tt0113228</td>\n",
       "      <td>en</td>\n",
       "      <td>Grumpier Old Men</td>\n",
       "      <td>A family wedding reignites the ancient feud be...</td>\n",
       "      <td>...</td>\n",
       "      <td>1995-12-22</td>\n",
       "      <td>0</td>\n",
       "      <td>101.0</td>\n",
       "      <td>[{'iso_639_1': 'en', 'name': 'English'}]</td>\n",
       "      <td>Released</td>\n",
       "      <td>Still Yelling. Still Fighting. Still Ready for...</td>\n",
       "      <td>Grumpier Old Men</td>\n",
       "      <td>False</td>\n",
       "      <td>6.5</td>\n",
       "      <td>92</td>\n",
       "    </tr>\n",
       "    <tr>\n",
       "      <th>3</th>\n",
       "      <td>False</td>\n",
       "      <td>NaN</td>\n",
       "      <td>16000000</td>\n",
       "      <td>[{'id': 35, 'name': 'Comedy'}, {'id': 18, 'nam...</td>\n",
       "      <td>NaN</td>\n",
       "      <td>31357</td>\n",
       "      <td>tt0114885</td>\n",
       "      <td>en</td>\n",
       "      <td>Waiting to Exhale</td>\n",
       "      <td>Cheated on, mistreated and stepped on, the wom...</td>\n",
       "      <td>...</td>\n",
       "      <td>1995-12-22</td>\n",
       "      <td>81452156</td>\n",
       "      <td>127.0</td>\n",
       "      <td>[{'iso_639_1': 'en', 'name': 'English'}]</td>\n",
       "      <td>Released</td>\n",
       "      <td>Friends are the people who let you be yourself...</td>\n",
       "      <td>Waiting to Exhale</td>\n",
       "      <td>False</td>\n",
       "      <td>6.1</td>\n",
       "      <td>34</td>\n",
       "    </tr>\n",
       "    <tr>\n",
       "      <th>4</th>\n",
       "      <td>False</td>\n",
       "      <td>{'id': 96871, 'name': 'Father of the Bride Col...</td>\n",
       "      <td>0</td>\n",
       "      <td>[{'id': 35, 'name': 'Comedy'}]</td>\n",
       "      <td>NaN</td>\n",
       "      <td>11862</td>\n",
       "      <td>tt0113041</td>\n",
       "      <td>en</td>\n",
       "      <td>Father of the Bride Part II</td>\n",
       "      <td>Just when George Banks has recovered from his ...</td>\n",
       "      <td>...</td>\n",
       "      <td>1995-02-10</td>\n",
       "      <td>76578911</td>\n",
       "      <td>106.0</td>\n",
       "      <td>[{'iso_639_1': 'en', 'name': 'English'}]</td>\n",
       "      <td>Released</td>\n",
       "      <td>Just When His World Is Back To Normal... He's ...</td>\n",
       "      <td>Father of the Bride Part II</td>\n",
       "      <td>False</td>\n",
       "      <td>5.7</td>\n",
       "      <td>173</td>\n",
       "    </tr>\n",
       "  </tbody>\n",
       "</table>\n",
       "<p>5 rows × 24 columns</p>\n",
       "</div>"
      ],
      "text/plain": [
       "   adult                              belongs_to_collection    budget  \\\n",
       "0  False  {'id': 10194, 'name': 'Toy Story Collection', ...  30000000   \n",
       "1  False                                                NaN  65000000   \n",
       "2  False  {'id': 119050, 'name': 'Grumpy Old Men Collect...         0   \n",
       "3  False                                                NaN  16000000   \n",
       "4  False  {'id': 96871, 'name': 'Father of the Bride Col...         0   \n",
       "\n",
       "                                              genres  \\\n",
       "0  [{'id': 16, 'name': 'Animation'}, {'id': 35, '...   \n",
       "1  [{'id': 12, 'name': 'Adventure'}, {'id': 14, '...   \n",
       "2  [{'id': 10749, 'name': 'Romance'}, {'id': 35, ...   \n",
       "3  [{'id': 35, 'name': 'Comedy'}, {'id': 18, 'nam...   \n",
       "4                     [{'id': 35, 'name': 'Comedy'}]   \n",
       "\n",
       "                               homepage     id    imdb_id original_language  \\\n",
       "0  http://toystory.disney.com/toy-story    862  tt0114709                en   \n",
       "1                                   NaN   8844  tt0113497                en   \n",
       "2                                   NaN  15602  tt0113228                en   \n",
       "3                                   NaN  31357  tt0114885                en   \n",
       "4                                   NaN  11862  tt0113041                en   \n",
       "\n",
       "                original_title  \\\n",
       "0                    Toy Story   \n",
       "1                      Jumanji   \n",
       "2             Grumpier Old Men   \n",
       "3            Waiting to Exhale   \n",
       "4  Father of the Bride Part II   \n",
       "\n",
       "                                            overview  ...  release_date  \\\n",
       "0  Led by Woody, Andy's toys live happily in his ...  ...    1995-10-30   \n",
       "1  When siblings Judy and Peter discover an encha...  ...    1995-12-15   \n",
       "2  A family wedding reignites the ancient feud be...  ...    1995-12-22   \n",
       "3  Cheated on, mistreated and stepped on, the wom...  ...    1995-12-22   \n",
       "4  Just when George Banks has recovered from his ...  ...    1995-02-10   \n",
       "\n",
       "     revenue runtime                                   spoken_languages  \\\n",
       "0  373554033    81.0           [{'iso_639_1': 'en', 'name': 'English'}]   \n",
       "1  262797249   104.0  [{'iso_639_1': 'en', 'name': 'English'}, {'iso...   \n",
       "2          0   101.0           [{'iso_639_1': 'en', 'name': 'English'}]   \n",
       "3   81452156   127.0           [{'iso_639_1': 'en', 'name': 'English'}]   \n",
       "4   76578911   106.0           [{'iso_639_1': 'en', 'name': 'English'}]   \n",
       "\n",
       "     status                                            tagline  \\\n",
       "0  Released                                                NaN   \n",
       "1  Released          Roll the dice and unleash the excitement!   \n",
       "2  Released  Still Yelling. Still Fighting. Still Ready for...   \n",
       "3  Released  Friends are the people who let you be yourself...   \n",
       "4  Released  Just When His World Is Back To Normal... He's ...   \n",
       "\n",
       "                         title  video vote_average vote_count  \n",
       "0                    Toy Story  False          7.7       5415  \n",
       "1                      Jumanji  False          6.9       2413  \n",
       "2             Grumpier Old Men  False          6.5         92  \n",
       "3            Waiting to Exhale  False          6.1         34  \n",
       "4  Father of the Bride Part II  False          5.7        173  \n",
       "\n",
       "[5 rows x 24 columns]"
      ]
     },
     "execution_count": 240,
     "metadata": {},
     "output_type": "execute_result"
    }
   ],
   "source": [
    "movies_metadata.head()"
   ]
  },
  {
   "cell_type": "code",
   "execution_count": 241,
   "metadata": {},
   "outputs": [
    {
     "data": {
      "text/plain": [
       "adult                                                                False\n",
       "belongs_to_collection    {'id': 10194, 'name': 'Toy Story Collection', ...\n",
       "budget                                                            30000000\n",
       "genres                   [{'id': 16, 'name': 'Animation'}, {'id': 35, '...\n",
       "homepage                              http://toystory.disney.com/toy-story\n",
       "id                                                                     862\n",
       "imdb_id                                                          tt0114709\n",
       "original_language                                                       en\n",
       "original_title                                                   Toy Story\n",
       "overview                 Led by Woody, Andy's toys live happily in his ...\n",
       "popularity                                                       21.946943\n",
       "poster_path                               /rhIRbceoE9lR4veEXuwCC2wARtG.jpg\n",
       "production_companies        [{'name': 'Pixar Animation Studios', 'id': 3}]\n",
       "production_countries     [{'iso_3166_1': 'US', 'name': 'United States o...\n",
       "release_date                                                    1995-10-30\n",
       "revenue                                                          373554033\n",
       "runtime                                                               81.0\n",
       "spoken_languages                  [{'iso_639_1': 'en', 'name': 'English'}]\n",
       "status                                                            Released\n",
       "tagline                                                                NaN\n",
       "title                                                            Toy Story\n",
       "video                                                                False\n",
       "vote_average                                                           7.7\n",
       "vote_count                                                            5415\n",
       "Name: 0, dtype: object"
      ]
     },
     "execution_count": 241,
     "metadata": {},
     "output_type": "execute_result"
    }
   ],
   "source": [
    "# Inspect the first row of the movies_metadata DataFrame to decide the processing method\n",
    "movies_metadata.iloc[0]"
   ]
  },
  {
   "cell_type": "markdown",
   "metadata": {},
   "source": [
    "Extracting belongs_to_collection DataFrame"
   ]
  },
  {
   "cell_type": "code",
   "execution_count": 242,
   "metadata": {},
   "outputs": [],
   "source": [
    "def extract_dict_values(row: pd.DataFrame, column_name: str, new_column_prefix: str = None):\n",
    "    new_row = safe_parse_collection(row[column_name])\n",
    "    if isinstance(new_row, dict):\n",
    "        for key, value in new_row.items():\n",
    "            if new_column_prefix:\n",
    "                row[f'{new_column_prefix}_{key}'] = value\n",
    "            else:\n",
    "                row[key] = value\n",
    "    return row\n",
    "\n",
    "belongs_to_collection = movies_metadata[['belongs_to_collection', 'id']].copy()\n",
    "belongs_to_collection.rename(columns={'id': 'm_id'}, inplace=True)\n",
    "belongs_to_collection = belongs_to_collection.apply(lambda row: extract_dict_values(row, 'belongs_to_collection'), axis=1)\n",
    "movies_metadata.drop('belongs_to_collection', axis=1, inplace=True)\n",
    "belongs_to_collection = belongs_to_collection.drop('belongs_to_collection', axis=1)"
   ]
  },
  {
   "cell_type": "markdown",
   "metadata": {},
   "source": [
    "Process & cleaning belongs_to_collection DataFrame"
   ]
  },
  {
   "cell_type": "code",
   "execution_count": 243,
   "metadata": {},
   "outputs": [
    {
     "data": {
      "text/html": [
       "<div>\n",
       "<style scoped>\n",
       "    .dataframe tbody tr th:only-of-type {\n",
       "        vertical-align: middle;\n",
       "    }\n",
       "\n",
       "    .dataframe tbody tr th {\n",
       "        vertical-align: top;\n",
       "    }\n",
       "\n",
       "    .dataframe thead th {\n",
       "        text-align: right;\n",
       "    }\n",
       "</style>\n",
       "<table border=\"1\" class=\"dataframe\">\n",
       "  <thead>\n",
       "    <tr style=\"text-align: right;\">\n",
       "      <th></th>\n",
       "      <th>backdrop_path</th>\n",
       "      <th>id</th>\n",
       "      <th>m_id</th>\n",
       "      <th>name</th>\n",
       "      <th>poster_path</th>\n",
       "    </tr>\n",
       "  </thead>\n",
       "  <tbody>\n",
       "    <tr>\n",
       "      <th>0</th>\n",
       "      <td>/9FBwqcd9IRruEDUrTdcaafOMKUq.jpg</td>\n",
       "      <td>10194.0</td>\n",
       "      <td>862</td>\n",
       "      <td>Toy Story Collection</td>\n",
       "      <td>/7G9915LfUQ2lVfwMEEhDsn3kT4B.jpg</td>\n",
       "    </tr>\n",
       "    <tr>\n",
       "      <th>1</th>\n",
       "      <td>NaN</td>\n",
       "      <td>NaN</td>\n",
       "      <td>8844</td>\n",
       "      <td>NaN</td>\n",
       "      <td>NaN</td>\n",
       "    </tr>\n",
       "    <tr>\n",
       "      <th>2</th>\n",
       "      <td>/hypTnLot2z8wpFS7qwsQHW1uV8u.jpg</td>\n",
       "      <td>119050.0</td>\n",
       "      <td>15602</td>\n",
       "      <td>Grumpy Old Men Collection</td>\n",
       "      <td>/nLvUdqgPgm3F85NMCii9gVFUcet.jpg</td>\n",
       "    </tr>\n",
       "    <tr>\n",
       "      <th>3</th>\n",
       "      <td>NaN</td>\n",
       "      <td>NaN</td>\n",
       "      <td>31357</td>\n",
       "      <td>NaN</td>\n",
       "      <td>NaN</td>\n",
       "    </tr>\n",
       "    <tr>\n",
       "      <th>4</th>\n",
       "      <td>/7qwE57OVZmMJChBpLEbJEmzUydk.jpg</td>\n",
       "      <td>96871.0</td>\n",
       "      <td>11862</td>\n",
       "      <td>Father of the Bride Collection</td>\n",
       "      <td>/nts4iOmNnq7GNicycMJ9pSAn204.jpg</td>\n",
       "    </tr>\n",
       "  </tbody>\n",
       "</table>\n",
       "</div>"
      ],
      "text/plain": [
       "                      backdrop_path        id   m_id  \\\n",
       "0  /9FBwqcd9IRruEDUrTdcaafOMKUq.jpg   10194.0    862   \n",
       "1                               NaN       NaN   8844   \n",
       "2  /hypTnLot2z8wpFS7qwsQHW1uV8u.jpg  119050.0  15602   \n",
       "3                               NaN       NaN  31357   \n",
       "4  /7qwE57OVZmMJChBpLEbJEmzUydk.jpg   96871.0  11862   \n",
       "\n",
       "                             name                       poster_path  \n",
       "0            Toy Story Collection  /7G9915LfUQ2lVfwMEEhDsn3kT4B.jpg  \n",
       "1                             NaN                               NaN  \n",
       "2       Grumpy Old Men Collection  /nLvUdqgPgm3F85NMCii9gVFUcet.jpg  \n",
       "3                             NaN                               NaN  \n",
       "4  Father of the Bride Collection  /nts4iOmNnq7GNicycMJ9pSAn204.jpg  "
      ]
     },
     "execution_count": 243,
     "metadata": {},
     "output_type": "execute_result"
    }
   ],
   "source": [
    "# Take a look of the top 5 rows of the belongs_to_collection DataFrame\n",
    "belongs_to_collection.head()"
   ]
  },
  {
   "cell_type": "code",
   "execution_count": 244,
   "metadata": {},
   "outputs": [
    {
     "name": "stdout",
     "output_type": "stream",
     "text": [
      "<class 'pandas.core.frame.DataFrame'>\n",
      "RangeIndex: 45463 entries, 0 to 45462\n",
      "Data columns (total 5 columns):\n",
      " #   Column         Non-Null Count  Dtype  \n",
      "---  ------         --------------  -----  \n",
      " 0   backdrop_path  3263 non-null   object \n",
      " 1   id             4491 non-null   float64\n",
      " 2   m_id           45463 non-null  int64  \n",
      " 3   name           4491 non-null   object \n",
      " 4   poster_path    3948 non-null   object \n",
      "dtypes: float64(1), int64(1), object(3)\n",
      "memory usage: 1.7+ MB\n"
     ]
    }
   ],
   "source": [
    "# Inspect the data type\n",
    "belongs_to_collection.info()"
   ]
  },
  {
   "cell_type": "code",
   "execution_count": 245,
   "metadata": {},
   "outputs": [
    {
     "data": {
      "text/html": [
       "<div>\n",
       "<style scoped>\n",
       "    .dataframe tbody tr th:only-of-type {\n",
       "        vertical-align: middle;\n",
       "    }\n",
       "\n",
       "    .dataframe tbody tr th {\n",
       "        vertical-align: top;\n",
       "    }\n",
       "\n",
       "    .dataframe thead th {\n",
       "        text-align: right;\n",
       "    }\n",
       "</style>\n",
       "<table border=\"1\" class=\"dataframe\">\n",
       "  <thead>\n",
       "    <tr style=\"text-align: right;\">\n",
       "      <th></th>\n",
       "      <th>backdrop_path</th>\n",
       "      <th>id</th>\n",
       "      <th>m_id</th>\n",
       "      <th>name</th>\n",
       "      <th>poster_path</th>\n",
       "    </tr>\n",
       "  </thead>\n",
       "  <tbody>\n",
       "    <tr>\n",
       "      <th>0</th>\n",
       "      <td>/9FBwqcd9IRruEDUrTdcaafOMKUq.jpg</td>\n",
       "      <td>10194.0</td>\n",
       "      <td>862</td>\n",
       "      <td>Toy Story Collection</td>\n",
       "      <td>/7G9915LfUQ2lVfwMEEhDsn3kT4B.jpg</td>\n",
       "    </tr>\n",
       "    <tr>\n",
       "      <th>2</th>\n",
       "      <td>/hypTnLot2z8wpFS7qwsQHW1uV8u.jpg</td>\n",
       "      <td>119050.0</td>\n",
       "      <td>15602</td>\n",
       "      <td>Grumpy Old Men Collection</td>\n",
       "      <td>/nLvUdqgPgm3F85NMCii9gVFUcet.jpg</td>\n",
       "    </tr>\n",
       "    <tr>\n",
       "      <th>4</th>\n",
       "      <td>/7qwE57OVZmMJChBpLEbJEmzUydk.jpg</td>\n",
       "      <td>96871.0</td>\n",
       "      <td>11862</td>\n",
       "      <td>Father of the Bride Collection</td>\n",
       "      <td>/nts4iOmNnq7GNicycMJ9pSAn204.jpg</td>\n",
       "    </tr>\n",
       "    <tr>\n",
       "      <th>9</th>\n",
       "      <td>/6VcVl48kNKvdXOZfJPdarlUGOsk.jpg</td>\n",
       "      <td>645.0</td>\n",
       "      <td>710</td>\n",
       "      <td>James Bond Collection</td>\n",
       "      <td>/HORpg5CSkmeQlAolx3bKMrKgfi.jpg</td>\n",
       "    </tr>\n",
       "    <tr>\n",
       "      <th>12</th>\n",
       "      <td>/9VM5LiJV0bGb1st1KyHA3cVnO2G.jpg</td>\n",
       "      <td>117693.0</td>\n",
       "      <td>21032</td>\n",
       "      <td>Balto Collection</td>\n",
       "      <td>/w0ZgH6Lgxt2bQYnf1ss74UvYftm.jpg</td>\n",
       "    </tr>\n",
       "  </tbody>\n",
       "</table>\n",
       "</div>"
      ],
      "text/plain": [
       "                       backdrop_path        id   m_id  \\\n",
       "0   /9FBwqcd9IRruEDUrTdcaafOMKUq.jpg   10194.0    862   \n",
       "2   /hypTnLot2z8wpFS7qwsQHW1uV8u.jpg  119050.0  15602   \n",
       "4   /7qwE57OVZmMJChBpLEbJEmzUydk.jpg   96871.0  11862   \n",
       "9   /6VcVl48kNKvdXOZfJPdarlUGOsk.jpg     645.0    710   \n",
       "12  /9VM5LiJV0bGb1st1KyHA3cVnO2G.jpg  117693.0  21032   \n",
       "\n",
       "                              name                       poster_path  \n",
       "0             Toy Story Collection  /7G9915LfUQ2lVfwMEEhDsn3kT4B.jpg  \n",
       "2        Grumpy Old Men Collection  /nLvUdqgPgm3F85NMCii9gVFUcet.jpg  \n",
       "4   Father of the Bride Collection  /nts4iOmNnq7GNicycMJ9pSAn204.jpg  \n",
       "9            James Bond Collection   /HORpg5CSkmeQlAolx3bKMrKgfi.jpg  \n",
       "12                Balto Collection  /w0ZgH6Lgxt2bQYnf1ss74UvYftm.jpg  "
      ]
     },
     "execution_count": 245,
     "metadata": {},
     "output_type": "execute_result"
    }
   ],
   "source": [
    "# Remove rows with missing values\n",
    "mask = belongs_to_collection[['id', 'name']].isna().all(axis=1)\n",
    "belongs_to_collection = belongs_to_collection[~mask]\n",
    "belongs_to_collection.head()"
   ]
  },
  {
   "cell_type": "markdown",
   "metadata": {},
   "source": [
    "Validate"
   ]
  },
  {
   "cell_type": "code",
   "execution_count": 246,
   "metadata": {},
   "outputs": [
    {
     "name": "stdout",
     "output_type": "stream",
     "text": [
      "<class 'pandas.core.frame.DataFrame'>\n",
      "Index: 4491 entries, 0 to 45379\n",
      "Data columns (total 5 columns):\n",
      " #   Column         Non-Null Count  Dtype  \n",
      "---  ------         --------------  -----  \n",
      " 0   backdrop_path  3263 non-null   object \n",
      " 1   id             4491 non-null   float64\n",
      " 2   m_id           4491 non-null   int64  \n",
      " 3   name           4491 non-null   object \n",
      " 4   poster_path    3948 non-null   object \n",
      "dtypes: float64(1), int64(1), object(3)\n",
      "memory usage: 210.5+ KB\n"
     ]
    }
   ],
   "source": [
    "# Inspect the data type\n",
    "belongs_to_collection.info()"
   ]
  },
  {
   "cell_type": "markdown",
   "metadata": {},
   "source": [
    "Extracting and separating genres column"
   ]
  },
  {
   "cell_type": "code",
   "execution_count": 247,
   "metadata": {},
   "outputs": [
    {
     "data": {
      "text/html": [
       "<div>\n",
       "<style scoped>\n",
       "    .dataframe tbody tr th:only-of-type {\n",
       "        vertical-align: middle;\n",
       "    }\n",
       "\n",
       "    .dataframe tbody tr th {\n",
       "        vertical-align: top;\n",
       "    }\n",
       "\n",
       "    .dataframe thead th {\n",
       "        text-align: right;\n",
       "    }\n",
       "</style>\n",
       "<table border=\"1\" class=\"dataframe\">\n",
       "  <thead>\n",
       "    <tr style=\"text-align: right;\">\n",
       "      <th></th>\n",
       "      <th>id</th>\n",
       "      <th>name</th>\n",
       "      <th>m_id</th>\n",
       "    </tr>\n",
       "  </thead>\n",
       "  <tbody>\n",
       "    <tr>\n",
       "      <th>7195</th>\n",
       "      <td>10752</td>\n",
       "      <td>War</td>\n",
       "      <td>31681</td>\n",
       "    </tr>\n",
       "    <tr>\n",
       "      <th>52057</th>\n",
       "      <td>18</td>\n",
       "      <td>Drama</td>\n",
       "      <td>244267</td>\n",
       "    </tr>\n",
       "    <tr>\n",
       "      <th>24863</th>\n",
       "      <td>18</td>\n",
       "      <td>Drama</td>\n",
       "      <td>38583</td>\n",
       "    </tr>\n",
       "    <tr>\n",
       "      <th>78316</th>\n",
       "      <td>16</td>\n",
       "      <td>Animation</td>\n",
       "      <td>127380</td>\n",
       "    </tr>\n",
       "    <tr>\n",
       "      <th>36660</th>\n",
       "      <td>10749</td>\n",
       "      <td>Romance</td>\n",
       "      <td>41248</td>\n",
       "    </tr>\n",
       "  </tbody>\n",
       "</table>\n",
       "</div>"
      ],
      "text/plain": [
       "          id       name    m_id\n",
       "7195   10752        War   31681\n",
       "52057     18      Drama  244267\n",
       "24863     18      Drama   38583\n",
       "78316     16  Animation  127380\n",
       "36660  10749    Romance   41248"
      ]
     },
     "execution_count": 247,
     "metadata": {},
     "output_type": "execute_result"
    }
   ],
   "source": [
    "genres = normalize_data(movies_metadata, 'genres', 'id', 'm')\n",
    "movies_metadata.drop(columns=['genres'], inplace=True)\n",
    "genres.sample(5)"
   ]
  },
  {
   "cell_type": "markdown",
   "metadata": {},
   "source": [
    "Validate"
   ]
  },
  {
   "cell_type": "code",
   "execution_count": 248,
   "metadata": {},
   "outputs": [
    {
     "name": "stdout",
     "output_type": "stream",
     "text": [
      "<class 'pandas.core.frame.DataFrame'>\n",
      "RangeIndex: 91094 entries, 0 to 91093\n",
      "Data columns (total 3 columns):\n",
      " #   Column  Non-Null Count  Dtype \n",
      "---  ------  --------------  ----- \n",
      " 0   id      91094 non-null  int64 \n",
      " 1   name    91094 non-null  object\n",
      " 2   m_id    91094 non-null  int64 \n",
      "dtypes: int64(2), object(1)\n",
      "memory usage: 2.1+ MB\n"
     ]
    }
   ],
   "source": [
    "genres.info()"
   ]
  },
  {
   "cell_type": "markdown",
   "metadata": {},
   "source": [
    "Extracting production_companies column"
   ]
  },
  {
   "cell_type": "code",
   "execution_count": 249,
   "metadata": {},
   "outputs": [
    {
     "data": {
      "text/html": [
       "<div>\n",
       "<style scoped>\n",
       "    .dataframe tbody tr th:only-of-type {\n",
       "        vertical-align: middle;\n",
       "    }\n",
       "\n",
       "    .dataframe tbody tr th {\n",
       "        vertical-align: top;\n",
       "    }\n",
       "\n",
       "    .dataframe thead th {\n",
       "        text-align: right;\n",
       "    }\n",
       "</style>\n",
       "<table border=\"1\" class=\"dataframe\">\n",
       "  <thead>\n",
       "    <tr style=\"text-align: right;\">\n",
       "      <th></th>\n",
       "      <th>name</th>\n",
       "      <th>id</th>\n",
       "      <th>m_id</th>\n",
       "    </tr>\n",
       "  </thead>\n",
       "  <tbody>\n",
       "    <tr>\n",
       "      <th>4053</th>\n",
       "      <td>Lucasfilm</td>\n",
       "      <td>1</td>\n",
       "      <td>847</td>\n",
       "    </tr>\n",
       "    <tr>\n",
       "      <th>570</th>\n",
       "      <td>Lucasfilm</td>\n",
       "      <td>1</td>\n",
       "      <td>11</td>\n",
       "    </tr>\n",
       "    <tr>\n",
       "      <th>2474</th>\n",
       "      <td>Lucasfilm</td>\n",
       "      <td>1</td>\n",
       "      <td>89</td>\n",
       "    </tr>\n",
       "    <tr>\n",
       "      <th>4517</th>\n",
       "      <td>Lucasfilm</td>\n",
       "      <td>1</td>\n",
       "      <td>10658</td>\n",
       "    </tr>\n",
       "    <tr>\n",
       "      <th>3889</th>\n",
       "      <td>Lucasfilm</td>\n",
       "      <td>1</td>\n",
       "      <td>87</td>\n",
       "    </tr>\n",
       "  </tbody>\n",
       "</table>\n",
       "</div>"
      ],
      "text/plain": [
       "           name  id   m_id\n",
       "4053  Lucasfilm   1    847\n",
       "570   Lucasfilm   1     11\n",
       "2474  Lucasfilm   1     89\n",
       "4517  Lucasfilm   1  10658\n",
       "3889  Lucasfilm   1     87"
      ]
     },
     "execution_count": 249,
     "metadata": {},
     "output_type": "execute_result"
    }
   ],
   "source": [
    "production_companies = normalize_data(movies_metadata, 'production_companies', 'id', 'm')\n",
    "movies_metadata.drop(columns=['production_companies'], inplace=True)\n",
    "production_companies.sort_values(by='id').head()"
   ]
  },
  {
   "cell_type": "markdown",
   "metadata": {},
   "source": [
    "Cleaning process"
   ]
  },
  {
   "cell_type": "code",
   "execution_count": 250,
   "metadata": {},
   "outputs": [
    {
     "name": "stdout",
     "output_type": "stream",
     "text": [
      "<class 'pandas.core.frame.DataFrame'>\n",
      "RangeIndex: 70557 entries, 0 to 70556\n",
      "Data columns (total 3 columns):\n",
      " #   Column  Non-Null Count  Dtype \n",
      "---  ------  --------------  ----- \n",
      " 0   name    70557 non-null  object\n",
      " 1   id      70557 non-null  int64 \n",
      " 2   m_id    70557 non-null  int64 \n",
      "dtypes: int64(2), object(1)\n",
      "memory usage: 1.6+ MB\n"
     ]
    }
   ],
   "source": [
    "production_companies.info()"
   ]
  },
  {
   "cell_type": "markdown",
   "metadata": {},
   "source": [
    "Extracting production_countries DataFrame"
   ]
  },
  {
   "cell_type": "code",
   "execution_count": 251,
   "metadata": {},
   "outputs": [
    {
     "data": {
      "text/html": [
       "<div>\n",
       "<style scoped>\n",
       "    .dataframe tbody tr th:only-of-type {\n",
       "        vertical-align: middle;\n",
       "    }\n",
       "\n",
       "    .dataframe tbody tr th {\n",
       "        vertical-align: top;\n",
       "    }\n",
       "\n",
       "    .dataframe thead th {\n",
       "        text-align: right;\n",
       "    }\n",
       "</style>\n",
       "<table border=\"1\" class=\"dataframe\">\n",
       "  <thead>\n",
       "    <tr style=\"text-align: right;\">\n",
       "      <th></th>\n",
       "      <th>iso_3166_1</th>\n",
       "      <th>name</th>\n",
       "      <th>m_id</th>\n",
       "    </tr>\n",
       "  </thead>\n",
       "  <tbody>\n",
       "    <tr>\n",
       "      <th>10039</th>\n",
       "      <td>US</td>\n",
       "      <td>United States of America</td>\n",
       "      <td>31592</td>\n",
       "    </tr>\n",
       "    <tr>\n",
       "      <th>25785</th>\n",
       "      <td>US</td>\n",
       "      <td>United States of America</td>\n",
       "      <td>198287</td>\n",
       "    </tr>\n",
       "    <tr>\n",
       "      <th>48140</th>\n",
       "      <td>SE</td>\n",
       "      <td>Sweden</td>\n",
       "      <td>37695</td>\n",
       "    </tr>\n",
       "    <tr>\n",
       "      <th>21551</th>\n",
       "      <td>US</td>\n",
       "      <td>United States of America</td>\n",
       "      <td>67885</td>\n",
       "    </tr>\n",
       "    <tr>\n",
       "      <th>12481</th>\n",
       "      <td>AT</td>\n",
       "      <td>Austria</td>\n",
       "      <td>445</td>\n",
       "    </tr>\n",
       "  </tbody>\n",
       "</table>\n",
       "</div>"
      ],
      "text/plain": [
       "      iso_3166_1                      name    m_id\n",
       "10039         US  United States of America   31592\n",
       "25785         US  United States of America  198287\n",
       "48140         SE                    Sweden   37695\n",
       "21551         US  United States of America   67885\n",
       "12481         AT                   Austria     445"
      ]
     },
     "execution_count": 251,
     "metadata": {},
     "output_type": "execute_result"
    }
   ],
   "source": [
    "production_countries = normalize_data(movies_metadata, 'production_countries', 'id', 'm')\n",
    "movies_metadata.drop(columns=['production_countries'], inplace=True)\n",
    "production_countries.sample(5)"
   ]
  },
  {
   "cell_type": "markdown",
   "metadata": {},
   "source": [
    "Validate"
   ]
  },
  {
   "cell_type": "code",
   "execution_count": 252,
   "metadata": {},
   "outputs": [
    {
     "name": "stdout",
     "output_type": "stream",
     "text": [
      "<class 'pandas.core.frame.DataFrame'>\n",
      "RangeIndex: 49430 entries, 0 to 49429\n",
      "Data columns (total 3 columns):\n",
      " #   Column      Non-Null Count  Dtype \n",
      "---  ------      --------------  ----- \n",
      " 0   iso_3166_1  49430 non-null  object\n",
      " 1   name        49430 non-null  object\n",
      " 2   m_id        49430 non-null  int64 \n",
      "dtypes: int64(1), object(2)\n",
      "memory usage: 1.1+ MB\n"
     ]
    }
   ],
   "source": [
    "production_countries.info()"
   ]
  },
  {
   "cell_type": "markdown",
   "metadata": {},
   "source": [
    "Extracting spoken_languages DataFrame"
   ]
  },
  {
   "cell_type": "code",
   "execution_count": 253,
   "metadata": {},
   "outputs": [
    {
     "data": {
      "text/html": [
       "<div>\n",
       "<style scoped>\n",
       "    .dataframe tbody tr th:only-of-type {\n",
       "        vertical-align: middle;\n",
       "    }\n",
       "\n",
       "    .dataframe tbody tr th {\n",
       "        vertical-align: top;\n",
       "    }\n",
       "\n",
       "    .dataframe thead th {\n",
       "        text-align: right;\n",
       "    }\n",
       "</style>\n",
       "<table border=\"1\" class=\"dataframe\">\n",
       "  <thead>\n",
       "    <tr style=\"text-align: right;\">\n",
       "      <th></th>\n",
       "      <th>iso_639_1</th>\n",
       "      <th>name</th>\n",
       "      <th>m_id</th>\n",
       "    </tr>\n",
       "  </thead>\n",
       "  <tbody>\n",
       "    <tr>\n",
       "      <th>5785</th>\n",
       "      <td>en</td>\n",
       "      <td>English</td>\n",
       "      <td>17170</td>\n",
       "    </tr>\n",
       "    <tr>\n",
       "      <th>19219</th>\n",
       "      <td>ru</td>\n",
       "      <td>Pусский</td>\n",
       "      <td>98914</td>\n",
       "    </tr>\n",
       "    <tr>\n",
       "      <th>10228</th>\n",
       "      <td>ja</td>\n",
       "      <td>日本語</td>\n",
       "      <td>5544</td>\n",
       "    </tr>\n",
       "    <tr>\n",
       "      <th>17035</th>\n",
       "      <td>en</td>\n",
       "      <td>English</td>\n",
       "      <td>17106</td>\n",
       "    </tr>\n",
       "    <tr>\n",
       "      <th>17209</th>\n",
       "      <td>cs</td>\n",
       "      <td>Český</td>\n",
       "      <td>31658</td>\n",
       "    </tr>\n",
       "  </tbody>\n",
       "</table>\n",
       "</div>"
      ],
      "text/plain": [
       "      iso_639_1     name   m_id\n",
       "5785         en  English  17170\n",
       "19219        ru  Pусский  98914\n",
       "10228        ja      日本語   5544\n",
       "17035        en  English  17106\n",
       "17209        cs    Český  31658"
      ]
     },
     "execution_count": 253,
     "metadata": {},
     "output_type": "execute_result"
    }
   ],
   "source": [
    "spoken_languages = normalize_data(movies_metadata, 'spoken_languages', 'id', 'm')\n",
    "movies_metadata.drop(columns=['spoken_languages'], inplace=True)\n",
    "spoken_languages.sample(5)"
   ]
  },
  {
   "cell_type": "markdown",
   "metadata": {},
   "source": [
    "Validate"
   ]
  },
  {
   "cell_type": "code",
   "execution_count": 254,
   "metadata": {},
   "outputs": [
    {
     "name": "stdout",
     "output_type": "stream",
     "text": [
      "<class 'pandas.core.frame.DataFrame'>\n",
      "RangeIndex: 53303 entries, 0 to 53302\n",
      "Data columns (total 3 columns):\n",
      " #   Column     Non-Null Count  Dtype \n",
      "---  ------     --------------  ----- \n",
      " 0   iso_639_1  53303 non-null  object\n",
      " 1   name       53303 non-null  object\n",
      " 2   m_id       53303 non-null  int64 \n",
      "dtypes: int64(1), object(2)\n",
      "memory usage: 1.2+ MB\n"
     ]
    }
   ],
   "source": [
    "spoken_languages.info()"
   ]
  },
  {
   "cell_type": "markdown",
   "metadata": {},
   "source": [
    "#### Validate whether the data is valid and related"
   ]
  },
  {
   "cell_type": "code",
   "execution_count": 255,
   "metadata": {},
   "outputs": [
    {
     "data": {
      "text/html": [
       "<div>\n",
       "<style scoped>\n",
       "    .dataframe tbody tr th:only-of-type {\n",
       "        vertical-align: middle;\n",
       "    }\n",
       "\n",
       "    .dataframe tbody tr th {\n",
       "        vertical-align: top;\n",
       "    }\n",
       "\n",
       "    .dataframe thead th {\n",
       "        text-align: right;\n",
       "    }\n",
       "</style>\n",
       "<table border=\"1\" class=\"dataframe\">\n",
       "  <thead>\n",
       "    <tr style=\"text-align: right;\">\n",
       "      <th></th>\n",
       "      <th>userId</th>\n",
       "      <th>movieId</th>\n",
       "      <th>rating</th>\n",
       "      <th>timestamp</th>\n",
       "    </tr>\n",
       "  </thead>\n",
       "  <tbody>\n",
       "    <tr>\n",
       "      <th>0</th>\n",
       "      <td>1</td>\n",
       "      <td>110</td>\n",
       "      <td>1.0</td>\n",
       "      <td>1425941529</td>\n",
       "    </tr>\n",
       "    <tr>\n",
       "      <th>1</th>\n",
       "      <td>1</td>\n",
       "      <td>147</td>\n",
       "      <td>4.5</td>\n",
       "      <td>1425942435</td>\n",
       "    </tr>\n",
       "    <tr>\n",
       "      <th>2</th>\n",
       "      <td>1</td>\n",
       "      <td>858</td>\n",
       "      <td>5.0</td>\n",
       "      <td>1425941523</td>\n",
       "    </tr>\n",
       "    <tr>\n",
       "      <th>3</th>\n",
       "      <td>1</td>\n",
       "      <td>1221</td>\n",
       "      <td>5.0</td>\n",
       "      <td>1425941546</td>\n",
       "    </tr>\n",
       "    <tr>\n",
       "      <th>4</th>\n",
       "      <td>1</td>\n",
       "      <td>1246</td>\n",
       "      <td>5.0</td>\n",
       "      <td>1425941556</td>\n",
       "    </tr>\n",
       "  </tbody>\n",
       "</table>\n",
       "</div>"
      ],
      "text/plain": [
       "   userId  movieId  rating   timestamp\n",
       "0       1      110     1.0  1425941529\n",
       "1       1      147     4.5  1425942435\n",
       "2       1      858     5.0  1425941523\n",
       "3       1     1221     5.0  1425941546\n",
       "4       1     1246     5.0  1425941556"
      ]
     },
     "execution_count": 255,
     "metadata": {},
     "output_type": "execute_result"
    }
   ],
   "source": [
    "# Taking sample\n",
    "ratings.head()"
   ]
  },
  {
   "cell_type": "code",
   "execution_count": 256,
   "metadata": {},
   "outputs": [
    {
     "data": {
      "text/html": [
       "<div>\n",
       "<style scoped>\n",
       "    .dataframe tbody tr th:only-of-type {\n",
       "        vertical-align: middle;\n",
       "    }\n",
       "\n",
       "    .dataframe tbody tr th {\n",
       "        vertical-align: top;\n",
       "    }\n",
       "\n",
       "    .dataframe thead th {\n",
       "        text-align: right;\n",
       "    }\n",
       "</style>\n",
       "<table border=\"1\" class=\"dataframe\">\n",
       "  <thead>\n",
       "    <tr style=\"text-align: right;\">\n",
       "      <th></th>\n",
       "      <th>cast</th>\n",
       "      <th>crew</th>\n",
       "      <th>id</th>\n",
       "    </tr>\n",
       "  </thead>\n",
       "  <tbody>\n",
       "    <tr>\n",
       "      <th>302</th>\n",
       "      <td>[{'cast_id': 9, 'character': 'Valentine Dussau...</td>\n",
       "      <td>[{'credit_id': '52fe4219c3a36847f8003dbd', 'de...</td>\n",
       "      <td>110</td>\n",
       "    </tr>\n",
       "  </tbody>\n",
       "</table>\n",
       "</div>"
      ],
      "text/plain": [
       "                                                  cast  \\\n",
       "302  [{'cast_id': 9, 'character': 'Valentine Dussau...   \n",
       "\n",
       "                                                  crew   id  \n",
       "302  [{'credit_id': '52fe4219c3a36847f8003dbd', 'de...  110  "
      ]
     },
     "execution_count": 256,
     "metadata": {},
     "output_type": "execute_result"
    }
   ],
   "source": [
    "credits[credits['id'] == 110]"
   ]
  },
  {
   "cell_type": "code",
   "execution_count": 257,
   "metadata": {},
   "outputs": [
    {
     "data": {
      "text/html": [
       "<div>\n",
       "<style scoped>\n",
       "    .dataframe tbody tr th:only-of-type {\n",
       "        vertical-align: middle;\n",
       "    }\n",
       "\n",
       "    .dataframe tbody tr th {\n",
       "        vertical-align: top;\n",
       "    }\n",
       "\n",
       "    .dataframe thead th {\n",
       "        text-align: right;\n",
       "    }\n",
       "</style>\n",
       "<table border=\"1\" class=\"dataframe\">\n",
       "  <thead>\n",
       "    <tr style=\"text-align: right;\">\n",
       "      <th></th>\n",
       "      <th>cast_id</th>\n",
       "      <th>character</th>\n",
       "      <th>credit_id</th>\n",
       "      <th>gender</th>\n",
       "      <th>id</th>\n",
       "      <th>name</th>\n",
       "      <th>order</th>\n",
       "      <th>profile_path</th>\n",
       "      <th>m_id</th>\n",
       "    </tr>\n",
       "  </thead>\n",
       "  <tbody>\n",
       "    <tr>\n",
       "      <th>2674</th>\n",
       "      <td>4</td>\n",
       "      <td>Lt. Peter 'WEAPS' Ince</td>\n",
       "      <td>52fe44ccc3a36847f80aa7e9</td>\n",
       "      <td>2</td>\n",
       "      <td>110</td>\n",
       "      <td>Viggo Mortensen</td>\n",
       "      <td>4</td>\n",
       "      <td>/gYtVNMwX96fE9F0WVkdC0SGffkn.jpg</td>\n",
       "      <td>8963</td>\n",
       "    </tr>\n",
       "    <tr>\n",
       "      <th>3110</th>\n",
       "      <td>14</td>\n",
       "      <td>Lucifer</td>\n",
       "      <td>535e9b58c3a36830a9005700</td>\n",
       "      <td>2</td>\n",
       "      <td>110</td>\n",
       "      <td>Viggo Mortensen</td>\n",
       "      <td>5</td>\n",
       "      <td>/gYtVNMwX96fE9F0WVkdC0SGffkn.jpg</td>\n",
       "      <td>11980</td>\n",
       "    </tr>\n",
       "    <tr>\n",
       "      <th>7041</th>\n",
       "      <td>11</td>\n",
       "      <td>Lalin</td>\n",
       "      <td>52fe443bc3a36847f8089ef7</td>\n",
       "      <td>2</td>\n",
       "      <td>110</td>\n",
       "      <td>Viggo Mortensen</td>\n",
       "      <td>7</td>\n",
       "      <td>/gYtVNMwX96fE9F0WVkdC0SGffkn.jpg</td>\n",
       "      <td>6075</td>\n",
       "    </tr>\n",
       "    <tr>\n",
       "      <th>12512</th>\n",
       "      <td>11</td>\n",
       "      <td>Roy Nord</td>\n",
       "      <td>52fe44159251416c75028531</td>\n",
       "      <td>2</td>\n",
       "      <td>110</td>\n",
       "      <td>Viggo Mortensen</td>\n",
       "      <td>2</td>\n",
       "      <td>/gYtVNMwX96fE9F0WVkdC0SGffkn.jpg</td>\n",
       "      <td>11228</td>\n",
       "    </tr>\n",
       "    <tr>\n",
       "      <th>23655</th>\n",
       "      <td>7</td>\n",
       "      <td>Guy Foucard</td>\n",
       "      <td>52fe44b7c3a36847f80a5f6f</td>\n",
       "      <td>2</td>\n",
       "      <td>110</td>\n",
       "      <td>Viggo Mortensen</td>\n",
       "      <td>4</td>\n",
       "      <td>/gYtVNMwX96fE9F0WVkdC0SGffkn.jpg</td>\n",
       "      <td>8744</td>\n",
       "    </tr>\n",
       "  </tbody>\n",
       "</table>\n",
       "</div>"
      ],
      "text/plain": [
       "       cast_id               character                 credit_id  gender   id  \\\n",
       "2674         4  Lt. Peter 'WEAPS' Ince  52fe44ccc3a36847f80aa7e9       2  110   \n",
       "3110        14                 Lucifer  535e9b58c3a36830a9005700       2  110   \n",
       "7041        11                   Lalin  52fe443bc3a36847f8089ef7       2  110   \n",
       "12512       11                Roy Nord  52fe44159251416c75028531       2  110   \n",
       "23655        7             Guy Foucard  52fe44b7c3a36847f80a5f6f       2  110   \n",
       "\n",
       "                  name  order                      profile_path   m_id  \n",
       "2674   Viggo Mortensen      4  /gYtVNMwX96fE9F0WVkdC0SGffkn.jpg   8963  \n",
       "3110   Viggo Mortensen      5  /gYtVNMwX96fE9F0WVkdC0SGffkn.jpg  11980  \n",
       "7041   Viggo Mortensen      7  /gYtVNMwX96fE9F0WVkdC0SGffkn.jpg   6075  \n",
       "12512  Viggo Mortensen      2  /gYtVNMwX96fE9F0WVkdC0SGffkn.jpg  11228  \n",
       "23655  Viggo Mortensen      4  /gYtVNMwX96fE9F0WVkdC0SGffkn.jpg   8744  "
      ]
     },
     "execution_count": 257,
     "metadata": {},
     "output_type": "execute_result"
    }
   ],
   "source": [
    "c_cast[c_cast['id'] == 110].head()"
   ]
  },
  {
   "cell_type": "code",
   "execution_count": 258,
   "metadata": {},
   "outputs": [
    {
     "data": {
      "text/html": [
       "<div>\n",
       "<style scoped>\n",
       "    .dataframe tbody tr th:only-of-type {\n",
       "        vertical-align: middle;\n",
       "    }\n",
       "\n",
       "    .dataframe tbody tr th {\n",
       "        vertical-align: top;\n",
       "    }\n",
       "\n",
       "    .dataframe thead th {\n",
       "        text-align: right;\n",
       "    }\n",
       "</style>\n",
       "<table border=\"1\" class=\"dataframe\">\n",
       "  <thead>\n",
       "    <tr style=\"text-align: right;\">\n",
       "      <th></th>\n",
       "      <th>credit_id</th>\n",
       "      <th>department</th>\n",
       "      <th>gender</th>\n",
       "      <th>id</th>\n",
       "      <th>job</th>\n",
       "      <th>name</th>\n",
       "      <th>profile_path</th>\n",
       "      <th>m_id</th>\n",
       "    </tr>\n",
       "  </thead>\n",
       "  <tbody>\n",
       "    <tr>\n",
       "      <th>344703</th>\n",
       "      <td>5545f2619251414c92003c16</td>\n",
       "      <td>Production</td>\n",
       "      <td>2</td>\n",
       "      <td>110</td>\n",
       "      <td>Co-Producer</td>\n",
       "      <td>Viggo Mortensen</td>\n",
       "      <td>/gYtVNMwX96fE9F0WVkdC0SGffkn.jpg</td>\n",
       "      <td>283708</td>\n",
       "    </tr>\n",
       "  </tbody>\n",
       "</table>\n",
       "</div>"
      ],
      "text/plain": [
       "                       credit_id  department  gender   id          job  \\\n",
       "344703  5545f2619251414c92003c16  Production       2  110  Co-Producer   \n",
       "\n",
       "                   name                      profile_path    m_id  \n",
       "344703  Viggo Mortensen  /gYtVNMwX96fE9F0WVkdC0SGffkn.jpg  283708  "
      ]
     },
     "execution_count": 258,
     "metadata": {},
     "output_type": "execute_result"
    }
   ],
   "source": [
    "c_crew[c_crew['id'] == 110].head()"
   ]
  },
  {
   "cell_type": "code",
   "execution_count": 259,
   "metadata": {},
   "outputs": [
    {
     "data": {
      "text/html": [
       "<div>\n",
       "<style scoped>\n",
       "    .dataframe tbody tr th:only-of-type {\n",
       "        vertical-align: middle;\n",
       "    }\n",
       "\n",
       "    .dataframe tbody tr th {\n",
       "        vertical-align: top;\n",
       "    }\n",
       "\n",
       "    .dataframe thead th {\n",
       "        text-align: right;\n",
       "    }\n",
       "</style>\n",
       "<table border=\"1\" class=\"dataframe\">\n",
       "  <thead>\n",
       "    <tr style=\"text-align: right;\">\n",
       "      <th></th>\n",
       "      <th>id</th>\n",
       "      <th>name</th>\n",
       "      <th>m_id</th>\n",
       "    </tr>\n",
       "  </thead>\n",
       "  <tbody>\n",
       "    <tr>\n",
       "      <th>2028</th>\n",
       "      <td>934</td>\n",
       "      <td>judge</td>\n",
       "      <td>110</td>\n",
       "    </tr>\n",
       "    <tr>\n",
       "      <th>2029</th>\n",
       "      <td>1533</td>\n",
       "      <td>isolation</td>\n",
       "      <td>110</td>\n",
       "    </tr>\n",
       "    <tr>\n",
       "      <th>2030</th>\n",
       "      <td>2863</td>\n",
       "      <td>mannequin</td>\n",
       "      <td>110</td>\n",
       "    </tr>\n",
       "    <tr>\n",
       "      <th>2031</th>\n",
       "      <td>4918</td>\n",
       "      <td>shadowing</td>\n",
       "      <td>110</td>\n",
       "    </tr>\n",
       "    <tr>\n",
       "      <th>2032</th>\n",
       "      <td>5259</td>\n",
       "      <td>english channel</td>\n",
       "      <td>110</td>\n",
       "    </tr>\n",
       "  </tbody>\n",
       "</table>\n",
       "</div>"
      ],
      "text/plain": [
       "        id             name  m_id\n",
       "2028   934            judge   110\n",
       "2029  1533        isolation   110\n",
       "2030  2863        mannequin   110\n",
       "2031  4918        shadowing   110\n",
       "2032  5259  english channel   110"
      ]
     },
     "execution_count": 259,
     "metadata": {},
     "output_type": "execute_result"
    }
   ],
   "source": [
    "keywords[keywords['m_id'] == 110].head()"
   ]
  },
  {
   "cell_type": "code",
   "execution_count": 260,
   "metadata": {},
   "outputs": [
    {
     "data": {
      "text/html": [
       "<div>\n",
       "<style scoped>\n",
       "    .dataframe tbody tr th:only-of-type {\n",
       "        vertical-align: middle;\n",
       "    }\n",
       "\n",
       "    .dataframe tbody tr th {\n",
       "        vertical-align: top;\n",
       "    }\n",
       "\n",
       "    .dataframe thead th {\n",
       "        text-align: right;\n",
       "    }\n",
       "</style>\n",
       "<table border=\"1\" class=\"dataframe\">\n",
       "  <thead>\n",
       "    <tr style=\"text-align: right;\">\n",
       "      <th></th>\n",
       "      <th>movieId</th>\n",
       "      <th>imdbId</th>\n",
       "      <th>tmdbId</th>\n",
       "    </tr>\n",
       "  </thead>\n",
       "  <tbody>\n",
       "    <tr>\n",
       "      <th>303</th>\n",
       "      <td>306</td>\n",
       "      <td>111495</td>\n",
       "      <td>110</td>\n",
       "    </tr>\n",
       "  </tbody>\n",
       "</table>\n",
       "</div>"
      ],
      "text/plain": [
       "     movieId  imdbId  tmdbId\n",
       "303      306  111495     110"
      ]
     },
     "execution_count": 260,
     "metadata": {},
     "output_type": "execute_result"
    }
   ],
   "source": [
    "links[links['tmdbId'] == 110].head()"
   ]
  },
  {
   "cell_type": "markdown",
   "metadata": {},
   "source": [
    "[Link validation](https://www.imdb.com/title/tt0111495/)"
   ]
  },
  {
   "cell_type": "code",
   "execution_count": 261,
   "metadata": {},
   "outputs": [
    {
     "data": {
      "text/html": [
       "<div>\n",
       "<style scoped>\n",
       "    .dataframe tbody tr th:only-of-type {\n",
       "        vertical-align: middle;\n",
       "    }\n",
       "\n",
       "    .dataframe tbody tr th {\n",
       "        vertical-align: top;\n",
       "    }\n",
       "\n",
       "    .dataframe thead th {\n",
       "        text-align: right;\n",
       "    }\n",
       "</style>\n",
       "<table border=\"1\" class=\"dataframe\">\n",
       "  <thead>\n",
       "    <tr style=\"text-align: right;\">\n",
       "      <th></th>\n",
       "      <th>adult</th>\n",
       "      <th>budget</th>\n",
       "      <th>homepage</th>\n",
       "      <th>id</th>\n",
       "      <th>imdb_id</th>\n",
       "      <th>original_language</th>\n",
       "      <th>original_title</th>\n",
       "      <th>overview</th>\n",
       "      <th>popularity</th>\n",
       "      <th>poster_path</th>\n",
       "      <th>release_date</th>\n",
       "      <th>revenue</th>\n",
       "      <th>runtime</th>\n",
       "      <th>status</th>\n",
       "      <th>tagline</th>\n",
       "      <th>title</th>\n",
       "      <th>video</th>\n",
       "      <th>vote_average</th>\n",
       "      <th>vote_count</th>\n",
       "    </tr>\n",
       "  </thead>\n",
       "  <tbody>\n",
       "    <tr>\n",
       "      <th>302</th>\n",
       "      <td>False</td>\n",
       "      <td>0</td>\n",
       "      <td>NaN</td>\n",
       "      <td>110</td>\n",
       "      <td>tt0111495</td>\n",
       "      <td>fr</td>\n",
       "      <td>Trois couleurs : Rouge</td>\n",
       "      <td>Red This is the third film from the trilogy by...</td>\n",
       "      <td>7.832755</td>\n",
       "      <td>/77CFEssoKesi4zvtADEpIrSKhA3.jpg</td>\n",
       "      <td>1994-05-27</td>\n",
       "      <td>0</td>\n",
       "      <td>99.0</td>\n",
       "      <td>Released</td>\n",
       "      <td>NaN</td>\n",
       "      <td>Three Colors: Red</td>\n",
       "      <td>False</td>\n",
       "      <td>7.8</td>\n",
       "      <td>246</td>\n",
       "    </tr>\n",
       "  </tbody>\n",
       "</table>\n",
       "</div>"
      ],
      "text/plain": [
       "     adult  budget homepage   id    imdb_id original_language  \\\n",
       "302  False       0      NaN  110  tt0111495                fr   \n",
       "\n",
       "             original_title  \\\n",
       "302  Trois couleurs : Rouge   \n",
       "\n",
       "                                              overview  popularity  \\\n",
       "302  Red This is the third film from the trilogy by...    7.832755   \n",
       "\n",
       "                          poster_path release_date  revenue  runtime  \\\n",
       "302  /77CFEssoKesi4zvtADEpIrSKhA3.jpg   1994-05-27        0     99.0   \n",
       "\n",
       "       status tagline              title  video  vote_average  vote_count  \n",
       "302  Released     NaN  Three Colors: Red  False           7.8         246  "
      ]
     },
     "execution_count": 261,
     "metadata": {},
     "output_type": "execute_result"
    }
   ],
   "source": [
    "movies_metadata[movies_metadata['id'] == 110]"
   ]
  },
  {
   "cell_type": "code",
   "execution_count": 262,
   "metadata": {},
   "outputs": [
    {
     "data": {
      "text/html": [
       "<div>\n",
       "<style scoped>\n",
       "    .dataframe tbody tr th:only-of-type {\n",
       "        vertical-align: middle;\n",
       "    }\n",
       "\n",
       "    .dataframe tbody tr th {\n",
       "        vertical-align: top;\n",
       "    }\n",
       "\n",
       "    .dataframe thead th {\n",
       "        text-align: right;\n",
       "    }\n",
       "</style>\n",
       "<table border=\"1\" class=\"dataframe\">\n",
       "  <thead>\n",
       "    <tr style=\"text-align: right;\">\n",
       "      <th></th>\n",
       "      <th>backdrop_path</th>\n",
       "      <th>id</th>\n",
       "      <th>m_id</th>\n",
       "      <th>name</th>\n",
       "      <th>poster_path</th>\n",
       "    </tr>\n",
       "  </thead>\n",
       "  <tbody>\n",
       "    <tr>\n",
       "      <th>302</th>\n",
       "      <td>/AeHExfHIl70SZCea907KfEoSkfJ.jpg</td>\n",
       "      <td>131.0</td>\n",
       "      <td>110</td>\n",
       "      <td>Three Colors Collection</td>\n",
       "      <td>/rVdd23QuT5rHX7lZvuAkRRUkeCZ.jpg</td>\n",
       "    </tr>\n",
       "  </tbody>\n",
       "</table>\n",
       "</div>"
      ],
      "text/plain": [
       "                        backdrop_path     id  m_id                     name  \\\n",
       "302  /AeHExfHIl70SZCea907KfEoSkfJ.jpg  131.0   110  Three Colors Collection   \n",
       "\n",
       "                          poster_path  \n",
       "302  /rVdd23QuT5rHX7lZvuAkRRUkeCZ.jpg  "
      ]
     },
     "execution_count": 262,
     "metadata": {},
     "output_type": "execute_result"
    }
   ],
   "source": [
    "belongs_to_collection[belongs_to_collection['m_id'] == 110]"
   ]
  },
  {
   "cell_type": "code",
   "execution_count": 263,
   "metadata": {},
   "outputs": [
    {
     "data": {
      "text/html": [
       "<div>\n",
       "<style scoped>\n",
       "    .dataframe tbody tr th:only-of-type {\n",
       "        vertical-align: middle;\n",
       "    }\n",
       "\n",
       "    .dataframe tbody tr th {\n",
       "        vertical-align: top;\n",
       "    }\n",
       "\n",
       "    .dataframe thead th {\n",
       "        text-align: right;\n",
       "    }\n",
       "</style>\n",
       "<table border=\"1\" class=\"dataframe\">\n",
       "  <thead>\n",
       "    <tr style=\"text-align: right;\">\n",
       "      <th></th>\n",
       "      <th>id</th>\n",
       "      <th>name</th>\n",
       "      <th>m_id</th>\n",
       "    </tr>\n",
       "  </thead>\n",
       "  <tbody>\n",
       "    <tr>\n",
       "      <th>726</th>\n",
       "      <td>18</td>\n",
       "      <td>Drama</td>\n",
       "      <td>110</td>\n",
       "    </tr>\n",
       "    <tr>\n",
       "      <th>727</th>\n",
       "      <td>9648</td>\n",
       "      <td>Mystery</td>\n",
       "      <td>110</td>\n",
       "    </tr>\n",
       "    <tr>\n",
       "      <th>728</th>\n",
       "      <td>10749</td>\n",
       "      <td>Romance</td>\n",
       "      <td>110</td>\n",
       "    </tr>\n",
       "  </tbody>\n",
       "</table>\n",
       "</div>"
      ],
      "text/plain": [
       "        id     name  m_id\n",
       "726     18    Drama   110\n",
       "727   9648  Mystery   110\n",
       "728  10749  Romance   110"
      ]
     },
     "execution_count": 263,
     "metadata": {},
     "output_type": "execute_result"
    }
   ],
   "source": [
    "genres[genres['m_id'] == 110]"
   ]
  },
  {
   "cell_type": "code",
   "execution_count": 264,
   "metadata": {},
   "outputs": [
    {
     "data": {
      "text/html": [
       "<div>\n",
       "<style scoped>\n",
       "    .dataframe tbody tr th:only-of-type {\n",
       "        vertical-align: middle;\n",
       "    }\n",
       "\n",
       "    .dataframe tbody tr th {\n",
       "        vertical-align: top;\n",
       "    }\n",
       "\n",
       "    .dataframe thead th {\n",
       "        text-align: right;\n",
       "    }\n",
       "</style>\n",
       "<table border=\"1\" class=\"dataframe\">\n",
       "  <thead>\n",
       "    <tr style=\"text-align: right;\">\n",
       "      <th></th>\n",
       "      <th>name</th>\n",
       "      <th>id</th>\n",
       "      <th>m_id</th>\n",
       "    </tr>\n",
       "  </thead>\n",
       "  <tbody>\n",
       "    <tr>\n",
       "      <th>674</th>\n",
       "      <td>Zespół Filmowy TOR</td>\n",
       "      <td>38</td>\n",
       "      <td>110</td>\n",
       "    </tr>\n",
       "    <tr>\n",
       "      <th>675</th>\n",
       "      <td>Le Studio Canal+</td>\n",
       "      <td>183</td>\n",
       "      <td>110</td>\n",
       "    </tr>\n",
       "    <tr>\n",
       "      <th>676</th>\n",
       "      <td>France 3 Cinéma</td>\n",
       "      <td>591</td>\n",
       "      <td>110</td>\n",
       "    </tr>\n",
       "    <tr>\n",
       "      <th>677</th>\n",
       "      <td>Télévision Suisse-Romande</td>\n",
       "      <td>1245</td>\n",
       "      <td>110</td>\n",
       "    </tr>\n",
       "  </tbody>\n",
       "</table>\n",
       "</div>"
      ],
      "text/plain": [
       "                          name    id  m_id\n",
       "674         Zespół Filmowy TOR    38   110\n",
       "675           Le Studio Canal+   183   110\n",
       "676            France 3 Cinéma   591   110\n",
       "677  Télévision Suisse-Romande  1245   110"
      ]
     },
     "execution_count": 264,
     "metadata": {},
     "output_type": "execute_result"
    }
   ],
   "source": [
    "production_companies[production_companies['m_id'] == 110]"
   ]
  },
  {
   "cell_type": "code",
   "execution_count": 265,
   "metadata": {},
   "outputs": [
    {
     "data": {
      "text/html": [
       "<div>\n",
       "<style scoped>\n",
       "    .dataframe tbody tr th:only-of-type {\n",
       "        vertical-align: middle;\n",
       "    }\n",
       "\n",
       "    .dataframe tbody tr th {\n",
       "        vertical-align: top;\n",
       "    }\n",
       "\n",
       "    .dataframe thead th {\n",
       "        text-align: right;\n",
       "    }\n",
       "</style>\n",
       "<table border=\"1\" class=\"dataframe\">\n",
       "  <thead>\n",
       "    <tr style=\"text-align: right;\">\n",
       "      <th></th>\n",
       "      <th>iso_3166_1</th>\n",
       "      <th>name</th>\n",
       "      <th>m_id</th>\n",
       "    </tr>\n",
       "  </thead>\n",
       "  <tbody>\n",
       "    <tr>\n",
       "      <th>375</th>\n",
       "      <td>FR</td>\n",
       "      <td>France</td>\n",
       "      <td>110</td>\n",
       "    </tr>\n",
       "    <tr>\n",
       "      <th>376</th>\n",
       "      <td>PL</td>\n",
       "      <td>Poland</td>\n",
       "      <td>110</td>\n",
       "    </tr>\n",
       "    <tr>\n",
       "      <th>377</th>\n",
       "      <td>CH</td>\n",
       "      <td>Switzerland</td>\n",
       "      <td>110</td>\n",
       "    </tr>\n",
       "  </tbody>\n",
       "</table>\n",
       "</div>"
      ],
      "text/plain": [
       "    iso_3166_1         name  m_id\n",
       "375         FR       France   110\n",
       "376         PL       Poland   110\n",
       "377         CH  Switzerland   110"
      ]
     },
     "execution_count": 265,
     "metadata": {},
     "output_type": "execute_result"
    }
   ],
   "source": [
    "production_countries[production_countries['m_id'] == 110]"
   ]
  },
  {
   "cell_type": "code",
   "execution_count": 266,
   "metadata": {},
   "outputs": [
    {
     "data": {
      "text/html": [
       "<div>\n",
       "<style scoped>\n",
       "    .dataframe tbody tr th:only-of-type {\n",
       "        vertical-align: middle;\n",
       "    }\n",
       "\n",
       "    .dataframe tbody tr th {\n",
       "        vertical-align: top;\n",
       "    }\n",
       "\n",
       "    .dataframe thead th {\n",
       "        text-align: right;\n",
       "    }\n",
       "</style>\n",
       "<table border=\"1\" class=\"dataframe\">\n",
       "  <thead>\n",
       "    <tr style=\"text-align: right;\">\n",
       "      <th></th>\n",
       "      <th>iso_639_1</th>\n",
       "      <th>name</th>\n",
       "      <th>m_id</th>\n",
       "    </tr>\n",
       "  </thead>\n",
       "  <tbody>\n",
       "    <tr>\n",
       "      <th>414</th>\n",
       "      <td>fr</td>\n",
       "      <td>Français</td>\n",
       "      <td>110</td>\n",
       "    </tr>\n",
       "  </tbody>\n",
       "</table>\n",
       "</div>"
      ],
      "text/plain": [
       "    iso_639_1      name  m_id\n",
       "414        fr  Français   110"
      ]
     },
     "execution_count": 266,
     "metadata": {},
     "output_type": "execute_result"
    }
   ],
   "source": [
    "spoken_languages[spoken_languages['m_id'] == 110]"
   ]
  },
  {
   "cell_type": "markdown",
   "metadata": {},
   "source": [
    "## Notes\n",
    "- Data on movies_metadata with id 82663, 122662, 249260 have manual correction in the csv\n",
    "- With this all of the data can be concluded to be integrated and validated based on it's ID"
   ]
  }
 ],
 "metadata": {
  "kernelspec": {
   "display_name": "Python 3",
   "language": "python",
   "name": "python3"
  },
  "language_info": {
   "codemirror_mode": {
    "name": "ipython",
    "version": 3
   },
   "file_extension": ".py",
   "mimetype": "text/x-python",
   "name": "python",
   "nbconvert_exporter": "python",
   "pygments_lexer": "ipython3",
   "version": "3.10.4"
  }
 },
 "nbformat": 4,
 "nbformat_minor": 2
}
