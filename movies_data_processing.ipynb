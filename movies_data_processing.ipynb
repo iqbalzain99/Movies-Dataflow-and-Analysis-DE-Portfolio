{
 "cells": [
  {
   "cell_type": "markdown",
   "metadata": {},
   "source": [
    "# Movies Dataset Processing & Analysis\n",
    "\n",
    "![Movies Image](plugins/assets/movies_image.png)\n",
    "\n",
    "### Objective:\n",
    "The aim of this project is to fetch historical data about movies metadata from open APIs. The gathered data will be processed, cleaned, then will be stored in the data lake using AWS S3, loaded into Snowflake, and Visualize through dashboard. \n",
    "\n",
    "The [Kaggle Movies Dataset](https://www.kaggle.com/datasets/rounakbanik/the-movies-dataset/data) that used contains metadata for all 45,000 movies listed in the Full MovieLens Dataset. The dataset consists of movies released on or before July 2017. Data points include cast, crew, plot keywords, budget, revenue, posters, release dates, languages, production companies, countries, TMDB vote counts and vote averages.\n",
    "\n",
    "This dataset also has files containing 26 million ratings from 270,000 users for all 45,000 movies. Ratings are on a scale of 1-5 and have been obtained from the official GroupLens website.\n",
    "\n",
    "## Key Features of the Project:\n",
    "\n",
    "### Data Collection:\n",
    "Identify reliable open sources for movies dataset.\n",
    "Use Python to fetch data using libraries such as requests, pandas, or openpyxl.\n",
    "\n",
    "\n",
    "### Data Processing:\n",
    "Clean and preprocess the data to ensure it's in a usable format.\n",
    "Handle missing data, duplicates, and irrelevant columns.\n",
    "Perform any necessary transformations (e.g., from json to dataset).\n",
    "\n",
    "### Data Storage:\n",
    "Store the data into the data lake (e.g., AWS S3) then load the data from data lake into data warehouse(e.g., Google BigQuery, AWS Redshift) for later use.\n",
    "\n",
    "\n",
    "### Dashboard Development:\n",
    "Use a Python visualization library (e.g., Plotly, Dash, Matplotlib) to build an interactive dashboard.\n",
    "The dashboard will allow users to interact with data, filter by transport type, and visualize transport routes, schedules, or other metrics.\n",
    "\n",
    "\n",
    "### Experimentation & Analysis:\n",
    "Experiment with data fetching, transformation, and the integration of APIs.\n",
    "Explore possible analyses such as peak-hour transport usage, performance (on-time arrivals), and comparison across routes."
   ]
  },
  {
   "cell_type": "markdown",
   "metadata": {},
   "source": [
    "### Load Libraries:"
   ]
  },
  {
   "cell_type": "code",
   "execution_count": 267,
   "metadata": {},
   "outputs": [],
   "source": [
    "# Import all necessary packages\n",
    "import pandas as pd\n",
    "import numpy as np\n",
    "import plugins.utils as utils\n",
    "import snowflake.connector\n",
    "from plugins.config import snow_creds, aws_creds\n",
    "import json\n",
    "from typing import Optional\n",
    "import ast"
   ]
  },
  {
   "cell_type": "markdown",
   "metadata": {},
   "source": [
    "## Data Collection:"
   ]
  },
  {
   "cell_type": "code",
   "execution_count": 268,
   "metadata": {},
   "outputs": [
    {
     "name": "stdout",
     "output_type": "stream",
     "text": [
      "Folder './plugins/assets/data/the-movies-dataset' has been filled.\n"
     ]
    }
   ],
   "source": [
    "# Download the dataset from Kaggle\n",
    "dataset_name = \"rounakbanik/the-movies-dataset\" \n",
    "download_folder = \"./plugins/assets/data/the-movies-dataset\"\n",
    "utils.download_kaggle_dataset(dataset_name, download_folder)"
   ]
  },
  {
   "cell_type": "code",
   "execution_count": 269,
   "metadata": {},
   "outputs": [],
   "source": [
    "# Load all of the data into DataFrames\n",
    "# The column ID -> identifier will be distinguished by using m_id which stands for movie_id (Most likely to be tmdbId in links df)\n",
    "credits = pd.read_csv(\"./plugins/assets/data/the-movies-dataset/credits.csv\")\n",
    "keywords = pd.read_csv(\"./plugins/assets/data/the-movies-dataset/keywords.csv\")\n",
    "links = pd.read_csv(\"./plugins/assets/data/the-movies-dataset/links.csv\")\n",
    "movies_metadata = pd.read_csv(\"./plugins/assets/data/the-movies-dataset/movies_metadata.csv\")\n",
    "ratings = pd.read_csv(\"./plugins/assets/data/the-movies-dataset/ratings.csv\")"
   ]
  },
  {
   "cell_type": "markdown",
   "metadata": {},
   "source": [
    "## Data Processing:"
   ]
  },
  {
   "cell_type": "code",
   "execution_count": 270,
   "metadata": {},
   "outputs": [],
   "source": [
    "def safe_parse_collection(x: pd.Series):\n",
    "    if pd.isna(x):\n",
    "        return np.nan\n",
    "    \n",
    "    if isinstance(x, dict):\n",
    "        return x  # Already a dictionary, return as is\n",
    "    \n",
    "    try:\n",
    "        return ast.literal_eval(x)\n",
    "    except (ValueError, SyntaxError, TypeError):\n",
    "        return np.nan\n",
    "    \n",
    "# AI Generated Code\n",
    "def normalize_data(\n",
    "    df: pd.DataFrame, \n",
    "    subset_column: str, \n",
    "    id_column: str,\n",
    "    prefix: str\n",
    ") -> pd.DataFrame:\n",
    "    \"\"\"Optimized normalization of nested data using vectorized operations.\"\"\"\n",
    "    # Create working copy with only necessary columns\n",
    "    working_df = df[[id_column, subset_column]].copy()\n",
    "    \n",
    "    # Vectorized parsing of nested data\n",
    "    working_df[subset_column] = working_df[subset_column].apply(safe_parse_collection)\n",
    "    \n",
    "    # Filter valid entries and explode lists\n",
    "    valid_mask = working_df[subset_column].apply(\n",
    "        lambda x: isinstance(x, list) and len(x) > 0 and all(isinstance(i, dict) for i in x)\n",
    "    )\n",
    "    exploded_df = working_df[valid_mask].explode(subset_column)\n",
    "    \n",
    "    if exploded_df.empty:\n",
    "        return pd.DataFrame()\n",
    "    \n",
    "    # Normalize nested dicts in vectorized manner\n",
    "    normalized = pd.json_normalize(exploded_df[subset_column])\n",
    "    \n",
    "    # Add reference ID with type conversion for memory efficiency\n",
    "    id_col_name = f\"{prefix}_{id_column}\"\n",
    "    normalized[id_col_name] = exploded_df[id_column].astype(\n",
    "        exploded_df[id_column].dtype\n",
    "    ).values\n",
    "    \n",
    "    return normalized.reset_index(drop=True)\n",
    "\n",
    "def extract_dict_values(\n",
    "    df: pd.DataFrame, \n",
    "    column_name: str, \n",
    "    new_column_prefix: Optional[str] = None\n",
    ") -> pd.DataFrame:\n",
    "    \"\"\"Optimized dictionary expansion using vectorized operations.\"\"\"\n",
    "    # Parse and normalize in bulk\n",
    "    parsed = df[column_name].apply(safe_parse_collection)\n",
    "    normalized = pd.json_normalize(parsed)\n",
    "    \n",
    "    # Apply prefix if specified\n",
    "    if new_column_prefix:\n",
    "        normalized = normalized.add_prefix(f\"{new_column_prefix}_\")\n",
    "    \n",
    "    # Join results using pandas' efficient merge instead of row-wise operations\n",
    "    return pd.concat([df, normalized], axis=1)"
   ]
  },
  {
   "cell_type": "markdown",
   "metadata": {},
   "source": [
    "#### Credits Dataframe Processing:"
   ]
  },
  {
   "cell_type": "code",
   "execution_count": 271,
   "metadata": {},
   "outputs": [
    {
     "data": {
      "text/html": [
       "<div>\n",
       "<style scoped>\n",
       "    .dataframe tbody tr th:only-of-type {\n",
       "        vertical-align: middle;\n",
       "    }\n",
       "\n",
       "    .dataframe tbody tr th {\n",
       "        vertical-align: top;\n",
       "    }\n",
       "\n",
       "    .dataframe thead th {\n",
       "        text-align: right;\n",
       "    }\n",
       "</style>\n",
       "<table border=\"1\" class=\"dataframe\">\n",
       "  <thead>\n",
       "    <tr style=\"text-align: right;\">\n",
       "      <th></th>\n",
       "      <th>cast</th>\n",
       "      <th>crew</th>\n",
       "      <th>id</th>\n",
       "    </tr>\n",
       "  </thead>\n",
       "  <tbody>\n",
       "    <tr>\n",
       "      <th>24460</th>\n",
       "      <td>[{'cast_id': 1, 'character': 'Prof. Fluke Kels...</td>\n",
       "      <td>[{'credit_id': '52fe447e9251416c91012abd', 'de...</td>\n",
       "      <td>31446</td>\n",
       "    </tr>\n",
       "    <tr>\n",
       "      <th>7750</th>\n",
       "      <td>[{'cast_id': 4, 'character': 'Constable Brenda...</td>\n",
       "      <td>[{'credit_id': '52fe45dcc3a36847f80de925', 'de...</td>\n",
       "      <td>41774</td>\n",
       "    </tr>\n",
       "    <tr>\n",
       "      <th>30621</th>\n",
       "      <td>[]</td>\n",
       "      <td>[{'credit_id': '52fe4cb8c3a368484e1c4055', 'de...</td>\n",
       "      <td>201913</td>\n",
       "    </tr>\n",
       "    <tr>\n",
       "      <th>23278</th>\n",
       "      <td>[{'cast_id': 2, 'character': 'Himself', 'credi...</td>\n",
       "      <td>[{'credit_id': '52fe4e2f9251416c91129485', 'de...</td>\n",
       "      <td>252143</td>\n",
       "    </tr>\n",
       "    <tr>\n",
       "      <th>41966</th>\n",
       "      <td>[{'cast_id': 3, 'character': 'Allan Karlsson',...</td>\n",
       "      <td>[{'credit_id': '577a2369c3a36878e800297c', 'de...</td>\n",
       "      <td>404791</td>\n",
       "    </tr>\n",
       "  </tbody>\n",
       "</table>\n",
       "</div>"
      ],
      "text/plain": [
       "                                                    cast  \\\n",
       "24460  [{'cast_id': 1, 'character': 'Prof. Fluke Kels...   \n",
       "7750   [{'cast_id': 4, 'character': 'Constable Brenda...   \n",
       "30621                                                 []   \n",
       "23278  [{'cast_id': 2, 'character': 'Himself', 'credi...   \n",
       "41966  [{'cast_id': 3, 'character': 'Allan Karlsson',...   \n",
       "\n",
       "                                                    crew      id  \n",
       "24460  [{'credit_id': '52fe447e9251416c91012abd', 'de...   31446  \n",
       "7750   [{'credit_id': '52fe45dcc3a36847f80de925', 'de...   41774  \n",
       "30621  [{'credit_id': '52fe4cb8c3a368484e1c4055', 'de...  201913  \n",
       "23278  [{'credit_id': '52fe4e2f9251416c91129485', 'de...  252143  \n",
       "41966  [{'credit_id': '577a2369c3a36878e800297c', 'de...  404791  "
      ]
     },
     "execution_count": 271,
     "metadata": {},
     "output_type": "execute_result"
    }
   ],
   "source": [
    "# Take a peek of current credits data\n",
    "credits.sample(5)"
   ]
  },
  {
   "cell_type": "code",
   "execution_count": 272,
   "metadata": {},
   "outputs": [],
   "source": [
    "c_cast = normalize_data(credits, 'cast', 'id', 'm')\n",
    "c_crew = normalize_data(credits, 'crew', 'id', 'm')"
   ]
  },
  {
   "cell_type": "markdown",
   "metadata": {},
   "source": [
    "Process c_cast dataframe"
   ]
  },
  {
   "cell_type": "code",
   "execution_count": 273,
   "metadata": {},
   "outputs": [
    {
     "data": {
      "text/html": [
       "<div>\n",
       "<style scoped>\n",
       "    .dataframe tbody tr th:only-of-type {\n",
       "        vertical-align: middle;\n",
       "    }\n",
       "\n",
       "    .dataframe tbody tr th {\n",
       "        vertical-align: top;\n",
       "    }\n",
       "\n",
       "    .dataframe thead th {\n",
       "        text-align: right;\n",
       "    }\n",
       "</style>\n",
       "<table border=\"1\" class=\"dataframe\">\n",
       "  <thead>\n",
       "    <tr style=\"text-align: right;\">\n",
       "      <th></th>\n",
       "      <th>cast_id</th>\n",
       "      <th>character</th>\n",
       "      <th>credit_id</th>\n",
       "      <th>gender</th>\n",
       "      <th>id</th>\n",
       "      <th>name</th>\n",
       "      <th>order</th>\n",
       "      <th>profile_path</th>\n",
       "      <th>m_id</th>\n",
       "    </tr>\n",
       "  </thead>\n",
       "  <tbody>\n",
       "    <tr>\n",
       "      <th>510269</th>\n",
       "      <td>2</td>\n",
       "      <td>Clov</td>\n",
       "      <td>52fe4786c3a368484e0cbda5</td>\n",
       "      <td>2</td>\n",
       "      <td>11207</td>\n",
       "      <td>David Thewlis</td>\n",
       "      <td>1</td>\n",
       "      <td>/1YhN379UKCPt94nbLzncsDHTC9T.jpg</td>\n",
       "      <td>68139</td>\n",
       "    </tr>\n",
       "    <tr>\n",
       "      <th>213094</th>\n",
       "      <td>27</td>\n",
       "      <td>Sudimack</td>\n",
       "      <td>52fe462d9251416c7506fb4f</td>\n",
       "      <td>2</td>\n",
       "      <td>81829</td>\n",
       "      <td>Michael Hayden</td>\n",
       "      <td>5</td>\n",
       "      <td>None</td>\n",
       "      <td>14979</td>\n",
       "    </tr>\n",
       "    <tr>\n",
       "      <th>424740</th>\n",
       "      <td>9</td>\n",
       "      <td>Young Gisani</td>\n",
       "      <td>52fe46eac3a36847f81196e5</td>\n",
       "      <td>2</td>\n",
       "      <td>135387</td>\n",
       "      <td>Thabo Malema</td>\n",
       "      <td>2</td>\n",
       "      <td>None</td>\n",
       "      <td>46197</td>\n",
       "    </tr>\n",
       "    <tr>\n",
       "      <th>541304</th>\n",
       "      <td>9</td>\n",
       "      <td>Zhoo</td>\n",
       "      <td>57f0becbc3a3683fac009347</td>\n",
       "      <td>0</td>\n",
       "      <td>993943</td>\n",
       "      <td>Mark Chao</td>\n",
       "      <td>5</td>\n",
       "      <td>/i8rgRpr4cSt6Yh7BlrWlNKKpOd6.jpg</td>\n",
       "      <td>413658</td>\n",
       "    </tr>\n",
       "    <tr>\n",
       "      <th>312000</th>\n",
       "      <td>23</td>\n",
       "      <td>Herself</td>\n",
       "      <td>56dd6d01c3a368765c003206</td>\n",
       "      <td>1</td>\n",
       "      <td>20234</td>\n",
       "      <td>Fanny Ardant</td>\n",
       "      <td>10</td>\n",
       "      <td>/ealXbfCd6oCubRDA3PMgKlq6xq.jpg</td>\n",
       "      <td>179144</td>\n",
       "    </tr>\n",
       "  </tbody>\n",
       "</table>\n",
       "</div>"
      ],
      "text/plain": [
       "        cast_id     character                 credit_id  gender      id  \\\n",
       "510269        2          Clov  52fe4786c3a368484e0cbda5       2   11207   \n",
       "213094       27      Sudimack  52fe462d9251416c7506fb4f       2   81829   \n",
       "424740        9  Young Gisani  52fe46eac3a36847f81196e5       2  135387   \n",
       "541304        9          Zhoo  57f0becbc3a3683fac009347       0  993943   \n",
       "312000       23       Herself  56dd6d01c3a368765c003206       1   20234   \n",
       "\n",
       "                  name  order                      profile_path    m_id  \n",
       "510269   David Thewlis      1  /1YhN379UKCPt94nbLzncsDHTC9T.jpg   68139  \n",
       "213094  Michael Hayden      5                              None   14979  \n",
       "424740    Thabo Malema      2                              None   46197  \n",
       "541304       Mark Chao      5  /i8rgRpr4cSt6Yh7BlrWlNKKpOd6.jpg  413658  \n",
       "312000    Fanny Ardant     10   /ealXbfCd6oCubRDA3PMgKlq6xq.jpg  179144  "
      ]
     },
     "execution_count": 273,
     "metadata": {},
     "output_type": "execute_result"
    }
   ],
   "source": [
    "c_cast.sample(5)"
   ]
  },
  {
   "cell_type": "code",
   "execution_count": 274,
   "metadata": {},
   "outputs": [
    {
     "data": {
      "text/plain": [
       "gender\n",
       "2    226713\n",
       "0    223964\n",
       "1    111797\n",
       "Name: count, dtype: int64"
      ]
     },
     "execution_count": 274,
     "metadata": {},
     "output_type": "execute_result"
    }
   ],
   "source": [
    "c_cast.gender.value_counts()"
   ]
  },
  {
   "cell_type": "code",
   "execution_count": 275,
   "metadata": {},
   "outputs": [
    {
     "name": "stdout",
     "output_type": "stream",
     "text": [
      "<class 'pandas.core.frame.DataFrame'>\n",
      "RangeIndex: 562474 entries, 0 to 562473\n",
      "Data columns (total 9 columns):\n",
      " #   Column        Non-Null Count   Dtype \n",
      "---  ------        --------------   ----- \n",
      " 0   cast_id       562474 non-null  int64 \n",
      " 1   character     562474 non-null  object\n",
      " 2   credit_id     562474 non-null  object\n",
      " 3   gender        562474 non-null  int64 \n",
      " 4   id            562474 non-null  int64 \n",
      " 5   name          562474 non-null  object\n",
      " 6   order         562474 non-null  int64 \n",
      " 7   profile_path  388618 non-null  object\n",
      " 8   m_id          562474 non-null  int64 \n",
      "dtypes: int64(5), object(4)\n",
      "memory usage: 38.6+ MB\n"
     ]
    }
   ],
   "source": [
    "# c_cast preview\n",
    "c_cast.info()"
   ]
  },
  {
   "cell_type": "markdown",
   "metadata": {},
   "source": [
    "Data cleaning process for c_cast"
   ]
  },
  {
   "cell_type": "code",
   "execution_count": 276,
   "metadata": {},
   "outputs": [
    {
     "data": {
      "text/html": [
       "<div>\n",
       "<style scoped>\n",
       "    .dataframe tbody tr th:only-of-type {\n",
       "        vertical-align: middle;\n",
       "    }\n",
       "\n",
       "    .dataframe tbody tr th {\n",
       "        vertical-align: top;\n",
       "    }\n",
       "\n",
       "    .dataframe thead th {\n",
       "        text-align: right;\n",
       "    }\n",
       "</style>\n",
       "<table border=\"1\" class=\"dataframe\">\n",
       "  <thead>\n",
       "    <tr style=\"text-align: right;\">\n",
       "      <th></th>\n",
       "      <th>cast_id</th>\n",
       "      <th>character</th>\n",
       "      <th>credit_id</th>\n",
       "      <th>gender</th>\n",
       "      <th>id</th>\n",
       "      <th>name</th>\n",
       "      <th>order</th>\n",
       "      <th>profile_path</th>\n",
       "      <th>m_id</th>\n",
       "    </tr>\n",
       "  </thead>\n",
       "  <tbody>\n",
       "    <tr>\n",
       "      <th>71117</th>\n",
       "      <td>1</td>\n",
       "      <td>Ash Ketchum</td>\n",
       "      <td>52fe43de9251416c750213f1</td>\n",
       "      <td>1</td>\n",
       "      <td>67830</td>\n",
       "      <td>Veronica Taylor</td>\n",
       "      <td>0</td>\n",
       "      <td>/28EFUb3bPWJaWYzZIxurGCrDpHk.jpg</td>\n",
       "      <td>10991</td>\n",
       "    </tr>\n",
       "    <tr>\n",
       "      <th>557033</th>\n",
       "      <td>1</td>\n",
       "      <td>Ash Ketchum</td>\n",
       "      <td>52fe43de9251416c750213f1</td>\n",
       "      <td>1</td>\n",
       "      <td>67830</td>\n",
       "      <td>Veronica Taylor</td>\n",
       "      <td>0</td>\n",
       "      <td>/28EFUb3bPWJaWYzZIxurGCrDpHk.jpg</td>\n",
       "      <td>10991</td>\n",
       "    </tr>\n",
       "    <tr>\n",
       "      <th>16653</th>\n",
       "      <td>1</td>\n",
       "      <td>Catherine Barkley</td>\n",
       "      <td>52fe444ac3a368484e01aad5</td>\n",
       "      <td>0</td>\n",
       "      <td>47439</td>\n",
       "      <td>Helen Hayes</td>\n",
       "      <td>0</td>\n",
       "      <td>/6QJDTvIT0v5E9pR1rgPtq59Ej8.jpg</td>\n",
       "      <td>22649</td>\n",
       "    </tr>\n",
       "    <tr>\n",
       "      <th>235036</th>\n",
       "      <td>1</td>\n",
       "      <td>Catherine Barkley</td>\n",
       "      <td>52fe444ac3a368484e01aad5</td>\n",
       "      <td>0</td>\n",
       "      <td>47439</td>\n",
       "      <td>Helen Hayes</td>\n",
       "      <td>0</td>\n",
       "      <td>/6QJDTvIT0v5E9pR1rgPtq59Ej8.jpg</td>\n",
       "      <td>22649</td>\n",
       "    </tr>\n",
       "    <tr>\n",
       "      <th>132474</th>\n",
       "      <td>1</td>\n",
       "      <td>Lafcadia - Warrior</td>\n",
       "      <td>52fe4465c3a368484e020913</td>\n",
       "      <td>2</td>\n",
       "      <td>76793</td>\n",
       "      <td>Irrfan Khan</td>\n",
       "      <td>0</td>\n",
       "      <td>/9O71WSILj1af9smwuN44nGd198Q.jpg</td>\n",
       "      <td>23305</td>\n",
       "    </tr>\n",
       "    <tr>\n",
       "      <th>...</th>\n",
       "      <td>...</td>\n",
       "      <td>...</td>\n",
       "      <td>...</td>\n",
       "      <td>...</td>\n",
       "      <td>...</td>\n",
       "      <td>...</td>\n",
       "      <td>...</td>\n",
       "      <td>...</td>\n",
       "      <td>...</td>\n",
       "    </tr>\n",
       "    <tr>\n",
       "      <th>512939</th>\n",
       "      <td>1011</td>\n",
       "      <td>Betty's Hawaiian Maid</td>\n",
       "      <td>52fe49fb9251416c750d9d99</td>\n",
       "      <td>0</td>\n",
       "      <td>1109654</td>\n",
       "      <td>Lola Gonzales</td>\n",
       "      <td>10</td>\n",
       "      <td>None</td>\n",
       "      <td>97995</td>\n",
       "    </tr>\n",
       "    <tr>\n",
       "      <th>219993</th>\n",
       "      <td>1012</td>\n",
       "      <td>Max's Chef - in Mirror Gag</td>\n",
       "      <td>52fe49fc9251416c750d9d9d</td>\n",
       "      <td>0</td>\n",
       "      <td>1109655</td>\n",
       "      <td>Harry Mann</td>\n",
       "      <td>11</td>\n",
       "      <td>None</td>\n",
       "      <td>97995</td>\n",
       "    </tr>\n",
       "    <tr>\n",
       "      <th>512940</th>\n",
       "      <td>1012</td>\n",
       "      <td>Max's Chef - in Mirror Gag</td>\n",
       "      <td>52fe49fc9251416c750d9d9d</td>\n",
       "      <td>0</td>\n",
       "      <td>1109655</td>\n",
       "      <td>Harry Mann</td>\n",
       "      <td>11</td>\n",
       "      <td>None</td>\n",
       "      <td>97995</td>\n",
       "    </tr>\n",
       "    <tr>\n",
       "      <th>219994</th>\n",
       "      <td>1013</td>\n",
       "      <td>The Chimpanzee</td>\n",
       "      <td>52fe49fc9251416c750d9da1</td>\n",
       "      <td>0</td>\n",
       "      <td>1109656</td>\n",
       "      <td>Joe Martin</td>\n",
       "      <td>12</td>\n",
       "      <td>None</td>\n",
       "      <td>97995</td>\n",
       "    </tr>\n",
       "    <tr>\n",
       "      <th>512941</th>\n",
       "      <td>1013</td>\n",
       "      <td>The Chimpanzee</td>\n",
       "      <td>52fe49fc9251416c750d9da1</td>\n",
       "      <td>0</td>\n",
       "      <td>1109656</td>\n",
       "      <td>Joe Martin</td>\n",
       "      <td>12</td>\n",
       "      <td>None</td>\n",
       "      <td>97995</td>\n",
       "    </tr>\n",
       "  </tbody>\n",
       "</table>\n",
       "<p>850 rows × 9 columns</p>\n",
       "</div>"
      ],
      "text/plain": [
       "        cast_id                   character                 credit_id  gender  \\\n",
       "71117         1                 Ash Ketchum  52fe43de9251416c750213f1       1   \n",
       "557033        1                 Ash Ketchum  52fe43de9251416c750213f1       1   \n",
       "16653         1           Catherine Barkley  52fe444ac3a368484e01aad5       0   \n",
       "235036        1           Catherine Barkley  52fe444ac3a368484e01aad5       0   \n",
       "132474        1          Lafcadia - Warrior  52fe4465c3a368484e020913       2   \n",
       "...         ...                         ...                       ...     ...   \n",
       "512939     1011       Betty's Hawaiian Maid  52fe49fb9251416c750d9d99       0   \n",
       "219993     1012  Max's Chef - in Mirror Gag  52fe49fc9251416c750d9d9d       0   \n",
       "512940     1012  Max's Chef - in Mirror Gag  52fe49fc9251416c750d9d9d       0   \n",
       "219994     1013              The Chimpanzee  52fe49fc9251416c750d9da1       0   \n",
       "512941     1013              The Chimpanzee  52fe49fc9251416c750d9da1       0   \n",
       "\n",
       "             id             name  order                      profile_path  \\\n",
       "71117     67830  Veronica Taylor      0  /28EFUb3bPWJaWYzZIxurGCrDpHk.jpg   \n",
       "557033    67830  Veronica Taylor      0  /28EFUb3bPWJaWYzZIxurGCrDpHk.jpg   \n",
       "16653     47439      Helen Hayes      0   /6QJDTvIT0v5E9pR1rgPtq59Ej8.jpg   \n",
       "235036    47439      Helen Hayes      0   /6QJDTvIT0v5E9pR1rgPtq59Ej8.jpg   \n",
       "132474    76793      Irrfan Khan      0  /9O71WSILj1af9smwuN44nGd198Q.jpg   \n",
       "...         ...              ...    ...                               ...   \n",
       "512939  1109654    Lola Gonzales     10                              None   \n",
       "219993  1109655       Harry Mann     11                              None   \n",
       "512940  1109655       Harry Mann     11                              None   \n",
       "219994  1109656       Joe Martin     12                              None   \n",
       "512941  1109656       Joe Martin     12                              None   \n",
       "\n",
       "         m_id  \n",
       "71117   10991  \n",
       "557033  10991  \n",
       "16653   22649  \n",
       "235036  22649  \n",
       "132474  23305  \n",
       "...       ...  \n",
       "512939  97995  \n",
       "219993  97995  \n",
       "512940  97995  \n",
       "219994  97995  \n",
       "512941  97995  \n",
       "\n",
       "[850 rows x 9 columns]"
      ]
     },
     "execution_count": 276,
     "metadata": {},
     "output_type": "execute_result"
    }
   ],
   "source": [
    "# Check for duplicated columns\n",
    "c_cast[c_cast.duplicated(subset=['cast_id', 'credit_id', 'm_id', 'name'], keep=False)].sort_values(by=['cast_id', 'credit_id'])"
   ]
  },
  {
   "cell_type": "code",
   "execution_count": 277,
   "metadata": {},
   "outputs": [],
   "source": [
    "c_cast.drop_duplicates(subset=['cast_id', 'credit_id'], keep='first', inplace=True)"
   ]
  },
  {
   "cell_type": "markdown",
   "metadata": {},
   "source": [
    "Validate cleaning"
   ]
  },
  {
   "cell_type": "code",
   "execution_count": 278,
   "metadata": {},
   "outputs": [
    {
     "data": {
      "text/plain": [
       "cast_id         0\n",
       "character       0\n",
       "credit_id       0\n",
       "gender          0\n",
       "id              0\n",
       "name            0\n",
       "order           0\n",
       "profile_path    0\n",
       "m_id            0\n",
       "dtype: int64"
      ]
     },
     "execution_count": 278,
     "metadata": {},
     "output_type": "execute_result"
    }
   ],
   "source": [
    "# Validate cleaning process\n",
    "c_cast[c_cast.duplicated(subset=['cast_id', 'credit_id', 'm_id', 'name'], keep=False)].sort_values(by=['cast_id', 'credit_id']).count()"
   ]
  },
  {
   "cell_type": "code",
   "execution_count": 279,
   "metadata": {},
   "outputs": [
    {
     "data": {
      "text/plain": [
       "profile_path\n",
       "jpg    388366\n",
       "Name: count, dtype: int64"
      ]
     },
     "execution_count": 279,
     "metadata": {},
     "output_type": "execute_result"
    }
   ],
   "source": [
    "c_cast.profile_path.str.split('.').str[-1].value_counts()"
   ]
  },
  {
   "cell_type": "code",
   "execution_count": 280,
   "metadata": {},
   "outputs": [
    {
     "data": {
      "text/plain": [
       "cast_id              0\n",
       "character            0\n",
       "credit_id            0\n",
       "gender               0\n",
       "id                   0\n",
       "name                 0\n",
       "order                0\n",
       "profile_path    173678\n",
       "m_id                 0\n",
       "dtype: int64"
      ]
     },
     "execution_count": 280,
     "metadata": {},
     "output_type": "execute_result"
    }
   ],
   "source": [
    "c_cast.isnull().sum()"
   ]
  },
  {
   "cell_type": "markdown",
   "metadata": {},
   "source": [
    "Process c_crew dataset"
   ]
  },
  {
   "cell_type": "code",
   "execution_count": 281,
   "metadata": {},
   "outputs": [
    {
     "data": {
      "text/html": [
       "<div>\n",
       "<style scoped>\n",
       "    .dataframe tbody tr th:only-of-type {\n",
       "        vertical-align: middle;\n",
       "    }\n",
       "\n",
       "    .dataframe tbody tr th {\n",
       "        vertical-align: top;\n",
       "    }\n",
       "\n",
       "    .dataframe thead th {\n",
       "        text-align: right;\n",
       "    }\n",
       "</style>\n",
       "<table border=\"1\" class=\"dataframe\">\n",
       "  <thead>\n",
       "    <tr style=\"text-align: right;\">\n",
       "      <th></th>\n",
       "      <th>credit_id</th>\n",
       "      <th>department</th>\n",
       "      <th>gender</th>\n",
       "      <th>id</th>\n",
       "      <th>job</th>\n",
       "      <th>name</th>\n",
       "      <th>profile_path</th>\n",
       "      <th>m_id</th>\n",
       "    </tr>\n",
       "  </thead>\n",
       "  <tbody>\n",
       "    <tr>\n",
       "      <th>256146</th>\n",
       "      <td>52fe45ab9251416c7505e61d</td>\n",
       "      <td>Editing</td>\n",
       "      <td>2</td>\n",
       "      <td>54592</td>\n",
       "      <td>Editor</td>\n",
       "      <td>Danny Saphire</td>\n",
       "      <td>None</td>\n",
       "      <td>13830</td>\n",
       "    </tr>\n",
       "    <tr>\n",
       "      <th>352711</th>\n",
       "      <td>52fe4df09251416c751461b7</td>\n",
       "      <td>Directing</td>\n",
       "      <td>2</td>\n",
       "      <td>103156</td>\n",
       "      <td>Director</td>\n",
       "      <td>Mario Bianchi</td>\n",
       "      <td>None</td>\n",
       "      <td>222517</td>\n",
       "    </tr>\n",
       "    <tr>\n",
       "      <th>220928</th>\n",
       "      <td>52fe4677c3a36847f8100abb</td>\n",
       "      <td>Directing</td>\n",
       "      <td>2</td>\n",
       "      <td>2034</td>\n",
       "      <td>Director</td>\n",
       "      <td>Danny Boyle</td>\n",
       "      <td>/b5qQpFHmgNyvV1t81ou17Jt2fRj.jpg</td>\n",
       "      <td>44115</td>\n",
       "    </tr>\n",
       "    <tr>\n",
       "      <th>108794</th>\n",
       "      <td>52fe45eac3a36847f80e1df3</td>\n",
       "      <td>Writing</td>\n",
       "      <td>2</td>\n",
       "      <td>2355</td>\n",
       "      <td>Screenplay</td>\n",
       "      <td>Andrew Birkin</td>\n",
       "      <td>None</td>\n",
       "      <td>42040</td>\n",
       "    </tr>\n",
       "    <tr>\n",
       "      <th>164064</th>\n",
       "      <td>5546885bc3a36856e5004620</td>\n",
       "      <td>Visual Effects</td>\n",
       "      <td>0</td>\n",
       "      <td>1462623</td>\n",
       "      <td>Visual Development</td>\n",
       "      <td>Sam Michlap</td>\n",
       "      <td>None</td>\n",
       "      <td>15213</td>\n",
       "    </tr>\n",
       "  </tbody>\n",
       "</table>\n",
       "</div>"
      ],
      "text/plain": [
       "                       credit_id      department  gender       id  \\\n",
       "256146  52fe45ab9251416c7505e61d         Editing       2    54592   \n",
       "352711  52fe4df09251416c751461b7       Directing       2   103156   \n",
       "220928  52fe4677c3a36847f8100abb       Directing       2     2034   \n",
       "108794  52fe45eac3a36847f80e1df3         Writing       2     2355   \n",
       "164064  5546885bc3a36856e5004620  Visual Effects       0  1462623   \n",
       "\n",
       "                       job           name                      profile_path  \\\n",
       "256146              Editor  Danny Saphire                              None   \n",
       "352711            Director  Mario Bianchi                              None   \n",
       "220928            Director    Danny Boyle  /b5qQpFHmgNyvV1t81ou17Jt2fRj.jpg   \n",
       "108794          Screenplay  Andrew Birkin                              None   \n",
       "164064  Visual Development    Sam Michlap                              None   \n",
       "\n",
       "          m_id  \n",
       "256146   13830  \n",
       "352711  222517  \n",
       "220928   44115  \n",
       "108794   42040  \n",
       "164064   15213  "
      ]
     },
     "execution_count": 281,
     "metadata": {},
     "output_type": "execute_result"
    }
   ],
   "source": [
    "c_crew.sample(5)"
   ]
  },
  {
   "cell_type": "code",
   "execution_count": 282,
   "metadata": {},
   "outputs": [
    {
     "name": "stdout",
     "output_type": "stream",
     "text": [
      "<class 'pandas.core.frame.DataFrame'>\n",
      "RangeIndex: 464314 entries, 0 to 464313\n",
      "Data columns (total 8 columns):\n",
      " #   Column        Non-Null Count   Dtype \n",
      "---  ------        --------------   ----- \n",
      " 0   credit_id     464314 non-null  object\n",
      " 1   department    464314 non-null  object\n",
      " 2   gender        464314 non-null  int64 \n",
      " 3   id            464314 non-null  int64 \n",
      " 4   job           464314 non-null  object\n",
      " 5   name          464314 non-null  object\n",
      " 6   profile_path  95098 non-null   object\n",
      " 7   m_id          464314 non-null  int64 \n",
      "dtypes: int64(3), object(5)\n",
      "memory usage: 28.3+ MB\n"
     ]
    }
   ],
   "source": [
    "# c_crew preview\n",
    "c_crew.info()"
   ]
  },
  {
   "cell_type": "markdown",
   "metadata": {},
   "source": [
    "Data cleaning process for c_crew"
   ]
  },
  {
   "cell_type": "code",
   "execution_count": 283,
   "metadata": {},
   "outputs": [
    {
     "data": {
      "text/html": [
       "<div>\n",
       "<style scoped>\n",
       "    .dataframe tbody tr th:only-of-type {\n",
       "        vertical-align: middle;\n",
       "    }\n",
       "\n",
       "    .dataframe tbody tr th {\n",
       "        vertical-align: top;\n",
       "    }\n",
       "\n",
       "    .dataframe thead th {\n",
       "        text-align: right;\n",
       "    }\n",
       "</style>\n",
       "<table border=\"1\" class=\"dataframe\">\n",
       "  <thead>\n",
       "    <tr style=\"text-align: right;\">\n",
       "      <th></th>\n",
       "      <th>credit_id</th>\n",
       "      <th>department</th>\n",
       "      <th>gender</th>\n",
       "      <th>id</th>\n",
       "      <th>job</th>\n",
       "      <th>name</th>\n",
       "      <th>profile_path</th>\n",
       "      <th>m_id</th>\n",
       "    </tr>\n",
       "  </thead>\n",
       "  <tbody>\n",
       "    <tr>\n",
       "      <th>259782</th>\n",
       "      <td>55c0d60e9251410f19001cec</td>\n",
       "      <td>Production</td>\n",
       "      <td>1</td>\n",
       "      <td>32</td>\n",
       "      <td>Producer</td>\n",
       "      <td>Robin Wright</td>\n",
       "      <td>/tXfQTgcIEPP7gtVdJ44ZxZPhacn.jpg</td>\n",
       "      <td>152795</td>\n",
       "    </tr>\n",
       "    <tr>\n",
       "      <th>278138</th>\n",
       "      <td>55c0d60e9251410f19001cec</td>\n",
       "      <td>Production</td>\n",
       "      <td>1</td>\n",
       "      <td>32</td>\n",
       "      <td>Producer</td>\n",
       "      <td>Robin Wright</td>\n",
       "      <td>/tXfQTgcIEPP7gtVdJ44ZxZPhacn.jpg</td>\n",
       "      <td>152795</td>\n",
       "    </tr>\n",
       "    <tr>\n",
       "      <th>90620</th>\n",
       "      <td>52fe43e2c3a36847f80760b5</td>\n",
       "      <td>Writing</td>\n",
       "      <td>2</td>\n",
       "      <td>202</td>\n",
       "      <td>Screenplay</td>\n",
       "      <td>Charlie Kaufman</td>\n",
       "      <td>/v5Zc2aplTL0y38Oe91zGnVBUtYi.jpg</td>\n",
       "      <td>4912</td>\n",
       "    </tr>\n",
       "    <tr>\n",
       "      <th>379605</th>\n",
       "      <td>52fe43e2c3a36847f80760b5</td>\n",
       "      <td>Writing</td>\n",
       "      <td>2</td>\n",
       "      <td>202</td>\n",
       "      <td>Screenplay</td>\n",
       "      <td>Charlie Kaufman</td>\n",
       "      <td>/v5Zc2aplTL0y38Oe91zGnVBUtYi.jpg</td>\n",
       "      <td>4912</td>\n",
       "    </tr>\n",
       "    <tr>\n",
       "      <th>317389</th>\n",
       "      <td>52fe4655c3a36847f80f96bf</td>\n",
       "      <td>Directing</td>\n",
       "      <td>2</td>\n",
       "      <td>525</td>\n",
       "      <td>Director</td>\n",
       "      <td>Christopher Nolan</td>\n",
       "      <td>/7OGmfDF4VHLLgbjxuEwTj3ga0uQ.jpg</td>\n",
       "      <td>43629</td>\n",
       "    </tr>\n",
       "    <tr>\n",
       "      <th>...</th>\n",
       "      <td>...</td>\n",
       "      <td>...</td>\n",
       "      <td>...</td>\n",
       "      <td>...</td>\n",
       "      <td>...</td>\n",
       "      <td>...</td>\n",
       "      <td>...</td>\n",
       "      <td>...</td>\n",
       "    </tr>\n",
       "    <tr>\n",
       "      <th>317743</th>\n",
       "      <td>596bdc83c3a3684c0200548b</td>\n",
       "      <td>Editing</td>\n",
       "      <td>0</td>\n",
       "      <td>1852798</td>\n",
       "      <td>Dialogue Editor</td>\n",
       "      <td>Matt Gorzkowski</td>\n",
       "      <td>None</td>\n",
       "      <td>199591</td>\n",
       "    </tr>\n",
       "    <tr>\n",
       "      <th>317345</th>\n",
       "      <td>596bdcd9c3a3684bcb004d02</td>\n",
       "      <td>Sound</td>\n",
       "      <td>0</td>\n",
       "      <td>1852799</td>\n",
       "      <td>Sound Effects Editor</td>\n",
       "      <td>Michael Hanlan</td>\n",
       "      <td>None</td>\n",
       "      <td>199591</td>\n",
       "    </tr>\n",
       "    <tr>\n",
       "      <th>317744</th>\n",
       "      <td>596bdcd9c3a3684bcb004d02</td>\n",
       "      <td>Sound</td>\n",
       "      <td>0</td>\n",
       "      <td>1852799</td>\n",
       "      <td>Sound Effects Editor</td>\n",
       "      <td>Michael Hanlan</td>\n",
       "      <td>None</td>\n",
       "      <td>199591</td>\n",
       "    </tr>\n",
       "    <tr>\n",
       "      <th>317346</th>\n",
       "      <td>596bdfcac3a3684c02005741</td>\n",
       "      <td>Costume &amp; Make-Up</td>\n",
       "      <td>0</td>\n",
       "      <td>1852802</td>\n",
       "      <td>Wardrobe Supervisor</td>\n",
       "      <td>Jasmine Murray-Bergquist</td>\n",
       "      <td>None</td>\n",
       "      <td>199591</td>\n",
       "    </tr>\n",
       "    <tr>\n",
       "      <th>317745</th>\n",
       "      <td>596bdfcac3a3684c02005741</td>\n",
       "      <td>Costume &amp; Make-Up</td>\n",
       "      <td>0</td>\n",
       "      <td>1852802</td>\n",
       "      <td>Wardrobe Supervisor</td>\n",
       "      <td>Jasmine Murray-Bergquist</td>\n",
       "      <td>None</td>\n",
       "      <td>199591</td>\n",
       "    </tr>\n",
       "  </tbody>\n",
       "</table>\n",
       "<p>954 rows × 8 columns</p>\n",
       "</div>"
      ],
      "text/plain": [
       "                       credit_id         department  gender       id  \\\n",
       "259782  55c0d60e9251410f19001cec         Production       1       32   \n",
       "278138  55c0d60e9251410f19001cec         Production       1       32   \n",
       "90620   52fe43e2c3a36847f80760b5            Writing       2      202   \n",
       "379605  52fe43e2c3a36847f80760b5            Writing       2      202   \n",
       "317389  52fe4655c3a36847f80f96bf          Directing       2      525   \n",
       "...                          ...                ...     ...      ...   \n",
       "317743  596bdc83c3a3684c0200548b            Editing       0  1852798   \n",
       "317345  596bdcd9c3a3684bcb004d02              Sound       0  1852799   \n",
       "317744  596bdcd9c3a3684bcb004d02              Sound       0  1852799   \n",
       "317346  596bdfcac3a3684c02005741  Costume & Make-Up       0  1852802   \n",
       "317745  596bdfcac3a3684c02005741  Costume & Make-Up       0  1852802   \n",
       "\n",
       "                         job                      name  \\\n",
       "259782              Producer              Robin Wright   \n",
       "278138              Producer              Robin Wright   \n",
       "90620             Screenplay           Charlie Kaufman   \n",
       "379605            Screenplay           Charlie Kaufman   \n",
       "317389              Director         Christopher Nolan   \n",
       "...                      ...                       ...   \n",
       "317743       Dialogue Editor           Matt Gorzkowski   \n",
       "317345  Sound Effects Editor            Michael Hanlan   \n",
       "317744  Sound Effects Editor            Michael Hanlan   \n",
       "317346   Wardrobe Supervisor  Jasmine Murray-Bergquist   \n",
       "317745   Wardrobe Supervisor  Jasmine Murray-Bergquist   \n",
       "\n",
       "                            profile_path    m_id  \n",
       "259782  /tXfQTgcIEPP7gtVdJ44ZxZPhacn.jpg  152795  \n",
       "278138  /tXfQTgcIEPP7gtVdJ44ZxZPhacn.jpg  152795  \n",
       "90620   /v5Zc2aplTL0y38Oe91zGnVBUtYi.jpg    4912  \n",
       "379605  /v5Zc2aplTL0y38Oe91zGnVBUtYi.jpg    4912  \n",
       "317389  /7OGmfDF4VHLLgbjxuEwTj3ga0uQ.jpg   43629  \n",
       "...                                  ...     ...  \n",
       "317743                              None  199591  \n",
       "317345                              None  199591  \n",
       "317744                              None  199591  \n",
       "317346                              None  199591  \n",
       "317745                              None  199591  \n",
       "\n",
       "[954 rows x 8 columns]"
      ]
     },
     "execution_count": 283,
     "metadata": {},
     "output_type": "execute_result"
    }
   ],
   "source": [
    "# Check for duplicated columns\n",
    "c_crew[c_crew.duplicated(subset=['id', 'credit_id', 'm_id', 'name'], keep=False)].sort_values(by=['id', 'credit_id'])"
   ]
  },
  {
   "cell_type": "code",
   "execution_count": 284,
   "metadata": {},
   "outputs": [],
   "source": [
    "c_crew.drop_duplicates(subset=['id', 'credit_id', 'm_id', 'name'], keep='first', inplace=True)"
   ]
  },
  {
   "cell_type": "markdown",
   "metadata": {},
   "source": [
    "Validate cleaning"
   ]
  },
  {
   "cell_type": "code",
   "execution_count": 285,
   "metadata": {},
   "outputs": [
    {
     "data": {
      "text/plain": [
       "credit_id       0\n",
       "department      0\n",
       "gender          0\n",
       "id              0\n",
       "job             0\n",
       "name            0\n",
       "profile_path    0\n",
       "m_id            0\n",
       "dtype: int64"
      ]
     },
     "execution_count": 285,
     "metadata": {},
     "output_type": "execute_result"
    }
   ],
   "source": [
    "c_crew[c_crew.duplicated(subset=['id', 'credit_id', 'm_id', 'name'], keep=False)].sort_values(by=['id', 'credit_id']).count()"
   ]
  },
  {
   "cell_type": "code",
   "execution_count": 286,
   "metadata": {},
   "outputs": [
    {
     "data": {
      "text/plain": [
       "profile_path\n",
       "jpg    95001\n",
       "Name: count, dtype: int64"
      ]
     },
     "execution_count": 286,
     "metadata": {},
     "output_type": "execute_result"
    }
   ],
   "source": [
    "c_crew.profile_path.str.split('.').str[-1].value_counts()"
   ]
  },
  {
   "cell_type": "code",
   "execution_count": 287,
   "metadata": {},
   "outputs": [
    {
     "data": {
      "text/plain": [
       "credit_id            0\n",
       "department           0\n",
       "gender               0\n",
       "id                   0\n",
       "job                  0\n",
       "name                 0\n",
       "profile_path    368835\n",
       "m_id                 0\n",
       "dtype: int64"
      ]
     },
     "execution_count": 287,
     "metadata": {},
     "output_type": "execute_result"
    }
   ],
   "source": [
    "c_crew.isnull().sum()"
   ]
  },
  {
   "cell_type": "markdown",
   "metadata": {},
   "source": [
    "#### Keywords Dataframe Processing:"
   ]
  },
  {
   "cell_type": "code",
   "execution_count": 288,
   "metadata": {},
   "outputs": [
    {
     "data": {
      "text/html": [
       "<div>\n",
       "<style scoped>\n",
       "    .dataframe tbody tr th:only-of-type {\n",
       "        vertical-align: middle;\n",
       "    }\n",
       "\n",
       "    .dataframe tbody tr th {\n",
       "        vertical-align: top;\n",
       "    }\n",
       "\n",
       "    .dataframe thead th {\n",
       "        text-align: right;\n",
       "    }\n",
       "</style>\n",
       "<table border=\"1\" class=\"dataframe\">\n",
       "  <thead>\n",
       "    <tr style=\"text-align: right;\">\n",
       "      <th></th>\n",
       "      <th>id</th>\n",
       "      <th>keywords</th>\n",
       "    </tr>\n",
       "  </thead>\n",
       "  <tbody>\n",
       "    <tr>\n",
       "      <th>0</th>\n",
       "      <td>862</td>\n",
       "      <td>[{'id': 931, 'name': 'jealousy'}, {'id': 4290,...</td>\n",
       "    </tr>\n",
       "    <tr>\n",
       "      <th>1</th>\n",
       "      <td>8844</td>\n",
       "      <td>[{'id': 10090, 'name': 'board game'}, {'id': 1...</td>\n",
       "    </tr>\n",
       "    <tr>\n",
       "      <th>2</th>\n",
       "      <td>15602</td>\n",
       "      <td>[{'id': 1495, 'name': 'fishing'}, {'id': 12392...</td>\n",
       "    </tr>\n",
       "    <tr>\n",
       "      <th>3</th>\n",
       "      <td>31357</td>\n",
       "      <td>[{'id': 818, 'name': 'based on novel'}, {'id':...</td>\n",
       "    </tr>\n",
       "    <tr>\n",
       "      <th>4</th>\n",
       "      <td>11862</td>\n",
       "      <td>[{'id': 1009, 'name': 'baby'}, {'id': 1599, 'n...</td>\n",
       "    </tr>\n",
       "  </tbody>\n",
       "</table>\n",
       "</div>"
      ],
      "text/plain": [
       "      id                                           keywords\n",
       "0    862  [{'id': 931, 'name': 'jealousy'}, {'id': 4290,...\n",
       "1   8844  [{'id': 10090, 'name': 'board game'}, {'id': 1...\n",
       "2  15602  [{'id': 1495, 'name': 'fishing'}, {'id': 12392...\n",
       "3  31357  [{'id': 818, 'name': 'based on novel'}, {'id':...\n",
       "4  11862  [{'id': 1009, 'name': 'baby'}, {'id': 1599, 'n..."
      ]
     },
     "execution_count": 288,
     "metadata": {},
     "output_type": "execute_result"
    }
   ],
   "source": [
    "keywords.head()"
   ]
  },
  {
   "cell_type": "code",
   "execution_count": 289,
   "metadata": {},
   "outputs": [],
   "source": [
    "keywords = normalize_data(keywords, 'keywords', 'id', 'm')"
   ]
  },
  {
   "cell_type": "code",
   "execution_count": 290,
   "metadata": {},
   "outputs": [
    {
     "data": {
      "text/html": [
       "<div>\n",
       "<style scoped>\n",
       "    .dataframe tbody tr th:only-of-type {\n",
       "        vertical-align: middle;\n",
       "    }\n",
       "\n",
       "    .dataframe tbody tr th {\n",
       "        vertical-align: top;\n",
       "    }\n",
       "\n",
       "    .dataframe thead th {\n",
       "        text-align: right;\n",
       "    }\n",
       "</style>\n",
       "<table border=\"1\" class=\"dataframe\">\n",
       "  <thead>\n",
       "    <tr style=\"text-align: right;\">\n",
       "      <th></th>\n",
       "      <th>id</th>\n",
       "      <th>name</th>\n",
       "      <th>m_id</th>\n",
       "    </tr>\n",
       "  </thead>\n",
       "  <tbody>\n",
       "    <tr>\n",
       "      <th>0</th>\n",
       "      <td>931</td>\n",
       "      <td>jealousy</td>\n",
       "      <td>862</td>\n",
       "    </tr>\n",
       "    <tr>\n",
       "      <th>1</th>\n",
       "      <td>4290</td>\n",
       "      <td>toy</td>\n",
       "      <td>862</td>\n",
       "    </tr>\n",
       "    <tr>\n",
       "      <th>2</th>\n",
       "      <td>5202</td>\n",
       "      <td>boy</td>\n",
       "      <td>862</td>\n",
       "    </tr>\n",
       "    <tr>\n",
       "      <th>3</th>\n",
       "      <td>6054</td>\n",
       "      <td>friendship</td>\n",
       "      <td>862</td>\n",
       "    </tr>\n",
       "    <tr>\n",
       "      <th>4</th>\n",
       "      <td>9713</td>\n",
       "      <td>friends</td>\n",
       "      <td>862</td>\n",
       "    </tr>\n",
       "  </tbody>\n",
       "</table>\n",
       "</div>"
      ],
      "text/plain": [
       "     id        name  m_id\n",
       "0   931    jealousy   862\n",
       "1  4290         toy   862\n",
       "2  5202         boy   862\n",
       "3  6054  friendship   862\n",
       "4  9713     friends   862"
      ]
     },
     "execution_count": 290,
     "metadata": {},
     "output_type": "execute_result"
    }
   ],
   "source": [
    "keywords.head(5)"
   ]
  },
  {
   "cell_type": "markdown",
   "metadata": {},
   "source": [
    "Data Cleaning process"
   ]
  },
  {
   "cell_type": "code",
   "execution_count": 291,
   "metadata": {},
   "outputs": [
    {
     "data": {
      "text/html": [
       "<div>\n",
       "<style scoped>\n",
       "    .dataframe tbody tr th:only-of-type {\n",
       "        vertical-align: middle;\n",
       "    }\n",
       "\n",
       "    .dataframe tbody tr th {\n",
       "        vertical-align: top;\n",
       "    }\n",
       "\n",
       "    .dataframe thead th {\n",
       "        text-align: right;\n",
       "    }\n",
       "</style>\n",
       "<table border=\"1\" class=\"dataframe\">\n",
       "  <thead>\n",
       "    <tr style=\"text-align: right;\">\n",
       "      <th></th>\n",
       "      <th>count</th>\n",
       "    </tr>\n",
       "    <tr>\n",
       "      <th>name</th>\n",
       "      <th></th>\n",
       "    </tr>\n",
       "  </thead>\n",
       "  <tbody>\n",
       "    <tr>\n",
       "      <th>woman director</th>\n",
       "      <td>3115</td>\n",
       "    </tr>\n",
       "    <tr>\n",
       "      <th>independent film</th>\n",
       "      <td>1930</td>\n",
       "    </tr>\n",
       "    <tr>\n",
       "      <th>murder</th>\n",
       "      <td>1308</td>\n",
       "    </tr>\n",
       "    <tr>\n",
       "      <th>based on novel</th>\n",
       "      <td>835</td>\n",
       "    </tr>\n",
       "    <tr>\n",
       "      <th>musical</th>\n",
       "      <td>734</td>\n",
       "    </tr>\n",
       "    <tr>\n",
       "      <th>...</th>\n",
       "      <td>...</td>\n",
       "    </tr>\n",
       "    <tr>\n",
       "      <th>helping animals</th>\n",
       "      <td>1</td>\n",
       "    </tr>\n",
       "    <tr>\n",
       "      <th>animal agriculture</th>\n",
       "      <td>1</td>\n",
       "    </tr>\n",
       "    <tr>\n",
       "      <th>brother sister</th>\n",
       "      <td>1</td>\n",
       "    </tr>\n",
       "    <tr>\n",
       "      <th>bad boy</th>\n",
       "      <td>1</td>\n",
       "    </tr>\n",
       "    <tr>\n",
       "      <th>biloxi mississippi</th>\n",
       "      <td>1</td>\n",
       "    </tr>\n",
       "  </tbody>\n",
       "</table>\n",
       "<p>19956 rows × 1 columns</p>\n",
       "</div>"
      ],
      "text/plain": [
       "                    count\n",
       "name                     \n",
       "woman director       3115\n",
       "independent film     1930\n",
       "murder               1308\n",
       "based on novel        835\n",
       "musical               734\n",
       "...                   ...\n",
       "helping animals         1\n",
       "animal agriculture      1\n",
       "brother sister          1\n",
       "bad boy                 1\n",
       "biloxi mississippi      1\n",
       "\n",
       "[19956 rows x 1 columns]"
      ]
     },
     "execution_count": 291,
     "metadata": {},
     "output_type": "execute_result"
    }
   ],
   "source": [
    "pd.DataFrame(keywords.name.value_counts())"
   ]
  },
  {
   "cell_type": "code",
   "execution_count": 292,
   "metadata": {},
   "outputs": [
    {
     "data": {
      "text/html": [
       "<div>\n",
       "<style scoped>\n",
       "    .dataframe tbody tr th:only-of-type {\n",
       "        vertical-align: middle;\n",
       "    }\n",
       "\n",
       "    .dataframe tbody tr th {\n",
       "        vertical-align: top;\n",
       "    }\n",
       "\n",
       "    .dataframe thead th {\n",
       "        text-align: right;\n",
       "    }\n",
       "</style>\n",
       "<table border=\"1\" class=\"dataframe\">\n",
       "  <thead>\n",
       "    <tr style=\"text-align: right;\">\n",
       "      <th></th>\n",
       "      <th>id</th>\n",
       "      <th>name</th>\n",
       "      <th>m_id</th>\n",
       "    </tr>\n",
       "  </thead>\n",
       "  <tbody>\n",
       "    <tr>\n",
       "      <th>137369</th>\n",
       "      <td>65</td>\n",
       "      <td>holiday</td>\n",
       "      <td>19252</td>\n",
       "    </tr>\n",
       "    <tr>\n",
       "      <th>139324</th>\n",
       "      <td>65</td>\n",
       "      <td>holiday</td>\n",
       "      <td>19252</td>\n",
       "    </tr>\n",
       "    <tr>\n",
       "      <th>135581</th>\n",
       "      <td>65</td>\n",
       "      <td>holiday</td>\n",
       "      <td>26381</td>\n",
       "    </tr>\n",
       "    <tr>\n",
       "      <th>137536</th>\n",
       "      <td>65</td>\n",
       "      <td>holiday</td>\n",
       "      <td>26381</td>\n",
       "    </tr>\n",
       "    <tr>\n",
       "      <th>135628</th>\n",
       "      <td>65</td>\n",
       "      <td>holiday</td>\n",
       "      <td>26537</td>\n",
       "    </tr>\n",
       "    <tr>\n",
       "      <th>...</th>\n",
       "      <td>...</td>\n",
       "      <td>...</td>\n",
       "      <td>...</td>\n",
       "    </tr>\n",
       "    <tr>\n",
       "      <th>138012</th>\n",
       "      <td>237651</td>\n",
       "      <td>dreamland</td>\n",
       "      <td>325712</td>\n",
       "    </tr>\n",
       "    <tr>\n",
       "      <th>136432</th>\n",
       "      <td>238208</td>\n",
       "      <td>dead end road</td>\n",
       "      <td>23382</td>\n",
       "    </tr>\n",
       "    <tr>\n",
       "      <th>138387</th>\n",
       "      <td>238208</td>\n",
       "      <td>dead end road</td>\n",
       "      <td>23382</td>\n",
       "    </tr>\n",
       "    <tr>\n",
       "      <th>136265</th>\n",
       "      <td>238539</td>\n",
       "      <td>corrupt sheriff</td>\n",
       "      <td>325173</td>\n",
       "    </tr>\n",
       "    <tr>\n",
       "      <th>138220</th>\n",
       "      <td>238539</td>\n",
       "      <td>corrupt sheriff</td>\n",
       "      <td>325173</td>\n",
       "    </tr>\n",
       "  </tbody>\n",
       "</table>\n",
       "<p>4156 rows × 3 columns</p>\n",
       "</div>"
      ],
      "text/plain": [
       "            id             name    m_id\n",
       "137369      65          holiday   19252\n",
       "139324      65          holiday   19252\n",
       "135581      65          holiday   26381\n",
       "137536      65          holiday   26381\n",
       "135628      65          holiday   26537\n",
       "...        ...              ...     ...\n",
       "138012  237651        dreamland  325712\n",
       "136432  238208    dead end road   23382\n",
       "138387  238208    dead end road   23382\n",
       "136265  238539  corrupt sheriff  325173\n",
       "138220  238539  corrupt sheriff  325173\n",
       "\n",
       "[4156 rows x 3 columns]"
      ]
     },
     "execution_count": 292,
     "metadata": {},
     "output_type": "execute_result"
    }
   ],
   "source": [
    "# Check for duplicated columns\n",
    "keywords[keywords.duplicated(keep=False)].sort_values(by=['id', 'name', 'm_id'])"
   ]
  },
  {
   "cell_type": "code",
   "execution_count": 293,
   "metadata": {},
   "outputs": [
    {
     "data": {
      "text/plain": [
       "id      4156\n",
       "name    4156\n",
       "m_id    4156\n",
       "dtype: int64"
      ]
     },
     "execution_count": 293,
     "metadata": {},
     "output_type": "execute_result"
    }
   ],
   "source": [
    "keywords[keywords.duplicated(keep=False)].sort_values(by=['id', 'name', 'm_id']).count()"
   ]
  },
  {
   "cell_type": "code",
   "execution_count": 294,
   "metadata": {},
   "outputs": [],
   "source": [
    "keywords.drop_duplicates(keep='first', inplace=True)"
   ]
  },
  {
   "cell_type": "markdown",
   "metadata": {},
   "source": [
    "Validate"
   ]
  },
  {
   "cell_type": "code",
   "execution_count": 295,
   "metadata": {},
   "outputs": [
    {
     "data": {
      "text/plain": [
       "id      0\n",
       "name    0\n",
       "m_id    0\n",
       "dtype: int64"
      ]
     },
     "execution_count": 295,
     "metadata": {},
     "output_type": "execute_result"
    }
   ],
   "source": [
    "keywords[keywords.duplicated(keep=False)].sort_values(by=['id', 'name', 'm_id']).count()"
   ]
  },
  {
   "cell_type": "code",
   "execution_count": 296,
   "metadata": {},
   "outputs": [
    {
     "data": {
      "text/plain": [
       "id      0\n",
       "name    0\n",
       "m_id    0\n",
       "dtype: int64"
      ]
     },
     "execution_count": 296,
     "metadata": {},
     "output_type": "execute_result"
    }
   ],
   "source": [
    "keywords.isnull().sum()"
   ]
  },
  {
   "cell_type": "markdown",
   "metadata": {},
   "source": [
    "#### Links Dataframe Processing:"
   ]
  },
  {
   "cell_type": "code",
   "execution_count": 297,
   "metadata": {},
   "outputs": [
    {
     "data": {
      "text/html": [
       "<div>\n",
       "<style scoped>\n",
       "    .dataframe tbody tr th:only-of-type {\n",
       "        vertical-align: middle;\n",
       "    }\n",
       "\n",
       "    .dataframe tbody tr th {\n",
       "        vertical-align: top;\n",
       "    }\n",
       "\n",
       "    .dataframe thead th {\n",
       "        text-align: right;\n",
       "    }\n",
       "</style>\n",
       "<table border=\"1\" class=\"dataframe\">\n",
       "  <thead>\n",
       "    <tr style=\"text-align: right;\">\n",
       "      <th></th>\n",
       "      <th>movieId</th>\n",
       "      <th>imdbId</th>\n",
       "      <th>tmdbId</th>\n",
       "    </tr>\n",
       "  </thead>\n",
       "  <tbody>\n",
       "    <tr>\n",
       "      <th>0</th>\n",
       "      <td>1</td>\n",
       "      <td>114709</td>\n",
       "      <td>862.0</td>\n",
       "    </tr>\n",
       "    <tr>\n",
       "      <th>1</th>\n",
       "      <td>2</td>\n",
       "      <td>113497</td>\n",
       "      <td>8844.0</td>\n",
       "    </tr>\n",
       "    <tr>\n",
       "      <th>2</th>\n",
       "      <td>3</td>\n",
       "      <td>113228</td>\n",
       "      <td>15602.0</td>\n",
       "    </tr>\n",
       "    <tr>\n",
       "      <th>3</th>\n",
       "      <td>4</td>\n",
       "      <td>114885</td>\n",
       "      <td>31357.0</td>\n",
       "    </tr>\n",
       "    <tr>\n",
       "      <th>4</th>\n",
       "      <td>5</td>\n",
       "      <td>113041</td>\n",
       "      <td>11862.0</td>\n",
       "    </tr>\n",
       "  </tbody>\n",
       "</table>\n",
       "</div>"
      ],
      "text/plain": [
       "   movieId  imdbId   tmdbId\n",
       "0        1  114709    862.0\n",
       "1        2  113497   8844.0\n",
       "2        3  113228  15602.0\n",
       "3        4  114885  31357.0\n",
       "4        5  113041  11862.0"
      ]
     },
     "execution_count": 297,
     "metadata": {},
     "output_type": "execute_result"
    }
   ],
   "source": [
    "links.head()"
   ]
  },
  {
   "cell_type": "code",
   "execution_count": 298,
   "metadata": {},
   "outputs": [
    {
     "name": "stdout",
     "output_type": "stream",
     "text": [
      "<class 'pandas.core.frame.DataFrame'>\n",
      "RangeIndex: 45843 entries, 0 to 45842\n",
      "Data columns (total 3 columns):\n",
      " #   Column   Non-Null Count  Dtype  \n",
      "---  ------   --------------  -----  \n",
      " 0   movieId  45843 non-null  int64  \n",
      " 1   imdbId   45843 non-null  int64  \n",
      " 2   tmdbId   45624 non-null  float64\n",
      "dtypes: float64(1), int64(2)\n",
      "memory usage: 1.0 MB\n"
     ]
    }
   ],
   "source": [
    "links.info()"
   ]
  },
  {
   "cell_type": "code",
   "execution_count": 299,
   "metadata": {},
   "outputs": [],
   "source": [
    "links['tmdbId'] = links.tmdbId.fillna(0).astype(int)"
   ]
  },
  {
   "cell_type": "markdown",
   "metadata": {},
   "source": [
    "Validate"
   ]
  },
  {
   "cell_type": "code",
   "execution_count": 300,
   "metadata": {},
   "outputs": [
    {
     "name": "stdout",
     "output_type": "stream",
     "text": [
      "<class 'pandas.core.frame.DataFrame'>\n",
      "RangeIndex: 45843 entries, 0 to 45842\n",
      "Data columns (total 3 columns):\n",
      " #   Column   Non-Null Count  Dtype\n",
      "---  ------   --------------  -----\n",
      " 0   movieId  45843 non-null  int64\n",
      " 1   imdbId   45843 non-null  int64\n",
      " 2   tmdbId   45843 non-null  int64\n",
      "dtypes: int64(3)\n",
      "memory usage: 1.0 MB\n"
     ]
    }
   ],
   "source": [
    "links.info()"
   ]
  },
  {
   "cell_type": "code",
   "execution_count": 301,
   "metadata": {},
   "outputs": [
    {
     "data": {
      "text/plain": [
       "movieId    0\n",
       "imdbId     0\n",
       "tmdbId     0\n",
       "dtype: int64"
      ]
     },
     "execution_count": 301,
     "metadata": {},
     "output_type": "execute_result"
    }
   ],
   "source": [
    "links.isnull().sum()"
   ]
  },
  {
   "cell_type": "markdown",
   "metadata": {},
   "source": [
    "#### Movies Metaddata Dataframe Processing:"
   ]
  },
  {
   "cell_type": "code",
   "execution_count": 302,
   "metadata": {},
   "outputs": [
    {
     "data": {
      "text/html": [
       "<div>\n",
       "<style scoped>\n",
       "    .dataframe tbody tr th:only-of-type {\n",
       "        vertical-align: middle;\n",
       "    }\n",
       "\n",
       "    .dataframe tbody tr th {\n",
       "        vertical-align: top;\n",
       "    }\n",
       "\n",
       "    .dataframe thead th {\n",
       "        text-align: right;\n",
       "    }\n",
       "</style>\n",
       "<table border=\"1\" class=\"dataframe\">\n",
       "  <thead>\n",
       "    <tr style=\"text-align: right;\">\n",
       "      <th></th>\n",
       "      <th>adult</th>\n",
       "      <th>belongs_to_collection</th>\n",
       "      <th>budget</th>\n",
       "      <th>genres</th>\n",
       "      <th>homepage</th>\n",
       "      <th>id</th>\n",
       "      <th>imdb_id</th>\n",
       "      <th>original_language</th>\n",
       "      <th>original_title</th>\n",
       "      <th>overview</th>\n",
       "      <th>...</th>\n",
       "      <th>release_date</th>\n",
       "      <th>revenue</th>\n",
       "      <th>runtime</th>\n",
       "      <th>spoken_languages</th>\n",
       "      <th>status</th>\n",
       "      <th>tagline</th>\n",
       "      <th>title</th>\n",
       "      <th>video</th>\n",
       "      <th>vote_average</th>\n",
       "      <th>vote_count</th>\n",
       "    </tr>\n",
       "  </thead>\n",
       "  <tbody>\n",
       "    <tr>\n",
       "      <th>0</th>\n",
       "      <td>False</td>\n",
       "      <td>{'id': 10194, 'name': 'Toy Story Collection', ...</td>\n",
       "      <td>30000000</td>\n",
       "      <td>[{'id': 16, 'name': 'Animation'}, {'id': 35, '...</td>\n",
       "      <td>http://toystory.disney.com/toy-story</td>\n",
       "      <td>862</td>\n",
       "      <td>tt0114709</td>\n",
       "      <td>en</td>\n",
       "      <td>Toy Story</td>\n",
       "      <td>Led by Woody, Andy's toys live happily in his ...</td>\n",
       "      <td>...</td>\n",
       "      <td>1995-10-30</td>\n",
       "      <td>373554033</td>\n",
       "      <td>81.0</td>\n",
       "      <td>[{'iso_639_1': 'en', 'name': 'English'}]</td>\n",
       "      <td>Released</td>\n",
       "      <td>NaN</td>\n",
       "      <td>Toy Story</td>\n",
       "      <td>False</td>\n",
       "      <td>7.7</td>\n",
       "      <td>5415</td>\n",
       "    </tr>\n",
       "    <tr>\n",
       "      <th>1</th>\n",
       "      <td>False</td>\n",
       "      <td>NaN</td>\n",
       "      <td>65000000</td>\n",
       "      <td>[{'id': 12, 'name': 'Adventure'}, {'id': 14, '...</td>\n",
       "      <td>NaN</td>\n",
       "      <td>8844</td>\n",
       "      <td>tt0113497</td>\n",
       "      <td>en</td>\n",
       "      <td>Jumanji</td>\n",
       "      <td>When siblings Judy and Peter discover an encha...</td>\n",
       "      <td>...</td>\n",
       "      <td>1995-12-15</td>\n",
       "      <td>262797249</td>\n",
       "      <td>104.0</td>\n",
       "      <td>[{'iso_639_1': 'en', 'name': 'English'}, {'iso...</td>\n",
       "      <td>Released</td>\n",
       "      <td>Roll the dice and unleash the excitement!</td>\n",
       "      <td>Jumanji</td>\n",
       "      <td>False</td>\n",
       "      <td>6.9</td>\n",
       "      <td>2413</td>\n",
       "    </tr>\n",
       "    <tr>\n",
       "      <th>2</th>\n",
       "      <td>False</td>\n",
       "      <td>{'id': 119050, 'name': 'Grumpy Old Men Collect...</td>\n",
       "      <td>0</td>\n",
       "      <td>[{'id': 10749, 'name': 'Romance'}, {'id': 35, ...</td>\n",
       "      <td>NaN</td>\n",
       "      <td>15602</td>\n",
       "      <td>tt0113228</td>\n",
       "      <td>en</td>\n",
       "      <td>Grumpier Old Men</td>\n",
       "      <td>A family wedding reignites the ancient feud be...</td>\n",
       "      <td>...</td>\n",
       "      <td>1995-12-22</td>\n",
       "      <td>0</td>\n",
       "      <td>101.0</td>\n",
       "      <td>[{'iso_639_1': 'en', 'name': 'English'}]</td>\n",
       "      <td>Released</td>\n",
       "      <td>Still Yelling. Still Fighting. Still Ready for...</td>\n",
       "      <td>Grumpier Old Men</td>\n",
       "      <td>False</td>\n",
       "      <td>6.5</td>\n",
       "      <td>92</td>\n",
       "    </tr>\n",
       "    <tr>\n",
       "      <th>3</th>\n",
       "      <td>False</td>\n",
       "      <td>NaN</td>\n",
       "      <td>16000000</td>\n",
       "      <td>[{'id': 35, 'name': 'Comedy'}, {'id': 18, 'nam...</td>\n",
       "      <td>NaN</td>\n",
       "      <td>31357</td>\n",
       "      <td>tt0114885</td>\n",
       "      <td>en</td>\n",
       "      <td>Waiting to Exhale</td>\n",
       "      <td>Cheated on, mistreated and stepped on, the wom...</td>\n",
       "      <td>...</td>\n",
       "      <td>1995-12-22</td>\n",
       "      <td>81452156</td>\n",
       "      <td>127.0</td>\n",
       "      <td>[{'iso_639_1': 'en', 'name': 'English'}]</td>\n",
       "      <td>Released</td>\n",
       "      <td>Friends are the people who let you be yourself...</td>\n",
       "      <td>Waiting to Exhale</td>\n",
       "      <td>False</td>\n",
       "      <td>6.1</td>\n",
       "      <td>34</td>\n",
       "    </tr>\n",
       "    <tr>\n",
       "      <th>4</th>\n",
       "      <td>False</td>\n",
       "      <td>{'id': 96871, 'name': 'Father of the Bride Col...</td>\n",
       "      <td>0</td>\n",
       "      <td>[{'id': 35, 'name': 'Comedy'}]</td>\n",
       "      <td>NaN</td>\n",
       "      <td>11862</td>\n",
       "      <td>tt0113041</td>\n",
       "      <td>en</td>\n",
       "      <td>Father of the Bride Part II</td>\n",
       "      <td>Just when George Banks has recovered from his ...</td>\n",
       "      <td>...</td>\n",
       "      <td>1995-02-10</td>\n",
       "      <td>76578911</td>\n",
       "      <td>106.0</td>\n",
       "      <td>[{'iso_639_1': 'en', 'name': 'English'}]</td>\n",
       "      <td>Released</td>\n",
       "      <td>Just When His World Is Back To Normal... He's ...</td>\n",
       "      <td>Father of the Bride Part II</td>\n",
       "      <td>False</td>\n",
       "      <td>5.7</td>\n",
       "      <td>173</td>\n",
       "    </tr>\n",
       "  </tbody>\n",
       "</table>\n",
       "<p>5 rows × 24 columns</p>\n",
       "</div>"
      ],
      "text/plain": [
       "   adult                              belongs_to_collection    budget  \\\n",
       "0  False  {'id': 10194, 'name': 'Toy Story Collection', ...  30000000   \n",
       "1  False                                                NaN  65000000   \n",
       "2  False  {'id': 119050, 'name': 'Grumpy Old Men Collect...         0   \n",
       "3  False                                                NaN  16000000   \n",
       "4  False  {'id': 96871, 'name': 'Father of the Bride Col...         0   \n",
       "\n",
       "                                              genres  \\\n",
       "0  [{'id': 16, 'name': 'Animation'}, {'id': 35, '...   \n",
       "1  [{'id': 12, 'name': 'Adventure'}, {'id': 14, '...   \n",
       "2  [{'id': 10749, 'name': 'Romance'}, {'id': 35, ...   \n",
       "3  [{'id': 35, 'name': 'Comedy'}, {'id': 18, 'nam...   \n",
       "4                     [{'id': 35, 'name': 'Comedy'}]   \n",
       "\n",
       "                               homepage     id    imdb_id original_language  \\\n",
       "0  http://toystory.disney.com/toy-story    862  tt0114709                en   \n",
       "1                                   NaN   8844  tt0113497                en   \n",
       "2                                   NaN  15602  tt0113228                en   \n",
       "3                                   NaN  31357  tt0114885                en   \n",
       "4                                   NaN  11862  tt0113041                en   \n",
       "\n",
       "                original_title  \\\n",
       "0                    Toy Story   \n",
       "1                      Jumanji   \n",
       "2             Grumpier Old Men   \n",
       "3            Waiting to Exhale   \n",
       "4  Father of the Bride Part II   \n",
       "\n",
       "                                            overview  ...  release_date  \\\n",
       "0  Led by Woody, Andy's toys live happily in his ...  ...    1995-10-30   \n",
       "1  When siblings Judy and Peter discover an encha...  ...    1995-12-15   \n",
       "2  A family wedding reignites the ancient feud be...  ...    1995-12-22   \n",
       "3  Cheated on, mistreated and stepped on, the wom...  ...    1995-12-22   \n",
       "4  Just when George Banks has recovered from his ...  ...    1995-02-10   \n",
       "\n",
       "     revenue runtime                                   spoken_languages  \\\n",
       "0  373554033    81.0           [{'iso_639_1': 'en', 'name': 'English'}]   \n",
       "1  262797249   104.0  [{'iso_639_1': 'en', 'name': 'English'}, {'iso...   \n",
       "2          0   101.0           [{'iso_639_1': 'en', 'name': 'English'}]   \n",
       "3   81452156   127.0           [{'iso_639_1': 'en', 'name': 'English'}]   \n",
       "4   76578911   106.0           [{'iso_639_1': 'en', 'name': 'English'}]   \n",
       "\n",
       "     status                                            tagline  \\\n",
       "0  Released                                                NaN   \n",
       "1  Released          Roll the dice and unleash the excitement!   \n",
       "2  Released  Still Yelling. Still Fighting. Still Ready for...   \n",
       "3  Released  Friends are the people who let you be yourself...   \n",
       "4  Released  Just When His World Is Back To Normal... He's ...   \n",
       "\n",
       "                         title  video vote_average vote_count  \n",
       "0                    Toy Story  False          7.7       5415  \n",
       "1                      Jumanji  False          6.9       2413  \n",
       "2             Grumpier Old Men  False          6.5         92  \n",
       "3            Waiting to Exhale  False          6.1         34  \n",
       "4  Father of the Bride Part II  False          5.7        173  \n",
       "\n",
       "[5 rows x 24 columns]"
      ]
     },
     "execution_count": 302,
     "metadata": {},
     "output_type": "execute_result"
    }
   ],
   "source": [
    "movies_metadata.head()"
   ]
  },
  {
   "cell_type": "code",
   "execution_count": 329,
   "metadata": {},
   "outputs": [
    {
     "name": "stdout",
     "output_type": "stream",
     "text": [
      "<class 'pandas.core.frame.DataFrame'>\n",
      "RangeIndex: 45463 entries, 0 to 45462\n",
      "Data columns (total 19 columns):\n",
      " #   Column             Non-Null Count  Dtype  \n",
      "---  ------             --------------  -----  \n",
      " 0   adult              45463 non-null  bool   \n",
      " 1   budget             45463 non-null  int64  \n",
      " 2   homepage           7779 non-null   object \n",
      " 3   id                 45463 non-null  int64  \n",
      " 4   imdb_id            45446 non-null  object \n",
      " 5   original_language  45452 non-null  object \n",
      " 6   original_title     45463 non-null  object \n",
      " 7   overview           44509 non-null  object \n",
      " 8   popularity         45463 non-null  float64\n",
      " 9   poster_path        45080 non-null  object \n",
      " 10  release_date       45379 non-null  object \n",
      " 11  revenue            45463 non-null  int64  \n",
      " 12  runtime            45206 non-null  float64\n",
      " 13  status             45382 non-null  object \n",
      " 14  tagline            20413 non-null  object \n",
      " 15  title              45463 non-null  object \n",
      " 16  video              45463 non-null  bool   \n",
      " 17  vote_average       45463 non-null  float64\n",
      " 18  vote_count         45463 non-null  int64  \n",
      "dtypes: bool(2), float64(3), int64(4), object(10)\n",
      "memory usage: 6.0+ MB\n"
     ]
    }
   ],
   "source": [
    "movies_metadata.info()"
   ]
  },
  {
   "cell_type": "markdown",
   "metadata": {},
   "source": [
    "Cleaning & convert data type"
   ]
  },
  {
   "cell_type": "code",
   "execution_count": 330,
   "metadata": {},
   "outputs": [],
   "source": [
    "movies_metadata['release_date'] = pd.to_datetime(movies_metadata.release_date)"
   ]
  },
  {
   "cell_type": "markdown",
   "metadata": {},
   "source": [
    "Validate"
   ]
  },
  {
   "cell_type": "code",
   "execution_count": 338,
   "metadata": {},
   "outputs": [
    {
     "name": "stdout",
     "output_type": "stream",
     "text": [
      "<class 'pandas.core.series.Series'>\n",
      "RangeIndex: 45463 entries, 0 to 45462\n",
      "Series name: release_date\n",
      "Non-Null Count  Dtype         \n",
      "--------------  -----         \n",
      "45379 non-null  datetime64[ns]\n",
      "dtypes: datetime64[ns](1)\n",
      "memory usage: 355.3 KB\n"
     ]
    }
   ],
   "source": [
    "movies_metadata.release_date.info()"
   ]
  },
  {
   "cell_type": "code",
   "execution_count": 303,
   "metadata": {},
   "outputs": [
    {
     "data": {
      "text/plain": [
       "adult                                                                False\n",
       "belongs_to_collection    {'id': 10194, 'name': 'Toy Story Collection', ...\n",
       "budget                                                            30000000\n",
       "genres                   [{'id': 16, 'name': 'Animation'}, {'id': 35, '...\n",
       "homepage                              http://toystory.disney.com/toy-story\n",
       "id                                                                     862\n",
       "imdb_id                                                          tt0114709\n",
       "original_language                                                       en\n",
       "original_title                                                   Toy Story\n",
       "overview                 Led by Woody, Andy's toys live happily in his ...\n",
       "popularity                                                       21.946943\n",
       "poster_path                               /rhIRbceoE9lR4veEXuwCC2wARtG.jpg\n",
       "production_companies        [{'name': 'Pixar Animation Studios', 'id': 3}]\n",
       "production_countries     [{'iso_3166_1': 'US', 'name': 'United States o...\n",
       "release_date                                                    1995-10-30\n",
       "revenue                                                          373554033\n",
       "runtime                                                               81.0\n",
       "spoken_languages                  [{'iso_639_1': 'en', 'name': 'English'}]\n",
       "status                                                            Released\n",
       "tagline                                                                NaN\n",
       "title                                                            Toy Story\n",
       "video                                                                False\n",
       "vote_average                                                           7.7\n",
       "vote_count                                                            5415\n",
       "Name: 0, dtype: object"
      ]
     },
     "execution_count": 303,
     "metadata": {},
     "output_type": "execute_result"
    }
   ],
   "source": [
    "# Inspect the first row of the movies_metadata DataFrame to decide the processing method\n",
    "movies_metadata.iloc[0]"
   ]
  },
  {
   "cell_type": "markdown",
   "metadata": {},
   "source": [
    "Extracting belongs_to_collection DataFrame"
   ]
  },
  {
   "cell_type": "code",
   "execution_count": 304,
   "metadata": {},
   "outputs": [],
   "source": [
    "def extract_dict_values(row: pd.DataFrame, column_name: str, new_column_prefix: str = None):\n",
    "    new_row = safe_parse_collection(row[column_name])\n",
    "    if isinstance(new_row, dict):\n",
    "        for key, value in new_row.items():\n",
    "            if new_column_prefix:\n",
    "                row[f'{new_column_prefix}_{key}'] = value\n",
    "            else:\n",
    "                row[key] = value\n",
    "    return row\n",
    "\n",
    "belongs_to_collection = movies_metadata[['belongs_to_collection', 'id']].copy()\n",
    "belongs_to_collection.rename(columns={'id': 'm_id'}, inplace=True)\n",
    "belongs_to_collection = belongs_to_collection.apply(lambda row: extract_dict_values(row, 'belongs_to_collection'), axis=1)\n",
    "movies_metadata.drop('belongs_to_collection', axis=1, inplace=True)\n",
    "belongs_to_collection = belongs_to_collection.drop('belongs_to_collection', axis=1)"
   ]
  },
  {
   "cell_type": "markdown",
   "metadata": {},
   "source": [
    "Process & cleaning belongs_to_collection DataFrame"
   ]
  },
  {
   "cell_type": "code",
   "execution_count": 305,
   "metadata": {},
   "outputs": [
    {
     "data": {
      "text/html": [
       "<div>\n",
       "<style scoped>\n",
       "    .dataframe tbody tr th:only-of-type {\n",
       "        vertical-align: middle;\n",
       "    }\n",
       "\n",
       "    .dataframe tbody tr th {\n",
       "        vertical-align: top;\n",
       "    }\n",
       "\n",
       "    .dataframe thead th {\n",
       "        text-align: right;\n",
       "    }\n",
       "</style>\n",
       "<table border=\"1\" class=\"dataframe\">\n",
       "  <thead>\n",
       "    <tr style=\"text-align: right;\">\n",
       "      <th></th>\n",
       "      <th>backdrop_path</th>\n",
       "      <th>id</th>\n",
       "      <th>m_id</th>\n",
       "      <th>name</th>\n",
       "      <th>poster_path</th>\n",
       "    </tr>\n",
       "  </thead>\n",
       "  <tbody>\n",
       "    <tr>\n",
       "      <th>0</th>\n",
       "      <td>/9FBwqcd9IRruEDUrTdcaafOMKUq.jpg</td>\n",
       "      <td>10194.0</td>\n",
       "      <td>862</td>\n",
       "      <td>Toy Story Collection</td>\n",
       "      <td>/7G9915LfUQ2lVfwMEEhDsn3kT4B.jpg</td>\n",
       "    </tr>\n",
       "    <tr>\n",
       "      <th>1</th>\n",
       "      <td>NaN</td>\n",
       "      <td>NaN</td>\n",
       "      <td>8844</td>\n",
       "      <td>NaN</td>\n",
       "      <td>NaN</td>\n",
       "    </tr>\n",
       "    <tr>\n",
       "      <th>2</th>\n",
       "      <td>/hypTnLot2z8wpFS7qwsQHW1uV8u.jpg</td>\n",
       "      <td>119050.0</td>\n",
       "      <td>15602</td>\n",
       "      <td>Grumpy Old Men Collection</td>\n",
       "      <td>/nLvUdqgPgm3F85NMCii9gVFUcet.jpg</td>\n",
       "    </tr>\n",
       "    <tr>\n",
       "      <th>3</th>\n",
       "      <td>NaN</td>\n",
       "      <td>NaN</td>\n",
       "      <td>31357</td>\n",
       "      <td>NaN</td>\n",
       "      <td>NaN</td>\n",
       "    </tr>\n",
       "    <tr>\n",
       "      <th>4</th>\n",
       "      <td>/7qwE57OVZmMJChBpLEbJEmzUydk.jpg</td>\n",
       "      <td>96871.0</td>\n",
       "      <td>11862</td>\n",
       "      <td>Father of the Bride Collection</td>\n",
       "      <td>/nts4iOmNnq7GNicycMJ9pSAn204.jpg</td>\n",
       "    </tr>\n",
       "  </tbody>\n",
       "</table>\n",
       "</div>"
      ],
      "text/plain": [
       "                      backdrop_path        id   m_id  \\\n",
       "0  /9FBwqcd9IRruEDUrTdcaafOMKUq.jpg   10194.0    862   \n",
       "1                               NaN       NaN   8844   \n",
       "2  /hypTnLot2z8wpFS7qwsQHW1uV8u.jpg  119050.0  15602   \n",
       "3                               NaN       NaN  31357   \n",
       "4  /7qwE57OVZmMJChBpLEbJEmzUydk.jpg   96871.0  11862   \n",
       "\n",
       "                             name                       poster_path  \n",
       "0            Toy Story Collection  /7G9915LfUQ2lVfwMEEhDsn3kT4B.jpg  \n",
       "1                             NaN                               NaN  \n",
       "2       Grumpy Old Men Collection  /nLvUdqgPgm3F85NMCii9gVFUcet.jpg  \n",
       "3                             NaN                               NaN  \n",
       "4  Father of the Bride Collection  /nts4iOmNnq7GNicycMJ9pSAn204.jpg  "
      ]
     },
     "execution_count": 305,
     "metadata": {},
     "output_type": "execute_result"
    }
   ],
   "source": [
    "# Take a look of the top 5 rows of the belongs_to_collection DataFrame\n",
    "belongs_to_collection.head()"
   ]
  },
  {
   "cell_type": "code",
   "execution_count": 306,
   "metadata": {},
   "outputs": [
    {
     "name": "stdout",
     "output_type": "stream",
     "text": [
      "<class 'pandas.core.frame.DataFrame'>\n",
      "RangeIndex: 45463 entries, 0 to 45462\n",
      "Data columns (total 5 columns):\n",
      " #   Column         Non-Null Count  Dtype  \n",
      "---  ------         --------------  -----  \n",
      " 0   backdrop_path  3263 non-null   object \n",
      " 1   id             4491 non-null   float64\n",
      " 2   m_id           45463 non-null  int64  \n",
      " 3   name           4491 non-null   object \n",
      " 4   poster_path    3948 non-null   object \n",
      "dtypes: float64(1), int64(1), object(3)\n",
      "memory usage: 1.7+ MB\n"
     ]
    }
   ],
   "source": [
    "# Inspect the data type\n",
    "belongs_to_collection.info()"
   ]
  },
  {
   "cell_type": "code",
   "execution_count": 307,
   "metadata": {},
   "outputs": [
    {
     "data": {
      "text/html": [
       "<div>\n",
       "<style scoped>\n",
       "    .dataframe tbody tr th:only-of-type {\n",
       "        vertical-align: middle;\n",
       "    }\n",
       "\n",
       "    .dataframe tbody tr th {\n",
       "        vertical-align: top;\n",
       "    }\n",
       "\n",
       "    .dataframe thead th {\n",
       "        text-align: right;\n",
       "    }\n",
       "</style>\n",
       "<table border=\"1\" class=\"dataframe\">\n",
       "  <thead>\n",
       "    <tr style=\"text-align: right;\">\n",
       "      <th></th>\n",
       "      <th>backdrop_path</th>\n",
       "      <th>id</th>\n",
       "      <th>m_id</th>\n",
       "      <th>name</th>\n",
       "      <th>poster_path</th>\n",
       "    </tr>\n",
       "  </thead>\n",
       "  <tbody>\n",
       "    <tr>\n",
       "      <th>0</th>\n",
       "      <td>/9FBwqcd9IRruEDUrTdcaafOMKUq.jpg</td>\n",
       "      <td>10194.0</td>\n",
       "      <td>862</td>\n",
       "      <td>Toy Story Collection</td>\n",
       "      <td>/7G9915LfUQ2lVfwMEEhDsn3kT4B.jpg</td>\n",
       "    </tr>\n",
       "    <tr>\n",
       "      <th>2</th>\n",
       "      <td>/hypTnLot2z8wpFS7qwsQHW1uV8u.jpg</td>\n",
       "      <td>119050.0</td>\n",
       "      <td>15602</td>\n",
       "      <td>Grumpy Old Men Collection</td>\n",
       "      <td>/nLvUdqgPgm3F85NMCii9gVFUcet.jpg</td>\n",
       "    </tr>\n",
       "    <tr>\n",
       "      <th>4</th>\n",
       "      <td>/7qwE57OVZmMJChBpLEbJEmzUydk.jpg</td>\n",
       "      <td>96871.0</td>\n",
       "      <td>11862</td>\n",
       "      <td>Father of the Bride Collection</td>\n",
       "      <td>/nts4iOmNnq7GNicycMJ9pSAn204.jpg</td>\n",
       "    </tr>\n",
       "    <tr>\n",
       "      <th>9</th>\n",
       "      <td>/6VcVl48kNKvdXOZfJPdarlUGOsk.jpg</td>\n",
       "      <td>645.0</td>\n",
       "      <td>710</td>\n",
       "      <td>James Bond Collection</td>\n",
       "      <td>/HORpg5CSkmeQlAolx3bKMrKgfi.jpg</td>\n",
       "    </tr>\n",
       "    <tr>\n",
       "      <th>12</th>\n",
       "      <td>/9VM5LiJV0bGb1st1KyHA3cVnO2G.jpg</td>\n",
       "      <td>117693.0</td>\n",
       "      <td>21032</td>\n",
       "      <td>Balto Collection</td>\n",
       "      <td>/w0ZgH6Lgxt2bQYnf1ss74UvYftm.jpg</td>\n",
       "    </tr>\n",
       "  </tbody>\n",
       "</table>\n",
       "</div>"
      ],
      "text/plain": [
       "                       backdrop_path        id   m_id  \\\n",
       "0   /9FBwqcd9IRruEDUrTdcaafOMKUq.jpg   10194.0    862   \n",
       "2   /hypTnLot2z8wpFS7qwsQHW1uV8u.jpg  119050.0  15602   \n",
       "4   /7qwE57OVZmMJChBpLEbJEmzUydk.jpg   96871.0  11862   \n",
       "9   /6VcVl48kNKvdXOZfJPdarlUGOsk.jpg     645.0    710   \n",
       "12  /9VM5LiJV0bGb1st1KyHA3cVnO2G.jpg  117693.0  21032   \n",
       "\n",
       "                              name                       poster_path  \n",
       "0             Toy Story Collection  /7G9915LfUQ2lVfwMEEhDsn3kT4B.jpg  \n",
       "2        Grumpy Old Men Collection  /nLvUdqgPgm3F85NMCii9gVFUcet.jpg  \n",
       "4   Father of the Bride Collection  /nts4iOmNnq7GNicycMJ9pSAn204.jpg  \n",
       "9            James Bond Collection   /HORpg5CSkmeQlAolx3bKMrKgfi.jpg  \n",
       "12                Balto Collection  /w0ZgH6Lgxt2bQYnf1ss74UvYftm.jpg  "
      ]
     },
     "execution_count": 307,
     "metadata": {},
     "output_type": "execute_result"
    }
   ],
   "source": [
    "# Remove rows with missing values\n",
    "mask = belongs_to_collection[['id', 'name']].isna().all(axis=1)\n",
    "belongs_to_collection = belongs_to_collection[~mask]\n",
    "belongs_to_collection.head()"
   ]
  },
  {
   "cell_type": "markdown",
   "metadata": {},
   "source": [
    "Validate"
   ]
  },
  {
   "cell_type": "code",
   "execution_count": 308,
   "metadata": {},
   "outputs": [
    {
     "name": "stdout",
     "output_type": "stream",
     "text": [
      "<class 'pandas.core.frame.DataFrame'>\n",
      "Index: 4491 entries, 0 to 45379\n",
      "Data columns (total 5 columns):\n",
      " #   Column         Non-Null Count  Dtype  \n",
      "---  ------         --------------  -----  \n",
      " 0   backdrop_path  3263 non-null   object \n",
      " 1   id             4491 non-null   float64\n",
      " 2   m_id           4491 non-null   int64  \n",
      " 3   name           4491 non-null   object \n",
      " 4   poster_path    3948 non-null   object \n",
      "dtypes: float64(1), int64(1), object(3)\n",
      "memory usage: 210.5+ KB\n"
     ]
    }
   ],
   "source": [
    "# Inspect the data type\n",
    "belongs_to_collection.info()"
   ]
  },
  {
   "cell_type": "markdown",
   "metadata": {},
   "source": [
    "Extracting and separating genres column"
   ]
  },
  {
   "cell_type": "code",
   "execution_count": 309,
   "metadata": {},
   "outputs": [
    {
     "data": {
      "text/html": [
       "<div>\n",
       "<style scoped>\n",
       "    .dataframe tbody tr th:only-of-type {\n",
       "        vertical-align: middle;\n",
       "    }\n",
       "\n",
       "    .dataframe tbody tr th {\n",
       "        vertical-align: top;\n",
       "    }\n",
       "\n",
       "    .dataframe thead th {\n",
       "        text-align: right;\n",
       "    }\n",
       "</style>\n",
       "<table border=\"1\" class=\"dataframe\">\n",
       "  <thead>\n",
       "    <tr style=\"text-align: right;\">\n",
       "      <th></th>\n",
       "      <th>id</th>\n",
       "      <th>name</th>\n",
       "      <th>m_id</th>\n",
       "    </tr>\n",
       "  </thead>\n",
       "  <tbody>\n",
       "    <tr>\n",
       "      <th>23604</th>\n",
       "      <td>80</td>\n",
       "      <td>Crime</td>\n",
       "      <td>26332</td>\n",
       "    </tr>\n",
       "    <tr>\n",
       "      <th>74098</th>\n",
       "      <td>18</td>\n",
       "      <td>Drama</td>\n",
       "      <td>42748</td>\n",
       "    </tr>\n",
       "    <tr>\n",
       "      <th>58579</th>\n",
       "      <td>18</td>\n",
       "      <td>Drama</td>\n",
       "      <td>39433</td>\n",
       "    </tr>\n",
       "    <tr>\n",
       "      <th>8834</th>\n",
       "      <td>10749</td>\n",
       "      <td>Romance</td>\n",
       "      <td>10641</td>\n",
       "    </tr>\n",
       "    <tr>\n",
       "      <th>85867</th>\n",
       "      <td>18</td>\n",
       "      <td>Drama</td>\n",
       "      <td>358926</td>\n",
       "    </tr>\n",
       "  </tbody>\n",
       "</table>\n",
       "</div>"
      ],
      "text/plain": [
       "          id     name    m_id\n",
       "23604     80    Crime   26332\n",
       "74098     18    Drama   42748\n",
       "58579     18    Drama   39433\n",
       "8834   10749  Romance   10641\n",
       "85867     18    Drama  358926"
      ]
     },
     "execution_count": 309,
     "metadata": {},
     "output_type": "execute_result"
    }
   ],
   "source": [
    "genres = normalize_data(movies_metadata, 'genres', 'id', 'm')\n",
    "movies_metadata.drop(columns=['genres'], inplace=True)\n",
    "genres.sample(5)"
   ]
  },
  {
   "cell_type": "markdown",
   "metadata": {},
   "source": [
    "Validate"
   ]
  },
  {
   "cell_type": "code",
   "execution_count": 310,
   "metadata": {},
   "outputs": [
    {
     "name": "stdout",
     "output_type": "stream",
     "text": [
      "<class 'pandas.core.frame.DataFrame'>\n",
      "RangeIndex: 91094 entries, 0 to 91093\n",
      "Data columns (total 3 columns):\n",
      " #   Column  Non-Null Count  Dtype \n",
      "---  ------  --------------  ----- \n",
      " 0   id      91094 non-null  int64 \n",
      " 1   name    91094 non-null  object\n",
      " 2   m_id    91094 non-null  int64 \n",
      "dtypes: int64(2), object(1)\n",
      "memory usage: 2.1+ MB\n"
     ]
    }
   ],
   "source": [
    "genres.info()"
   ]
  },
  {
   "cell_type": "markdown",
   "metadata": {},
   "source": [
    "Extracting production_companies column"
   ]
  },
  {
   "cell_type": "code",
   "execution_count": 311,
   "metadata": {},
   "outputs": [
    {
     "data": {
      "text/html": [
       "<div>\n",
       "<style scoped>\n",
       "    .dataframe tbody tr th:only-of-type {\n",
       "        vertical-align: middle;\n",
       "    }\n",
       "\n",
       "    .dataframe tbody tr th {\n",
       "        vertical-align: top;\n",
       "    }\n",
       "\n",
       "    .dataframe thead th {\n",
       "        text-align: right;\n",
       "    }\n",
       "</style>\n",
       "<table border=\"1\" class=\"dataframe\">\n",
       "  <thead>\n",
       "    <tr style=\"text-align: right;\">\n",
       "      <th></th>\n",
       "      <th>name</th>\n",
       "      <th>id</th>\n",
       "      <th>m_id</th>\n",
       "    </tr>\n",
       "  </thead>\n",
       "  <tbody>\n",
       "    <tr>\n",
       "      <th>4053</th>\n",
       "      <td>Lucasfilm</td>\n",
       "      <td>1</td>\n",
       "      <td>847</td>\n",
       "    </tr>\n",
       "    <tr>\n",
       "      <th>570</th>\n",
       "      <td>Lucasfilm</td>\n",
       "      <td>1</td>\n",
       "      <td>11</td>\n",
       "    </tr>\n",
       "    <tr>\n",
       "      <th>2474</th>\n",
       "      <td>Lucasfilm</td>\n",
       "      <td>1</td>\n",
       "      <td>89</td>\n",
       "    </tr>\n",
       "    <tr>\n",
       "      <th>4517</th>\n",
       "      <td>Lucasfilm</td>\n",
       "      <td>1</td>\n",
       "      <td>10658</td>\n",
       "    </tr>\n",
       "    <tr>\n",
       "      <th>3889</th>\n",
       "      <td>Lucasfilm</td>\n",
       "      <td>1</td>\n",
       "      <td>87</td>\n",
       "    </tr>\n",
       "  </tbody>\n",
       "</table>\n",
       "</div>"
      ],
      "text/plain": [
       "           name  id   m_id\n",
       "4053  Lucasfilm   1    847\n",
       "570   Lucasfilm   1     11\n",
       "2474  Lucasfilm   1     89\n",
       "4517  Lucasfilm   1  10658\n",
       "3889  Lucasfilm   1     87"
      ]
     },
     "execution_count": 311,
     "metadata": {},
     "output_type": "execute_result"
    }
   ],
   "source": [
    "production_companies = normalize_data(movies_metadata, 'production_companies', 'id', 'm')\n",
    "movies_metadata.drop(columns=['production_companies'], inplace=True)\n",
    "production_companies.sort_values(by='id').head()"
   ]
  },
  {
   "cell_type": "markdown",
   "metadata": {},
   "source": [
    "Cleaning process"
   ]
  },
  {
   "cell_type": "code",
   "execution_count": 312,
   "metadata": {},
   "outputs": [
    {
     "name": "stdout",
     "output_type": "stream",
     "text": [
      "<class 'pandas.core.frame.DataFrame'>\n",
      "RangeIndex: 70557 entries, 0 to 70556\n",
      "Data columns (total 3 columns):\n",
      " #   Column  Non-Null Count  Dtype \n",
      "---  ------  --------------  ----- \n",
      " 0   name    70557 non-null  object\n",
      " 1   id      70557 non-null  int64 \n",
      " 2   m_id    70557 non-null  int64 \n",
      "dtypes: int64(2), object(1)\n",
      "memory usage: 1.6+ MB\n"
     ]
    }
   ],
   "source": [
    "production_companies.info()"
   ]
  },
  {
   "cell_type": "markdown",
   "metadata": {},
   "source": [
    "Extracting production_countries DataFrame"
   ]
  },
  {
   "cell_type": "code",
   "execution_count": 313,
   "metadata": {},
   "outputs": [
    {
     "data": {
      "text/html": [
       "<div>\n",
       "<style scoped>\n",
       "    .dataframe tbody tr th:only-of-type {\n",
       "        vertical-align: middle;\n",
       "    }\n",
       "\n",
       "    .dataframe tbody tr th {\n",
       "        vertical-align: top;\n",
       "    }\n",
       "\n",
       "    .dataframe thead th {\n",
       "        text-align: right;\n",
       "    }\n",
       "</style>\n",
       "<table border=\"1\" class=\"dataframe\">\n",
       "  <thead>\n",
       "    <tr style=\"text-align: right;\">\n",
       "      <th></th>\n",
       "      <th>iso_3166_1</th>\n",
       "      <th>name</th>\n",
       "      <th>m_id</th>\n",
       "    </tr>\n",
       "  </thead>\n",
       "  <tbody>\n",
       "    <tr>\n",
       "      <th>4353</th>\n",
       "      <td>US</td>\n",
       "      <td>United States of America</td>\n",
       "      <td>36047</td>\n",
       "    </tr>\n",
       "    <tr>\n",
       "      <th>47314</th>\n",
       "      <td>US</td>\n",
       "      <td>United States of America</td>\n",
       "      <td>401484</td>\n",
       "    </tr>\n",
       "    <tr>\n",
       "      <th>3487</th>\n",
       "      <td>US</td>\n",
       "      <td>United States of America</td>\n",
       "      <td>1832</td>\n",
       "    </tr>\n",
       "    <tr>\n",
       "      <th>547</th>\n",
       "      <td>US</td>\n",
       "      <td>United States of America</td>\n",
       "      <td>16297</td>\n",
       "    </tr>\n",
       "    <tr>\n",
       "      <th>21868</th>\n",
       "      <td>CN</td>\n",
       "      <td>China</td>\n",
       "      <td>55292</td>\n",
       "    </tr>\n",
       "  </tbody>\n",
       "</table>\n",
       "</div>"
      ],
      "text/plain": [
       "      iso_3166_1                      name    m_id\n",
       "4353          US  United States of America   36047\n",
       "47314         US  United States of America  401484\n",
       "3487          US  United States of America    1832\n",
       "547           US  United States of America   16297\n",
       "21868         CN                     China   55292"
      ]
     },
     "execution_count": 313,
     "metadata": {},
     "output_type": "execute_result"
    }
   ],
   "source": [
    "production_countries = normalize_data(movies_metadata, 'production_countries', 'id', 'm')\n",
    "movies_metadata.drop(columns=['production_countries'], inplace=True)\n",
    "production_countries.sample(5)"
   ]
  },
  {
   "cell_type": "markdown",
   "metadata": {},
   "source": [
    "Validate"
   ]
  },
  {
   "cell_type": "code",
   "execution_count": 314,
   "metadata": {},
   "outputs": [
    {
     "name": "stdout",
     "output_type": "stream",
     "text": [
      "<class 'pandas.core.frame.DataFrame'>\n",
      "RangeIndex: 49430 entries, 0 to 49429\n",
      "Data columns (total 3 columns):\n",
      " #   Column      Non-Null Count  Dtype \n",
      "---  ------      --------------  ----- \n",
      " 0   iso_3166_1  49430 non-null  object\n",
      " 1   name        49430 non-null  object\n",
      " 2   m_id        49430 non-null  int64 \n",
      "dtypes: int64(1), object(2)\n",
      "memory usage: 1.1+ MB\n"
     ]
    }
   ],
   "source": [
    "production_countries.info()"
   ]
  },
  {
   "cell_type": "markdown",
   "metadata": {},
   "source": [
    "Extracting spoken_languages DataFrame"
   ]
  },
  {
   "cell_type": "code",
   "execution_count": 315,
   "metadata": {},
   "outputs": [
    {
     "data": {
      "text/html": [
       "<div>\n",
       "<style scoped>\n",
       "    .dataframe tbody tr th:only-of-type {\n",
       "        vertical-align: middle;\n",
       "    }\n",
       "\n",
       "    .dataframe tbody tr th {\n",
       "        vertical-align: top;\n",
       "    }\n",
       "\n",
       "    .dataframe thead th {\n",
       "        text-align: right;\n",
       "    }\n",
       "</style>\n",
       "<table border=\"1\" class=\"dataframe\">\n",
       "  <thead>\n",
       "    <tr style=\"text-align: right;\">\n",
       "      <th></th>\n",
       "      <th>iso_639_1</th>\n",
       "      <th>name</th>\n",
       "      <th>m_id</th>\n",
       "    </tr>\n",
       "  </thead>\n",
       "  <tbody>\n",
       "    <tr>\n",
       "      <th>38046</th>\n",
       "      <td>en</td>\n",
       "      <td>English</td>\n",
       "      <td>16390</td>\n",
       "    </tr>\n",
       "    <tr>\n",
       "      <th>19449</th>\n",
       "      <td>ru</td>\n",
       "      <td>Pусский</td>\n",
       "      <td>83491</td>\n",
       "    </tr>\n",
       "    <tr>\n",
       "      <th>52026</th>\n",
       "      <td>en</td>\n",
       "      <td>English</td>\n",
       "      <td>89763</td>\n",
       "    </tr>\n",
       "    <tr>\n",
       "      <th>19200</th>\n",
       "      <td>en</td>\n",
       "      <td>English</td>\n",
       "      <td>24056</td>\n",
       "    </tr>\n",
       "    <tr>\n",
       "      <th>2076</th>\n",
       "      <td>en</td>\n",
       "      <td>English</td>\n",
       "      <td>55306</td>\n",
       "    </tr>\n",
       "  </tbody>\n",
       "</table>\n",
       "</div>"
      ],
      "text/plain": [
       "      iso_639_1     name   m_id\n",
       "38046        en  English  16390\n",
       "19449        ru  Pусский  83491\n",
       "52026        en  English  89763\n",
       "19200        en  English  24056\n",
       "2076         en  English  55306"
      ]
     },
     "execution_count": 315,
     "metadata": {},
     "output_type": "execute_result"
    }
   ],
   "source": [
    "spoken_languages = normalize_data(movies_metadata, 'spoken_languages', 'id', 'm')\n",
    "movies_metadata.drop(columns=['spoken_languages'], inplace=True)\n",
    "spoken_languages.sample(5)"
   ]
  },
  {
   "cell_type": "markdown",
   "metadata": {},
   "source": [
    "Validate"
   ]
  },
  {
   "cell_type": "code",
   "execution_count": 316,
   "metadata": {},
   "outputs": [
    {
     "name": "stdout",
     "output_type": "stream",
     "text": [
      "<class 'pandas.core.frame.DataFrame'>\n",
      "RangeIndex: 53303 entries, 0 to 53302\n",
      "Data columns (total 3 columns):\n",
      " #   Column     Non-Null Count  Dtype \n",
      "---  ------     --------------  ----- \n",
      " 0   iso_639_1  53303 non-null  object\n",
      " 1   name       53303 non-null  object\n",
      " 2   m_id       53303 non-null  int64 \n",
      "dtypes: int64(1), object(2)\n",
      "memory usage: 1.2+ MB\n"
     ]
    }
   ],
   "source": [
    "spoken_languages.info()"
   ]
  },
  {
   "cell_type": "markdown",
   "metadata": {},
   "source": [
    "#### Validate whether the data is valid and related"
   ]
  },
  {
   "cell_type": "code",
   "execution_count": 317,
   "metadata": {},
   "outputs": [
    {
     "data": {
      "text/html": [
       "<div>\n",
       "<style scoped>\n",
       "    .dataframe tbody tr th:only-of-type {\n",
       "        vertical-align: middle;\n",
       "    }\n",
       "\n",
       "    .dataframe tbody tr th {\n",
       "        vertical-align: top;\n",
       "    }\n",
       "\n",
       "    .dataframe thead th {\n",
       "        text-align: right;\n",
       "    }\n",
       "</style>\n",
       "<table border=\"1\" class=\"dataframe\">\n",
       "  <thead>\n",
       "    <tr style=\"text-align: right;\">\n",
       "      <th></th>\n",
       "      <th>userId</th>\n",
       "      <th>movieId</th>\n",
       "      <th>rating</th>\n",
       "      <th>timestamp</th>\n",
       "    </tr>\n",
       "  </thead>\n",
       "  <tbody>\n",
       "    <tr>\n",
       "      <th>0</th>\n",
       "      <td>1</td>\n",
       "      <td>110</td>\n",
       "      <td>1.0</td>\n",
       "      <td>1425941529</td>\n",
       "    </tr>\n",
       "    <tr>\n",
       "      <th>1</th>\n",
       "      <td>1</td>\n",
       "      <td>147</td>\n",
       "      <td>4.5</td>\n",
       "      <td>1425942435</td>\n",
       "    </tr>\n",
       "    <tr>\n",
       "      <th>2</th>\n",
       "      <td>1</td>\n",
       "      <td>858</td>\n",
       "      <td>5.0</td>\n",
       "      <td>1425941523</td>\n",
       "    </tr>\n",
       "    <tr>\n",
       "      <th>3</th>\n",
       "      <td>1</td>\n",
       "      <td>1221</td>\n",
       "      <td>5.0</td>\n",
       "      <td>1425941546</td>\n",
       "    </tr>\n",
       "    <tr>\n",
       "      <th>4</th>\n",
       "      <td>1</td>\n",
       "      <td>1246</td>\n",
       "      <td>5.0</td>\n",
       "      <td>1425941556</td>\n",
       "    </tr>\n",
       "  </tbody>\n",
       "</table>\n",
       "</div>"
      ],
      "text/plain": [
       "   userId  movieId  rating   timestamp\n",
       "0       1      110     1.0  1425941529\n",
       "1       1      147     4.5  1425942435\n",
       "2       1      858     5.0  1425941523\n",
       "3       1     1221     5.0  1425941546\n",
       "4       1     1246     5.0  1425941556"
      ]
     },
     "execution_count": 317,
     "metadata": {},
     "output_type": "execute_result"
    }
   ],
   "source": [
    "# Taking sample\n",
    "ratings.head()"
   ]
  },
  {
   "cell_type": "code",
   "execution_count": 318,
   "metadata": {},
   "outputs": [
    {
     "data": {
      "text/html": [
       "<div>\n",
       "<style scoped>\n",
       "    .dataframe tbody tr th:only-of-type {\n",
       "        vertical-align: middle;\n",
       "    }\n",
       "\n",
       "    .dataframe tbody tr th {\n",
       "        vertical-align: top;\n",
       "    }\n",
       "\n",
       "    .dataframe thead th {\n",
       "        text-align: right;\n",
       "    }\n",
       "</style>\n",
       "<table border=\"1\" class=\"dataframe\">\n",
       "  <thead>\n",
       "    <tr style=\"text-align: right;\">\n",
       "      <th></th>\n",
       "      <th>cast</th>\n",
       "      <th>crew</th>\n",
       "      <th>id</th>\n",
       "    </tr>\n",
       "  </thead>\n",
       "  <tbody>\n",
       "    <tr>\n",
       "      <th>302</th>\n",
       "      <td>[{'cast_id': 9, 'character': 'Valentine Dussau...</td>\n",
       "      <td>[{'credit_id': '52fe4219c3a36847f8003dbd', 'de...</td>\n",
       "      <td>110</td>\n",
       "    </tr>\n",
       "  </tbody>\n",
       "</table>\n",
       "</div>"
      ],
      "text/plain": [
       "                                                  cast  \\\n",
       "302  [{'cast_id': 9, 'character': 'Valentine Dussau...   \n",
       "\n",
       "                                                  crew   id  \n",
       "302  [{'credit_id': '52fe4219c3a36847f8003dbd', 'de...  110  "
      ]
     },
     "execution_count": 318,
     "metadata": {},
     "output_type": "execute_result"
    }
   ],
   "source": [
    "credits[credits['id'] == 110]"
   ]
  },
  {
   "cell_type": "code",
   "execution_count": 319,
   "metadata": {},
   "outputs": [
    {
     "data": {
      "text/html": [
       "<div>\n",
       "<style scoped>\n",
       "    .dataframe tbody tr th:only-of-type {\n",
       "        vertical-align: middle;\n",
       "    }\n",
       "\n",
       "    .dataframe tbody tr th {\n",
       "        vertical-align: top;\n",
       "    }\n",
       "\n",
       "    .dataframe thead th {\n",
       "        text-align: right;\n",
       "    }\n",
       "</style>\n",
       "<table border=\"1\" class=\"dataframe\">\n",
       "  <thead>\n",
       "    <tr style=\"text-align: right;\">\n",
       "      <th></th>\n",
       "      <th>cast_id</th>\n",
       "      <th>character</th>\n",
       "      <th>credit_id</th>\n",
       "      <th>gender</th>\n",
       "      <th>id</th>\n",
       "      <th>name</th>\n",
       "      <th>order</th>\n",
       "      <th>profile_path</th>\n",
       "      <th>m_id</th>\n",
       "    </tr>\n",
       "  </thead>\n",
       "  <tbody>\n",
       "    <tr>\n",
       "      <th>2674</th>\n",
       "      <td>4</td>\n",
       "      <td>Lt. Peter 'WEAPS' Ince</td>\n",
       "      <td>52fe44ccc3a36847f80aa7e9</td>\n",
       "      <td>2</td>\n",
       "      <td>110</td>\n",
       "      <td>Viggo Mortensen</td>\n",
       "      <td>4</td>\n",
       "      <td>/gYtVNMwX96fE9F0WVkdC0SGffkn.jpg</td>\n",
       "      <td>8963</td>\n",
       "    </tr>\n",
       "    <tr>\n",
       "      <th>3110</th>\n",
       "      <td>14</td>\n",
       "      <td>Lucifer</td>\n",
       "      <td>535e9b58c3a36830a9005700</td>\n",
       "      <td>2</td>\n",
       "      <td>110</td>\n",
       "      <td>Viggo Mortensen</td>\n",
       "      <td>5</td>\n",
       "      <td>/gYtVNMwX96fE9F0WVkdC0SGffkn.jpg</td>\n",
       "      <td>11980</td>\n",
       "    </tr>\n",
       "    <tr>\n",
       "      <th>7041</th>\n",
       "      <td>11</td>\n",
       "      <td>Lalin</td>\n",
       "      <td>52fe443bc3a36847f8089ef7</td>\n",
       "      <td>2</td>\n",
       "      <td>110</td>\n",
       "      <td>Viggo Mortensen</td>\n",
       "      <td>7</td>\n",
       "      <td>/gYtVNMwX96fE9F0WVkdC0SGffkn.jpg</td>\n",
       "      <td>6075</td>\n",
       "    </tr>\n",
       "    <tr>\n",
       "      <th>12512</th>\n",
       "      <td>11</td>\n",
       "      <td>Roy Nord</td>\n",
       "      <td>52fe44159251416c75028531</td>\n",
       "      <td>2</td>\n",
       "      <td>110</td>\n",
       "      <td>Viggo Mortensen</td>\n",
       "      <td>2</td>\n",
       "      <td>/gYtVNMwX96fE9F0WVkdC0SGffkn.jpg</td>\n",
       "      <td>11228</td>\n",
       "    </tr>\n",
       "    <tr>\n",
       "      <th>23655</th>\n",
       "      <td>7</td>\n",
       "      <td>Guy Foucard</td>\n",
       "      <td>52fe44b7c3a36847f80a5f6f</td>\n",
       "      <td>2</td>\n",
       "      <td>110</td>\n",
       "      <td>Viggo Mortensen</td>\n",
       "      <td>4</td>\n",
       "      <td>/gYtVNMwX96fE9F0WVkdC0SGffkn.jpg</td>\n",
       "      <td>8744</td>\n",
       "    </tr>\n",
       "  </tbody>\n",
       "</table>\n",
       "</div>"
      ],
      "text/plain": [
       "       cast_id               character                 credit_id  gender   id  \\\n",
       "2674         4  Lt. Peter 'WEAPS' Ince  52fe44ccc3a36847f80aa7e9       2  110   \n",
       "3110        14                 Lucifer  535e9b58c3a36830a9005700       2  110   \n",
       "7041        11                   Lalin  52fe443bc3a36847f8089ef7       2  110   \n",
       "12512       11                Roy Nord  52fe44159251416c75028531       2  110   \n",
       "23655        7             Guy Foucard  52fe44b7c3a36847f80a5f6f       2  110   \n",
       "\n",
       "                  name  order                      profile_path   m_id  \n",
       "2674   Viggo Mortensen      4  /gYtVNMwX96fE9F0WVkdC0SGffkn.jpg   8963  \n",
       "3110   Viggo Mortensen      5  /gYtVNMwX96fE9F0WVkdC0SGffkn.jpg  11980  \n",
       "7041   Viggo Mortensen      7  /gYtVNMwX96fE9F0WVkdC0SGffkn.jpg   6075  \n",
       "12512  Viggo Mortensen      2  /gYtVNMwX96fE9F0WVkdC0SGffkn.jpg  11228  \n",
       "23655  Viggo Mortensen      4  /gYtVNMwX96fE9F0WVkdC0SGffkn.jpg   8744  "
      ]
     },
     "execution_count": 319,
     "metadata": {},
     "output_type": "execute_result"
    }
   ],
   "source": [
    "c_cast[c_cast['id'] == 110].head()"
   ]
  },
  {
   "cell_type": "code",
   "execution_count": 320,
   "metadata": {},
   "outputs": [
    {
     "data": {
      "text/html": [
       "<div>\n",
       "<style scoped>\n",
       "    .dataframe tbody tr th:only-of-type {\n",
       "        vertical-align: middle;\n",
       "    }\n",
       "\n",
       "    .dataframe tbody tr th {\n",
       "        vertical-align: top;\n",
       "    }\n",
       "\n",
       "    .dataframe thead th {\n",
       "        text-align: right;\n",
       "    }\n",
       "</style>\n",
       "<table border=\"1\" class=\"dataframe\">\n",
       "  <thead>\n",
       "    <tr style=\"text-align: right;\">\n",
       "      <th></th>\n",
       "      <th>credit_id</th>\n",
       "      <th>department</th>\n",
       "      <th>gender</th>\n",
       "      <th>id</th>\n",
       "      <th>job</th>\n",
       "      <th>name</th>\n",
       "      <th>profile_path</th>\n",
       "      <th>m_id</th>\n",
       "    </tr>\n",
       "  </thead>\n",
       "  <tbody>\n",
       "    <tr>\n",
       "      <th>344703</th>\n",
       "      <td>5545f2619251414c92003c16</td>\n",
       "      <td>Production</td>\n",
       "      <td>2</td>\n",
       "      <td>110</td>\n",
       "      <td>Co-Producer</td>\n",
       "      <td>Viggo Mortensen</td>\n",
       "      <td>/gYtVNMwX96fE9F0WVkdC0SGffkn.jpg</td>\n",
       "      <td>283708</td>\n",
       "    </tr>\n",
       "  </tbody>\n",
       "</table>\n",
       "</div>"
      ],
      "text/plain": [
       "                       credit_id  department  gender   id          job  \\\n",
       "344703  5545f2619251414c92003c16  Production       2  110  Co-Producer   \n",
       "\n",
       "                   name                      profile_path    m_id  \n",
       "344703  Viggo Mortensen  /gYtVNMwX96fE9F0WVkdC0SGffkn.jpg  283708  "
      ]
     },
     "execution_count": 320,
     "metadata": {},
     "output_type": "execute_result"
    }
   ],
   "source": [
    "c_crew[c_crew['id'] == 110].head()"
   ]
  },
  {
   "cell_type": "code",
   "execution_count": 321,
   "metadata": {},
   "outputs": [
    {
     "data": {
      "text/html": [
       "<div>\n",
       "<style scoped>\n",
       "    .dataframe tbody tr th:only-of-type {\n",
       "        vertical-align: middle;\n",
       "    }\n",
       "\n",
       "    .dataframe tbody tr th {\n",
       "        vertical-align: top;\n",
       "    }\n",
       "\n",
       "    .dataframe thead th {\n",
       "        text-align: right;\n",
       "    }\n",
       "</style>\n",
       "<table border=\"1\" class=\"dataframe\">\n",
       "  <thead>\n",
       "    <tr style=\"text-align: right;\">\n",
       "      <th></th>\n",
       "      <th>id</th>\n",
       "      <th>name</th>\n",
       "      <th>m_id</th>\n",
       "    </tr>\n",
       "  </thead>\n",
       "  <tbody>\n",
       "    <tr>\n",
       "      <th>2028</th>\n",
       "      <td>934</td>\n",
       "      <td>judge</td>\n",
       "      <td>110</td>\n",
       "    </tr>\n",
       "    <tr>\n",
       "      <th>2029</th>\n",
       "      <td>1533</td>\n",
       "      <td>isolation</td>\n",
       "      <td>110</td>\n",
       "    </tr>\n",
       "    <tr>\n",
       "      <th>2030</th>\n",
       "      <td>2863</td>\n",
       "      <td>mannequin</td>\n",
       "      <td>110</td>\n",
       "    </tr>\n",
       "    <tr>\n",
       "      <th>2031</th>\n",
       "      <td>4918</td>\n",
       "      <td>shadowing</td>\n",
       "      <td>110</td>\n",
       "    </tr>\n",
       "    <tr>\n",
       "      <th>2032</th>\n",
       "      <td>5259</td>\n",
       "      <td>english channel</td>\n",
       "      <td>110</td>\n",
       "    </tr>\n",
       "  </tbody>\n",
       "</table>\n",
       "</div>"
      ],
      "text/plain": [
       "        id             name  m_id\n",
       "2028   934            judge   110\n",
       "2029  1533        isolation   110\n",
       "2030  2863        mannequin   110\n",
       "2031  4918        shadowing   110\n",
       "2032  5259  english channel   110"
      ]
     },
     "execution_count": 321,
     "metadata": {},
     "output_type": "execute_result"
    }
   ],
   "source": [
    "keywords[keywords['m_id'] == 110].head()"
   ]
  },
  {
   "cell_type": "code",
   "execution_count": 322,
   "metadata": {},
   "outputs": [
    {
     "data": {
      "text/html": [
       "<div>\n",
       "<style scoped>\n",
       "    .dataframe tbody tr th:only-of-type {\n",
       "        vertical-align: middle;\n",
       "    }\n",
       "\n",
       "    .dataframe tbody tr th {\n",
       "        vertical-align: top;\n",
       "    }\n",
       "\n",
       "    .dataframe thead th {\n",
       "        text-align: right;\n",
       "    }\n",
       "</style>\n",
       "<table border=\"1\" class=\"dataframe\">\n",
       "  <thead>\n",
       "    <tr style=\"text-align: right;\">\n",
       "      <th></th>\n",
       "      <th>movieId</th>\n",
       "      <th>imdbId</th>\n",
       "      <th>tmdbId</th>\n",
       "    </tr>\n",
       "  </thead>\n",
       "  <tbody>\n",
       "    <tr>\n",
       "      <th>303</th>\n",
       "      <td>306</td>\n",
       "      <td>111495</td>\n",
       "      <td>110</td>\n",
       "    </tr>\n",
       "  </tbody>\n",
       "</table>\n",
       "</div>"
      ],
      "text/plain": [
       "     movieId  imdbId  tmdbId\n",
       "303      306  111495     110"
      ]
     },
     "execution_count": 322,
     "metadata": {},
     "output_type": "execute_result"
    }
   ],
   "source": [
    "links[links['tmdbId'] == 110].head()"
   ]
  },
  {
   "cell_type": "markdown",
   "metadata": {},
   "source": [
    "[Link validation](https://www.imdb.com/title/tt0111495/)"
   ]
  },
  {
   "cell_type": "code",
   "execution_count": 323,
   "metadata": {},
   "outputs": [
    {
     "data": {
      "text/html": [
       "<div>\n",
       "<style scoped>\n",
       "    .dataframe tbody tr th:only-of-type {\n",
       "        vertical-align: middle;\n",
       "    }\n",
       "\n",
       "    .dataframe tbody tr th {\n",
       "        vertical-align: top;\n",
       "    }\n",
       "\n",
       "    .dataframe thead th {\n",
       "        text-align: right;\n",
       "    }\n",
       "</style>\n",
       "<table border=\"1\" class=\"dataframe\">\n",
       "  <thead>\n",
       "    <tr style=\"text-align: right;\">\n",
       "      <th></th>\n",
       "      <th>adult</th>\n",
       "      <th>budget</th>\n",
       "      <th>homepage</th>\n",
       "      <th>id</th>\n",
       "      <th>imdb_id</th>\n",
       "      <th>original_language</th>\n",
       "      <th>original_title</th>\n",
       "      <th>overview</th>\n",
       "      <th>popularity</th>\n",
       "      <th>poster_path</th>\n",
       "      <th>release_date</th>\n",
       "      <th>revenue</th>\n",
       "      <th>runtime</th>\n",
       "      <th>status</th>\n",
       "      <th>tagline</th>\n",
       "      <th>title</th>\n",
       "      <th>video</th>\n",
       "      <th>vote_average</th>\n",
       "      <th>vote_count</th>\n",
       "    </tr>\n",
       "  </thead>\n",
       "  <tbody>\n",
       "    <tr>\n",
       "      <th>302</th>\n",
       "      <td>False</td>\n",
       "      <td>0</td>\n",
       "      <td>NaN</td>\n",
       "      <td>110</td>\n",
       "      <td>tt0111495</td>\n",
       "      <td>fr</td>\n",
       "      <td>Trois couleurs : Rouge</td>\n",
       "      <td>Red This is the third film from the trilogy by...</td>\n",
       "      <td>7.832755</td>\n",
       "      <td>/77CFEssoKesi4zvtADEpIrSKhA3.jpg</td>\n",
       "      <td>1994-05-27</td>\n",
       "      <td>0</td>\n",
       "      <td>99.0</td>\n",
       "      <td>Released</td>\n",
       "      <td>NaN</td>\n",
       "      <td>Three Colors: Red</td>\n",
       "      <td>False</td>\n",
       "      <td>7.8</td>\n",
       "      <td>246</td>\n",
       "    </tr>\n",
       "  </tbody>\n",
       "</table>\n",
       "</div>"
      ],
      "text/plain": [
       "     adult  budget homepage   id    imdb_id original_language  \\\n",
       "302  False       0      NaN  110  tt0111495                fr   \n",
       "\n",
       "             original_title  \\\n",
       "302  Trois couleurs : Rouge   \n",
       "\n",
       "                                              overview  popularity  \\\n",
       "302  Red This is the third film from the trilogy by...    7.832755   \n",
       "\n",
       "                          poster_path release_date  revenue  runtime  \\\n",
       "302  /77CFEssoKesi4zvtADEpIrSKhA3.jpg   1994-05-27        0     99.0   \n",
       "\n",
       "       status tagline              title  video  vote_average  vote_count  \n",
       "302  Released     NaN  Three Colors: Red  False           7.8         246  "
      ]
     },
     "execution_count": 323,
     "metadata": {},
     "output_type": "execute_result"
    }
   ],
   "source": [
    "movies_metadata[movies_metadata['id'] == 110]"
   ]
  },
  {
   "cell_type": "code",
   "execution_count": 324,
   "metadata": {},
   "outputs": [
    {
     "data": {
      "text/html": [
       "<div>\n",
       "<style scoped>\n",
       "    .dataframe tbody tr th:only-of-type {\n",
       "        vertical-align: middle;\n",
       "    }\n",
       "\n",
       "    .dataframe tbody tr th {\n",
       "        vertical-align: top;\n",
       "    }\n",
       "\n",
       "    .dataframe thead th {\n",
       "        text-align: right;\n",
       "    }\n",
       "</style>\n",
       "<table border=\"1\" class=\"dataframe\">\n",
       "  <thead>\n",
       "    <tr style=\"text-align: right;\">\n",
       "      <th></th>\n",
       "      <th>backdrop_path</th>\n",
       "      <th>id</th>\n",
       "      <th>m_id</th>\n",
       "      <th>name</th>\n",
       "      <th>poster_path</th>\n",
       "    </tr>\n",
       "  </thead>\n",
       "  <tbody>\n",
       "    <tr>\n",
       "      <th>302</th>\n",
       "      <td>/AeHExfHIl70SZCea907KfEoSkfJ.jpg</td>\n",
       "      <td>131.0</td>\n",
       "      <td>110</td>\n",
       "      <td>Three Colors Collection</td>\n",
       "      <td>/rVdd23QuT5rHX7lZvuAkRRUkeCZ.jpg</td>\n",
       "    </tr>\n",
       "  </tbody>\n",
       "</table>\n",
       "</div>"
      ],
      "text/plain": [
       "                        backdrop_path     id  m_id                     name  \\\n",
       "302  /AeHExfHIl70SZCea907KfEoSkfJ.jpg  131.0   110  Three Colors Collection   \n",
       "\n",
       "                          poster_path  \n",
       "302  /rVdd23QuT5rHX7lZvuAkRRUkeCZ.jpg  "
      ]
     },
     "execution_count": 324,
     "metadata": {},
     "output_type": "execute_result"
    }
   ],
   "source": [
    "belongs_to_collection[belongs_to_collection['m_id'] == 110]"
   ]
  },
  {
   "cell_type": "code",
   "execution_count": 325,
   "metadata": {},
   "outputs": [
    {
     "data": {
      "text/html": [
       "<div>\n",
       "<style scoped>\n",
       "    .dataframe tbody tr th:only-of-type {\n",
       "        vertical-align: middle;\n",
       "    }\n",
       "\n",
       "    .dataframe tbody tr th {\n",
       "        vertical-align: top;\n",
       "    }\n",
       "\n",
       "    .dataframe thead th {\n",
       "        text-align: right;\n",
       "    }\n",
       "</style>\n",
       "<table border=\"1\" class=\"dataframe\">\n",
       "  <thead>\n",
       "    <tr style=\"text-align: right;\">\n",
       "      <th></th>\n",
       "      <th>id</th>\n",
       "      <th>name</th>\n",
       "      <th>m_id</th>\n",
       "    </tr>\n",
       "  </thead>\n",
       "  <tbody>\n",
       "    <tr>\n",
       "      <th>726</th>\n",
       "      <td>18</td>\n",
       "      <td>Drama</td>\n",
       "      <td>110</td>\n",
       "    </tr>\n",
       "    <tr>\n",
       "      <th>727</th>\n",
       "      <td>9648</td>\n",
       "      <td>Mystery</td>\n",
       "      <td>110</td>\n",
       "    </tr>\n",
       "    <tr>\n",
       "      <th>728</th>\n",
       "      <td>10749</td>\n",
       "      <td>Romance</td>\n",
       "      <td>110</td>\n",
       "    </tr>\n",
       "  </tbody>\n",
       "</table>\n",
       "</div>"
      ],
      "text/plain": [
       "        id     name  m_id\n",
       "726     18    Drama   110\n",
       "727   9648  Mystery   110\n",
       "728  10749  Romance   110"
      ]
     },
     "execution_count": 325,
     "metadata": {},
     "output_type": "execute_result"
    }
   ],
   "source": [
    "genres[genres['m_id'] == 110]"
   ]
  },
  {
   "cell_type": "code",
   "execution_count": 326,
   "metadata": {},
   "outputs": [
    {
     "data": {
      "text/html": [
       "<div>\n",
       "<style scoped>\n",
       "    .dataframe tbody tr th:only-of-type {\n",
       "        vertical-align: middle;\n",
       "    }\n",
       "\n",
       "    .dataframe tbody tr th {\n",
       "        vertical-align: top;\n",
       "    }\n",
       "\n",
       "    .dataframe thead th {\n",
       "        text-align: right;\n",
       "    }\n",
       "</style>\n",
       "<table border=\"1\" class=\"dataframe\">\n",
       "  <thead>\n",
       "    <tr style=\"text-align: right;\">\n",
       "      <th></th>\n",
       "      <th>name</th>\n",
       "      <th>id</th>\n",
       "      <th>m_id</th>\n",
       "    </tr>\n",
       "  </thead>\n",
       "  <tbody>\n",
       "    <tr>\n",
       "      <th>674</th>\n",
       "      <td>Zespół Filmowy TOR</td>\n",
       "      <td>38</td>\n",
       "      <td>110</td>\n",
       "    </tr>\n",
       "    <tr>\n",
       "      <th>675</th>\n",
       "      <td>Le Studio Canal+</td>\n",
       "      <td>183</td>\n",
       "      <td>110</td>\n",
       "    </tr>\n",
       "    <tr>\n",
       "      <th>676</th>\n",
       "      <td>France 3 Cinéma</td>\n",
       "      <td>591</td>\n",
       "      <td>110</td>\n",
       "    </tr>\n",
       "    <tr>\n",
       "      <th>677</th>\n",
       "      <td>Télévision Suisse-Romande</td>\n",
       "      <td>1245</td>\n",
       "      <td>110</td>\n",
       "    </tr>\n",
       "  </tbody>\n",
       "</table>\n",
       "</div>"
      ],
      "text/plain": [
       "                          name    id  m_id\n",
       "674         Zespół Filmowy TOR    38   110\n",
       "675           Le Studio Canal+   183   110\n",
       "676            France 3 Cinéma   591   110\n",
       "677  Télévision Suisse-Romande  1245   110"
      ]
     },
     "execution_count": 326,
     "metadata": {},
     "output_type": "execute_result"
    }
   ],
   "source": [
    "production_companies[production_companies['m_id'] == 110]"
   ]
  },
  {
   "cell_type": "code",
   "execution_count": 327,
   "metadata": {},
   "outputs": [
    {
     "data": {
      "text/html": [
       "<div>\n",
       "<style scoped>\n",
       "    .dataframe tbody tr th:only-of-type {\n",
       "        vertical-align: middle;\n",
       "    }\n",
       "\n",
       "    .dataframe tbody tr th {\n",
       "        vertical-align: top;\n",
       "    }\n",
       "\n",
       "    .dataframe thead th {\n",
       "        text-align: right;\n",
       "    }\n",
       "</style>\n",
       "<table border=\"1\" class=\"dataframe\">\n",
       "  <thead>\n",
       "    <tr style=\"text-align: right;\">\n",
       "      <th></th>\n",
       "      <th>iso_3166_1</th>\n",
       "      <th>name</th>\n",
       "      <th>m_id</th>\n",
       "    </tr>\n",
       "  </thead>\n",
       "  <tbody>\n",
       "    <tr>\n",
       "      <th>375</th>\n",
       "      <td>FR</td>\n",
       "      <td>France</td>\n",
       "      <td>110</td>\n",
       "    </tr>\n",
       "    <tr>\n",
       "      <th>376</th>\n",
       "      <td>PL</td>\n",
       "      <td>Poland</td>\n",
       "      <td>110</td>\n",
       "    </tr>\n",
       "    <tr>\n",
       "      <th>377</th>\n",
       "      <td>CH</td>\n",
       "      <td>Switzerland</td>\n",
       "      <td>110</td>\n",
       "    </tr>\n",
       "  </tbody>\n",
       "</table>\n",
       "</div>"
      ],
      "text/plain": [
       "    iso_3166_1         name  m_id\n",
       "375         FR       France   110\n",
       "376         PL       Poland   110\n",
       "377         CH  Switzerland   110"
      ]
     },
     "execution_count": 327,
     "metadata": {},
     "output_type": "execute_result"
    }
   ],
   "source": [
    "production_countries[production_countries['m_id'] == 110]"
   ]
  },
  {
   "cell_type": "code",
   "execution_count": 328,
   "metadata": {},
   "outputs": [
    {
     "data": {
      "text/html": [
       "<div>\n",
       "<style scoped>\n",
       "    .dataframe tbody tr th:only-of-type {\n",
       "        vertical-align: middle;\n",
       "    }\n",
       "\n",
       "    .dataframe tbody tr th {\n",
       "        vertical-align: top;\n",
       "    }\n",
       "\n",
       "    .dataframe thead th {\n",
       "        text-align: right;\n",
       "    }\n",
       "</style>\n",
       "<table border=\"1\" class=\"dataframe\">\n",
       "  <thead>\n",
       "    <tr style=\"text-align: right;\">\n",
       "      <th></th>\n",
       "      <th>iso_639_1</th>\n",
       "      <th>name</th>\n",
       "      <th>m_id</th>\n",
       "    </tr>\n",
       "  </thead>\n",
       "  <tbody>\n",
       "    <tr>\n",
       "      <th>414</th>\n",
       "      <td>fr</td>\n",
       "      <td>Français</td>\n",
       "      <td>110</td>\n",
       "    </tr>\n",
       "  </tbody>\n",
       "</table>\n",
       "</div>"
      ],
      "text/plain": [
       "    iso_639_1      name  m_id\n",
       "414        fr  Français   110"
      ]
     },
     "execution_count": 328,
     "metadata": {},
     "output_type": "execute_result"
    }
   ],
   "source": [
    "spoken_languages[spoken_languages['m_id'] == 110]"
   ]
  },
  {
   "cell_type": "markdown",
   "metadata": {},
   "source": [
    "## Notes\n",
    "- Data on movies_metadata with id 82663, 122662, 249260 have manual correction in the csv\n",
    "- With this all of the data can be concluded to be integrated and validated based on it's ID"
   ]
  },
  {
   "cell_type": "markdown",
   "metadata": {},
   "source": [
    "## Create simple visualization"
   ]
  },
  {
   "cell_type": "code",
   "execution_count": null,
   "metadata": {},
   "outputs": [],
   "source": [
    "# Import libraries\n",
    "import matplotlib.pyplot as plt\n",
    "import seaborn as sns"
   ]
  },
  {
   "cell_type": "markdown",
   "metadata": {},
   "source": [
    "What is the total budget for filming industry over the year?"
   ]
  },
  {
   "cell_type": "code",
   "execution_count": 365,
   "metadata": {},
   "outputs": [],
   "source": [
    "yearly_budget = movies_metadata.groupby(movies_metadata.release_date.dt.year).budget.sum().reset_index()\n",
    "\n",
    "# Remove insignificant data\n",
    "yearly_budget = yearly_budget[yearly_budget.budget != 0].sort_values(by='budget', ascending=False).head(50)"
   ]
  },
  {
   "cell_type": "code",
   "execution_count": 366,
   "metadata": {},
   "outputs": [
    {
     "data": {
      "text/html": [
       "<div>\n",
       "<style scoped>\n",
       "    .dataframe tbody tr th:only-of-type {\n",
       "        vertical-align: middle;\n",
       "    }\n",
       "\n",
       "    .dataframe tbody tr th {\n",
       "        vertical-align: top;\n",
       "    }\n",
       "\n",
       "    .dataframe thead th {\n",
       "        text-align: right;\n",
       "    }\n",
       "</style>\n",
       "<table border=\"1\" class=\"dataframe\">\n",
       "  <thead>\n",
       "    <tr style=\"text-align: right;\">\n",
       "      <th></th>\n",
       "      <th>release_date</th>\n",
       "      <th>budget</th>\n",
       "    </tr>\n",
       "  </thead>\n",
       "  <tbody>\n",
       "    <tr>\n",
       "      <th>131</th>\n",
       "      <td>2016.0</td>\n",
       "      <td>10411197116</td>\n",
       "    </tr>\n",
       "    <tr>\n",
       "      <th>125</th>\n",
       "      <td>2010.0</td>\n",
       "      <td>10024513022</td>\n",
       "    </tr>\n",
       "    <tr>\n",
       "      <th>128</th>\n",
       "      <td>2013.0</td>\n",
       "      <td>10006134305</td>\n",
       "    </tr>\n",
       "    <tr>\n",
       "      <th>126</th>\n",
       "      <td>2011.0</td>\n",
       "      <td>9717615625</td>\n",
       "    </tr>\n",
       "    <tr>\n",
       "      <th>124</th>\n",
       "      <td>2009.0</td>\n",
       "      <td>9517429281</td>\n",
       "    </tr>\n",
       "  </tbody>\n",
       "</table>\n",
       "</div>"
      ],
      "text/plain": [
       "     release_date       budget\n",
       "131        2016.0  10411197116\n",
       "125        2010.0  10024513022\n",
       "128        2013.0  10006134305\n",
       "126        2011.0   9717615625\n",
       "124        2009.0   9517429281"
      ]
     },
     "execution_count": 366,
     "metadata": {},
     "output_type": "execute_result"
    }
   ],
   "source": [
    "yearly_budget.head()"
   ]
  },
  {
   "cell_type": "code",
   "execution_count": 432,
   "metadata": {},
   "outputs": [
    {
     "data": {
      "image/png": "[encoded data removed]",
      "text/plain": [
       "<Figure size 1200x600 with 1 Axes>"
      ]
     },
     "metadata": {},
     "output_type": "display_data"
    }
   ],
   "source": [
    "plt.figure(figsize=(12, 6))\n",
    "sns.lineplot(data=yearly_budget, x='release_date', y='budget', marker='o', color='green')\n",
    "plt.title('Total Budget by Year')\n",
    "plt.xlabel('Year')\n",
    "plt.ylabel('Total Budget')\n",
    "plt.xticks(rotation=45)\n",
    "plt.tight_layout()\n",
    "plt.show()"
   ]
  },
  {
   "cell_type": "markdown",
   "metadata": {},
   "source": [
    "Top 10 movies with the most revenue"
   ]
  },
  {
   "cell_type": "code",
   "execution_count": 396,
   "metadata": {},
   "outputs": [],
   "source": [
    "top_10_revenue = movies_metadata.sort_values(by='revenue', ascending=False).head(10)[['title', 'revenue']]"
   ]
  },
  {
   "cell_type": "code",
   "execution_count": 429,
   "metadata": {},
   "outputs": [],
   "source": [
    "def top_10_revenue_plot(top_10_revenue):\n",
    "    plt.figure(figsize=(12, 10))\n",
    "\n",
    "    # Create the bar plot\n",
    "    ax = sns.barplot(data=top_10_revenue, y='title', x='revenue', color='skyblue')\n",
    "\n",
    "    plt.title('Top 10 Movies by Revenue', fontsize=14)\n",
    "    plt.xlabel('Revenue', fontsize=12)\n",
    "    plt.ylabel('Movie', fontsize=12)\n",
    "\n",
    "    # Add value labels to the end of each bar\n",
    "    for i in ax.containers[0]:\n",
    "        width = i.get_width()\n",
    "        # Format large numbers\n",
    "        if width >= 1_000_000_000:\n",
    "            label = f'${width/1_000_000_000:.2f}B'\n",
    "        elif width >= 1_000_000:\n",
    "            label = f'${width/1_000_000:.2f}M'\n",
    "        else:\n",
    "            label = f'${width:,.0f}'\n",
    "        \n",
    "        ax.text(width + i.get_width().min() * 0.01, i.get_y() + i.get_height()/2, label, \n",
    "                va='center', ha='left', fontsize=10)\n",
    "\n",
    "    plt.tight_layout()\n",
    "    plt.show()"
   ]
  },
  {
   "cell_type": "code",
   "execution_count": 430,
   "metadata": {},
   "outputs": [
    {
     "data": {
      "image/png": "[encoded data removed]",
      "text/plain": [
       "<Figure size 1200x1000 with 1 Axes>"
      ]
     },
     "metadata": {},
     "output_type": "display_data"
    }
   ],
   "source": [
    "top_10_revenue_plot(top_10_revenue)"
   ]
  }
 ],
 "metadata": {
  "kernelspec": {
   "display_name": "Python 3",
   "language": "python",
   "name": "python3"
  },
  "language_info": {
   "codemirror_mode": {
    "name": "ipython",
    "version": 3
   },
   "file_extension": ".py",
   "mimetype": "text/x-python",
   "name": "python",
   "nbconvert_exporter": "python",
   "pygments_lexer": "ipython3",
   "version": "3.10.4"
  }
 },
 "nbformat": 4,
 "nbformat_minor": 2
}
